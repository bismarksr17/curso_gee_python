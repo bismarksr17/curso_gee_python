{
 "cells": [
  {
   "cell_type": "markdown",
   "id": "6b40e69b-b105-4fb7-b577-a43510a94d04",
   "metadata": {},
   "source": [
    "# Firma espectral Landsat Google Earth Engine "
   ]
  },
  {
   "cell_type": "code",
   "execution_count": 1,
   "id": "bf6e6860-2c9a-4249-ab96-a4cef9574cf9",
   "metadata": {},
   "outputs": [],
   "source": [
    "# Importar paquete GEE\n",
    "import ee\n",
    "ee.Initialize()"
   ]
  },
  {
   "cell_type": "code",
   "execution_count": 2,
   "id": "b40ddf89-46cb-4e9e-be01-dc83bbe45c0c",
   "metadata": {},
   "outputs": [],
   "source": [
    "# Seleccionar una imagen Landsat8\n",
    "img_L8 = ee.Image(\"LANDSAT/LC08/C01/T1_SR/LC08_003069_20190808\")\\\n",
    "                  .select(['B2', 'B3', 'B4', 'B5', 'B6', 'B7'])\\\n",
    "                  .multiply(0.0001)\\\n",
    "                  .reproject(crs=\"EPSG:32719\", scale=30)"
   ]
  },
  {
   "cell_type": "code",
   "execution_count": 3,
   "id": "ae3290e4-9d53-49e1-af22-3667f4c123c0",
   "metadata": {},
   "outputs": [
    {
     "name": "stdout",
     "output_type": "stream",
     "text": [
      "['B2', 'B3', 'B4', 'B5', 'B6', 'B7']\n"
     ]
    }
   ],
   "source": [
    "# Nombre de las bandas\n",
    "print(img_L8.bandNames().getInfo())"
   ]
  },
  {
   "cell_type": "code",
   "execution_count": 4,
   "id": "d3243fcc-3a04-411e-bde1-3d59b1657e72",
   "metadata": {},
   "outputs": [
    {
     "name": "stdout",
     "output_type": "stream",
     "text": [
      "Proyeccion RS: {'type': 'Projection', 'crs': 'EPSG:32719', 'transform': [30, 0, 0, 0, -30, 0]}\n"
     ]
    }
   ],
   "source": [
    "# Consultar Proyeccion\n",
    "print(\"Proyeccion RS:\", img_L8.projection().getInfo())"
   ]
  },
  {
   "cell_type": "code",
   "execution_count": 5,
   "id": "587ccc24-7eb3-4799-8095-88330b411fe3",
   "metadata": {},
   "outputs": [],
   "source": [
    "# Simbologia estala 0 - 1\n",
    "viz_es = {\n",
    "    'bands': ['B6', 'B5', 'B4'],\n",
    "    'min': 0.1,\n",
    "    'max': 0.6,\n",
    "    'gamma': 1.6\n",
    "}"
   ]
  },
  {
   "cell_type": "code",
   "execution_count": 6,
   "id": "ac2a4050-ccc3-42ad-8109-1e59816c04c7",
   "metadata": {},
   "outputs": [],
   "source": [
    "# Importar geemap\n",
    "import geemap\n",
    "Map = geemap.Map(basemap='SATELLITE')"
   ]
  },
  {
   "cell_type": "code",
   "execution_count": 7,
   "id": "92c8ef51-d17b-4b9a-99f9-e880d297c577",
   "metadata": {},
   "outputs": [],
   "source": [
    "# Convertir en Geometria\n",
    "geometria = img_L8.geometry()\n",
    "Map.centerObject(geometria, 8)"
   ]
  },
  {
   "cell_type": "code",
   "execution_count": 8,
   "id": "672c4272-d05b-425c-8a65-acba1a0d1c89",
   "metadata": {},
   "outputs": [
    {
     "data": {
      "application/vnd.jupyter.widget-view+json": {
       "model_id": "0f32e60212364f77b914478265f6fe1d",
       "version_major": 2,
       "version_minor": 0
      },
      "text/plain": [
       "Map(center=[-13.015068632735405, -70.4552654751533], controls=(WidgetControl(options=['position', 'transparent…"
      ]
     },
     "metadata": {},
     "output_type": "display_data"
    }
   ],
   "source": [
    "# Visualizar ESCALADO 0 - 1 y realizar Firma espectral\n",
    "Map.addLayer(img_L8, viz_es,name = \"Landsat8 RS\")\n",
    "Map"
   ]
  },
  {
   "cell_type": "code",
   "execution_count": null,
   "id": "0925ad2d-63af-4df7-8da1-c552d3398141",
   "metadata": {},
   "outputs": [],
   "source": []
  },
  {
   "cell_type": "code",
   "execution_count": null,
   "id": "32e4591e-31c4-4930-a3a2-7241dab2d916",
   "metadata": {},
   "outputs": [],
   "source": []
  }
 ],
 "metadata": {
  "kernelspec": {
   "display_name": "Python 3",
   "language": "python",
   "name": "python3"
  },
  "language_info": {
   "codemirror_mode": {
    "name": "ipython",
    "version": 3
   },
   "file_extension": ".py",
   "mimetype": "text/x-python",
   "name": "python",
   "nbconvert_exporter": "python",
   "pygments_lexer": "ipython3",
   "version": "3.7.10"
  }
 },
 "nbformat": 4,
 "nbformat_minor": 5
}
