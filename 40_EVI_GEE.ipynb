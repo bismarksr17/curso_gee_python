{
 "cells": [
  {
   "cell_type": "markdown",
   "id": "7d63850e-6023-423f-b7bd-d12690f02a7a",
   "metadata": {},
   "source": [
    "# Indice espectrales EVI en GEE"
   ]
  },
  {
   "cell_type": "code",
   "execution_count": 1,
   "id": "3a34ea5b-c474-4306-bd70-86153a7c1c12",
   "metadata": {},
   "outputs": [],
   "source": [
    "# Importar paquete GEE\n",
    "import ee\n",
    "ee.Initialize()"
   ]
  },
  {
   "cell_type": "markdown",
   "id": "5856df3f-b127-4f9b-affb-93a17383df02",
   "metadata": {},
   "source": [
    "## Filtro zona estudio mediante GEE"
   ]
  },
  {
   "cell_type": "code",
   "execution_count": 2,
   "id": "5fce995d-8fb6-4b15-ae11-7c39962a86c7",
   "metadata": {},
   "outputs": [],
   "source": [
    "# Agregar un shp GEE\n",
    "zona_ee = ee.FeatureCollection(\"users/bravomoralesnino/SHP/ZONA_19S\")"
   ]
  },
  {
   "cell_type": "code",
   "execution_count": 3,
   "id": "b93a2552-9153-4687-a4c3-cf0c82f83dd2",
   "metadata": {},
   "outputs": [],
   "source": [
    "# Importar geemap\n",
    "import geemap\n",
    "Map = geemap.Map(basemap='SATELLITE')"
   ]
  },
  {
   "cell_type": "code",
   "execution_count": 4,
   "id": "57db081f-f11e-42cd-afb2-5a5aec9597f2",
   "metadata": {},
   "outputs": [],
   "source": [
    "geometria = zona_ee.geometry()\n",
    "Map.centerObject(geometria, 11)"
   ]
  },
  {
   "cell_type": "code",
   "execution_count": 5,
   "id": "b00253f7-697b-44c6-a620-800f19431a2d",
   "metadata": {},
   "outputs": [
    {
     "data": {
      "application/vnd.jupyter.widget-view+json": {
       "model_id": "0105283e10c443239e7448ceff2aa554",
       "version_major": 2,
       "version_minor": 0
      },
      "text/plain": [
       "Map(center=[-12.908744902436744, -69.9947155021359], controls=(WidgetControl(options=['position', 'transparent…"
      ]
     },
     "metadata": {},
     "output_type": "display_data"
    }
   ],
   "source": [
    "Map.addLayer(zona_ee, {\"color\" : \"00FF11\"},name = \"Zona\")\n",
    "Map"
   ]
  },
  {
   "cell_type": "markdown",
   "id": "ab633040-2b33-45aa-8281-fa5c02bea527",
   "metadata": {},
   "source": [
    "## Seleccionar Imagenes Landsat RS"
   ]
  },
  {
   "cell_type": "code",
   "execution_count": 6,
   "id": "e7b96f8e-5e4c-4436-a2ff-de5540b7bbe2",
   "metadata": {},
   "outputs": [],
   "source": [
    "# Seleccionar una imagen Landsat8\n",
    "img_L8 = ee.Image(\"LANDSAT/LC08/C01/T1_SR/LC08_003069_20190808\")\\\n",
    "                  .select([\"B2\",\"B3\",\"B4\",\"B5\",\"B6\",\"B7\"],\n",
    "                          ['BLUE', 'GREEN', 'RED', 'NIR', 'SWIR1', 'SWIR2'])\\\n",
    "                  .multiply(0.0001)\\\n",
    "                  .reproject(crs = \"EPSG:32719\", scale = 30)"
   ]
  },
  {
   "cell_type": "code",
   "execution_count": 7,
   "id": "b9636267-8e7e-46f0-bc5b-548949074f62",
   "metadata": {},
   "outputs": [],
   "source": [
    "# Seleccionar una imagen Sentinel2\n",
    "img_S2 = ee.Image(\"COPERNICUS/S2_SR/20190808T145729_20190808T145732_T19LCF\")\\\n",
    "                  .select(['B2', 'B3', 'B4', 'B8', 'B11', 'B12'],\n",
    "                          ['BLUE', 'GREEN', 'RED', 'NIR', 'SWIR1', 'SWIR2'])\\\n",
    "                  .multiply(0.0001) # 0 - 1"
   ]
  },
  {
   "cell_type": "markdown",
   "id": "ebc63023-de78-4d51-8634-484ac6e55293",
   "metadata": {},
   "source": [
    "## Consultar nombre bandas y proyección"
   ]
  },
  {
   "cell_type": "code",
   "execution_count": 9,
   "id": "f82458e0-93e0-4412-a9a4-11bc4118a979",
   "metadata": {},
   "outputs": [
    {
     "name": "stdout",
     "output_type": "stream",
     "text": [
      "Nombre bandas L8:  ['BLUE', 'GREEN', 'RED', 'NIR', 'SWIR1', 'SWIR2']\n",
      "Nombre bandas S2:  ['BLUE', 'GREEN', 'RED', 'NIR', 'SWIR1', 'SWIR2']\n"
     ]
    }
   ],
   "source": [
    "# Nombre de las bandas\n",
    "print(\"Nombre bandas L8: \",img_L8.bandNames().getInfo())\n",
    "print(\"Nombre bandas S2: \",img_S2.bandNames().getInfo())"
   ]
  },
  {
   "cell_type": "code",
   "execution_count": 10,
   "id": "f9a66d8e-ef28-4c33-aebb-2faa395211ce",
   "metadata": {},
   "outputs": [
    {
     "name": "stdout",
     "output_type": "stream",
     "text": [
      "Proyeccion L8:  {'type': 'Projection', 'crs': 'EPSG:32719', 'transform': [30, 0, 0, 0, -30, 0]}\n",
      "Proyeccion S2:  {'type': 'Projection', 'crs': 'EPSG:32719', 'transform': [10, 0, 300000, 0, -10, 8600020]}\n"
     ]
    }
   ],
   "source": [
    "# Consultar Proyeccion\n",
    "print(\"Proyeccion L8: \",img_L8.projection().getInfo())\n",
    "print(\"Proyeccion S2: \",img_S2.select(['BLUE']).projection().getInfo())"
   ]
  },
  {
   "cell_type": "code",
   "execution_count": 11,
   "id": "f2499862-6fae-4523-ad21-5ea3a14ffc4d",
   "metadata": {},
   "outputs": [],
   "source": [
    "# Simbologia estala 0 - 1\n",
    "viz_es = {\n",
    "    'bands': ['SWIR1','NIR','RED'],\n",
    "    'min': 0.1,\n",
    "    'max': 0.6,\n",
    "    'gamma': 1.6\n",
    "}"
   ]
  },
  {
   "cell_type": "markdown",
   "id": "8cdd1bfd-660b-4786-858b-6531e1e8dc33",
   "metadata": {},
   "source": [
    "## Recortar imagen zona"
   ]
  },
  {
   "cell_type": "code",
   "execution_count": 12,
   "id": "2bb5d96a-85cd-49c4-bfe4-7b0d545ec435",
   "metadata": {},
   "outputs": [],
   "source": [
    "# Recortar informacion con la zona de estudio\n",
    "img_L8_clip = img_L8.clip(zona_ee)\n",
    "img_S2_clip = img_S2.clip(zona_ee)"
   ]
  },
  {
   "cell_type": "code",
   "execution_count": 13,
   "id": "11aaf87b-1457-46d6-84ba-f0d9510c77aa",
   "metadata": {},
   "outputs": [
    {
     "data": {
      "application/vnd.jupyter.widget-view+json": {
       "model_id": "0105283e10c443239e7448ceff2aa554",
       "version_major": 2,
       "version_minor": 0
      },
      "text/plain": [
       "Map(bottom=281405.0, center=[-12.908572686061014, -70.09410751022057], controls=(WidgetControl(options=['posit…"
      ]
     },
     "metadata": {},
     "output_type": "display_data"
    }
   ],
   "source": [
    "# Visualizar \n",
    "Map.addLayer(img_L8_clip, viz_es, name = \"Landsat8 RS\")\n",
    "Map.addLayer(img_S2_clip, viz_es, name = \"Sentinel2 RS\")\n",
    "Map"
   ]
  },
  {
   "cell_type": "markdown",
   "id": "5600f8a1-0c25-4c8f-aa56-04bf9e61d9f7",
   "metadata": {},
   "source": [
    "## Determinar EVI"
   ]
  },
  {
   "cell_type": "code",
   "execution_count": 14,
   "id": "155e0cab-a833-4517-8b4a-acb30ed5d82f",
   "metadata": {},
   "outputs": [],
   "source": [
    "# Determinar EVI Funcion GEE\n",
    "def Calc_EVI(image):\n",
    "    evi = image.expression(\"(2.5 * float(nir - red)/(nir + 6*red - 7.5*blue + 1))\", {\n",
    "        'blue': image.select('BLUE'),\n",
    "        'nir': image.select('NIR'),\n",
    "        'red': image.select('RED')\n",
    "    })\n",
    "    return evi.rename(\"EVI\")"
   ]
  },
  {
   "cell_type": "code",
   "execution_count": 15,
   "id": "4e73845f-ccee-471d-b0f1-767d1e5a79f6",
   "metadata": {},
   "outputs": [],
   "source": [
    "# Calcular indices EVI con funcion\n",
    "evi_L8 = Calc_EVI(img_L8_clip)\n",
    "evi_S2 = Calc_EVI(img_S2_clip)"
   ]
  },
  {
   "cell_type": "code",
   "execution_count": 16,
   "id": "c787223f-aedb-452b-a003-bc8da5c03a27",
   "metadata": {},
   "outputs": [],
   "source": [
    "# Simbologia de EVI\n",
    "viz_evi = {\n",
    "    'palette': ['FFFFFF', 'CE7E45','DF923D', 'F1B555',\n",
    "                'FCD163', '99B718','74A901', '66A000',\n",
    "                '529400', '3E8601','207401', '056201',\n",
    "                '004C00', '023B01','012E01', '011D01',\n",
    "                '011301'],\n",
    "    'min': -0.3,\n",
    "    'max': 0.8,\n",
    "    'bands': \"EVI\"\n",
    "}"
   ]
  },
  {
   "cell_type": "code",
   "execution_count": 17,
   "id": "73b12eaf-56d5-4289-81d9-d7c419aff908",
   "metadata": {},
   "outputs": [
    {
     "data": {
      "application/vnd.jupyter.widget-view+json": {
       "model_id": "0105283e10c443239e7448ceff2aa554",
       "version_major": 2,
       "version_minor": 0
      },
      "text/plain": [
       "Map(bottom=4497480.0, center=[-12.887951161916048, -70.02155542373659], controls=(WidgetControl(options=['posi…"
      ]
     },
     "metadata": {},
     "output_type": "display_data"
    }
   ],
   "source": [
    "# Visualizar Mapa\n",
    "Map.addLayer(evi_L8, viz_evi, name = \"Landsat8 EVI\")\n",
    "Map.addLayer(evi_S2, viz_evi, name = \"Sentinel2 EVI\")\n",
    "Map"
   ]
  },
  {
   "cell_type": "markdown",
   "id": "89a15236-d379-4eb5-ad6f-524109f5e10f",
   "metadata": {},
   "source": [
    "## Clasificacion de EVI \n",
    "- EVI < -0.1  = 1\n",
    "- EVI >= 0.1  = 2\n",
    "- EVI >= 0.45 = 3"
   ]
  },
  {
   "cell_type": "code",
   "execution_count": 18,
   "id": "38ad40d6-6eeb-4eba-8c90-2260def12632",
   "metadata": {},
   "outputs": [],
   "source": [
    "L8_clas_evi = ee.Image(0).where(evi_L8.lt(-0.1),1)\\\n",
    "                      .where(evi_L8.gte(-0.1),2)\\\n",
    "                      .where(evi_L8.gte(0.45),3)\\\n",
    "                      .clip(zona_ee)"
   ]
  },
  {
   "cell_type": "code",
   "execution_count": 19,
   "id": "a156e954-e88c-4c2f-82e1-9f47238eb3be",
   "metadata": {},
   "outputs": [],
   "source": [
    "# Simbologia de clasificacion de EVI 3 clases\n",
    "viz_clas = {\n",
    "    'palette': [\"#ff03e0\",'#fffa53',\"#23941c\"],\n",
    "    'min': 1,\n",
    "    'max': 3\n",
    "}"
   ]
  },
  {
   "cell_type": "code",
   "execution_count": 20,
   "id": "d2b24658-cdb6-41d2-9f05-c573e7a4f98c",
   "metadata": {},
   "outputs": [
    {
     "data": {
      "application/vnd.jupyter.widget-view+json": {
       "model_id": "0105283e10c443239e7448ceff2aa554",
       "version_major": 2,
       "version_minor": 0
      },
      "text/plain": [
       "Map(bottom=281456.0, center=[-12.942998943409737, -69.91184234619142], controls=(WidgetControl(options=['posit…"
      ]
     },
     "metadata": {},
     "output_type": "display_data"
    }
   ],
   "source": [
    "# Visualizar \n",
    "Map.addLayer(L8_clas_evi , viz_clas, name = \"L8 EVI Class\")\n",
    "Map.add_colorbar(viz_clas, label=\"Clase EVI\", layer_name=\"EVI\")\n",
    "Map"
   ]
  },
  {
   "cell_type": "markdown",
   "id": "58737e4b-2628-42a1-a417-9d3774818575",
   "metadata": {},
   "source": [
    "## Exportar Imagen"
   ]
  },
  {
   "cell_type": "code",
   "execution_count": 21,
   "id": "91999544-3090-4d9a-9eb8-a6f13a15b953",
   "metadata": {},
   "outputs": [
    {
     "data": {
      "text/plain": [
       "'C:\\\\Users\\\\GEOMATICA\\\\Teledeteccion_Python\\\\GEE'"
      ]
     },
     "execution_count": 21,
     "metadata": {},
     "output_type": "execute_result"
    }
   ],
   "source": [
    "import os\n",
    "os.getcwd()"
   ]
  },
  {
   "cell_type": "code",
   "execution_count": 22,
   "id": "563049c9-0e9a-4db7-be92-5ece60f97fc0",
   "metadata": {},
   "outputs": [
    {
     "data": {
      "text/plain": [
       "'E:\\\\Teledeteccion_GEE\\\\Python\\\\Datos_Espaciales\\\\Resultado_GEE'"
      ]
     },
     "execution_count": 22,
     "metadata": {},
     "output_type": "execute_result"
    }
   ],
   "source": [
    "ruta_archivos = r\"E:\\Teledeteccion_GEE\\Python\\Datos_Espaciales\\Resultado_GEE\"\n",
    "os.chdir(ruta_archivos) # Cambiar ruta trabajo\n",
    "os.getcwd() # Consultar ruta trabajo"
   ]
  },
  {
   "cell_type": "code",
   "execution_count": 23,
   "id": "3bdf9494-879a-49e6-924e-744ee6e4eac0",
   "metadata": {},
   "outputs": [
    {
     "name": "stdout",
     "output_type": "stream",
     "text": [
      "Generating URL ...\n",
      "Downloading data from https://earthengine.googleapis.com/v1alpha/projects/earthengine-legacy/thumbnails/74f39eedf6a34f8c547f66e9072d9bbf-17632fee3e0d09584922f378e4d8b5ea:getPixels\n",
      "Please wait ...\n",
      "Data downloaded to E:\\Teledeteccion_GEE\\Python\\Datos_Espaciales\\Resultado_GEE\\L8_clas_evi.tif\n",
      "Generating URL ...\n",
      "Downloading data from https://earthengine.googleapis.com/v1alpha/projects/earthengine-legacy/thumbnails/6f47e3e32e7980cb865054cd4b05254c-e0c2571feef1c549e29c3691793f26b0:getPixels\n",
      "Please wait ...\n",
      "Data downloaded to E:\\Teledeteccion_GEE\\Python\\Datos_Espaciales\\Resultado_GEE\\L8_evi.tif\n"
     ]
    }
   ],
   "source": [
    "# Exportar imagen directorio\n",
    "geemap.ee_export_image(L8_clas_evi, filename=\"L8_clas_evi.tif\", scale=30, region=geometria, file_per_band=False)\n",
    "geemap.ee_export_image(evi_L8, filename=\"L8_evi.tif\", scale=30, region=geometria, file_per_band=False)"
   ]
  },
  {
   "cell_type": "code",
   "execution_count": null,
   "id": "034c9c36-e4a4-4dd0-8bd9-74987f245841",
   "metadata": {},
   "outputs": [],
   "source": []
  }
 ],
 "metadata": {
  "kernelspec": {
   "display_name": "Python 3",
   "language": "python",
   "name": "python3"
  },
  "language_info": {
   "codemirror_mode": {
    "name": "ipython",
    "version": 3
   },
   "file_extension": ".py",
   "mimetype": "text/x-python",
   "name": "python",
   "nbconvert_exporter": "python",
   "pygments_lexer": "ipython3",
   "version": "3.7.10"
  }
 },
 "nbformat": 4,
 "nbformat_minor": 5
}
