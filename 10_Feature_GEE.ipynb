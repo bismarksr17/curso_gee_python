{
 "cells": [
  {
   "cell_type": "markdown",
   "id": "799f4a96-7c73-4dd1-9cda-de95bfd4b066",
   "metadata": {},
   "source": [
    "# Tipo datos Feature Google Earth Engine "
   ]
  },
  {
   "cell_type": "markdown",
   "id": "a8ee3910-d40a-473c-bba8-5fba5cf7d331",
   "metadata": {},
   "source": [
    "Información de datos feature GEE: https://developers.google.com/earth-engine/apidocs/ee-feature\n"
   ]
  },
  {
   "cell_type": "code",
   "execution_count": 1,
   "id": "d80cf372-c4f2-4325-b1ab-99d0e7357e92",
   "metadata": {},
   "outputs": [],
   "source": [
    "# Importar paquete GEE\n",
    "import ee\n",
    "ee.Initialize()"
   ]
  },
  {
   "cell_type": "markdown",
   "id": "427716f1-0453-4c6f-8c22-e9a0ed1d694a",
   "metadata": {},
   "source": [
    "## Crear lista Python"
   ]
  },
  {
   "cell_type": "code",
   "execution_count": 9,
   "id": "a3f80bfb-2f81-45f6-bdfd-5222926861c6",
   "metadata": {},
   "outputs": [],
   "source": [
    "lista = [-74.564163, -8.384629,\n",
    "         -74.625626, -8.401342,\n",
    "         -74.640429, -8.332956,\n",
    "         -74.565373, -8.315447]"
   ]
  },
  {
   "cell_type": "markdown",
   "id": "60085527-bdbf-4b97-9ea7-25a9455d8258",
   "metadata": {},
   "source": [
    "## Crear geometria GEE"
   ]
  },
  {
   "cell_type": "code",
   "execution_count": 10,
   "id": "1b15e158-9640-4d8f-97be-cc7eb7c9f22d",
   "metadata": {},
   "outputs": [],
   "source": [
    "Multipuntos = ee.Geometry.MultiPoint(lista) # Conversion en geometria en GEE\n",
    "linea = ee.Geometry.LineString(lista) # Conversion en geometria en GEE\n",
    "poligono = ee.Geometry.Polygon(lista) # Conversion en geometria en GEE"
   ]
  },
  {
   "cell_type": "markdown",
   "id": "7e714240-08a2-4546-98fb-791a9bf474d3",
   "metadata": {},
   "source": [
    "## Crear Feature GEE"
   ]
  },
  {
   "cell_type": "code",
   "execution_count": 11,
   "id": "85c48fc2-297b-4683-9f64-fa0055d036d8",
   "metadata": {},
   "outputs": [],
   "source": [
    "Feature_Poligono = ee.Feature(poligono, {\"variable_1\" : 100,\n",
    "                                         \"Empresa\" : \"Geomatica\"})"
   ]
  },
  {
   "cell_type": "code",
   "execution_count": 12,
   "id": "ef2882ef-6bdb-43b2-865e-68c142fd8622",
   "metadata": {},
   "outputs": [],
   "source": [
    "Feature_linea = ee.Feature(linea)\n",
    "Feature_puntos = ee.Feature(Multipuntos)"
   ]
  },
  {
   "cell_type": "code",
   "execution_count": 16,
   "id": "be495417-754b-4656-9f04-86e67b535f9d",
   "metadata": {},
   "outputs": [],
   "source": [
    "import geemap\n",
    "Map = geemap.Map(basemap='ESRI')"
   ]
  },
  {
   "cell_type": "code",
   "execution_count": 17,
   "id": "f5dc3d03-bb72-4749-8e3b-abf77887155e",
   "metadata": {},
   "outputs": [
    {
     "data": {
      "application/vnd.jupyter.widget-view+json": {
       "model_id": "e41e0d947064436dbcde9477e9f4713d",
       "version_major": 2,
       "version_minor": 0
      },
      "text/plain": [
       "Map(center=[-8.357530028356225, -74.59923740443628], controls=(WidgetControl(options=['position', 'transparent…"
      ]
     },
     "metadata": {},
     "output_type": "display_data"
    }
   ],
   "source": [
    "Map.centerObject(Feature_Poligono, 12)\n",
    "Map.addLayer(Feature_Poligono, {\"color\" : \"00FF11\"}, 'Poligono')\n",
    "Map.addLayer(Feature_linea, {\"color\" : \"red\"}, 'Linea')\n",
    "Map.addLayer(Feature_puntos, {\"color\" : \"blue\"}, 'Puntos')\n",
    "Map"
   ]
  },
  {
   "cell_type": "markdown",
   "id": "a3f10fc8-9a25-492f-840e-4253aee756e7",
   "metadata": {},
   "source": [
    "## Determinar Geometría"
   ]
  },
  {
   "cell_type": "markdown",
   "id": "19bbdf7c-f863-4763-8819-cd2baf98776c",
   "metadata": {},
   "source": [
    "### Area m2"
   ]
  },
  {
   "cell_type": "code",
   "execution_count": 18,
   "id": "1e7367f2-e118-432d-b7bb-32af1f4d067a",
   "metadata": {},
   "outputs": [
    {
     "name": "stdout",
     "output_type": "stream",
     "text": [
      "Area:  59111814.175 m2\n"
     ]
    }
   ],
   "source": [
    "area_m2 = Feature_Poligono.area() # M2\n",
    "print(\"Area: \", round(area_m2.getInfo(),3),\"m2\")"
   ]
  },
  {
   "cell_type": "markdown",
   "id": "1a3111e1-c223-49b1-8834-c36caf9b7f29",
   "metadata": {},
   "source": [
    "### Area Ha"
   ]
  },
  {
   "cell_type": "code",
   "execution_count": 19,
   "id": "208df1e3-c4be-4e61-96b4-63db38448f7b",
   "metadata": {},
   "outputs": [
    {
     "name": "stdout",
     "output_type": "stream",
     "text": [
      "Area:  5911.181 Ha\n"
     ]
    }
   ],
   "source": [
    "area_ha = Feature_Poligono.area().divide(10000)\n",
    "print(\"Area: \", round(area_ha.getInfo(),3),\"Ha\")"
   ]
  },
  {
   "cell_type": "markdown",
   "id": "1cec5900-9883-4aaf-aff5-9876d98d5bd5",
   "metadata": {},
   "source": [
    "### Perimetro m"
   ]
  },
  {
   "cell_type": "code",
   "execution_count": 20,
   "id": "63080f82-5d0b-49bb-a2b5-803a9214dbf7",
   "metadata": {},
   "outputs": [
    {
     "name": "stdout",
     "output_type": "stream",
     "text": [
      "Perimetro:  30898.002 m\n"
     ]
    }
   ],
   "source": [
    "# Determinar Perimetro en m\n",
    "perimetro_m = Feature_Poligono.perimeter()\n",
    "print(\"Perimetro: \", round(perimetro_m.getInfo(),3),\"m\")"
   ]
  },
  {
   "cell_type": "markdown",
   "id": "064165ef-52cb-4cc3-b316-1bc6fe895afa",
   "metadata": {},
   "source": [
    "### Perimetro Km"
   ]
  },
  {
   "cell_type": "code",
   "execution_count": 21,
   "id": "dd333dab-4651-4423-a267-452e5dafaf1c",
   "metadata": {},
   "outputs": [
    {
     "name": "stdout",
     "output_type": "stream",
     "text": [
      "Perimetro:  30.898 Km\n"
     ]
    }
   ],
   "source": [
    "# Determinar perimetro en km\n",
    "perimetro_km = Feature_Poligono.perimeter().divide(1000)\n",
    "print(\"Perimetro: \", round(perimetro_km.getInfo(),3),\"Km\")"
   ]
  },
  {
   "cell_type": "markdown",
   "id": "b4ae97ac-47cc-4bf1-9e29-9d850bbc8797",
   "metadata": {},
   "source": [
    "### Calcular centroide poligono"
   ]
  },
  {
   "cell_type": "code",
   "execution_count": 22,
   "id": "8d33f58e-8885-43d4-9afa-a2f65ae24f33",
   "metadata": {},
   "outputs": [
    {
     "data": {
      "text/plain": [
       "{'type': 'Feature',\n",
       " 'geometry': {'type': 'Point',\n",
       "  'coordinates': [-74.59923740443628, -8.357530028356225]},\n",
       " 'properties': {'Empresa': 'Geomatica', 'variable_1': 100}}"
      ]
     },
     "execution_count": 22,
     "metadata": {},
     "output_type": "execute_result"
    }
   ],
   "source": [
    "# Calcular centroide poligono\n",
    "centroide = Feature_Poligono.centroid()\n",
    "centroide.getInfo()"
   ]
  },
  {
   "cell_type": "code",
   "execution_count": 23,
   "id": "bfd05719-586e-4e34-9877-b8873deb6311",
   "metadata": {},
   "outputs": [
    {
     "data": {
      "application/vnd.jupyter.widget-view+json": {
       "model_id": "e41e0d947064436dbcde9477e9f4713d",
       "version_major": 2,
       "version_minor": 0
      },
      "text/plain": [
       "Map(bottom=549018.0, center=[-8.357530028356225, -74.59923740443628], controls=(WidgetControl(options=['positi…"
      ]
     },
     "metadata": {},
     "output_type": "display_data"
    }
   ],
   "source": [
    "Map.centerObject(Feature_Poligono, 12)\n",
    "Map.addLayer(centroide,{\"color\" : \"red\"},name = \"Centroide\")\n",
    "Map"
   ]
  },
  {
   "cell_type": "markdown",
   "id": "5b7a27cd-6d9e-43fe-8a58-50b4de49e2b8",
   "metadata": {},
   "source": [
    "## Crear Feture tipo punto con Atributo"
   ]
  },
  {
   "cell_type": "code",
   "execution_count": 24,
   "id": "8a24ec39-986c-4e78-a050-7032afb58545",
   "metadata": {},
   "outputs": [],
   "source": [
    "# Crear un feature tipo punto\n",
    "Punto = ee.Geometry.Point([-63.295,-25.163])\n",
    "\n",
    "feature_punto = ee.Feature(Punto, {\"Empresa\" : \"Geomatica\",\n",
    "                                   \"year\" : 2021,\n",
    "                                  \"Mes\": \"Enero\"})"
   ]
  },
  {
   "cell_type": "code",
   "execution_count": 26,
   "id": "41a66303-d587-49be-9b15-7d9a29be05a9",
   "metadata": {},
   "outputs": [
    {
     "name": "stdout",
     "output_type": "stream",
     "text": [
      "Geomatica\n"
     ]
    }
   ],
   "source": [
    "# Recupero una propiedad del feature\n",
    "Empresa = feature_punto.get(\"Empresa\")\n",
    "print(Empresa.getInfo())"
   ]
  },
  {
   "cell_type": "code",
   "execution_count": 27,
   "id": "31d7c9d6-e537-48fc-b039-c1db536375b0",
   "metadata": {},
   "outputs": [
    {
     "data": {
      "text/plain": [
       "{'type': 'Feature',\n",
       " 'geometry': {'type': 'Point', 'coordinates': [-63.295, -25.163]},\n",
       " 'properties': {'Empresa': 'Geomatica',\n",
       "  'Mes': 'Enero',\n",
       "  'Poblacion': 75000,\n",
       "  'year': 2021}}"
      ]
     },
     "execution_count": 27,
     "metadata": {},
     "output_type": "execute_result"
    }
   ],
   "source": [
    "# Asigno una nueva campo tabla de atributo\n",
    "feature_punto = feature_punto.set(\"Poblacion\", 75000)\n",
    "feature_punto.getInfo()"
   ]
  },
  {
   "cell_type": "code",
   "execution_count": 28,
   "id": "4b2b7939-3256-4ce5-a797-367a87a7631f",
   "metadata": {},
   "outputs": [
    {
     "data": {
      "text/plain": [
       "['Poblacion', 'Empresa', 'Mes', 'year']"
      ]
     },
     "execution_count": 28,
     "metadata": {},
     "output_type": "execute_result"
    }
   ],
   "source": [
    "# Determinar los nombres campo\n",
    "feature_punto.propertyNames().getInfo()"
   ]
  },
  {
   "cell_type": "markdown",
   "id": "9bc11d02-1782-4ce7-9036-fe08b820b4e3",
   "metadata": {},
   "source": [
    "## Geoprocesamiento"
   ]
  },
  {
   "cell_type": "code",
   "execution_count": 35,
   "id": "3c764224-c97f-4c7e-ab47-c80d8953965c",
   "metadata": {},
   "outputs": [],
   "source": [
    "# Determinar un buffer o zona de influencia\n",
    "buffer1000 = Feature_puntos.buffer(1000)"
   ]
  },
  {
   "cell_type": "code",
   "execution_count": 36,
   "id": "2edf6906-e512-4791-8efa-7c0c31622a84",
   "metadata": {},
   "outputs": [
    {
     "data": {
      "application/vnd.jupyter.widget-view+json": {
       "model_id": "e41e0d947064436dbcde9477e9f4713d",
       "version_major": 2,
       "version_minor": 0
      },
      "text/plain": [
       "Map(bottom=549084.0, center=[-8.358593970748945, -74.59889732401417], controls=(WidgetControl(options=['positi…"
      ]
     },
     "metadata": {},
     "output_type": "display_data"
    }
   ],
   "source": [
    "Map.centerObject(buffer1000,13)\n",
    "Map.addLayer(buffer1000,{\"color\" : \"red\"},name = \"Buffer1000\")\n",
    "Map"
   ]
  }
 ],
 "metadata": {
  "kernelspec": {
   "display_name": "Python 3",
   "language": "python",
   "name": "python3"
  },
  "language_info": {
   "codemirror_mode": {
    "name": "ipython",
    "version": 3
   },
   "file_extension": ".py",
   "mimetype": "text/x-python",
   "name": "python",
   "nbconvert_exporter": "python",
   "pygments_lexer": "ipython3",
   "version": "3.7.10"
  }
 },
 "nbformat": 4,
 "nbformat_minor": 5
}
