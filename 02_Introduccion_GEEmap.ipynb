{
 "cells": [
  {
   "cell_type": "markdown",
   "id": "8e111063-4a60-4a46-9c8a-b744cea9f1ae",
   "metadata": {},
   "source": [
    "# Introducción geeMap"
   ]
  },
  {
   "cell_type": "markdown",
   "id": "ee6854e6-16eb-4d57-bcdf-6b7347d3bdb5",
   "metadata": {},
   "source": [
    " Mapeo interactivo y análisis de macrodatos geoespaciales usando geemap y Google Earth Engine"
   ]
  },
  {
   "cell_type": "code",
   "execution_count": 4,
   "id": "201f3e2e-bbdf-446c-bcd9-f0be1f420c52",
   "metadata": {},
   "outputs": [],
   "source": [
    "# Importar GEE\n",
    "import ee\n",
    "ee.Initialize()"
   ]
  },
  {
   "cell_type": "code",
   "execution_count": 3,
   "id": "ad3c0285-5a6a-407a-8b6f-e86b839017f1",
   "metadata": {},
   "outputs": [],
   "source": [
    "# Importar geemap\n",
    "import geemap\n",
    "Map = geemap.Map()"
   ]
  },
  {
   "cell_type": "code",
   "execution_count": 3,
   "id": "123c29fd-a815-4cfa-b474-d1848b4d4b68",
   "metadata": {},
   "outputs": [
    {
     "data": {
      "application/vnd.jupyter.widget-view+json": {
       "model_id": "f6dbb5a00c57465db19a429d53215116",
       "version_major": 2,
       "version_minor": 0
      },
      "text/plain": [
       "Map(center=[40, -100], controls=(WidgetControl(options=['position', 'transparent_bg'], widget=HBox(children=(T…"
      ]
     },
     "metadata": {},
     "output_type": "display_data"
    }
   ],
   "source": [
    "# Mapa interactiva por defecto HYDRO\n",
    "Map"
   ]
  },
  {
   "cell_type": "code",
   "execution_count": 16,
   "id": "a3227b8a-e8f3-4db0-8722-80cd4730f5f3",
   "metadata": {},
   "outputs": [
    {
     "data": {
      "application/vnd.jupyter.widget-view+json": {
       "model_id": "6f7ee407848a4ce18cce0c5aa62467c8",
       "version_major": 2,
       "version_minor": 0
      },
      "text/plain": [
       "Map(center=[40, -100], controls=(WidgetControl(options=['position', 'transparent_bg'], widget=HBox(children=(T…"
      ]
     },
     "metadata": {},
     "output_type": "display_data"
    }
   ],
   "source": [
    "# Voy a configurar para utilizar Satellite\n",
    "Map = geemap.Map(basemap='SATELLITE')\n",
    "Map"
   ]
  },
  {
   "cell_type": "markdown",
   "id": "49a2114a-7caf-49ad-a63b-b1d6c66a0e42",
   "metadata": {},
   "source": [
    "## Agregar Mapabase"
   ]
  },
  {
   "cell_type": "code",
   "execution_count": 6,
   "id": "c2b30208-b6f8-4aed-b2c7-9737d826a9de",
   "metadata": {},
   "outputs": [],
   "source": [
    "# Importar mapa base\n",
    "from geemap.basemaps import basemaps"
   ]
  },
  {
   "cell_type": "code",
   "execution_count": 12,
   "id": "e92e2dac-62d3-4f6d-a8bc-d0647c5e3160",
   "metadata": {},
   "outputs": [
    {
     "data": {
      "application/vnd.jupyter.widget-view+json": {
       "model_id": "846f85210ca9431c8d25036c0f75c6fa",
       "version_major": 2,
       "version_minor": 0
      },
      "text/plain": [
       "Map(bottom=4662.0, center=[-11.60919340793894, -61.91894531250001], controls=(WidgetControl(options=['position…"
      ]
     },
     "metadata": {},
     "output_type": "display_data"
    }
   ],
   "source": [
    "Map.add_basemap(basemaps.ESRI)\n",
    "Map"
   ]
  },
  {
   "cell_type": "markdown",
   "id": "f851de6c-9fbc-43da-8375-48f32611c28e",
   "metadata": {},
   "source": [
    "## Uso Herramienta Gráfica"
   ]
  },
  {
   "cell_type": "code",
   "execution_count": 17,
   "id": "7f588765-a333-4a94-a04f-d7dc9c8e37a4",
   "metadata": {},
   "outputs": [
    {
     "data": {
      "application/vnd.jupyter.widget-view+json": {
       "model_id": "6f7ee407848a4ce18cce0c5aa62467c8",
       "version_major": 2,
       "version_minor": 0
      },
      "text/plain": [
       "Map(bottom=1200.0, center=[21.288094774609725, -52.03125], controls=(WidgetControl(options=['position', 'trans…"
      ]
     },
     "metadata": {},
     "output_type": "display_data"
    }
   ],
   "source": [
    "Map"
   ]
  },
  {
   "cell_type": "code",
   "execution_count": 25,
   "id": "22174be2-0b93-41d9-a1fd-55df04611c7a",
   "metadata": {},
   "outputs": [],
   "source": [
    "punto = Map.user_roi"
   ]
  },
  {
   "cell_type": "code",
   "execution_count": 26,
   "id": "2459c9b3-ff50-4381-a6f9-aa0770492f47",
   "metadata": {},
   "outputs": [
    {
     "data": {
      "text/plain": [
       "ee.geometry.Geometry"
      ]
     },
     "execution_count": 26,
     "metadata": {},
     "output_type": "execute_result"
    }
   ],
   "source": [
    "type(punto)"
   ]
  },
  {
   "cell_type": "code",
   "execution_count": 27,
   "id": "c66ca85c-c30c-461e-8020-81edfe0b7c63",
   "metadata": {},
   "outputs": [
    {
     "data": {
      "application/vnd.jupyter.widget-view+json": {
       "model_id": "6f7ee407848a4ce18cce0c5aa62467c8",
       "version_major": 2,
       "version_minor": 0
      },
      "text/plain": [
       "Map(bottom=137482.0, center=[-8.327877, -74.814148], controls=(WidgetControl(options=['position', 'transparent…"
      ]
     },
     "metadata": {},
     "output_type": "display_data"
    }
   ],
   "source": [
    "# visualizacion del mapa\n",
    "Map.centerObject(punto,10)\n",
    "Map.addLayer(punto, {\"color\" : \"#00f55e\"}, 'punto')\n",
    "Map"
   ]
  },
  {
   "cell_type": "markdown",
   "id": "c8857c55-d29f-4c82-a47a-317a9d8130a9",
   "metadata": {},
   "source": [
    "## Conversión JavaScript a Python"
   ]
  },
  {
   "cell_type": "markdown",
   "id": "fbfb5bd2-37a8-4e1a-8b63-f05adde8008a",
   "metadata": {},
   "source": [
    "https://developers.google.com/earth-engine/guides/image_visualization"
   ]
  },
  {
   "cell_type": "code",
   "execution_count": 28,
   "id": "a894d3d4-5ac1-4f66-b339-ec76686a03a3",
   "metadata": {},
   "outputs": [],
   "source": [
    "js_snippet = \"\"\"\n",
    "// Load an image.\n",
    "var image = ee.Image('LANDSAT/LC08/C01/T1_TOA/LC08_044034_20140318');\n",
    "\n",
    "// Define the visualization parameters.\n",
    "var vizParams = {\n",
    "  bands: ['B5', 'B4', 'B3'],\n",
    "  min: 0,\n",
    "  max: 0.5,\n",
    "  gamma: [0.95, 1.1, 1]\n",
    "};\n",
    "\n",
    "// Center the map and display the image.\n",
    "Map.setCenter(-122.1899, 37.5010, 10); // San Francisco Bay\n",
    "Map.addLayer(image, vizParams, 'false color composite');\n",
    "\"\"\""
   ]
  },
  {
   "cell_type": "code",
   "execution_count": 1,
   "id": "0e84a378-0bcb-47dd-9472-f915a1e035ba",
   "metadata": {},
   "outputs": [],
   "source": [
    "js_snippet = \"\"\"\n",
    "// Define a dictionary which will be used to make legend and visualize image on map\n",
    "// 1a5bab,358221,a7d282,87d19e,ffdb5c,eecfa8,ed022a,ede9e4,f2faff,c8c8c8\n",
    "var dict = {\n",
    "  \"names\": [\n",
    "    \"Water\", \"Trees\", \"Grass\",\"Flooded Vegetation\",\"Crops\",\"Scrub/Shrub\",\n",
    "    \"Built Area\",\"Bare Ground\",\"Snow/Ice\",\"Clouds\"\n",
    "  ],\n",
    "  \"colors\": [\n",
    "    \"1A5BAB\",\"358221\",\"A7D282\",\"87D19E\",\"FFDB5C\",\"EECFA8\",\n",
    "    \"ED022A\",\"EDE9E4\",\"F2FAFF\",\"C8C8C8\"\n",
    "  ]};\n",
    "\n",
    "// Add dataset to the map\n",
    "var LULC_10m = esri_lulc10.mosaic();\n",
    "//For Global dataview\n",
    "//Map.addLayer(LULC_10m, {min:1, max:10, palette:dict['colors']}, 'Global_LULC_2020 10m');\n",
    "//Clip by geometry\n",
    "var nepal_LULC_2020 = LULC_10m.clip(nepal);\n",
    "Map.addLayer(nepal_LULC_2020, {min:1, max:10, palette:dict['colors']}, 'Nepal_LULC_2020 10m');\n",
    "\n",
    "// Area calculation\n",
    "// get the area covered by each slope class (sqkm)\n",
    "var areaImage = ee.Image.pixelArea().divide(1000*1000).addBands(nepal_LULC_2020);\n",
    "\n",
    "var areas = areaImage.reduceRegion({\n",
    "      reducer: ee.Reducer.sum().group({\n",
    "      groupField: 1,\n",
    "      groupName: 'class',\n",
    "    }),\n",
    "  geometry: nepal.geometry(),\n",
    "  scale: 500,\n",
    "  //crs: 'EPSG: 32645', //WGS 84 UTM Zone 45\n",
    "  maxPixels: 1e10\n",
    "});\n",
    "\n",
    "//Get the sq km area\n",
    "print('Area of Land Use Land Classes (in sq.km)', areas);\n",
    "\n",
    "/*\n",
    "/////////////////////////Display map and legend //////////////////////////\n",
    "*/\n",
    "\n",
    "// Create a panel to hold the legend widget\n",
    "var legend = ui.Panel({\n",
    "  style: {\n",
    "    position: 'bottom-left',\n",
    "    padding: '8px 15px'\n",
    "  }\n",
    "});\n",
    "\n",
    "// Function to generate the legend\n",
    "function addCategoricalLegend(panel, dict, title) {\n",
    "  \n",
    "  // Create and add the legend title.\n",
    "  var legendTitle = ui.Label({\n",
    "    value: title,\n",
    "    style: {\n",
    "      fontWeight: 'bold',\n",
    "      fontSize: '18px',\n",
    "      margin: '0 0 4px 0',\n",
    "      padding: '0'\n",
    "    }\n",
    "  });\n",
    "  panel.add(legendTitle);\n",
    "  \n",
    "  var loading = ui.Label('Loading legend...', {margin: '2px 0 4px 0'});\n",
    "  panel.add(loading);\n",
    "  \n",
    "  // Creates and styles 1 row of the legend.\n",
    "  var makeRow = function(color, name) {\n",
    "    // Create the label that is actually the colored box.\n",
    "    var colorBox = ui.Label({\n",
    "      style: {\n",
    "        backgroundColor: color,\n",
    "        // Use padding to give the box height and width.\n",
    "        padding: '8px',\n",
    "        margin: '0 0 4px 0'\n",
    "      }\n",
    "    });\n",
    "  \n",
    "    // Create the label filled with the description text.\n",
    "    var description = ui.Label({\n",
    "      value: name,\n",
    "      style: {margin: '0 0 4px 6px'}\n",
    "    });\n",
    "  \n",
    "    return ui.Panel({\n",
    "      widgets: [colorBox, description],\n",
    "      layout: ui.Panel.Layout.Flow('horizontal')\n",
    "    });\n",
    "  };\n",
    "  \n",
    "  // Get the list of palette colors and class names from the image.\n",
    "  var palette = dict['colors'];\n",
    "  var names = dict['names'];\n",
    "  loading.style().set('shown', false);\n",
    "  \n",
    "  for (var i = 0; i < names.length; i++) {\n",
    "    panel.add(makeRow(palette[i], names[i]));\n",
    "  }\n",
    "  \n",
    "  Map.add(panel);\n",
    "  \n",
    "}\n",
    "\n",
    "// Add the legend to the map\n",
    "addCategoricalLegend(legend, dict, 'ESRI 2020 Land Cover');\n",
    "\"\"\""
   ]
  },
  {
   "cell_type": "code",
   "execution_count": 5,
   "id": "d2035283-b6c2-4ebe-8717-b69f0f20c5dd",
   "metadata": {},
   "outputs": [],
   "source": [
    "# Convertir de JavaScript a Python\n",
    "geemap.js_snippet_to_py(js_snippet, add_new_cell=True, import_ee=True, import_geemap=True, show_map=True)"
   ]
  },
  {
   "cell_type": "code",
   "execution_count": null,
   "id": "3ebd8915-6e0f-4ca7-9210-28ba61c125dd",
   "metadata": {},
   "outputs": [],
   "source": [
    "import ee\n",
    "import geemap\n",
    "\n",
    "Map = geemap.Map()\n",
    "\n",
    "# Define a dictionary which will be used to make legend and visualize image on map\n",
    "# 1a5bab,358221,a7d282,87d19e,ffdb5c,eecfa8,ed022a,ede9e4,f2faff,c8c8c8\n",
    "dict = {\n",
    "  \"names\": [\n",
    "    \"Water\", \"Trees\", \"Grass\",\"Flooded Vegetation\",\"Crops\",\"Scrub/Shrub\",\n",
    "    \"Built Area\",\"Bare Ground\",\"Snow/Ice\",\"Clouds\"\n",
    "  ],\n",
    "  \"colors\": [\n",
    "    \"1A5BAB\",\"358221\",\"A7D282\",\"87D19E\",\"FFDB5C\",\"EECFA8\",\n",
    "    \"ED022A\",\"EDE9E4\",\"F2FAFF\",\"C8C8C8\"\n",
    "  ]}\n",
    "\n",
    "# Add dataset to the map\n",
    "LULC_10m = esri_lulc10.mosaic()\n",
    "#For Global dataview\n",
    "#Map.addLayer(LULC_10m, {min:1, max:10, palette:dict['colors']}, 'Global_LULC_2020 10m')\n",
    "#Clip by geometry\n",
    "nepal_LULC_2020 = LULC_10m.clip(nepal)\n",
    "Map.addLayer(nepal_LULC_2020, {'min':1, 'max':10, 'palette':dict['colors']}, 'Nepal_LULC_2020 10m')\n",
    "\n",
    "# Area calculation\n",
    "# get the area covered by each slope class (sqkm)\n",
    "areaImage = ee.Image.pixelArea().divide(1000*1000).addBands(nepal_LULC_2020)\n",
    "\n",
    "areas = areaImage.reduceRegion({\n",
    "      'reducer': ee.Reducer.sum().group({\n",
    "      'groupField': 1,\n",
    "      'groupName': 'class',\n",
    "    }),\n",
    "  'geometry': nepal.geometry(),\n",
    "  'scale': 500,\n",
    "  #crs: 'EPSG: 32645', #WGS 84 UTM Zone 45\n",
    "  'maxPixels': 1e10\n",
    "})\n",
    "\n",
    "#Get the sq km area\n",
    "print('Area of Land Use Land Classes (in sq.km)', areas)\n",
    "\n",
    "#\n",
    "############/Display map and legend #############\n",
    "#\n",
    "\n",
    "# Create a panel to hold the legend widget\n",
    "legend = ui.Panel({\n",
    "  'style': {\n",
    "    'position': 'bottom-left',\n",
    "    'padding': '8px 15px'\n",
    "  }\n",
    "})\n",
    "\n",
    "# Function to generate the legend\n",
    "def addCategoricalLegend(panel, dict, title):\n",
    "\n",
    "  # Create and add the legend title.\n",
    "  legendTitle = ui.Label({\n",
    "    'value': title,\n",
    "    'style': {\n",
    "      'fontWeight': 'bold',\n",
    "      'fontSize': '18px',\n",
    "      'margin': '0 0 4px 0',\n",
    "      'padding': '0'\n",
    "    }\n",
    "  })\n",
    "  panel.add(legendTitle)\n",
    "\n",
    "  loading = ui.Label('Loading legend...', {'margin': '2px 0 4px 0'})\n",
    "  panel.add(loading)\n",
    "\n",
    "  # Creates and styles 1 row of the legend.\n",
    "  def makeRow(color, name):\n",
    "    # Create the label that is actually the colored box.\n",
    "    colorBox = ui.Label({\n",
    "      'style': {\n",
    "        'backgroundColor': color,\n",
    "        # Use padding to give the box height and width.\n",
    "        'padding': '8px',\n",
    "        'margin': '0 0 4px 0'\n",
    "      }\n",
    "    })\n",
    "\n",
    "    # Create the label filled with the description text.\n",
    "    description = ui.Label({\n",
    "      'value': name,\n",
    "      'style': '{margin': '0 0 4px 6px'}\n",
    "    })\n",
    "\n",
    "    return ui.Panel({\n",
    "      'widgets': [colorBox, description],\n",
    "      'layout': ui.Panel.Layout.Flow('horizontal')\n",
    "    })\n",
    "\n",
    "  # Get the list of palette colors and class names from the image.\n",
    "  palette = dict['colors']\n",
    "  names = dict['names']\n",
    "  loading.style().set('shown', False)\n",
    "\n",
    "  for i in range(0, names.length, 1):\n",
    "    panel.add(makeRow(palette[i], names[i]))\n",
    "\n",
    "  Map.add(panel)\n",
    "\n",
    "# Add the legend to the map\n",
    "addCategoricalLegend(legend, dict, 'ESRI 2020 Land Cover')\n",
    "Map\n"
   ]
  },
  {
   "cell_type": "code",
   "execution_count": 30,
   "id": "204cb80d-1c90-4fff-8f0d-23fa839aaf67",
   "metadata": {},
   "outputs": [
    {
     "data": {
      "application/vnd.jupyter.widget-view+json": {
       "model_id": "dfba096aa1644a7cbe191738a84ed685",
       "version_major": 2,
       "version_minor": 0
      },
      "text/plain": [
       "Map(center=[37.501, -122.1899], controls=(WidgetControl(options=['position', 'transparent_bg'], widget=HBox(ch…"
      ]
     },
     "metadata": {},
     "output_type": "display_data"
    }
   ],
   "source": [
    "import ee\n",
    "import geemap\n",
    "\n",
    "Map = geemap.Map()\n",
    "\n",
    "# Load an image.\n",
    "image = ee.Image('LANDSAT/LC08/C01/T1_TOA/LC08_044034_20140318')\n",
    "\n",
    "# Define the visualization parameters.\n",
    "vizParams = {\n",
    "  'bands': ['B5', 'B4', 'B3'],\n",
    "  'min': 0,\n",
    "  'max': 0.5,\n",
    "  'gamma': [0.95, 1.1, 1]\n",
    "}\n",
    "\n",
    "# Center the map and display the image.\n",
    "Map.setCenter(-122.1899, 37.5010, 10); # San Francisco Bay\n",
    "Map.addLayer(image, vizParams, 'False color composite')\n",
    "Map\n"
   ]
  },
  {
   "cell_type": "markdown",
   "id": "959fcbb5-32c7-4131-8706-3af926d21cce",
   "metadata": {},
   "source": [
    "También puede convertir GEE JavaScript a Python sin codificar."
   ]
  },
  {
   "cell_type": "code",
   "execution_count": 31,
   "id": "f3de6def-e7d3-420e-bed1-5d384f328aed",
   "metadata": {},
   "outputs": [
    {
     "data": {
      "application/vnd.jupyter.widget-view+json": {
       "model_id": "dde55ac682a74e38b71581cef4d9c524",
       "version_major": 2,
       "version_minor": 0
      },
      "text/plain": [
       "Map(center=[40, -100], controls=(WidgetControl(options=['position', 'transparent_bg'], widget=HBox(children=(T…"
      ]
     },
     "metadata": {},
     "output_type": "display_data"
    }
   ],
   "source": [
    "Map = geemap.Map()\n",
    "Map"
   ]
  },
  {
   "cell_type": "markdown",
   "id": "776f02f0-6147-48a6-9f2d-5da319c2eae2",
   "metadata": {},
   "source": [
    "## Herramienta de Inspector y visualizar raster"
   ]
  },
  {
   "cell_type": "code",
   "execution_count": 35,
   "id": "9abb55d1-eb8f-4367-8bb5-a96a1f332c18",
   "metadata": {},
   "outputs": [
    {
     "data": {
      "application/vnd.jupyter.widget-view+json": {
       "model_id": "dde55ac682a74e38b71581cef4d9c524",
       "version_major": 2,
       "version_minor": 0
      },
      "text/plain": [
       "Map(bottom=9090.0, center=[-13.023149417026088, -70.46809136327242], controls=(WidgetControl(options=['positio…"
      ]
     },
     "metadata": {},
     "output_type": "display_data"
    }
   ],
   "source": [
    "# Cargar una imagen Landsat 5 TM\n",
    "image = ee.Image(\"LANDSAT/LT05/C01/T1/LT05_003069_20060516\")\n",
    "\n",
    "# Definir simbologia RGB\n",
    "viz = {\n",
    "    'bands': ['B5', 'B4', 'B3'],\n",
    "    'min': 1,\n",
    "    'max': 120,\n",
    "    'gamma': 0.90\n",
    "}\n",
    "\n",
    "# Add Earth Eninge layers to Map\n",
    "geometria = image.geometry()\n",
    "# Center the map and display the image.\n",
    "Map.centerObject(geometria,8)\n",
    "Map.addLayer(image, viz, 'L5_B543')\n",
    "Map"
   ]
  },
  {
   "cell_type": "code",
   "execution_count": null,
   "id": "3a0b4d94-599d-46a3-9f49-51ddaad40241",
   "metadata": {},
   "outputs": [],
   "source": []
  }
 ],
 "metadata": {
  "kernelspec": {
   "display_name": "Python 3",
   "language": "python",
   "name": "python3"
  },
  "language_info": {
   "codemirror_mode": {
    "name": "ipython",
    "version": 3
   },
   "file_extension": ".py",
   "mimetype": "text/x-python",
   "name": "python",
   "nbconvert_exporter": "python",
   "pygments_lexer": "ipython3",
   "version": "3.7.10"
  },
  "toc": {
   "base_numbering": 1,
   "nav_menu": {
    "height": "143px",
    "width": "319px"
   },
   "number_sections": true,
   "sideBar": true,
   "skip_h1_title": false,
   "title_cell": "Table of Contents",
   "title_sidebar": "Contents",
   "toc_cell": false,
   "toc_position": {},
   "toc_section_display": true,
   "toc_window_display": true
  }
 },
 "nbformat": 4,
 "nbformat_minor": 5
}
