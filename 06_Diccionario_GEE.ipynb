{
 "cells": [
  {
   "cell_type": "markdown",
   "id": "8642f0e0-392c-4373-b443-98f072106a42",
   "metadata": {},
   "source": [
    "# Tipo dato Diccionario GEE"
   ]
  },
  {
   "cell_type": "markdown",
   "id": "150388da-5701-488d-8436-1f3cfd293cba",
   "metadata": {},
   "source": [
    "Información de tipo dato diccionario GEE: https://developers.google.com/earth-engine/apidocs/ee-dictionary\n"
   ]
  },
  {
   "cell_type": "code",
   "execution_count": 1,
   "id": "b4bf74f0-c927-455b-84a0-77d20c8b33d4",
   "metadata": {},
   "outputs": [],
   "source": [
    "# Importar paquete GEE\n",
    "import ee\n",
    "ee.Initialize()"
   ]
  },
  {
   "cell_type": "markdown",
   "id": "288a1192-64d4-4236-8b25-995953359ba2",
   "metadata": {},
   "source": [
    "## Diccionario en Python"
   ]
  },
  {
   "cell_type": "code",
   "execution_count": 2,
   "id": "585118d7-d5d6-4817-a834-51bbb92df744",
   "metadata": {},
   "outputs": [
    {
     "name": "stdout",
     "output_type": "stream",
     "text": [
      "{'e': 2.58, 'pi': 3.1516, 'b': 1.61}\n",
      "<class 'dict'>\n"
     ]
    }
   ],
   "source": [
    "# Crear diccionario en Python\n",
    "dicc1 = {\"e\": 2.58,\n",
    "         \"pi\": 3.1516,\n",
    "         \"b\": 1.61}\n",
    "print(dicc1)\n",
    "print(type(dicc1))"
   ]
  },
  {
   "cell_type": "code",
   "execution_count": 3,
   "id": "9fcddd35-c46c-4722-a3a2-973321f7988c",
   "metadata": {},
   "outputs": [
    {
     "name": "stdout",
     "output_type": "stream",
     "text": [
      "['f', 4, 'g', 20.1, 'h', 0.25]\n",
      "<class 'list'>\n"
     ]
    }
   ],
   "source": [
    "# Crear una lista en Python\n",
    "lista1 = [\"f\", 4,\"g\", 20.1,\"h\", 0.25]\n",
    "\n",
    "print(lista1)\n",
    "print(type(lista1))"
   ]
  },
  {
   "cell_type": "markdown",
   "id": "deaaaa9d-6bf0-4f43-9235-dc21cc0699c2",
   "metadata": {},
   "source": [
    "## Diccionario en GEE"
   ]
  },
  {
   "cell_type": "code",
   "execution_count": 4,
   "id": "bdda51cd-2781-4fe7-a5e0-4b8422dca447",
   "metadata": {},
   "outputs": [
    {
     "name": "stdout",
     "output_type": "stream",
     "text": [
      "{'b': 1.61, 'e': 2.58, 'pi': 3.1516}\n",
      "{'f': 4, 'g': 20.1, 'h': 0.25}\n"
     ]
    }
   ],
   "source": [
    "# Convertir a diccionario GEE\n",
    "Dicc_ee1 = ee.Dictionary(dicc1)\n",
    "Dicc_ee2 = ee.Dictionary(lista1)\n",
    "print(Dicc_ee1.getInfo())\n",
    "print(Dicc_ee2.getInfo())"
   ]
  },
  {
   "cell_type": "code",
   "execution_count": 5,
   "id": "60763472-4c2d-473e-bbcd-6ec77e94f83b",
   "metadata": {},
   "outputs": [
    {
     "data": {
      "text/plain": [
       "{'a': 12.5, 'b': 15.3, 'c': 23}"
      ]
     },
     "execution_count": 5,
     "metadata": {},
     "output_type": "execute_result"
    }
   ],
   "source": [
    "# Crear un diccionario GEE con lista\n",
    "clave = [\"a\",\"b\",\"c\"] # Lista string\n",
    "valores = [12.5,15.3,23] # lista numerico\n",
    "clave_ee = ee.List(clave) # claves lista GEE\n",
    "valores_ee = ee.List(valores) # Valores lista GEE\n",
    "\n",
    "Dicc_ee4 = ee.Dictionary.fromLists(clave_ee, valores_ee)\n",
    "Dicc_ee4.getInfo()"
   ]
  },
  {
   "cell_type": "markdown",
   "id": "27878d07-2d23-43ff-92cc-e00fbcadc965",
   "metadata": {},
   "source": [
    "## Operaciones con Diccionario GEE"
   ]
  },
  {
   "cell_type": "markdown",
   "id": "25891d96-3777-495a-8e8e-efb947441279",
   "metadata": {},
   "source": [
    "### Extraer valor segun nombre clave"
   ]
  },
  {
   "cell_type": "code",
   "execution_count": 10,
   "id": "de40e787-0785-4035-ba92-014da7b5c247",
   "metadata": {},
   "outputs": [
    {
     "data": {
      "text/plain": [
       "3.1516"
      ]
     },
     "execution_count": 10,
     "metadata": {},
     "output_type": "execute_result"
    }
   ],
   "source": [
    "# Extrae un valor con nombre de un diccionario GEE \n",
    "pi1 = Dicc_ee1.get(\"pi\")\n",
    "pi1.getInfo()"
   ]
  },
  {
   "cell_type": "markdown",
   "id": "3164254d-0de9-4516-8557-284d87118bd4",
   "metadata": {},
   "source": [
    "### Combinar dos diccionario"
   ]
  },
  {
   "cell_type": "code",
   "execution_count": 12,
   "id": "e4f475ea-3304-469f-940f-2442375a065c",
   "metadata": {},
   "outputs": [
    {
     "name": "stdout",
     "output_type": "stream",
     "text": [
      "Dicc1: {'b': 1.61, 'e': 2.58, 'pi': 3.1516}\n"
     ]
    },
    {
     "data": {
      "text/plain": [
       "{'b': 1.61, 'e': 2.58, 'f': 4, 'g': 20.1, 'h': 0.25, 'pi': 3.1516}"
      ]
     },
     "execution_count": 12,
     "metadata": {},
     "output_type": "execute_result"
    }
   ],
   "source": [
    "# Combinar dos diccionarios GEE\n",
    "Dicc_ee3 = Dicc_ee1.combine(Dicc_ee2)\n",
    "print(\"Dicc1:\",Dicc_ee1.getInfo())\n",
    "Dicc_ee3.getInfo()"
   ]
  },
  {
   "cell_type": "markdown",
   "id": "c9040f98-af5d-418d-80f1-e127715a3004",
   "metadata": {},
   "source": [
    "### Verificar si existe una clave - True"
   ]
  },
  {
   "cell_type": "code",
   "execution_count": 16,
   "id": "cf912930-1ee6-49b2-a807-bc776ad5a98b",
   "metadata": {},
   "outputs": [
    {
     "data": {
      "text/plain": [
       "True"
      ]
     },
     "execution_count": 16,
     "metadata": {},
     "output_type": "execute_result"
    }
   ],
   "source": [
    "# Devuelve verdadero si el diccionario contiene la clave dada.\n",
    "dato = Dicc_ee1.contains(\"pi\")\n",
    "dato.getInfo()"
   ]
  },
  {
   "cell_type": "markdown",
   "id": "1259ba93-7693-4e10-9a5c-d98651fd3686",
   "metadata": {},
   "source": [
    "### Extraer las claves en Lista"
   ]
  },
  {
   "cell_type": "code",
   "execution_count": 21,
   "id": "b4cd257d-a51f-4b7d-9637-fed442b7642a",
   "metadata": {},
   "outputs": [
    {
     "data": {
      "text/plain": [
       "['b', 'e', 'pi']"
      ]
     },
     "execution_count": 21,
     "metadata": {},
     "output_type": "execute_result"
    }
   ],
   "source": [
    "# Recupere las claves de un diccionario en forma de lista. \n",
    "claves_list = Dicc_ee1.keys()\n",
    "claves_list.getInfo()"
   ]
  },
  {
   "cell_type": "markdown",
   "id": "ce1ff6f3-f1a2-4be0-b3f7-d30b16d64937",
   "metadata": {},
   "source": [
    "### Extraer los valores en Lista"
   ]
  },
  {
   "cell_type": "code",
   "execution_count": 24,
   "id": "df0295e6-dbcb-4373-aa87-fd902c95c072",
   "metadata": {},
   "outputs": [
    {
     "data": {
      "text/plain": [
       "[1.61, 2.58, 4, 20.1, 0.25, 3.1516]"
      ]
     },
     "execution_count": 24,
     "metadata": {},
     "output_type": "execute_result"
    }
   ],
   "source": [
    "# Devuelve los valores de un diccionario en forma de lista.\n",
    "valores_list = Dicc_ee3.values()\n",
    "valores_list.getInfo()\n"
   ]
  },
  {
   "cell_type": "markdown",
   "id": "7c7c26c4-88c8-4c02-8114-ffada50b4b7f",
   "metadata": {},
   "source": [
    "### Agregar una clave con su variable"
   ]
  },
  {
   "cell_type": "code",
   "execution_count": 25,
   "id": "aef19f95-8f64-43d0-9f65-3624322457ac",
   "metadata": {},
   "outputs": [
    {
     "data": {
      "text/plain": [
       "{'a': 12.5, 'b': 15.3, 'c': 23, 'z': 100}"
      ]
     },
     "execution_count": 25,
     "metadata": {},
     "output_type": "execute_result"
    }
   ],
   "source": [
    "# Establezca un valor en un diccionario.\n",
    "Dicc_ee5 = Dicc_ee4.set(\"z\", 100)\n",
    "Dicc_ee5.getInfo()"
   ]
  }
 ],
 "metadata": {
  "hide_input": false,
  "kernelspec": {
   "display_name": "Python 3",
   "language": "python",
   "name": "python3"
  },
  "language_info": {
   "codemirror_mode": {
    "name": "ipython",
    "version": 3
   },
   "file_extension": ".py",
   "mimetype": "text/x-python",
   "name": "python",
   "nbconvert_exporter": "python",
   "pygments_lexer": "ipython3",
   "version": "3.7.10"
  },
  "toc": {
   "base_numbering": 1,
   "nav_menu": {},
   "number_sections": true,
   "sideBar": true,
   "skip_h1_title": false,
   "title_cell": "Table of Contents",
   "title_sidebar": "Contents",
   "toc_cell": false,
   "toc_position": {},
   "toc_section_display": true,
   "toc_window_display": true
  }
 },
 "nbformat": 4,
 "nbformat_minor": 5
}
