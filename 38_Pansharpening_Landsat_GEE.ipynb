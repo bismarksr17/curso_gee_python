{
 "cells": [
  {
   "cell_type": "markdown",
   "id": "d7388988-9e6a-4f77-bec7-50dbab2d9cd6",
   "metadata": {},
   "source": [
    "# Proceso Pansharpening google Earth Engine"
   ]
  },
  {
   "cell_type": "code",
   "execution_count": 1,
   "id": "244d7bba-9136-43cd-a6ba-932d07eb1dd7",
   "metadata": {},
   "outputs": [],
   "source": [
    "# Importar GEE\n",
    "import ee\n",
    "ee.Initialize()"
   ]
  },
  {
   "cell_type": "markdown",
   "id": "53c79b36-3898-4485-83aa-0113e370ef94",
   "metadata": {},
   "source": [
    "## Filtro zona estudio mediante GEE"
   ]
  },
  {
   "cell_type": "code",
   "execution_count": 2,
   "id": "812fc3f1-906a-4fd3-b2ff-fbefb8e58897",
   "metadata": {},
   "outputs": [],
   "source": [
    "# Agregar un shp GEE\n",
    "zona_ee = ee.FeatureCollection(\"users/bravomoralesnino/SHP/ZONA_19S\")"
   ]
  },
  {
   "cell_type": "code",
   "execution_count": 3,
   "id": "87a438b8-e797-4b16-90a4-adab89e9d77c",
   "metadata": {},
   "outputs": [],
   "source": [
    "# Importar geemap\n",
    "import geemap\n",
    "Map = geemap.Map(basemap='SATELLITE')"
   ]
  },
  {
   "cell_type": "code",
   "execution_count": 4,
   "id": "3fc80aed-cc39-4de2-a213-9a9327d4feb3",
   "metadata": {},
   "outputs": [],
   "source": [
    "geometria = zona_ee.geometry()\n",
    "Map.centerObject(geometria, 11)"
   ]
  },
  {
   "cell_type": "code",
   "execution_count": 5,
   "id": "9294e34a-3860-446c-aeb3-192661b18ffb",
   "metadata": {},
   "outputs": [
    {
     "data": {
      "application/vnd.jupyter.widget-view+json": {
       "model_id": "0c48db2126b749889852c009a3ffebab",
       "version_major": 2,
       "version_minor": 0
      },
      "text/plain": [
       "Map(center=[-12.908744902436744, -69.9947155021359], controls=(WidgetControl(options=['position', 'transparent…"
      ]
     },
     "metadata": {},
     "output_type": "display_data"
    }
   ],
   "source": [
    "Map.addLayer(zona_ee,{\"color\" : \"00FF11\"},name = \"Zona\")\n",
    "Map"
   ]
  },
  {
   "cell_type": "markdown",
   "id": "091f3142-8980-46a5-b6eb-08120c79bd72",
   "metadata": {},
   "source": [
    "## Seleccionar Collection Landsat TOA"
   ]
  },
  {
   "cell_type": "code",
   "execution_count": 6,
   "id": "63b3e244-c6e9-48d9-a32b-98de8c08cc99",
   "metadata": {},
   "outputs": [],
   "source": [
    "# Buscar imagenes Landsat por zona estudio shapefile y nubosidad\n",
    "L8_TOA = ee.ImageCollection(\"LANDSAT/LC08/C01/T1_TOA\")\\\n",
    "                .filterDate('2020-01-01','2020-12-31')\\\n",
    "                .filterBounds(zona_ee)\\\n",
    "                .filterMetadata('CLOUD_COVER','less_than',20)"
   ]
  },
  {
   "cell_type": "code",
   "execution_count": 7,
   "id": "6a087fe0-5d9c-465f-95df-a3ef68324aae",
   "metadata": {},
   "outputs": [
    {
     "name": "stdout",
     "output_type": "stream",
     "text": [
      "Cantidad de imagenes L8_TOA: 3\n"
     ]
    }
   ],
   "source": [
    "# Conteo de imagenes\n",
    "count = L8_TOA.size().getInfo()\n",
    "print(\"Cantidad de imagenes L8_TOA:\", count)"
   ]
  },
  {
   "cell_type": "code",
   "execution_count": 8,
   "id": "cf8d5e6a-5538-4404-821c-341c6a127476",
   "metadata": {},
   "outputs": [
    {
     "name": "stdout",
     "output_type": "stream",
     "text": [
      "['LC08_003069_20200420', 'LC08_003069_20200607', 'LC08_003069_20200911']\n"
     ]
    }
   ],
   "source": [
    "# Imprimir la lista de ID Imagenes\n",
    "catalogo_L8_TOA = L8_TOA.reduceColumns(ee.Reducer.toList(),[\"system:index\"]).get(\"list\").getInfo()\n",
    "print(catalogo_L8_TOA)"
   ]
  },
  {
   "cell_type": "code",
   "execution_count": 9,
   "id": "47835d08-db02-4a34-bfb6-0866ca7f29f9",
   "metadata": {},
   "outputs": [
    {
     "data": {
      "text/plain": [
       "'LC08_003069_20200420'"
      ]
     },
     "execution_count": 9,
     "metadata": {},
     "output_type": "execute_result"
    }
   ],
   "source": [
    "catalogo_L8_TOA[0]"
   ]
  },
  {
   "cell_type": "markdown",
   "id": "703915da-ae85-4249-99ba-4a2ae65c0abf",
   "metadata": {},
   "source": [
    "## Seleccion imagen"
   ]
  },
  {
   "cell_type": "code",
   "execution_count": 10,
   "id": "ad5eb1d1-97bf-42ec-a8fa-4bbe0faa3f17",
   "metadata": {},
   "outputs": [],
   "source": [
    "# Importar imagen Landsat 8 TOA\n",
    "image = ee.Image(\"LANDSAT/LC08/C01/T1_TOA\" + \"/\" + catalogo_L8_TOA[0])"
   ]
  },
  {
   "cell_type": "code",
   "execution_count": 11,
   "id": "6caf4ac0-1bef-4a1e-aab2-534dcfc2a032",
   "metadata": {},
   "outputs": [
    {
     "data": {
      "text/plain": [
       "['B1', 'B2', 'B3', 'B4', 'B5', 'B6', 'B7', 'B8', 'B9', 'B10', 'B11', 'BQA']"
      ]
     },
     "execution_count": 11,
     "metadata": {},
     "output_type": "execute_result"
    }
   ],
   "source": [
    "# Nombre de las bandas\n",
    "image.bandNames().getInfo()"
   ]
  },
  {
   "cell_type": "code",
   "execution_count": 12,
   "id": "ee959a72-599d-4db9-88e3-6a22cca83e01",
   "metadata": {},
   "outputs": [],
   "source": [
    "# Simbologia estala 0 - 1\n",
    "viz_TOA = {\n",
    "    'bands': ['B6', 'B5', 'B4'],\n",
    "    'min': 0,\n",
    "    'max': 0.5,\n",
    "    'gamma': 1.5\n",
    "}"
   ]
  },
  {
   "cell_type": "markdown",
   "id": "c3aa0eb5-4e97-469f-9556-c491d2b99e07",
   "metadata": {},
   "source": [
    "## Recortar imagen"
   ]
  },
  {
   "cell_type": "code",
   "execution_count": 13,
   "id": "d479f2ab-4a6e-4c70-963a-902ed184f446",
   "metadata": {},
   "outputs": [],
   "source": [
    "## Recortar Imagen\n",
    "image_clip = image.clip(zona_ee)"
   ]
  },
  {
   "cell_type": "code",
   "execution_count": 14,
   "id": "579755a9-f818-4d3d-9995-9a7559baaad6",
   "metadata": {},
   "outputs": [
    {
     "data": {
      "application/vnd.jupyter.widget-view+json": {
       "model_id": "0c48db2126b749889852c009a3ffebab",
       "version_major": 2,
       "version_minor": 0
      },
      "text/plain": [
       "Map(bottom=281405.0, center=[-12.908744902436744, -69.9947155021359], controls=(WidgetControl(options=['positi…"
      ]
     },
     "metadata": {},
     "output_type": "display_data"
    }
   ],
   "source": [
    "Map.addLayer(image_clip, viz_TOA, name = \"Landsat B654\")\n",
    "Map"
   ]
  },
  {
   "cell_type": "code",
   "execution_count": 15,
   "id": "082fc5d4-1ec8-44bd-b00f-74db18680667",
   "metadata": {},
   "outputs": [],
   "source": [
    "# Seleccion combinacion bandas\n",
    "veg = ['B6','B5','B4']\n",
    "Nat = ['B4','B3','B2']"
   ]
  },
  {
   "cell_type": "markdown",
   "id": "ec080ab3-61e4-45f9-96d0-102f1eb041db",
   "metadata": {},
   "source": [
    "## Convertir RGB a HSV"
   ]
  },
  {
   "cell_type": "code",
   "execution_count": 16,
   "id": "de86e011-347f-48e6-a886-bc699feb0698",
   "metadata": {},
   "outputs": [],
   "source": [
    "# Convertir de RGB a HSV\n",
    "RGB2HSV_veg = image_clip.select(veg).rgbToHsv()\n",
    "RGB2HSV_nat = image_clip.select(Nat).rgbToHsv()"
   ]
  },
  {
   "cell_type": "code",
   "execution_count": 18,
   "id": "5bda4cb5-b483-48f2-af6b-b3a4aa2908df",
   "metadata": {},
   "outputs": [
    {
     "data": {
      "text/plain": [
       "['hue', 'saturation', 'value']"
      ]
     },
     "execution_count": 18,
     "metadata": {},
     "output_type": "execute_result"
    }
   ],
   "source": [
    "# Nombre de las bandas\n",
    "RGB2HSV_nat.bandNames().getInfo()"
   ]
  },
  {
   "cell_type": "markdown",
   "id": "b0091bda-4c82-487e-a6e8-c9f51b6df020",
   "metadata": {},
   "source": [
    "## Agregar banda 8 y convertir RGB"
   ]
  },
  {
   "cell_type": "code",
   "execution_count": 19,
   "id": "8202911e-def6-45dc-b69f-516a02199c3a",
   "metadata": {},
   "outputs": [],
   "source": [
    "# Agregar banda 8 y convertir RGB\n",
    "Pansharpen_veg = ee.Image.cat(\n",
    "                RGB2HSV_veg.select(\"hue\"),\n",
    "                RGB2HSV_veg.select(\"saturation\"),\n",
    "                image_clip.select(\"B8\")).hsvToRgb()\n",
    "\n",
    "Pansharpen_nat = ee.Image.cat(\n",
    "                RGB2HSV_nat.select(\"hue\"),\n",
    "                RGB2HSV_nat.select(\"saturation\"),\n",
    "                image_clip.select(\"B8\")).hsvToRgb()"
   ]
  },
  {
   "cell_type": "code",
   "execution_count": 21,
   "id": "c6c6a968-b700-4cf0-bf09-ce4db8077f57",
   "metadata": {},
   "outputs": [
    {
     "data": {
      "text/plain": [
       "['red', 'green', 'blue']"
      ]
     },
     "execution_count": 21,
     "metadata": {},
     "output_type": "execute_result"
    }
   ],
   "source": [
    "# Determinar el nombre de la banda\n",
    "Pansharpen_nat.bandNames().getInfo()"
   ]
  },
  {
   "cell_type": "code",
   "execution_count": 22,
   "id": "695c334a-e0d0-4135-a3c5-57ff7ca0b563",
   "metadata": {},
   "outputs": [],
   "source": [
    "# simbologia landsat 8 Pansharpening Escala 0 - 1\n",
    "viz_pan = {\n",
    "    'bands': ['red','green','blue'],\n",
    "    'min': 0,\n",
    "    'max': 0.5,\n",
    "    'gamma': 1.5\n",
    "}"
   ]
  },
  {
   "cell_type": "code",
   "execution_count": 28,
   "id": "f00d6a52-ff40-4c79-ae21-b2f115dbacbe",
   "metadata": {},
   "outputs": [],
   "source": [
    "# Reproyeccion del pansharpening\n",
    "Pansharpen_nat_UTM = Pansharpen_nat.reproject(crs=\"EPSG:32719\", scale = 15)\n",
    "Pansharpen_veg_UTM = Pansharpen_veg.reproject(crs=\"EPSG:32719\", scale = 15)"
   ]
  },
  {
   "cell_type": "code",
   "execution_count": 23,
   "id": "a215d371-80fc-4408-a6c4-68a07ab50247",
   "metadata": {},
   "outputs": [
    {
     "data": {
      "application/vnd.jupyter.widget-view+json": {
       "model_id": "0c48db2126b749889852c009a3ffebab",
       "version_major": 2,
       "version_minor": 0
      },
      "text/plain": [
       "Map(bottom=281405.0, center=[-12.908744902436744, -69.9947155021359], controls=(WidgetControl(options=['positi…"
      ]
     },
     "metadata": {},
     "output_type": "display_data"
    }
   ],
   "source": [
    "Map.addLayer(Pansharpen_nat_UTM, viz_pan, name = \"Pansharpening Natural B432\")\n",
    "Map.addLayer(Pansharpen_veg_UTM, viz_pan, name = \"Pansharpening Vegetacion B654\")\n",
    "Map"
   ]
  },
  {
   "cell_type": "markdown",
   "id": "0e94ced3-2d76-4cdd-94a6-4f3a69b71d9f",
   "metadata": {},
   "source": [
    "## Crear una visualización comparación"
   ]
  },
  {
   "cell_type": "code",
   "execution_count": 24,
   "id": "834b7a3b-8a05-46e5-8d43-2ecd036e9778",
   "metadata": {},
   "outputs": [],
   "source": [
    "# Crear visualizacion derecha y izquierda\n",
    "viz_izq = geemap.ee_tile_layer(image_clip, viz_TOA, 'Landsat B654')\n",
    "viz_der = geemap.ee_tile_layer(Pansharpen_veg_UTM, viz_pan, 'Pansharpening Vegetacion B654')"
   ]
  },
  {
   "cell_type": "code",
   "execution_count": 25,
   "id": "4c0b75e1-2aba-4e88-bca4-11898e71ec0e",
   "metadata": {},
   "outputs": [
    {
     "data": {
      "application/vnd.jupyter.widget-view+json": {
       "model_id": "0c48db2126b749889852c009a3ffebab",
       "version_major": 2,
       "version_minor": 0
      },
      "text/plain": [
       "Map(bottom=1125100.0, center=[-12.972442010578366, -70.17062187194826], controls=(ZoomControl(options=['positi…"
      ]
     },
     "metadata": {},
     "output_type": "display_data"
    }
   ],
   "source": [
    "# Visualizacion\n",
    "Map.split_map(viz_izq, viz_der)\n",
    "Map"
   ]
  },
  {
   "cell_type": "markdown",
   "id": "26ad4e72-53d3-4042-a913-83d57585632b",
   "metadata": {},
   "source": [
    "## Exportar Imagen"
   ]
  },
  {
   "cell_type": "code",
   "execution_count": 26,
   "id": "60617ec1-3543-407c-8922-3adbe5afe943",
   "metadata": {},
   "outputs": [
    {
     "name": "stdout",
     "output_type": "stream",
     "text": [
      "Exporting Pansharpen_clip_B654 ...\n"
     ]
    }
   ],
   "source": [
    "# Exportar en google drive\n",
    "geemap.ee_export_image_to_drive(Pansharpen_veg_UTM, description='Pansharpen_clip_B654', folder='GEE_Python', region=geometria, scale=15)"
   ]
  },
  {
   "cell_type": "code",
   "execution_count": null,
   "id": "6ad5aebb-4278-4a43-bdc6-0f188ce56255",
   "metadata": {},
   "outputs": [],
   "source": [
    "geemap.ee_export_image_to_drive(Pansharpen_nat_UTM, description='Pansharpen_clip_B432', folder='GEE_Python', region=geometria, scale=15)"
   ]
  }
 ],
 "metadata": {
  "kernelspec": {
   "display_name": "Python 3",
   "language": "python",
   "name": "python3"
  },
  "language_info": {
   "codemirror_mode": {
    "name": "ipython",
    "version": 3
   },
   "file_extension": ".py",
   "mimetype": "text/x-python",
   "name": "python",
   "nbconvert_exporter": "python",
   "pygments_lexer": "ipython3",
   "version": "3.7.10"
  }
 },
 "nbformat": 4,
 "nbformat_minor": 5
}
