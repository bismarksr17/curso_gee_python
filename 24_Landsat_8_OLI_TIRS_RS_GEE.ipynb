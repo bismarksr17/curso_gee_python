{
 "cells": [
  {
   "cell_type": "markdown",
   "id": "4a046c44-db5b-4a09-a644-0e2ce66248b6",
   "metadata": {},
   "source": [
    "# Landsat 8 OLI TIRS Reflectancia Superficie google Earth Engine"
   ]
  },
  {
   "cell_type": "code",
   "execution_count": 1,
   "id": "c5929646-66ae-4cce-b8d8-407b08cd07c9",
   "metadata": {},
   "outputs": [],
   "source": [
    "# Importar paquete GEE\n",
    "import ee\n",
    "ee.Initialize()"
   ]
  },
  {
   "cell_type": "markdown",
   "id": "65065283-ced6-4180-96c0-bcf054b7bb8f",
   "metadata": {},
   "source": [
    "## Filtro zona estudio mediante GEE"
   ]
  },
  {
   "cell_type": "code",
   "execution_count": 3,
   "id": "416f5e77-d5b1-4b9c-9354-2b11acf250e1",
   "metadata": {},
   "outputs": [],
   "source": [
    "# Agregar un shp GEE\n",
    "ee_zona = ee.FeatureCollection(\"users/bravomoralesnino/SHP/ZONA_19S\")"
   ]
  },
  {
   "cell_type": "code",
   "execution_count": 4,
   "id": "d18c0d17-30f4-45e9-8240-21d166551caa",
   "metadata": {},
   "outputs": [
    {
     "data": {
      "text/plain": [
       "'E:\\\\Teledeteccion_GEE\\\\Python\\\\Datos_Espaciales\\\\SHP'"
      ]
     },
     "execution_count": 4,
     "metadata": {},
     "output_type": "execute_result"
    }
   ],
   "source": [
    "# Importar geemap\n",
    "import geemap\n",
    "Map = geemap.Map(basemap='SATELLITE')"
   ]
  },
  {
   "cell_type": "code",
   "execution_count": 5,
   "id": "8fd5bd8a-1a6c-4154-8d10-e32cde28c6bb",
   "metadata": {},
   "outputs": [],
   "source": [
    "# Visualizar en mapa\n",
    "geometria = ee_zona.geometry()\n",
    "Map.centerObject(geometria, 11)\n",
    "Map.addLayer(ee_zona, {\"color\" : \"00FF11\"}, name = \"Zona\")\n",
    "Map"
   ]
  },
  {
   "cell_type": "markdown",
   "id": "097579d2-fab2-4969-a8e2-0c8e233ab65b",
   "metadata": {},
   "source": [
    "## Coleccion de Landsat 8 OLI TIRS RS"
   ]
  },
  {
   "cell_type": "code",
   "execution_count": 8,
   "id": "1a49e415-445a-4d8c-bcb6-56f2d7391157",
   "metadata": {},
   "outputs": [],
   "source": [
    "L8_RS = ee.ImageCollection(\"LANDSAT/LC08/C01/T1_SR\")\\\n",
    "          .filterDate('2019-01-01','2019-12-31')\\\n",
    "          .filterMetadata('CLOUD_COVER','less_than',20)\\\n",
    "          .filterBounds(ee_zona)"
   ]
  },
  {
   "cell_type": "code",
   "execution_count": 9,
   "id": "96be3ae0-4a2d-43f8-9b3b-df484d45ab0b",
   "metadata": {},
   "outputs": [
    {
     "name": "stdout",
     "output_type": "stream",
     "text": [
      "Cantidad de imagenes L8_RS: 4\n"
     ]
    }
   ],
   "source": [
    "# Conteo de imagenes\n",
    "count = L8_RS.size().getInfo()\n",
    "print(\"Cantidad de imagenes L8_RS:\", count)"
   ]
  },
  {
   "cell_type": "markdown",
   "id": "7c8d6784-6552-421d-87ce-3626b273235f",
   "metadata": {},
   "source": [
    "## Obtener ID, Fecha, nubosidad, Path y Row"
   ]
  },
  {
   "cell_type": "code",
   "execution_count": 10,
   "id": "025124a8-dd7d-405e-bde9-14bda2da2f61",
   "metadata": {},
   "outputs": [
    {
     "name": "stdout",
     "output_type": "stream",
     "text": [
      "['LC08_003069_20190621', 'LC08_003069_20190808', 'LC08_003069_20190824', 'LC08_003069_20190925']\n"
     ]
    }
   ],
   "source": [
    "# Imprimir la lista de ID Imagenes\n",
    "ID_L8 = L8_RS.reduceColumns(ee.Reducer.toList(),[\"system:index\"]).get(\"list\").getInfo()\n",
    "print(ID_L8)"
   ]
  },
  {
   "cell_type": "code",
   "execution_count": 11,
   "id": "0a834f11-70fd-41a6-946d-590aa7da1160",
   "metadata": {},
   "outputs": [],
   "source": [
    "def list_coll(coll):\n",
    "    def func_ejv(im):\n",
    "        return ee.String(ee.Image(im).date().format('YYYY/MM/dd')).slice(0)\n",
    "    return coll.toList(coll.size(), 0).map(func_ejv)"
   ]
  },
  {
   "cell_type": "code",
   "execution_count": 12,
   "id": "a5a6d6c2-ad9d-4961-86f1-caeae3f99460",
   "metadata": {},
   "outputs": [
    {
     "name": "stdout",
     "output_type": "stream",
     "text": [
      "['2019/06/21', '2019/08/08', '2019/08/24', '2019/09/25']\n"
     ]
    }
   ],
   "source": [
    "fecha = list_coll(L8_RS).getInfo()\n",
    "print(fecha)"
   ]
  },
  {
   "cell_type": "code",
   "execution_count": 13,
   "id": "866a2f06-bfd6-4b77-a6ac-0cec605200f0",
   "metadata": {},
   "outputs": [
    {
     "name": "stdout",
     "output_type": "stream",
     "text": [
      "[11.9, 1.1, 17.97, 5.46]\n"
     ]
    }
   ],
   "source": [
    "# Imprimir la lista Porcentaje Nubosidad\n",
    "porcentaje_nube = L8_RS.reduceColumns(ee.Reducer.toList(),[\"CLOUD_COVER\"]).get(\"list\").getInfo()\n",
    "print(porcentaje_nube)"
   ]
  },
  {
   "cell_type": "code",
   "execution_count": 14,
   "id": "2e03062e-d6ea-4bc2-b842-ebf37ad7dbfc",
   "metadata": {},
   "outputs": [
    {
     "name": "stdout",
     "output_type": "stream",
     "text": [
      "[3, 3, 3, 3]\n",
      "[69, 69, 69, 69]\n"
     ]
    }
   ],
   "source": [
    "# Imprimir la lista Path y Row\n",
    "WRS_PATH = L8_RS.reduceColumns(ee.Reducer.toList(),[\"WRS_PATH\"]).get(\"list\").getInfo()\n",
    "WRS_ROW = L8_RS.reduceColumns(ee.Reducer.toList(),[\"WRS_ROW\"]).get(\"list\").getInfo()\n",
    "print(WRS_PATH)\n",
    "print(WRS_ROW)"
   ]
  },
  {
   "cell_type": "code",
   "execution_count": 15,
   "id": "a2b5d82c-d8ed-4d4a-bc54-d66143dcbfd2",
   "metadata": {},
   "outputs": [],
   "source": [
    "# Crear un diccionario con las listas\n",
    "dic = {\"ID\": ID_L8, \"Fecha\": fecha,\"Porcentaje Nube\": porcentaje_nube,\"PATH\": WRS_PATH,\"ROW\":WRS_ROW}"
   ]
  },
  {
   "cell_type": "code",
   "execution_count": 16,
   "id": "868ce6a1-ae96-4625-80ec-84ac35482ddc",
   "metadata": {},
   "outputs": [],
   "source": [
    "import pandas as pd"
   ]
  },
  {
   "cell_type": "code",
   "execution_count": 17,
   "id": "4cb5036f-ac0f-4432-99f2-cd21bdf573a6",
   "metadata": {},
   "outputs": [
    {
     "name": "stdout",
     "output_type": "stream",
     "text": [
      "                     ID       Fecha  Porcentaje Nube  PATH  ROW\n",
      "0  LC08_003069_20190621  2019/06/21            11.90     3   69\n",
      "1  LC08_003069_20190808  2019/08/08             1.10     3   69\n",
      "2  LC08_003069_20190824  2019/08/24            17.97     3   69\n",
      "3  LC08_003069_20190925  2019/09/25             5.46     3   69\n",
      "Tipo de clase:  <class 'dict'>\n"
     ]
    }
   ],
   "source": [
    "# Crear un DataFrame mediante el diccionario\n",
    "df1 = pd.DataFrame(data = dic)\n",
    "print(df1)\n",
    "print(\"Tipo de clase: \", type(dic))"
   ]
  },
  {
   "cell_type": "markdown",
   "id": "25b3e47b-c3a5-484d-ac69-794feeb95500",
   "metadata": {},
   "source": [
    "## Exportar tabla ID, Fecha, Porcentaje Nubosidad"
   ]
  },
  {
   "cell_type": "code",
   "execution_count": null,
   "id": "7893ae17-afb2-45dc-85f9-5c3913dd1689",
   "metadata": {},
   "outputs": [],
   "source": [
    "ruta_archivos = r\"E:\\Teledeteccion_GEE\\Python\\Datos_Espaciales\\Resultado_GEE\"\n",
    "os.chdir(ruta_archivos) # Cambiar ruta trabajo\n",
    "os.getcwd() # Consultar ruta trabajo"
   ]
  },
  {
   "cell_type": "code",
   "execution_count": null,
   "id": "befa5b90-7b7a-45c4-be5f-66091d479d10",
   "metadata": {},
   "outputs": [],
   "source": [
    "df1.to_csv(\"file_name.csv\") # relative position"
   ]
  },
  {
   "cell_type": "markdown",
   "id": "9331af65-057e-49f5-8d18-9282e20e38fc",
   "metadata": {},
   "source": [
    "## Seleccion imagen Landsat 8"
   ]
  },
  {
   "cell_type": "code",
   "execution_count": 20,
   "id": "44fe02dd-b176-4eae-bc1d-b2a10efd880d",
   "metadata": {},
   "outputs": [
    {
     "data": {
      "text/plain": [
       "'LC08_003069_20190808'"
      ]
     },
     "execution_count": 20,
     "metadata": {},
     "output_type": "execute_result"
    }
   ],
   "source": [
    "ID_L8[1]"
   ]
  },
  {
   "cell_type": "code",
   "execution_count": 18,
   "id": "8e4acf61-c36b-4051-9ebb-3fbbd124b7ad",
   "metadata": {},
   "outputs": [],
   "source": [
    "# Importar imagen Landsat 8 RS \n",
    "image = ee.Image(\"LANDSAT/LC08/C01/T1_SR\" + \"/\" + ID_L8[1])"
   ]
  },
  {
   "cell_type": "code",
   "execution_count": 13,
   "id": "6937a8c4-2aaf-411f-98f0-f252e074eb6d",
   "metadata": {},
   "outputs": [
    {
     "name": "stdout",
     "output_type": "stream",
     "text": [
      "['B1', 'B2', 'B3', 'B4', 'B5', 'B6', 'B7', 'B10', 'B11', 'sr_aerosol', 'pixel_qa', 'radsat_qa']\n"
     ]
    }
   ],
   "source": [
    "# Nombre de las bandas\n",
    "print(image.bandNames().getInfo())"
   ]
  },
  {
   "cell_type": "markdown",
   "id": "c06d6f11-f564-414d-ba03-97f59ff4c0a6",
   "metadata": {},
   "source": [
    "## Seleccionar Bandas"
   ]
  },
  {
   "cell_type": "code",
   "execution_count": 14,
   "id": "190e9be0-1d3c-461d-9a93-0985abeb0f33",
   "metadata": {},
   "outputs": [],
   "source": [
    "# Crear nombre por bandas\n",
    "bandas_RS = [\"B2\",\"B3\",\"B4\",\"B5\",\"B6\",\"B7\"]\n",
    "bandas_TB = [\"B10\",\"B11\"]"
   ]
  },
  {
   "cell_type": "code",
   "execution_count": 15,
   "id": "276dfe58-02ae-4c78-955f-33788432c460",
   "metadata": {},
   "outputs": [],
   "source": [
    "# Seleccionar imagenes por bandas\n",
    "img_L8_RS = image.select(bandas_RS)\n",
    "img_L8_TB = image.select(bandas_TB)"
   ]
  },
  {
   "cell_type": "code",
   "execution_count": 16,
   "id": "ef805278-98f6-40c3-8d4f-ea6d25994d43",
   "metadata": {},
   "outputs": [
    {
     "name": "stdout",
     "output_type": "stream",
     "text": [
      "Banda RS: ['B2', 'B3', 'B4', 'B5', 'B6', 'B7']\n",
      "Banda TB: ['B10', 'B11']\n"
     ]
    }
   ],
   "source": [
    "# Nombre de las bandas\n",
    "print(\"Banda RS:\",img_L8_RS.bandNames().getInfo())\n",
    "print(\"Banda TB:\",img_L8_TB.bandNames().getInfo())"
   ]
  },
  {
   "cell_type": "markdown",
   "id": "4f8bc82c-bb3d-4336-9708-6076c02ddb57",
   "metadata": {},
   "source": [
    "## Verificar proyeccion"
   ]
  },
  {
   "cell_type": "code",
   "execution_count": 17,
   "id": "48340277-ac78-4164-854e-4c4113b815ec",
   "metadata": {},
   "outputs": [
    {
     "name": "stdout",
     "output_type": "stream",
     "text": [
      "Proyeccion RS: {'type': 'Projection', 'crs': 'EPSG:32619', 'transform': [30, 0, 228285, 0, -30, -1323285]}\n",
      "Proyeccion TB: {'type': 'Projection', 'crs': 'EPSG:32619', 'transform': [30, 0, 228285, 0, -30, -1323285]}\n"
     ]
    }
   ],
   "source": [
    "# Consultar Proyeccion\n",
    "print(\"Proyeccion RS:\",img_L8_RS.projection().getInfo())\n",
    "print(\"Proyeccion TB:\",img_L8_TB.projection().getInfo())"
   ]
  },
  {
   "cell_type": "markdown",
   "id": "bf231225-bdd0-4fb8-884a-94df0d4764f1",
   "metadata": {},
   "source": [
    "## Metadato landsat"
   ]
  },
  {
   "cell_type": "code",
   "execution_count": 18,
   "id": "62016def-d233-4c91-a2d3-fef03e2ec076",
   "metadata": {},
   "outputs": [
    {
     "data": {
      "text/plain": [
       "['IMAGE_QUALITY_TIRS',\n",
       " 'CLOUD_COVER',\n",
       " 'system:id',\n",
       " 'EARTH_SUN_DISTANCE',\n",
       " 'LANDSAT_ID',\n",
       " 'system:footprint',\n",
       " 'system:version',\n",
       " 'CLOUD_COVER_LAND',\n",
       " 'GEOMETRIC_RMSE_MODEL',\n",
       " 'SR_APP_VERSION',\n",
       " 'SATELLITE',\n",
       " 'SOLAR_AZIMUTH_ANGLE',\n",
       " 'IMAGE_QUALITY_OLI',\n",
       " 'system:time_end',\n",
       " 'WRS_PATH',\n",
       " 'system:time_start',\n",
       " 'SENSING_TIME',\n",
       " 'ESPA_VERSION',\n",
       " 'SOLAR_ZENITH_ANGLE',\n",
       " 'WRS_ROW',\n",
       " 'GEOMETRIC_RMSE_MODEL_Y',\n",
       " 'LEVEL1_PRODUCTION_DATE',\n",
       " 'GEOMETRIC_RMSE_MODEL_X',\n",
       " 'system:asset_size',\n",
       " 'PIXEL_QA_VERSION',\n",
       " 'system:index',\n",
       " 'system:bands',\n",
       " 'system:band_names']"
      ]
     },
     "execution_count": 18,
     "metadata": {},
     "output_type": "execute_result"
    }
   ],
   "source": [
    "# Nombres del Metadato\n",
    "img_L8_RS.propertyNames().getInfo()"
   ]
  },
  {
   "cell_type": "code",
   "execution_count": 19,
   "id": "a41f83c8-a7bf-434e-a60b-614e15a9a03c",
   "metadata": {},
   "outputs": [
    {
     "data": {
      "text/plain": [
       "1.014033"
      ]
     },
     "execution_count": 19,
     "metadata": {},
     "output_type": "execute_result"
    }
   ],
   "source": [
    "# Extraer valor metadato distancia del sol a tierra\n",
    "d = img_L8_RS.get(\"EARTH_SUN_DISTANCE\").getInfo()\n",
    "d"
   ]
  },
  {
   "cell_type": "code",
   "execution_count": 20,
   "id": "44657b73-ddda-49fc-a5d7-459269a8c0c8",
   "metadata": {},
   "outputs": [
    {
     "data": {
      "text/plain": [
       "41.700932"
      ]
     },
     "execution_count": 20,
     "metadata": {},
     "output_type": "execute_result"
    }
   ],
   "source": [
    "# Extraer angulo zenital solar\n",
    "SOLAR_ZENITH_ANGLE = img_L8_RS.get(\"SOLAR_ZENITH_ANGLE\").getInfo()\n",
    "SOLAR_ZENITH_ANGLE"
   ]
  },
  {
   "cell_type": "code",
   "execution_count": 21,
   "id": "82f21b8e-27e5-4dad-9136-0266f96657fb",
   "metadata": {},
   "outputs": [
    {
     "name": "stdout",
     "output_type": "stream",
     "text": [
      "Elevacion solar radianes: 0.8429777622446325\n"
     ]
    }
   ],
   "source": [
    "# Determinacion angulo elevacion solar radianes\n",
    "import math\n",
    "SUN_ELEVATION = 90 - SOLAR_ZENITH_ANGLE\n",
    "SUN_ELEVATION_R = SUN_ELEVATION*math.pi/180\n",
    "print(\"Elevacion solar radianes:\", SUN_ELEVATION_R)"
   ]
  },
  {
   "cell_type": "markdown",
   "id": "2a46129e-4c11-470f-9593-95f75d9b70a5",
   "metadata": {},
   "source": [
    "## Visualizar Landsat"
   ]
  },
  {
   "cell_type": "code",
   "execution_count": 26,
   "id": "9e795000-3216-44dd-9d2e-8652a5aa0e18",
   "metadata": {},
   "outputs": [],
   "source": [
    "# Simbologia estala 0 - 10000\n",
    "viz_RS = {\n",
    "    'bands': ['B6', 'B5', 'B4'],\n",
    "    'min': 250,\n",
    "    'max': 7000,\n",
    "    'gamma': 1.90\n",
    "}"
   ]
  },
  {
   "cell_type": "code",
   "execution_count": 23,
   "id": "18794940-efee-47d8-a35c-feef61a256c1",
   "metadata": {},
   "outputs": [],
   "source": [
    "# Importar geemap\n",
    "import geemap\n",
    "Map = geemap.Map(basemap='SATELLITE')"
   ]
  },
  {
   "cell_type": "code",
   "execution_count": 24,
   "id": "a5113f53-1f24-497c-a517-55b011f61da7",
   "metadata": {},
   "outputs": [],
   "source": [
    "# Convertir en Geometria\n",
    "geometria = ee_zona.geometry()\n",
    "Map.centerObject(geometria,8)"
   ]
  },
  {
   "cell_type": "code",
   "execution_count": 27,
   "id": "e1bf0774-e41e-4894-ba04-6668cf6d6bcb",
   "metadata": {},
   "outputs": [
    {
     "data": {
      "application/vnd.jupyter.widget-view+json": {
       "model_id": "4dce60547aa94217ae04890bbb47ba7a",
       "version_major": 2,
       "version_minor": 0
      },
      "text/plain": [
       "Map(bottom=35438.0, center=[-12.908744339809369, -69.99471735110599], controls=(WidgetControl(options=['positi…"
      ]
     },
     "metadata": {},
     "output_type": "display_data"
    }
   ],
   "source": [
    "# Visualizar ESCALADO 0 - 10000\n",
    "Map.addLayer(img_L8_RS, viz_RS,name = \"Landsat8 RS\")\n",
    "Map"
   ]
  },
  {
   "cell_type": "markdown",
   "id": "a09282d7-7df7-4808-baf6-36cbedc5161c",
   "metadata": {},
   "source": [
    "## Factor de escala Reflectancia Superficie"
   ]
  },
  {
   "cell_type": "code",
   "execution_count": 28,
   "id": "78f691d1-f326-44d4-88cf-3e38e2bf9dd8",
   "metadata": {},
   "outputs": [],
   "source": [
    "# Escalar la imagen Landsat 5 RS 0 - 1\n",
    "img_L8_RS_Es = img_L8_RS.multiply(0.0001)"
   ]
  },
  {
   "cell_type": "code",
   "execution_count": 29,
   "id": "8c1df10f-937d-426d-a6c2-ab2c02ac84cb",
   "metadata": {},
   "outputs": [],
   "source": [
    "# Simbologia estala 0 - 1\n",
    "viz_es = {\n",
    "    'bands': ['B6', 'B5', 'B4'],\n",
    "    'min': 0.1,\n",
    "    'max': 0.6,\n",
    "    'gamma': 1.6\n",
    "}"
   ]
  },
  {
   "cell_type": "code",
   "execution_count": 30,
   "id": "a8577911-9a2b-4fda-a6d7-a6d65a253d55",
   "metadata": {},
   "outputs": [
    {
     "data": {
      "application/vnd.jupyter.widget-view+json": {
       "model_id": "4dce60547aa94217ae04890bbb47ba7a",
       "version_major": 2,
       "version_minor": 0
      },
      "text/plain": [
       "Map(bottom=35438.0, center=[-12.908744339809369, -69.99471735110599], controls=(WidgetControl(options=['positi…"
      ]
     },
     "metadata": {},
     "output_type": "display_data"
    }
   ],
   "source": [
    "# Visualizar ESCALADO 0 - 1\n",
    "Map.addLayer(img_L8_RS_Es, viz_es,name = \"Landsat8 RS Escalado\")\n",
    "Map"
   ]
  },
  {
   "cell_type": "markdown",
   "id": "e10bdbe7-16ca-4a4e-921c-39fcb03b813e",
   "metadata": {},
   "source": [
    "## Factor de escala Temperatura Brillo"
   ]
  },
  {
   "cell_type": "code",
   "execution_count": 31,
   "id": "071986d7-12a9-43de-a06b-f0b1d569e62a",
   "metadata": {},
   "outputs": [],
   "source": [
    "# Escalar la imagen Landsat 8 TB convertir Kelvin a Celsius\n",
    "img_L8_TB_es = img_L8_TB.subtract(273.15).multiply(0.01)"
   ]
  },
  {
   "cell_type": "code",
   "execution_count": 32,
   "id": "1e03158d-035f-42e8-9967-5190f6158f6c",
   "metadata": {},
   "outputs": [],
   "source": [
    "# Crear su simbologia TB\n",
    "viz_tb = {\n",
    "    'palette': ['040274', '040281', '0502a3', '0502b8', '0502ce', '0502e6',\n",
    "                '0602ff', '235cb1', '307ef3', '269db1', '30c8e2', '32d3ef',\n",
    "                '3be285', '3ff38f', '86e26f', '3ae237', 'b5e22e', 'd6e21f',\n",
    "                'fff705', 'ffd611', 'ffb613', 'ff8b13', 'ff6e08', 'ff500d',\n",
    "                'ff0000', 'de0101', 'c21301', 'a71001', '911003'],\n",
    "    'min': 25,\n",
    "    'max': 28\n",
    "}"
   ]
  },
  {
   "cell_type": "code",
   "execution_count": 33,
   "id": "3786ea2f-1d59-4ae5-8f66-78b1bd10eab8",
   "metadata": {},
   "outputs": [
    {
     "data": {
      "application/vnd.jupyter.widget-view+json": {
       "model_id": "4dce60547aa94217ae04890bbb47ba7a",
       "version_major": 2,
       "version_minor": 0
      },
      "text/plain": [
       "Map(bottom=35457.0, center=[-13.009909963906498, -70.03234863281251], controls=(WidgetControl(options=['positi…"
      ]
     },
     "metadata": {},
     "output_type": "display_data"
    }
   ],
   "source": [
    "# Visualizacion temperatura brillo\n",
    "Map.addLayer(img_L8_TB_es.select([\"B10\"]), viz_tb,name = \"TB B10 Celsius\")\n",
    "Map"
   ]
  },
  {
   "cell_type": "markdown",
   "id": "4531f810-ff95-46fa-9736-07f960fefff7",
   "metadata": {},
   "source": [
    "## Reproyectar y recortar segun zona"
   ]
  },
  {
   "cell_type": "code",
   "execution_count": 34,
   "id": "478aace2-3be4-44a0-81ea-4535f31a987c",
   "metadata": {},
   "outputs": [],
   "source": [
    "# Reproyectar segun zona de estudio\n",
    "img_L8_TB_es = img_L8_TB_es.reproject(crs=\"EPSG:32719\", scale=30)\n",
    "img_L8_RS_Es = img_L8_RS_Es.reproject(crs=\"EPSG:32719\", scale=30)"
   ]
  },
  {
   "cell_type": "code",
   "execution_count": 35,
   "id": "0ef48f11-52ad-4432-86da-911a1a8e76bf",
   "metadata": {},
   "outputs": [],
   "source": [
    "# Recortar RS y TB\n",
    "img_L8_TB_es_clip = img_L8_TB_es.clip(ee_zona)\n",
    "img_L8_RS_Es_clip = img_L8_RS_Es.clip(ee_zona)"
   ]
  },
  {
   "cell_type": "code",
   "execution_count": 36,
   "id": "331b5b1f-d12b-4e62-aa9c-daa684ccd041",
   "metadata": {},
   "outputs": [
    {
     "name": "stdout",
     "output_type": "stream",
     "text": [
      "Proyeccion TB: {'type': 'Projection', 'crs': 'EPSG:32719', 'transform': [30, 0, 0, 0, -30, 0]}\n",
      "Proyeccion RS: {'type': 'Projection', 'crs': 'EPSG:32719', 'transform': [30, 0, 0, 0, -30, 0]}\n"
     ]
    }
   ],
   "source": [
    "# Consultar Proyeccion\n",
    "print(\"Proyeccion TB:\",img_L8_TB_es_clip.projection().getInfo())\n",
    "print(\"Proyeccion RS:\",img_L8_RS_Es_clip.projection().getInfo())"
   ]
  },
  {
   "cell_type": "code",
   "execution_count": 37,
   "id": "1d57372c-68b4-4617-8bc4-1be275ca4590",
   "metadata": {},
   "outputs": [
    {
     "data": {
      "text/plain": [
       "['B2', 'B3', 'B4', 'B5', 'B6', 'B7']"
      ]
     },
     "execution_count": 37,
     "metadata": {},
     "output_type": "execute_result"
    }
   ],
   "source": [
    "img_L8_RS_Es_clip.bandNames().getInfo()"
   ]
  },
  {
   "cell_type": "code",
   "execution_count": 38,
   "id": "6e178b38-9730-46e6-837d-a22eee918409",
   "metadata": {},
   "outputs": [
    {
     "data": {
      "application/vnd.jupyter.widget-view+json": {
       "model_id": "4dce60547aa94217ae04890bbb47ba7a",
       "version_major": 2,
       "version_minor": 0
      },
      "text/plain": [
       "Map(bottom=35457.0, center=[-13.009909963906498, -70.03234863281251], controls=(WidgetControl(options=['positi…"
      ]
     },
     "metadata": {},
     "output_type": "display_data"
    }
   ],
   "source": [
    "# Visualizacion TB y RS\n",
    "Map.addLayer(img_L8_TB_es_clip.select([\"B10\"]), viz_tb,name = \"TB B10 clip\")\n",
    "Map.addLayer(img_L8_RS_Es_clip, viz_es,name = \"L8 RS clip\")\n",
    "Map"
   ]
  },
  {
   "cell_type": "markdown",
   "id": "07f3b537-908e-4957-8ded-5b3b18e1264b",
   "metadata": {},
   "source": [
    "## Exportar Imagen calibrado"
   ]
  },
  {
   "cell_type": "code",
   "execution_count": 39,
   "id": "5b53554f-dca0-4fa4-87ff-79dafa8d003e",
   "metadata": {},
   "outputs": [
    {
     "data": {
      "text/plain": [
       "'E:\\\\Teledeteccion_GEE\\\\Python\\\\Datos_Espaciales\\\\SHP'"
      ]
     },
     "execution_count": 39,
     "metadata": {},
     "output_type": "execute_result"
    }
   ],
   "source": [
    "os.getcwd()"
   ]
  },
  {
   "cell_type": "code",
   "execution_count": 40,
   "id": "5964c522-8355-461f-b50d-96ed9803fffa",
   "metadata": {},
   "outputs": [
    {
     "data": {
      "text/plain": [
       "'E:\\\\Teledeteccion_GEE\\\\Python\\\\Datos_Espaciales\\\\Resultado_GEE'"
      ]
     },
     "execution_count": 40,
     "metadata": {},
     "output_type": "execute_result"
    }
   ],
   "source": [
    "ruta_archivos = r\"E:\\Teledeteccion_GEE\\Python\\Datos_Espaciales\\Resultado_GEE\"\n",
    "os.chdir(ruta_archivos) # Cambiar ruta trabajo\n",
    "os.getcwd() # Consultar ruta trabajo"
   ]
  },
  {
   "cell_type": "code",
   "execution_count": 41,
   "id": "d2f27961-f1fb-43be-8044-04e8982fd587",
   "metadata": {},
   "outputs": [
    {
     "name": "stdout",
     "output_type": "stream",
     "text": [
      "Generating URL ...\n",
      "Downloading data from https://earthengine.googleapis.com/v1alpha/projects/earthengine-legacy/thumbnails/6c7e29568c8bbfd974e16af6ec22025e-89dbdb522026c94fc57c1c6f2f65a03d:getPixels\n",
      "Please wait ...\n",
      "Data downloaded to E:\\Teledeteccion_GEE\\Python\\Datos_Espaciales\\Resultado_GEE\n"
     ]
    }
   ],
   "source": [
    "# Exportar imagen Temperatura de brillo B10 y B11\n",
    "geemap.ee_export_image(img_L8_TB_es_clip, filename=\"L8_TB_es_clip.tif\", scale=30, region=geometria, file_per_band=True)"
   ]
  },
  {
   "cell_type": "code",
   "execution_count": 42,
   "id": "c801c0e9-a2b3-41b7-ad74-bbf1ac6c1a9e",
   "metadata": {},
   "outputs": [
    {
     "name": "stdout",
     "output_type": "stream",
     "text": [
      "Generating URL ...\n",
      "Downloading data from https://earthengine.googleapis.com/v1alpha/projects/earthengine-legacy/thumbnails/6e180090aa3d28385ba8f20629ba417c-ddedd16d76247dbb1cf0ecefec000f55:getPixels\n",
      "Please wait ...\n",
      "Data downloaded to E:\\Teledeteccion_GEE\\Python\\Datos_Espaciales\\Resultado_GEE\\L8_RS_Es_clip.tif\n"
     ]
    }
   ],
   "source": [
    "# Exportar imagen Reflectancia superficie B654\n",
    "geemap.ee_export_image(img_L8_RS_Es_clip.select([\"B6\",\"B5\",\"B4\"]), filename=\"L8_RS_Es_clip.tif\", scale=30, region=geometria, file_per_band=False)"
   ]
  },
  {
   "cell_type": "code",
   "execution_count": 43,
   "id": "f6b93b31-1379-4ded-8f96-c6982563c864",
   "metadata": {},
   "outputs": [
    {
     "name": "stdout",
     "output_type": "stream",
     "text": [
      "Exporting L8_RS_Es_clip ...\n"
     ]
    }
   ],
   "source": [
    "# Exportar en google drive\n",
    "geemap.ee_export_image_to_drive(img_L8_RS_Es_clip, description='L8_RS_Es_clip', folder='GEE_Python', region=geometria, scale=30)"
   ]
  }
 ],
 "metadata": {
  "kernelspec": {
   "display_name": "Python 3",
   "language": "python",
   "name": "python3"
  },
  "language_info": {
   "codemirror_mode": {
    "name": "ipython",
    "version": 3
   },
   "file_extension": ".py",
   "mimetype": "text/x-python",
   "name": "python",
   "nbconvert_exporter": "python",
   "pygments_lexer": "ipython3",
   "version": "3.7.10"
  }
 },
 "nbformat": 4,
 "nbformat_minor": 5
}
