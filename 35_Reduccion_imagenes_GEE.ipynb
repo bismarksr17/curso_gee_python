{
 "cells": [
  {
   "cell_type": "markdown",
   "id": "764989dd-c065-4b11-851f-40b3e2ba4494",
   "metadata": {},
   "source": [
    "# Reduccion de imagen google Earth Engine"
   ]
  },
  {
   "cell_type": "code",
   "execution_count": 1,
   "id": "78e5f79f-f448-4979-9e51-2a47ee9168ce",
   "metadata": {},
   "outputs": [],
   "source": [
    "# Importar GEE\n",
    "import ee\n",
    "ee.Initialize()"
   ]
  },
  {
   "cell_type": "markdown",
   "id": "b7dedbdf-2b76-48bc-b825-1af293b6f9d9",
   "metadata": {},
   "source": [
    "## Filtro zona estudio mediante GEE"
   ]
  },
  {
   "cell_type": "code",
   "execution_count": 2,
   "id": "7927fc3b-f7fc-43b3-8107-edca4b50a984",
   "metadata": {},
   "outputs": [],
   "source": [
    "# Agregar shp cuenca\n",
    "cuenca = ee.FeatureCollection(\"users/bravomoralesnino/SHP/Cuenca\")"
   ]
  },
  {
   "cell_type": "code",
   "execution_count": 3,
   "id": "74a749e0-d993-4d1b-bf8d-fc647bff5afa",
   "metadata": {},
   "outputs": [],
   "source": [
    "# Importar geemap\n",
    "import geemap\n",
    "Map = geemap.Map(basemap='SATELLITE')"
   ]
  },
  {
   "cell_type": "code",
   "execution_count": 8,
   "id": "ac2ce1d5-bb23-4b73-a52d-9c90deb69e00",
   "metadata": {},
   "outputs": [],
   "source": [
    "geometria = cuenca.geometry()\n",
    "Map.centerObject(geometria, 8)"
   ]
  },
  {
   "cell_type": "code",
   "execution_count": 5,
   "id": "9db59c3d-accb-4e22-a368-15ec8e71be58",
   "metadata": {},
   "outputs": [
    {
     "data": {
      "application/vnd.jupyter.widget-view+json": {
       "model_id": "060f9f75b8084c7c82e6773e8e1aa98e",
       "version_major": 2,
       "version_minor": 0
      },
      "text/plain": [
       "Map(center=[-13.822942378556581, -71.5432582449152], controls=(WidgetControl(options=['position', 'transparent…"
      ]
     },
     "metadata": {},
     "output_type": "display_data"
    }
   ],
   "source": [
    "Map.addLayer(cuenca, {\"color\" : \"00FF11\"},name = \"Cuenca\")\n",
    "Map"
   ]
  },
  {
   "cell_type": "markdown",
   "id": "749cc1b6-b808-423f-8b30-5e5fe4548806",
   "metadata": {},
   "source": [
    "## Coleccion Landsat 8 RS"
   ]
  },
  {
   "cell_type": "code",
   "execution_count": 44,
   "id": "a83bd689-ca67-4b63-b9d7-48977412234c",
   "metadata": {},
   "outputs": [],
   "source": [
    "# Coleccion de Landsat 8 OLI TIRS RS\n",
    "L8_RS = ee.ImageCollection('LANDSAT/LC08/C01/T1_SR')\\\n",
    "            .filterDate('2019-01-01','2019-12-31')\\\n",
    "            .filterMetadata('CLOUD_COVER','less_than',50)\\\n",
    "            .filterBounds(cuenca)\\\n",
    "            .select(\"B2\",\"B3\",\"B4\",\"B5\",\"B6\",\"B7\")"
   ]
  },
  {
   "cell_type": "code",
   "execution_count": 45,
   "id": "193fa9fa-38ed-4fd5-8c79-618c36459e46",
   "metadata": {},
   "outputs": [
    {
     "name": "stdout",
     "output_type": "stream",
     "text": [
      "Cantidad de imagenes L8_RS: 40\n"
     ]
    }
   ],
   "source": [
    "# Conteo de imagenes\n",
    "count = L8_RS.size()\n",
    "print(\"Cantidad de imagenes L8_RS:\", count.getInfo())"
   ]
  },
  {
   "cell_type": "code",
   "execution_count": 18,
   "id": "e5985364-5a7f-421c-b891-9b78b98b9c21",
   "metadata": {},
   "outputs": [
    {
     "name": "stdout",
     "output_type": "stream",
     "text": [
      "['LC08_003069_20190808', 'LC08_003069_20190925', 'LC08_003070_20190520', 'LC08_003070_20190605', 'LC08_003070_20190621', 'LC08_003070_20190707', 'LC08_003070_20190808', 'LC08_003070_20190925', 'LC08_003070_20191011', 'LC08_004069_20190527', 'LC08_004070_20190527', 'LC08_004070_20190612', 'LC08_004070_20190714', 'LC08_004070_20190730', 'LC08_004070_20190815', 'LC08_004070_20190831']\n"
     ]
    }
   ],
   "source": [
    "# Imprimir la lista de ID Imagenes\n",
    "ID_L8_RS = L8_RS.reduceColumns(ee.Reducer.toList(),[\"system:index\"]).get(\"list\").getInfo()\n",
    "print(ID_L8_RS)"
   ]
  },
  {
   "cell_type": "code",
   "execution_count": 12,
   "id": "cc6f818e-73a3-4c24-bbb0-d6d19ff7813a",
   "metadata": {},
   "outputs": [],
   "source": [
    "# Simbologia estala 0 - 10000\n",
    "viz_RS = {\n",
    "    'min': 200,\n",
    "    'max': 7000,\n",
    "    'bands': ['B6','B5','B4']\n",
    "}"
   ]
  },
  {
   "cell_type": "markdown",
   "id": "6f9c03cc-54b7-4234-913e-c510e0fa332f",
   "metadata": {},
   "source": [
    "## Reduccion Mosaico"
   ]
  },
  {
   "cell_type": "code",
   "execution_count": 20,
   "id": "b73526fe-7fac-4b57-ae52-ea6b8fc6d781",
   "metadata": {},
   "outputs": [],
   "source": [
    "# Reduccion Mosaico\n",
    "Reduc_Mosaic = L8_RS.mosaic()"
   ]
  },
  {
   "cell_type": "code",
   "execution_count": 21,
   "id": "f5c3eca1-e164-4625-8530-8c3134176a7d",
   "metadata": {},
   "outputs": [
    {
     "data": {
      "application/vnd.jupyter.widget-view+json": {
       "model_id": "060f9f75b8084c7c82e6773e8e1aa98e",
       "version_major": 2,
       "version_minor": 0
      },
      "text/plain": [
       "Map(bottom=70679.00003051758, center=[-13.183793930804562, -70.12710571289064], controls=(WidgetControl(option…"
      ]
     },
     "metadata": {},
     "output_type": "display_data"
    }
   ],
   "source": [
    "# Visualizar \n",
    "Map.addLayer(Reduc_Mosaic, viz_RS, name = \"Reduc_Mosaic\")\n",
    "Map"
   ]
  },
  {
   "cell_type": "markdown",
   "id": "cd0e1d2e-2ceb-4aa3-9bb2-2fb77dec5e5a",
   "metadata": {},
   "source": [
    "## Reduccion median "
   ]
  },
  {
   "cell_type": "code",
   "execution_count": 46,
   "id": "8f5f8789-ff20-4b34-9ed7-15608b7993bd",
   "metadata": {},
   "outputs": [],
   "source": [
    "# Reduccion median - Nubosidad menor\n",
    "Reduc_median = L8_RS.median()"
   ]
  },
  {
   "cell_type": "code",
   "execution_count": 47,
   "id": "db6f219b-e760-47d3-80c3-7ac91063efcf",
   "metadata": {},
   "outputs": [
    {
     "data": {
      "application/vnd.jupyter.widget-view+json": {
       "model_id": "060f9f75b8084c7c82e6773e8e1aa98e",
       "version_major": 2,
       "version_minor": 0
      },
      "text/plain": [
       "Map(bottom=70962.40002441406, center=[-13.939398640275055, -71.03622436523439], controls=(WidgetControl(option…"
      ]
     },
     "metadata": {},
     "output_type": "display_data"
    }
   ],
   "source": [
    "# Visualizar \n",
    "Map.addLayer(Reduc_median, viz_RS, name = \"Reduc_median\")\n",
    "Map"
   ]
  },
  {
   "cell_type": "markdown",
   "id": "4177b7ee-2a11-44d4-868b-babe8420484a",
   "metadata": {},
   "source": [
    "## Reduccion mean"
   ]
  },
  {
   "cell_type": "code",
   "execution_count": 24,
   "id": "8d0f7d24-c766-4e52-b24f-f4db2ca50a2b",
   "metadata": {},
   "outputs": [],
   "source": [
    "# Reduccion mean\n",
    "Reduc_mean = L8_RS.mean()"
   ]
  },
  {
   "cell_type": "code",
   "execution_count": 25,
   "id": "63445ba6-8b56-482e-9c1d-038432681729",
   "metadata": {},
   "outputs": [
    {
     "data": {
      "application/vnd.jupyter.widget-view+json": {
       "model_id": "060f9f75b8084c7c82e6773e8e1aa98e",
       "version_major": 2,
       "version_minor": 0
      },
      "text/plain": [
       "Map(bottom=17858.0, center=[-12.790374787613588, -69.85656738281251], controls=(WidgetControl(options=['positi…"
      ]
     },
     "metadata": {},
     "output_type": "display_data"
    }
   ],
   "source": [
    "# Visualizar \n",
    "Map.addLayer(Reduc_mean, viz_RS, name = \"Reduc_mean\")\n",
    "Map"
   ]
  },
  {
   "cell_type": "markdown",
   "id": "88b0a1f9-784a-449c-b767-ebf2adb8b25b",
   "metadata": {},
   "source": [
    "## Reduccion max"
   ]
  },
  {
   "cell_type": "code",
   "execution_count": 26,
   "id": "31bf08fe-f5fb-4602-bc86-81a01ffd1d40",
   "metadata": {},
   "outputs": [],
   "source": [
    "# Reduccion max\n",
    "Reduc_max = L8_RS.max()"
   ]
  },
  {
   "cell_type": "code",
   "execution_count": 27,
   "id": "2be427e1-3f1d-4fee-9b4a-69c868219892",
   "metadata": {},
   "outputs": [
    {
     "data": {
      "application/vnd.jupyter.widget-view+json": {
       "model_id": "060f9f75b8084c7c82e6773e8e1aa98e",
       "version_major": 2,
       "version_minor": 0
      },
      "text/plain": [
       "Map(bottom=35641.399993896484, center=[-13.992706438658548, -71.01287841796876], controls=(WidgetControl(optio…"
      ]
     },
     "metadata": {},
     "output_type": "display_data"
    }
   ],
   "source": [
    "# Visualizar \n",
    "Map.addLayer(Reduc_max, viz_RS, name = \"Reduc_max\")\n",
    "Map"
   ]
  },
  {
   "cell_type": "markdown",
   "id": "90b998bf-4d0a-4e53-a96e-94f1e95d5fc4",
   "metadata": {},
   "source": [
    "## Reduccion min"
   ]
  },
  {
   "cell_type": "code",
   "execution_count": 28,
   "id": "262b9a56-027c-46d1-a69f-c94aa88f5cc8",
   "metadata": {},
   "outputs": [],
   "source": [
    "# Reduccion min\n",
    "Reduc_min = L8_RS.min()"
   ]
  },
  {
   "cell_type": "code",
   "execution_count": 29,
   "id": "ff07bbff-0453-4f37-ad87-d4242845c6e9",
   "metadata": {},
   "outputs": [
    {
     "data": {
      "application/vnd.jupyter.widget-view+json": {
       "model_id": "060f9f75b8084c7c82e6773e8e1aa98e",
       "version_major": 2,
       "version_minor": 0
      },
      "text/plain": [
       "Map(bottom=70880.0, center=[-13.720708401412056, -70.44296264648439], controls=(WidgetControl(options=['positi…"
      ]
     },
     "metadata": {},
     "output_type": "display_data"
    }
   ],
   "source": [
    "# Visualizar \n",
    "Map.addLayer(Reduc_min, viz_RS, name = \"Reduc_min\")\n",
    "Map"
   ]
  },
  {
   "cell_type": "markdown",
   "id": "a4a9251f-19bc-4fc1-9b1a-d170f6fb44d0",
   "metadata": {},
   "source": [
    "## Reduccion mode"
   ]
  },
  {
   "cell_type": "code",
   "execution_count": 30,
   "id": "b5987c33-d15f-4d49-a912-70ced6cd73cd",
   "metadata": {},
   "outputs": [],
   "source": [
    "# Reduccion mode\n",
    "Reduc_mode = L8_RS.mode()"
   ]
  },
  {
   "cell_type": "code",
   "execution_count": 31,
   "id": "89966796-5c7a-4ca9-82bb-f50b49ccd106",
   "metadata": {},
   "outputs": [
    {
     "data": {
      "application/vnd.jupyter.widget-view+json": {
       "model_id": "060f9f75b8084c7c82e6773e8e1aa98e",
       "version_major": 2,
       "version_minor": 0
      },
      "text/plain": [
       "Map(bottom=70834.0, center=[-13.597939005012236, -71.40975952148439], controls=(WidgetControl(options=['positi…"
      ]
     },
     "metadata": {},
     "output_type": "display_data"
    }
   ],
   "source": [
    "# Visualizar \n",
    "Map.addLayer(Reduc_mode, viz_RS, name = \"Reduc_mode\")\n",
    "Map"
   ]
  },
  {
   "cell_type": "markdown",
   "id": "1af49d1d-5380-4f62-9ae8-d330aa0e9683",
   "metadata": {},
   "source": [
    "## Reduccion stdDev"
   ]
  },
  {
   "cell_type": "code",
   "execution_count": 32,
   "id": "883b95d9-a5ee-488e-b0fc-356e172a65fe",
   "metadata": {},
   "outputs": [],
   "source": [
    "# Reduccion stdDev\n",
    "Reduc_stdDev = L8_RS.reduce(ee.Reducer.stdDev())"
   ]
  },
  {
   "cell_type": "code",
   "execution_count": 33,
   "id": "efd0582a-2f8b-4931-b20e-4d6d68aadef5",
   "metadata": {},
   "outputs": [
    {
     "name": "stdout",
     "output_type": "stream",
     "text": [
      "['B2_stdDev', 'B3_stdDev', 'B4_stdDev', 'B5_stdDev', 'B6_stdDev', 'B7_stdDev']\n"
     ]
    }
   ],
   "source": [
    "# Nombre de las bandas\n",
    "print(Reduc_stdDev.bandNames().getInfo())"
   ]
  },
  {
   "cell_type": "code",
   "execution_count": 34,
   "id": "24aaaa6e-4d72-4031-9de7-a5f4bd5820c5",
   "metadata": {},
   "outputs": [],
   "source": [
    "# Simbologia estala 0 - 10000\n",
    "viz_dst = {\n",
    "    'min': 200,\n",
    "    'max': 7000,\n",
    "    'bands': ['B6_stdDev','B5_stdDev', 'B4_stdDev']\n",
    "}"
   ]
  },
  {
   "cell_type": "code",
   "execution_count": 35,
   "id": "0ce3c61a-e886-4783-a148-95e18fcae9c5",
   "metadata": {},
   "outputs": [
    {
     "data": {
      "application/vnd.jupyter.widget-view+json": {
       "model_id": "060f9f75b8084c7c82e6773e8e1aa98e",
       "version_major": 2,
       "version_minor": 0
      },
      "text/plain": [
       "Map(bottom=70950.0, center=[-13.907408048156961, -71.47293090820314], controls=(WidgetControl(options=['positi…"
      ]
     },
     "metadata": {},
     "output_type": "display_data"
    }
   ],
   "source": [
    "# Visualizar \n",
    "Map.addLayer(Reduc_stdDev, viz_dst, name = \"Reduc_stdDev\")\n",
    "Map"
   ]
  },
  {
   "cell_type": "markdown",
   "id": "f9cc4e97-da77-41ae-87cc-33e62081835e",
   "metadata": {},
   "source": [
    "## Reduccion percentile25"
   ]
  },
  {
   "cell_type": "code",
   "execution_count": 48,
   "id": "62849331-89fe-4f11-a47b-5f2424a0a1a2",
   "metadata": {},
   "outputs": [],
   "source": [
    "# Reduccion percentile25\n",
    "Reduc_percentile25 = L8_RS.reduce(ee.Reducer.percentile([25]))"
   ]
  },
  {
   "cell_type": "code",
   "execution_count": 37,
   "id": "2a65d4a0-3d4a-47d4-951d-fcbf986d385c",
   "metadata": {},
   "outputs": [
    {
     "name": "stdout",
     "output_type": "stream",
     "text": [
      "['B2_p25', 'B3_p25', 'B4_p25', 'B5_p25', 'B6_p25', 'B7_p25']\n"
     ]
    }
   ],
   "source": [
    "# Nombre de las bandas\n",
    "print(Reduc_percentile25.bandNames().getInfo())"
   ]
  },
  {
   "cell_type": "code",
   "execution_count": 38,
   "id": "d472362d-10ea-44f6-8234-91852238385a",
   "metadata": {},
   "outputs": [],
   "source": [
    "# Simbologia estala 0 - 10000\n",
    "viz_per25 = {\n",
    "    'min': 200,\n",
    "    'max': 7000,\n",
    "    'bands': ['B6_p25','B5_p25', 'B4_p25']\n",
    "}"
   ]
  },
  {
   "cell_type": "code",
   "execution_count": 49,
   "id": "b3d165a0-f8bf-4d83-af45-3537dc588263",
   "metadata": {},
   "outputs": [
    {
     "data": {
      "application/vnd.jupyter.widget-view+json": {
       "model_id": "060f9f75b8084c7c82e6773e8e1aa98e",
       "version_major": 2,
       "version_minor": 0
      },
      "text/plain": [
       "Map(bottom=35493.20001220703, center=[-13.202512555455915, -70.34820556640626], controls=(WidgetControl(option…"
      ]
     },
     "metadata": {},
     "output_type": "display_data"
    }
   ],
   "source": [
    "# Visualizar \n",
    "Map.addLayer(Reduc_percentile25, viz_per25, name = \"Reduc_percentile25\")\n",
    "Map"
   ]
  },
  {
   "cell_type": "markdown",
   "id": "a1894c3a-e37c-41f7-b0e7-8e5767052229",
   "metadata": {},
   "source": [
    "## Reduccion percentile75"
   ]
  },
  {
   "cell_type": "code",
   "execution_count": 40,
   "id": "4c2b549d-ea06-442b-ad3c-562862e2b85b",
   "metadata": {},
   "outputs": [],
   "source": [
    "# Reduccion percentile75\n",
    "Reduc_percentile75 = L8_RS.reduce(ee.Reducer.percentile([75]))"
   ]
  },
  {
   "cell_type": "code",
   "execution_count": 41,
   "id": "6611c94e-0bc7-4af9-856c-42dd2e8db0e0",
   "metadata": {},
   "outputs": [
    {
     "name": "stdout",
     "output_type": "stream",
     "text": [
      "['B2_p75', 'B3_p75', 'B4_p75', 'B5_p75', 'B6_p75', 'B7_p75']\n"
     ]
    }
   ],
   "source": [
    "# Nombre de las bandas\n",
    "print(Reduc_percentile75.bandNames().getInfo())"
   ]
  },
  {
   "cell_type": "code",
   "execution_count": 42,
   "id": "98781125-71c9-4b83-b5b2-b3df4d5b81d6",
   "metadata": {},
   "outputs": [],
   "source": [
    "# Simbologia estala 0 - 10000\n",
    "viz_per75 = {\n",
    "    'min': 200,\n",
    "    'max': 7000,\n",
    "    'bands': ['B6_p75','B5_p75', 'B4_p75']\n",
    "}"
   ]
  },
  {
   "cell_type": "code",
   "execution_count": 43,
   "id": "de9336de-5f7d-4639-ae3c-83d22627e09d",
   "metadata": {},
   "outputs": [
    {
     "data": {
      "application/vnd.jupyter.widget-view+json": {
       "model_id": "060f9f75b8084c7c82e6773e8e1aa98e",
       "version_major": 2,
       "version_minor": 0
      },
      "text/plain": [
       "Map(bottom=140924.0, center=[-13.004557745339769, -70.96412658691408], controls=(WidgetControl(options=['posit…"
      ]
     },
     "metadata": {},
     "output_type": "display_data"
    }
   ],
   "source": [
    "# Visualizar \n",
    "Map.addLayer(Reduc_percentile75, viz_per75, name = \"Reduc_percentile75\")\n",
    "Map"
   ]
  }
 ],
 "metadata": {
  "kernelspec": {
   "display_name": "Python 3",
   "language": "python",
   "name": "python3"
  },
  "language_info": {
   "codemirror_mode": {
    "name": "ipython",
    "version": 3
   },
   "file_extension": ".py",
   "mimetype": "text/x-python",
   "name": "python",
   "nbconvert_exporter": "python",
   "pygments_lexer": "ipython3",
   "version": "3.7.10"
  }
 },
 "nbformat": 4,
 "nbformat_minor": 5
}
