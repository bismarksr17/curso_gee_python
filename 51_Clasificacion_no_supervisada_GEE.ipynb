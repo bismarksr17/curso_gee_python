{
 "cells": [
  {
   "cell_type": "markdown",
   "id": "35cdb095-1b6a-49dd-8d51-b884b171a82d",
   "metadata": {},
   "source": [
    "# Clasificacion no supervisada GEE "
   ]
  },
  {
   "cell_type": "code",
   "execution_count": 1,
   "id": "5b802fc5-53b3-4ff8-9a4b-635f559599e6",
   "metadata": {},
   "outputs": [],
   "source": [
    "# Importar paquete GEE\n",
    "import ee\n",
    "ee.Initialize()"
   ]
  },
  {
   "cell_type": "markdown",
   "id": "9bdf3e73-7b46-4ac4-882b-5c21ca88f5fe",
   "metadata": {},
   "source": [
    "## Filtro zona estudio mediante GEE"
   ]
  },
  {
   "cell_type": "code",
   "execution_count": 2,
   "id": "3475f990-c016-4ab5-a9f5-45e05fc1b27b",
   "metadata": {},
   "outputs": [],
   "source": [
    "# Agregar un shp GEE\n",
    "zona_ee = ee.FeatureCollection(\"users/bravomoralesnino/SHP/ZONA_19S\")"
   ]
  },
  {
   "cell_type": "code",
   "execution_count": 3,
   "id": "107ff022-b692-43a6-a80f-5c9fd873327e",
   "metadata": {},
   "outputs": [],
   "source": [
    "# Importar geemap\n",
    "import geemap\n",
    "Map = geemap.Map(basemap='ESRI')"
   ]
  },
  {
   "cell_type": "code",
   "execution_count": 4,
   "id": "b01fe798-1c4c-4a6e-bb56-5f7d54f62458",
   "metadata": {},
   "outputs": [],
   "source": [
    "geometria = zona_ee.geometry()\n",
    "Map.centerObject(geometria, 11)"
   ]
  },
  {
   "cell_type": "code",
   "execution_count": 5,
   "id": "c62af4bb-8cb3-41b5-b8e2-91c5f175435c",
   "metadata": {},
   "outputs": [
    {
     "data": {
      "application/vnd.jupyter.widget-view+json": {
       "model_id": "e1c55c559cc04aadb900895a5b4255c6",
       "version_major": 2,
       "version_minor": 0
      },
      "text/plain": [
       "Map(center=[-12.908744902436744, -69.9947155021359], controls=(WidgetControl(options=['position', 'transparent…"
      ]
     },
     "metadata": {},
     "output_type": "display_data"
    }
   ],
   "source": [
    "Map.addLayer(zona_ee, {\"color\" : \"00FF11\"},name = \"Zona estudio\")\n",
    "Map"
   ]
  },
  {
   "cell_type": "markdown",
   "id": "02d2fd5b-c1de-4045-881a-5d65cad16634",
   "metadata": {},
   "source": [
    "## Selección de imagen"
   ]
  },
  {
   "cell_type": "code",
   "execution_count": 6,
   "id": "9a7a5f5e-599c-4ca9-a6f8-6c7cd69883e9",
   "metadata": {},
   "outputs": [],
   "source": [
    "# Seleccionar una imagen Landsat8\n",
    "img_L8 = ee.Image(\"LANDSAT/LC08/C01/T1_SR/LC08_003069_20190808\")\\\n",
    "             .select(['B2', 'B3', 'B4', 'B5', 'B6', 'B7'],\n",
    "                     ['BLUE', 'GREEN', 'RED', 'NIR', 'SWIR1', 'SWIR2'])\\\n",
    "             .multiply(0.0001)\\\n",
    "             .clip(zona_ee)\\\n",
    "             .reproject(crs=\"EPSG:32719\", scale = 30)"
   ]
  },
  {
   "cell_type": "code",
   "execution_count": 7,
   "id": "da8df1af-5877-4b22-9dac-21d977034804",
   "metadata": {},
   "outputs": [
    {
     "data": {
      "text/plain": [
       "['BLUE', 'GREEN', 'RED', 'NIR', 'SWIR1', 'SWIR2']"
      ]
     },
     "execution_count": 7,
     "metadata": {},
     "output_type": "execute_result"
    }
   ],
   "source": [
    "# Nombre de las bandas\n",
    "img_L8.bandNames().getInfo()"
   ]
  },
  {
   "cell_type": "code",
   "execution_count": 8,
   "id": "e0811ba0-9374-4444-9d0f-a74e1b22900b",
   "metadata": {},
   "outputs": [],
   "source": [
    "# Simbologia escala 0 - 1\n",
    "viz_es = {\n",
    "    'bands': ['SWIR1','NIR','RED'],\n",
    "    'min': 0.1,\n",
    "    'max': 0.6,\n",
    "    'gamma': 1.6\n",
    "}"
   ]
  },
  {
   "cell_type": "code",
   "execution_count": 9,
   "id": "0090b943-6166-4359-83c5-791710f9c483",
   "metadata": {},
   "outputs": [
    {
     "data": {
      "application/vnd.jupyter.widget-view+json": {
       "model_id": "e1c55c559cc04aadb900895a5b4255c6",
       "version_major": 2,
       "version_minor": 0
      },
      "text/plain": [
       "Map(bottom=281405.0, center=[-12.908744902436744, -69.9947155021359], controls=(WidgetControl(options=['positi…"
      ]
     },
     "metadata": {},
     "output_type": "display_data"
    }
   ],
   "source": [
    "Map.addLayer(img_L8, viz_es,name = \"Landsat8 RS\")\n",
    "Map"
   ]
  },
  {
   "cell_type": "markdown",
   "id": "f55bf283-435a-41c0-8183-1b4a6f0e6505",
   "metadata": {},
   "source": [
    "## Entrenamiento ROI"
   ]
  },
  {
   "cell_type": "code",
   "execution_count": 10,
   "id": "e8566c64-766e-4c71-9f3d-7cfcb36827ba",
   "metadata": {},
   "outputs": [],
   "source": [
    "# Crear el conjunto de datos de entrenamiento\n",
    "Entrenamiento = img_L8.sample(region= geometria,\n",
    "                               scale = 30,\n",
    "                               numPixels = 1000) # puntos aleatorios mientras mas mejor"
   ]
  },
  {
   "cell_type": "markdown",
   "id": "32a44e61-a7a8-4b7a-8475-06e8e222d266",
   "metadata": {},
   "source": [
    "## Aplicar clasificación no supervisada"
   ]
  },
  {
   "cell_type": "code",
   "execution_count": 11,
   "id": "7bd72d22-65cf-4293-a856-67024fcbf463",
   "metadata": {},
   "outputs": [],
   "source": [
    "# Aplicar algoritmo k-mean y entrenarlo\n",
    "kmeans = ee.Clusterer.wekaKMeans(6).train(Entrenamiento) # 6 clases"
   ]
  },
  {
   "cell_type": "code",
   "execution_count": 12,
   "id": "bb75ce12-de24-4124-ac0b-4f363e28eb7a",
   "metadata": {},
   "outputs": [],
   "source": [
    "# Aplicar clasificacion\n",
    "class_kmeans = img_L8.cluster(kmeans)"
   ]
  },
  {
   "cell_type": "code",
   "execution_count": 13,
   "id": "42bae0ae-4535-411d-be18-4247725b8fc5",
   "metadata": {},
   "outputs": [
    {
     "data": {
      "text/plain": [
       "['cluster']"
      ]
     },
     "execution_count": 13,
     "metadata": {},
     "output_type": "execute_result"
    }
   ],
   "source": [
    "class_kmeans.bandNames().getInfo()"
   ]
  },
  {
   "cell_type": "code",
   "execution_count": 14,
   "id": "eb70cb20-0d81-44b8-97ab-a9a86dc99c2e",
   "metadata": {},
   "outputs": [],
   "source": [
    "# Simbologia estala 0 - 1\n",
    "viz_class = {\n",
    "    'bands': \"cluster\",\n",
    "    'min':0,\n",
    "    'max': 5,\n",
    "    'palette': [\"#ce731e\", \"#4def4d\",\n",
    "                \"#1731b5\", \"#1c6406\",\n",
    "                \"#dced1d\", \"#de0028\"]\n",
    "}"
   ]
  },
  {
   "cell_type": "code",
   "execution_count": 15,
   "id": "bcc7ea33-cc8d-42f3-b03e-23908c524735",
   "metadata": {},
   "outputs": [
    {
     "data": {
      "application/vnd.jupyter.widget-view+json": {
       "model_id": "e1c55c559cc04aadb900895a5b4255c6",
       "version_major": 2,
       "version_minor": 0
      },
      "text/plain": [
       "Map(bottom=281405.0, center=[-12.908744902436744, -69.9947155021359], controls=(WidgetControl(options=['positi…"
      ]
     },
     "metadata": {},
     "output_type": "display_data"
    }
   ],
   "source": [
    "Map.addLayer(class_kmeans, viz_class,name = \"L8 class_kmeans\")\n",
    "Map"
   ]
  },
  {
   "cell_type": "markdown",
   "id": "3ff0b6fe-bd9b-4f79-ab6d-381db248e4ac",
   "metadata": {},
   "source": [
    "## Exportar Imagen"
   ]
  },
  {
   "cell_type": "code",
   "execution_count": 16,
   "id": "6417430c-d182-4425-b44b-f4b746ca0b2f",
   "metadata": {},
   "outputs": [
    {
     "data": {
      "text/plain": [
       "'C:\\\\Users\\\\GEOMATICA\\\\Teledeteccion_Python\\\\GEE'"
      ]
     },
     "execution_count": 16,
     "metadata": {},
     "output_type": "execute_result"
    }
   ],
   "source": [
    "import os\n",
    "os.getcwd()"
   ]
  },
  {
   "cell_type": "code",
   "execution_count": 17,
   "id": "1bae6c77-242a-4a0a-a423-8bca21e8b469",
   "metadata": {},
   "outputs": [
    {
     "data": {
      "text/plain": [
       "'E:\\\\Teledeteccion_GEE\\\\Python\\\\Datos_Espaciales\\\\Resultado_GEE'"
      ]
     },
     "execution_count": 17,
     "metadata": {},
     "output_type": "execute_result"
    }
   ],
   "source": [
    "ruta_archivos = r\"E:\\Teledeteccion_GEE\\Python\\Datos_Espaciales\\Resultado_GEE\"\n",
    "os.chdir(ruta_archivos) # Cambiar ruta trabajo\n",
    "os.getcwd() # Consultar ruta trabajo"
   ]
  },
  {
   "cell_type": "code",
   "execution_count": 18,
   "id": "255dd5ed-168f-4adb-8bfe-8c1cfbf88a8d",
   "metadata": {},
   "outputs": [
    {
     "name": "stdout",
     "output_type": "stream",
     "text": [
      "Generating URL ...\n",
      "Downloading data from https://earthengine.googleapis.com/v1alpha/projects/earthengine-legacy/thumbnails/43faafbd90750e256a78ec712007d54d-0e248f216aa48df32b2b27b9f97c3122:getPixels\n",
      "Please wait ...\n",
      "Data downloaded to E:\\Teledeteccion_GEE\\Python\\Datos_Espaciales\\Resultado_GEE\\L8_class_kmeans.tif\n"
     ]
    }
   ],
   "source": [
    "# Exportar imagen directorio\n",
    "geemap.ee_export_image(class_kmeans, filename=\"L8_class_kmeans.tif\", scale=30, region=geometria, file_per_band=False)"
   ]
  },
  {
   "cell_type": "code",
   "execution_count": 19,
   "id": "59ded4e4-fba8-4bbf-9d12-7548ef12127b",
   "metadata": {},
   "outputs": [
    {
     "name": "stdout",
     "output_type": "stream",
     "text": [
      "Exporting L8_class_kmeans ...\n"
     ]
    }
   ],
   "source": [
    "# Exportar en google drive\n",
    "geemap.ee_export_image_to_drive(class_kmeans, description='L8_class_kmeans', folder='GEE_Python', region=geometria, scale=30)"
   ]
  },
  {
   "cell_type": "code",
   "execution_count": null,
   "id": "700da3d3-a7c9-444f-8557-2fd44c8e6e2e",
   "metadata": {},
   "outputs": [],
   "source": []
  },
  {
   "cell_type": "code",
   "execution_count": null,
   "id": "4ec792f7-6d5e-42db-bf68-b9274e2a105c",
   "metadata": {},
   "outputs": [],
   "source": []
  },
  {
   "cell_type": "code",
   "execution_count": null,
   "id": "ebfb52ec-66c3-45d1-ad84-7bb2c8e5c4f3",
   "metadata": {},
   "outputs": [],
   "source": []
  }
 ],
 "metadata": {
  "kernelspec": {
   "display_name": "Python 3",
   "language": "python",
   "name": "python3"
  },
  "language_info": {
   "codemirror_mode": {
    "name": "ipython",
    "version": 3
   },
   "file_extension": ".py",
   "mimetype": "text/x-python",
   "name": "python",
   "nbconvert_exporter": "python",
   "pygments_lexer": "ipython3",
   "version": "3.7.10"
  }
 },
 "nbformat": 4,
 "nbformat_minor": 5
}
