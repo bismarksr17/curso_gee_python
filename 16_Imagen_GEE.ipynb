{
 "cells": [
  {
   "cell_type": "markdown",
   "id": "e8f7e333-0d85-4409-9524-077ebc819c09",
   "metadata": {},
   "source": [
    "# Agregar Image google Earth Engine "
   ]
  },
  {
   "cell_type": "code",
   "execution_count": 1,
   "id": "a6b9dc4a-421d-4134-a2f4-b1e9059b6aeb",
   "metadata": {},
   "outputs": [],
   "source": [
    "# Importar paquete GEE\n",
    "import ee\n",
    "ee.Initialize()"
   ]
  },
  {
   "cell_type": "markdown",
   "id": "cbdca02a-5ea1-454d-924e-7d85dc383efc",
   "metadata": {},
   "source": [
    "## Agregar zona Pais"
   ]
  },
  {
   "cell_type": "code",
   "execution_count": 2,
   "id": "fef3c3a2-2e96-48ed-9881-cc46f336284f",
   "metadata": {},
   "outputs": [],
   "source": [
    "BOLIVIA = ee.FeatureCollection('USDOS/LSIB_SIMPLE/2017')\\\n",
    "             .filterMetadata('country_na', 'equals', 'Bolivia')"
   ]
  },
  {
   "cell_type": "code",
   "execution_count": 3,
   "id": "2db8c1a6-7bbd-409f-a230-0bfcecfae771",
   "metadata": {},
   "outputs": [],
   "source": [
    "import geemap\n",
    "Map = geemap.Map(basemap='ESRI')"
   ]
  },
  {
   "cell_type": "code",
   "execution_count": 4,
   "id": "f320ea9b-0fcc-40b8-b82d-b837772822bb",
   "metadata": {},
   "outputs": [
    {
     "data": {
      "application/vnd.jupyter.widget-view+json": {
       "model_id": "9a04ef5feb9f498e8cb8ce741cc7925e",
       "version_major": 2,
       "version_minor": 0
      },
      "text/plain": [
       "Map(center=[-16.68638579132066, -64.67577878939099], controls=(WidgetControl(options=['position', 'transparent…"
      ]
     },
     "metadata": {},
     "output_type": "display_data"
    }
   ],
   "source": [
    "# Visualizar el pais\n",
    "geometria = BOLIVIA.geometry()\n",
    "Map.centerObject(geometria,5)\n",
    "Map.addLayer(BOLIVIA, {\"color\" : \"00FF11\"},name = 'BOLIVIA')\n",
    "Map"
   ]
  },
  {
   "cell_type": "markdown",
   "id": "b20b2d2d-57fd-4db1-a60a-a167ee32ed28",
   "metadata": {},
   "source": [
    "## Agregar imagen SRTM V3 30m"
   ]
  },
  {
   "cell_type": "code",
   "execution_count": 5,
   "id": "0cb29797-7c6c-4fc9-b810-9a02efca4422",
   "metadata": {},
   "outputs": [],
   "source": [
    "srtm3 = ee.Image(\"USGS/SRTMGL1_003\")"
   ]
  },
  {
   "cell_type": "code",
   "execution_count": 6,
   "id": "64bc4195-b508-4e71-be4a-7e6dc9c3fe21",
   "metadata": {},
   "outputs": [],
   "source": [
    "# Simbologia\n",
    "viz = {\n",
    "    \"min\" : 0,\n",
    "    \"max\" : 4000,\n",
    "    \"palette\" : [\"#000000\",\"#5AAD5A\",\"#A9AD84\",\"#FFFFFF\"]\n",
    "}"
   ]
  },
  {
   "cell_type": "code",
   "execution_count": 7,
   "id": "8f57f7b4-a5fa-4d2d-bfd3-cc16e7db7ddf",
   "metadata": {},
   "outputs": [
    {
     "data": {
      "application/vnd.jupyter.widget-view+json": {
       "model_id": "9a04ef5feb9f498e8cb8ce741cc7925e",
       "version_major": 2,
       "version_minor": 0
      },
      "text/plain": [
       "Map(bottom=4839.399993896484, center=[-19.120257227963947, -62.16779991483993], controls=(WidgetControl(option…"
      ]
     },
     "metadata": {},
     "output_type": "display_data"
    }
   ],
   "source": [
    "Map.addLayer(srtm3, viz, name = 'SRTM')\n",
    "Map"
   ]
  },
  {
   "cell_type": "markdown",
   "id": "658bc145-7e4b-4c4c-8155-ad72afd3815a",
   "metadata": {},
   "source": [
    "## Recortar segun zona Pais"
   ]
  },
  {
   "cell_type": "code",
   "execution_count": 8,
   "id": "9f8829f7-d784-44c1-8295-b2a319d4f892",
   "metadata": {},
   "outputs": [],
   "source": [
    "# Recortar SRTM3 segun Bolivia\n",
    "srtm3_clip = srtm3.clip(BOLIVIA)"
   ]
  },
  {
   "cell_type": "code",
   "execution_count": 9,
   "id": "0efe57d7-079e-45e3-9eb7-3321fd3708e4",
   "metadata": {},
   "outputs": [
    {
     "data": {
      "application/vnd.jupyter.widget-view+json": {
       "model_id": "9a04ef5feb9f498e8cb8ce741cc7925e",
       "version_major": 2,
       "version_minor": 0
      },
      "text/plain": [
       "Map(bottom=853.0, center=[-14.26438308756265, -13.183593750000002], controls=(WidgetControl(options=['position…"
      ]
     },
     "metadata": {},
     "output_type": "display_data"
    }
   ],
   "source": [
    "Map.addLayer(srtm3_clip, viz, name = 'SRTM_clip')\n",
    "Map"
   ]
  },
  {
   "cell_type": "code",
   "execution_count": null,
   "id": "3bccdd1e-807c-4f48-b3a2-b15a5de9c290",
   "metadata": {},
   "outputs": [],
   "source": []
  }
 ],
 "metadata": {
  "kernelspec": {
   "display_name": "Python 3",
   "language": "python",
   "name": "python3"
  },
  "language_info": {
   "codemirror_mode": {
    "name": "ipython",
    "version": 3
   },
   "file_extension": ".py",
   "mimetype": "text/x-python",
   "name": "python",
   "nbconvert_exporter": "python",
   "pygments_lexer": "ipython3",
   "version": "3.7.10"
  }
 },
 "nbformat": 4,
 "nbformat_minor": 5
}
