{
 "cells": [
  {
   "cell_type": "markdown",
   "id": "d97044b0-6255-47a7-8d1d-b62df685febc",
   "metadata": {},
   "source": [
    "# Tipo datos Lista GEE"
   ]
  },
  {
   "cell_type": "markdown",
   "id": "40c4eb75-1432-4ec6-ad70-8f208f256876",
   "metadata": {},
   "source": [
    "Información de Lista en Google Earth Engine:\n",
    "https://developers.google.com/earth-engine/apidocs/ee-list\n"
   ]
  },
  {
   "cell_type": "code",
   "execution_count": 1,
   "id": "c918704e-96d9-435b-b4c8-17bc31538fda",
   "metadata": {},
   "outputs": [],
   "source": [
    "# Importar paquete GEE\n",
    "import ee\n",
    "ee.Initialize()"
   ]
  },
  {
   "cell_type": "markdown",
   "id": "bc3f924b-3b5e-4606-b488-a6a62e1ae602",
   "metadata": {},
   "source": [
    "## Lista en Python"
   ]
  },
  {
   "cell_type": "code",
   "execution_count": 2,
   "id": "2b815098-86aa-40f3-b193-188b2b855fcc",
   "metadata": {},
   "outputs": [],
   "source": [
    "# Lista en Python\n",
    "lista1 = [2, 4, 6, 8, 10, 12, 14, 16, 18, 20] # Crear vector numerico R\n",
    "lista2 = [\"ene\",\"feb\",\"mar\",\"abr\",\"may\"]  # Crear vector string en R"
   ]
  },
  {
   "cell_type": "code",
   "execution_count": 3,
   "id": "cfc04550-ca23-4153-bb24-c5a0cc5fa528",
   "metadata": {},
   "outputs": [
    {
     "data": {
      "text/plain": [
       "list"
      ]
     },
     "execution_count": 3,
     "metadata": {},
     "output_type": "execute_result"
    }
   ],
   "source": [
    "type(lista1)"
   ]
  },
  {
   "cell_type": "markdown",
   "id": "11fbc9a7-7d96-482f-9cf1-0ebd7ff9622d",
   "metadata": {},
   "source": [
    "## Lista en GEE"
   ]
  },
  {
   "cell_type": "markdown",
   "id": "d3bc1c2b-5e10-4d18-89e3-47077424f0ae",
   "metadata": {},
   "source": [
    "### Crear lista GEE"
   ]
  },
  {
   "cell_type": "code",
   "execution_count": 9,
   "id": "a5c747bf-eca8-4a69-a0ff-16135da56529",
   "metadata": {},
   "outputs": [],
   "source": [
    "# Convertir de vector a Lista en RGEE\n",
    "lista_ee1 = ee.List(lista1)\n",
    "lista_ee2 = ee.List(lista2)"
   ]
  },
  {
   "cell_type": "code",
   "execution_count": 10,
   "id": "3971906b-e729-48fb-b9f3-a7a29ddcd0fc",
   "metadata": {},
   "outputs": [
    {
     "data": {
      "text/plain": [
       "ee.ee_list.List"
      ]
     },
     "execution_count": 10,
     "metadata": {},
     "output_type": "execute_result"
    }
   ],
   "source": [
    "type(lista_ee1)"
   ]
  },
  {
   "cell_type": "code",
   "execution_count": 11,
   "id": "f4740e33-c4d0-4b00-9749-c172a6e2825d",
   "metadata": {},
   "outputs": [
    {
     "name": "stdout",
     "output_type": "stream",
     "text": [
      "Lista_ee1:  [2, 4, 6, 8, 10, 12, 14, 16, 18, 20]\n",
      "Lista_ee2:  ['ene', 'feb', 'mar', 'abr', 'may']\n"
     ]
    }
   ],
   "source": [
    "print(\"Lista_ee1: \",lista_ee1.getInfo())\n",
    "print(\"Lista_ee2: \",lista_ee2.getInfo())"
   ]
  },
  {
   "cell_type": "code",
   "execution_count": 17,
   "id": "6f6ce8b8-f94d-42bb-959d-9e01a59b7655",
   "metadata": {},
   "outputs": [
    {
     "name": "stdout",
     "output_type": "stream",
     "text": [
      "[10, 12, 14, 16, 18, 20, 22, 24, 26, 28, 30, 32, 34, 36, 38, 40, 42, 44, 46, 48, 50, 52, 54, 56, 58, 60, 62, 64, 66, 68, 70, 72, 74, 76, 78, 80, 82, 84, 86, 88, 90, 92, 94, 96, 98, 100]\n"
     ]
    }
   ],
   "source": [
    "# Crear lista de secuencias\n",
    "lista_ee3 = ee.List.sequence(10,100,2)\n",
    "print(lista_ee3.getInfo())"
   ]
  },
  {
   "cell_type": "markdown",
   "id": "d8edf035-5637-46d3-9644-d1462c8b8650",
   "metadata": {},
   "source": [
    "## Operaciones Lista"
   ]
  },
  {
   "cell_type": "markdown",
   "id": "c67211af-73ad-4bc0-9771-b5f57cd279a7",
   "metadata": {},
   "source": [
    "### Agregar elemento lista"
   ]
  },
  {
   "cell_type": "code",
   "execution_count": 23,
   "id": "18f02b7f-a78a-448f-96f4-2cc7c827b5ba",
   "metadata": {},
   "outputs": [
    {
     "name": "stdout",
     "output_type": "stream",
     "text": [
      "Lista1: [2, 4, 6, 8, 10, 12, 14, 16, 18, 20]\n",
      "Lista4: [2, 4, 6, 8, 10, 12, 14, 16, 18, 20, 100]\n"
     ]
    }
   ],
   "source": [
    "# Agrega el elemento al final de la lista\n",
    "lista_ee4 = lista_ee1.add(100)\n",
    "print(\"Lista1:\",lista_ee1.getInfo())\n",
    "print(\"Lista4:\",lista_ee4.getInfo())"
   ]
  },
  {
   "cell_type": "markdown",
   "id": "0b16973a-09b5-45e8-9c43-59f03e49dad6",
   "metadata": {},
   "source": [
    "### Concatenar unas listas"
   ]
  },
  {
   "cell_type": "code",
   "execution_count": 27,
   "id": "8dcb6ee5-307d-42b6-b105-6744c93516f5",
   "metadata": {},
   "outputs": [
    {
     "data": {
      "text/plain": [
       "[2, 4, 6, 8, 10, 12, 14, 16, 18, 20, 100, 200, 300, 400]"
      ]
     },
     "execution_count": 27,
     "metadata": {},
     "output_type": "execute_result"
    }
   ],
   "source": [
    "# Concatena dos listas\n",
    "lista_ee5 = lista_ee1.cat([100,200,300,400])\n",
    "lista_ee5.getInfo()"
   ]
  },
  {
   "cell_type": "markdown",
   "id": "d8a1ea18-878f-4970-9c82-13afc8ca1e58",
   "metadata": {},
   "source": [
    "### Busca elemento lista"
   ]
  },
  {
   "cell_type": "code",
   "execution_count": 34,
   "id": "939e69ee-f0b1-4c91-aa42-c5f24b834494",
   "metadata": {},
   "outputs": [
    {
     "data": {
      "text/plain": [
       "False"
      ]
     },
     "execution_count": 34,
     "metadata": {},
     "output_type": "execute_result"
    }
   ],
   "source": [
    "# Devuelve verdadero si la lista contiene un elemento\n",
    "lista_ee6 = lista_ee2.contains(\"dic\")\n",
    "lista_ee6.getInfo() # TRUE es verdadero"
   ]
  },
  {
   "cell_type": "markdown",
   "id": "2189d1a7-e02f-4392-8cb4-d8e5051cf94b",
   "metadata": {},
   "source": [
    "### Ubicación elemento segun index"
   ]
  },
  {
   "cell_type": "code",
   "execution_count": 42,
   "id": "8cbfaff5-304a-4269-9148-44f6f7e8acf8",
   "metadata": {},
   "outputs": [
    {
     "name": "stdout",
     "output_type": "stream",
     "text": [
      "[2, 4, 6, 8, 10, 12, 14, 16, 18, 20]\n",
      "10\n"
     ]
    }
   ],
   "source": [
    "# Devuelve el elemento en la posición especificada en la lista.\n",
    "lista_ee8 = lista_ee1.get(4) # orden 2 y si es negativo devuelve ultimo\n",
    "print(lista_ee1.getInfo())\n",
    "print(lista_ee8.getInfo())"
   ]
  },
  {
   "cell_type": "code",
   "execution_count": 21,
   "id": "7275b12e-be8a-4fbc-bd9c-1f350e0ec865",
   "metadata": {},
   "outputs": [
    {
     "name": "stdout",
     "output_type": "stream",
     "text": [
      "[2, 4, 6, 8, 10, 12, 14, 16, 18, 20]\n",
      "18\n"
     ]
    }
   ],
   "source": [
    "# Devuelve el elemento en la posición especificada en la lista.\n",
    "lista_ee8 = lista_ee1.get(-2) # orden 2 y si es negativo devuelve ultimo\n",
    "print(lista_ee1.getInfo())\n",
    "print(lista_ee8.getInfo())"
   ]
  },
  {
   "cell_type": "markdown",
   "id": "2afd25aa-94f3-435f-bfe9-6d3819c4134b",
   "metadata": {},
   "source": [
    "### Cantidad elemento lista"
   ]
  },
  {
   "cell_type": "code",
   "execution_count": 43,
   "id": "ba2062f6-d0ab-44a9-bff6-72e1fe5437e9",
   "metadata": {},
   "outputs": [
    {
     "data": {
      "text/plain": [
       "10"
      ]
     },
     "execution_count": 43,
     "metadata": {},
     "output_type": "execute_result"
    }
   ],
   "source": [
    "# Devuelve el número de elementos de la lista.\n",
    "longitud = lista_ee1.length()\n",
    "longitud.getInfo()"
   ]
  },
  {
   "cell_type": "code",
   "execution_count": null,
   "id": "f66b4442-1b65-43c2-bc0d-5ea8b8c3c704",
   "metadata": {},
   "outputs": [],
   "source": []
  }
 ],
 "metadata": {
  "kernelspec": {
   "display_name": "Python 3",
   "language": "python",
   "name": "python3"
  },
  "language_info": {
   "codemirror_mode": {
    "name": "ipython",
    "version": 3
   },
   "file_extension": ".py",
   "mimetype": "text/x-python",
   "name": "python",
   "nbconvert_exporter": "python",
   "pygments_lexer": "ipython3",
   "version": "3.7.10"
  }
 },
 "nbformat": 4,
 "nbformat_minor": 5
}
