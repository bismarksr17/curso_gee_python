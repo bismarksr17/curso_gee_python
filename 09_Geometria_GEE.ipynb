{
 "cells": [
  {
   "cell_type": "markdown",
   "id": "d65f434d-6eeb-4bc0-9890-e592a525eed8",
   "metadata": {},
   "source": [
    "# Tipo datos Geometria Google Earth Engine"
   ]
  },
  {
   "cell_type": "markdown",
   "id": "2da5f56d-9372-498f-a8e5-635ca52c892c",
   "metadata": {},
   "source": [
    "Información de datos de Geomatría GEE: https://developers.google.com/earth-engine/apidocs/ee-geometry\n"
   ]
  },
  {
   "cell_type": "code",
   "execution_count": 1,
   "id": "925820dc-6a44-457f-bdfd-6e3df1ea6c4e",
   "metadata": {},
   "outputs": [],
   "source": [
    "# Importar paquete GEE\n",
    "import ee\n",
    "ee.Initialize()"
   ]
  },
  {
   "cell_type": "markdown",
   "id": "466bb609-00c7-4ae4-bc95-bf3ac1ff068d",
   "metadata": {},
   "source": [
    "## Crear Geometría"
   ]
  },
  {
   "cell_type": "markdown",
   "id": "d1d1ee55-37e0-422d-8e0a-4b933a8a1641",
   "metadata": {},
   "source": [
    "### Tipo Punto"
   ]
  },
  {
   "cell_type": "code",
   "execution_count": 2,
   "id": "4e7d4c8d-8e09-41d8-92e0-885e25540743",
   "metadata": {},
   "outputs": [],
   "source": [
    "# Crear un geometria tipo punto\n",
    "lista1 = [-74.564163, -8.384629] # Lista en Python\n",
    "punto = ee.Geometry.Point(lista1)"
   ]
  },
  {
   "cell_type": "code",
   "execution_count": 3,
   "id": "89ca7285-c862-4bff-93dc-2ee71cf8afbd",
   "metadata": {},
   "outputs": [
    {
     "data": {
      "application/vnd.jupyter.widget-view+json": {
       "model_id": "abc26091b76d4de4afea3076d0e15653",
       "version_major": 2,
       "version_minor": 0
      },
      "text/plain": [
       "Map(center=[40, -100], controls=(WidgetControl(options=['position', 'transparent_bg'], widget=HBox(children=(T…"
      ]
     },
     "metadata": {},
     "output_type": "display_data"
    }
   ],
   "source": [
    "import geemap\n",
    "Map = geemap.Map(basemap='SATELLITE')\n",
    "Map"
   ]
  },
  {
   "cell_type": "code",
   "execution_count": 4,
   "id": "04d046c5-2905-4f68-822e-05b7ed0204a9",
   "metadata": {},
   "outputs": [],
   "source": [
    "Map.centerObject(punto,13)"
   ]
  },
  {
   "cell_type": "code",
   "execution_count": 5,
   "id": "c4c0d61b-87a4-4a00-9e0d-732662ec4cd1",
   "metadata": {},
   "outputs": [
    {
     "data": {
      "application/vnd.jupyter.widget-view+json": {
       "model_id": "abc26091b76d4de4afea3076d0e15653",
       "version_major": 2,
       "version_minor": 0
      },
      "text/plain": [
       "Map(bottom=1097895.0, center=[-8.384629, -74.564163], controls=(WidgetControl(options=['position', 'transparen…"
      ]
     },
     "metadata": {},
     "output_type": "display_data"
    }
   ],
   "source": [
    "Map.addLayer(punto, {\"color\" : \"00FF11\"}, name = \"Punto\")\n",
    "Map"
   ]
  },
  {
   "cell_type": "markdown",
   "id": "cfb869ae-8638-4f3c-bf71-d62ea02bd4f6",
   "metadata": {},
   "source": [
    "### MultiPunto"
   ]
  },
  {
   "cell_type": "code",
   "execution_count": 6,
   "id": "114552d1-a465-476d-b577-34e0952e3bd8",
   "metadata": {},
   "outputs": [],
   "source": [
    "# Crear geometria mulpunto\n",
    "lista2 = [-74.564163, -8.384629,\n",
    "          -74.625626, -8.401342,\n",
    "          -74.640429, -8.332956,\n",
    "          -74.565373, -8.315447] # Lista en Python"
   ]
  },
  {
   "cell_type": "code",
   "execution_count": 7,
   "id": "20fb5f10-6500-476d-bb85-4e5f26bdde7f",
   "metadata": {},
   "outputs": [],
   "source": [
    "multiPunto = ee.Geometry.MultiPoint(lista2)"
   ]
  },
  {
   "cell_type": "code",
   "execution_count": 8,
   "id": "374caea6-ffd3-4ed0-8ba0-dbde9e0c36ed",
   "metadata": {},
   "outputs": [],
   "source": [
    "Map.centerObject(multiPunto,13)\n",
    "Map.addLayer(multiPunto,{\"color\" : \"00FF11\"},name = \"MultiPuntos\")"
   ]
  },
  {
   "cell_type": "markdown",
   "id": "f59a8897-5317-40c7-aeba-6d7874cb2e72",
   "metadata": {},
   "source": [
    "### Línea"
   ]
  },
  {
   "cell_type": "code",
   "execution_count": 9,
   "id": "a837423b-588c-4b9e-9e48-604ba8704be9",
   "metadata": {},
   "outputs": [],
   "source": [
    "# Crear geometria tipo linea\n",
    "lista3 = [-70.615560,-12.970651,\n",
    "          -70.623170,-13.022756,\n",
    "          -70.567696,-13.048436,\n",
    "          -70.536167,-13.001382]"
   ]
  },
  {
   "cell_type": "code",
   "execution_count": 10,
   "id": "8e50fba8-27fc-4dd6-9057-b8775738516a",
   "metadata": {},
   "outputs": [],
   "source": [
    "Linea = ee.Geometry.LineString(lista2)"
   ]
  },
  {
   "cell_type": "code",
   "execution_count": 11,
   "id": "25bef139-0a69-409f-8386-a64bb1ce4f35",
   "metadata": {},
   "outputs": [
    {
     "data": {
      "application/vnd.jupyter.widget-view+json": {
       "model_id": "abc26091b76d4de4afea3076d0e15653",
       "version_major": 2,
       "version_minor": 0
      },
      "text/plain": [
       "Map(bottom=1097742.0, center=[-8.359277808731646, -74.6105551596618], controls=(WidgetControl(options=['positi…"
      ]
     },
     "metadata": {},
     "output_type": "display_data"
    }
   ],
   "source": [
    "Map.centerObject(Linea,13)\n",
    "Map.addLayer(Linea,{\"color\" : \"00FF11\"},name = \"Linea\")\n",
    "Map"
   ]
  },
  {
   "cell_type": "markdown",
   "id": "24e65507-35b5-45d5-9676-52c05a22d4d5",
   "metadata": {},
   "source": [
    "### Polígono"
   ]
  },
  {
   "cell_type": "code",
   "execution_count": 12,
   "id": "a1f48751-f6c4-4c90-a5cd-ab11a34a8fc4",
   "metadata": {},
   "outputs": [],
   "source": [
    "poligon  = ee.Geometry.Polygon(lista2)"
   ]
  },
  {
   "cell_type": "code",
   "execution_count": 13,
   "id": "74f1b5d3-3983-4512-8ae2-f36324e8681f",
   "metadata": {},
   "outputs": [],
   "source": [
    "Map.addLayer(poligon,{\"color\" : \"00FF11\"},name = \"Poligono\")"
   ]
  },
  {
   "cell_type": "markdown",
   "id": "e1d61ee4-159c-42f6-8da1-a7f894a65b00",
   "metadata": {},
   "source": [
    "### Rectángulo"
   ]
  },
  {
   "cell_type": "code",
   "execution_count": 14,
   "id": "ea3f2442-3db2-4ceb-b075-082d5089c272",
   "metadata": {},
   "outputs": [],
   "source": [
    "# Crear un rectangulo\n",
    "lista5 = [-74.640429, -8.332956,-74.564163, -8.384629]\n",
    "rectangulo = ee.Geometry.Rectangle(lista5)"
   ]
  },
  {
   "cell_type": "code",
   "execution_count": 15,
   "id": "18474fed-5215-4159-99dc-9bc52c96e81d",
   "metadata": {},
   "outputs": [
    {
     "data": {
      "application/vnd.jupyter.widget-view+json": {
       "model_id": "abc26091b76d4de4afea3076d0e15653",
       "version_major": 2,
       "version_minor": 0
      },
      "text/plain": [
       "Map(bottom=1097746.0, center=[-8.3587937544982, -74.60229600000011], controls=(WidgetControl(options=['positio…"
      ]
     },
     "metadata": {},
     "output_type": "display_data"
    }
   ],
   "source": [
    "Map.centerObject(rectangulo,12)\n",
    "Map.addLayer(rectangulo,{\"color\" : \"blue\"},name = \"Rectangulo\")\n",
    "Map"
   ]
  },
  {
   "cell_type": "markdown",
   "id": "b6224ab8-a400-4e7f-9632-14c136a4cccd",
   "metadata": {},
   "source": [
    "## Determinar geometrías"
   ]
  },
  {
   "cell_type": "markdown",
   "id": "a34bde13-aead-43c8-a68b-ecfd9d44fe8c",
   "metadata": {},
   "source": [
    "### Area m2"
   ]
  },
  {
   "cell_type": "code",
   "execution_count": 16,
   "id": "a699c8ed-46b3-4282-b42a-5586bc648668",
   "metadata": {},
   "outputs": [
    {
     "name": "stdout",
     "output_type": "stream",
     "text": [
      "Area:  59111814.17548673 m2\n",
      "Area:  59111814.175 m2\n"
     ]
    }
   ],
   "source": [
    "area_m2 = poligon.area()\n",
    "print(\"Area: \", area_m2.getInfo(),\"m2\")\n",
    "print(\"Area: \", round(area_m2.getInfo(),3),\"m2\")"
   ]
  },
  {
   "cell_type": "markdown",
   "id": "2b53a472-32b4-4c0d-b1b4-8a75fc4811aa",
   "metadata": {},
   "source": [
    "### Area Ha"
   ]
  },
  {
   "cell_type": "code",
   "execution_count": 17,
   "id": "949044b2-9b68-41f5-8e29-5e1913ad7a39",
   "metadata": {},
   "outputs": [
    {
     "name": "stdout",
     "output_type": "stream",
     "text": [
      "Area:  5911.181 Ha\n"
     ]
    }
   ],
   "source": [
    "area_ha = poligon.area().divide(10000)\n",
    "print(\"Area: \", round(area_ha.getInfo(),3),\"Ha\")\n"
   ]
  },
  {
   "cell_type": "markdown",
   "id": "25ae638f-59fb-4672-bd4f-a7a7f0c9124d",
   "metadata": {},
   "source": [
    "### Perimetro m"
   ]
  },
  {
   "cell_type": "code",
   "execution_count": 18,
   "id": "31651098-80d5-4bdf-a512-95609e53947e",
   "metadata": {},
   "outputs": [
    {
     "name": "stdout",
     "output_type": "stream",
     "text": [
      "Perimetro: 30898.002 m\n"
     ]
    }
   ],
   "source": [
    "# Determinar Perimetro en m\n",
    "perimetro_m = poligon.perimeter()\n",
    "print(\"Perimetro:\", round(perimetro_m.getInfo(),3),\"m\")\n"
   ]
  },
  {
   "cell_type": "markdown",
   "id": "100da84b-66aa-44e9-bc10-f61b41eb6e86",
   "metadata": {},
   "source": [
    "### Perimetro km"
   ]
  },
  {
   "cell_type": "code",
   "execution_count": 19,
   "id": "f318069c-518b-4499-9709-00ead9c5cfe6",
   "metadata": {},
   "outputs": [
    {
     "name": "stdout",
     "output_type": "stream",
     "text": [
      "Perimetro:  30.9 Km\n"
     ]
    }
   ],
   "source": [
    "# Determinar perimetro en km\n",
    "perimetro_km = poligon.perimeter().divide(1000)\n",
    "print(\"Perimetro: \", round(perimetro_km.getInfo(),1),\"Km\")"
   ]
  },
  {
   "cell_type": "markdown",
   "id": "284db17d-fb9c-4558-841f-9b6eb64363fa",
   "metadata": {},
   "source": [
    "### Extraer coordenada"
   ]
  },
  {
   "cell_type": "code",
   "execution_count": 20,
   "id": "8a21f0bd-f2ec-4b58-9a7d-b7f55f18f299",
   "metadata": {},
   "outputs": [
    {
     "data": {
      "text/plain": [
       "[[[-74.564163, -8.384629],\n",
       "  [-74.565373, -8.315447],\n",
       "  [-74.640429, -8.332956],\n",
       "  [-74.625626, -8.401342],\n",
       "  [-74.564163, -8.384629]]]"
      ]
     },
     "execution_count": 20,
     "metadata": {},
     "output_type": "execute_result"
    }
   ],
   "source": [
    "# Lista de coordenas poligono\n",
    "List_vertice = poligon.coordinates()\n",
    "List_vertice.getInfo()"
   ]
  },
  {
   "cell_type": "markdown",
   "id": "9bb45ad6-b312-4bf5-88fd-0e75924f0ee0",
   "metadata": {},
   "source": [
    "## Geoprocesamiento geometria"
   ]
  },
  {
   "cell_type": "markdown",
   "id": "109e5dcd-0157-48b2-a7bf-2804577b38cd",
   "metadata": {},
   "source": [
    "### Buffer o zona influencia"
   ]
  },
  {
   "cell_type": "code",
   "execution_count": 23,
   "id": "b74e95f4-af8d-4dd3-85c0-0c85804ecedd",
   "metadata": {},
   "outputs": [],
   "source": [
    "# Determinar un buffer o zona de influencia\n",
    "buffer1000 = multiPunto.buffer(1000)"
   ]
  },
  {
   "cell_type": "code",
   "execution_count": 24,
   "id": "03d89aa9-2289-433d-9c72-5d3a15ebe98c",
   "metadata": {},
   "outputs": [
    {
     "data": {
      "application/vnd.jupyter.widget-view+json": {
       "model_id": "abc26091b76d4de4afea3076d0e15653",
       "version_major": 2,
       "version_minor": 0
      },
      "text/plain": [
       "Map(bottom=1097742.0, center=[-8.358592944864382, -74.59889729525865], controls=(WidgetControl(options=['posit…"
      ]
     },
     "metadata": {},
     "output_type": "display_data"
    }
   ],
   "source": [
    "Map.centerObject(buffer2000,13)\n",
    "Map.addLayer(buffer2000,{\"color\" : \"blue\"},name = \"Buffer2000\")\n",
    "Map.addLayer(buffer1000,{\"color\" : \"red\"},name = \"Buffer1000\")\n",
    "Map"
   ]
  },
  {
   "cell_type": "markdown",
   "id": "1405cce6-6c60-4217-b16e-82879b948a1d",
   "metadata": {},
   "source": [
    "### Determinar centroide"
   ]
  },
  {
   "cell_type": "code",
   "execution_count": 56,
   "id": "9f06ca31-e8a8-4807-a4db-79efa47dc0e1",
   "metadata": {},
   "outputs": [
    {
     "data": {
      "text/plain": [
       "{'type': 'Point', 'coordinates': [-74.59923740443628, -8.357530028356225]}"
      ]
     },
     "execution_count": 56,
     "metadata": {},
     "output_type": "execute_result"
    }
   ],
   "source": [
    "# Calcular centroide poligono\n",
    "centroide = poligon.centroid()\n",
    "centroide.getInfo()"
   ]
  },
  {
   "cell_type": "code",
   "execution_count": 57,
   "id": "b1c9e496-2588-4c46-a897-5e059b56b5f3",
   "metadata": {},
   "outputs": [
    {
     "data": {
      "application/vnd.jupyter.widget-view+json": {
       "model_id": "5031bea0d0b54b2ebbbd1a44e8871967",
       "version_major": 2,
       "version_minor": 0
      },
      "text/plain": [
       "Map(bottom=549038.0, center=[-8.364371994073723, -74.57021713256837], controls=(WidgetControl(options=['positi…"
      ]
     },
     "metadata": {},
     "output_type": "display_data"
    }
   ],
   "source": [
    "Map.addLayer(centroide,{\"color\" : \"red\"},name = \"Centroide\")\n",
    "Map"
   ]
  },
  {
   "cell_type": "code",
   "execution_count": null,
   "id": "228e0360-1dd4-4f10-8fee-22b728a5f473",
   "metadata": {},
   "outputs": [],
   "source": []
  }
 ],
 "metadata": {
  "kernelspec": {
   "display_name": "Python 3",
   "language": "python",
   "name": "python3"
  },
  "language_info": {
   "codemirror_mode": {
    "name": "ipython",
    "version": 3
   },
   "file_extension": ".py",
   "mimetype": "text/x-python",
   "name": "python",
   "nbconvert_exporter": "python",
   "pygments_lexer": "ipython3",
   "version": "3.7.10"
  }
 },
 "nbformat": 4,
 "nbformat_minor": 5
}
