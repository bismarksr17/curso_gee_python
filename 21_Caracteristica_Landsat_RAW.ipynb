{
 "cells": [
  {
   "cell_type": "markdown",
   "id": "1a2a9590-24e4-472a-b119-72d39f8c041e",
   "metadata": {},
   "source": [
    "# Conversion de RAW a Reflectancia TOA google Earth Engine"
   ]
  },
  {
   "cell_type": "markdown",
   "id": "63edcf1c-8ca7-4824-b879-5e64c72f5321",
   "metadata": {},
   "source": [
    "URL: https://mt1.google.com/vt/lyrs=s&x=%7Bx%7D&y=%7By%7D&z=%7Bz%7D"
   ]
  },
  {
   "cell_type": "code",
   "execution_count": 1,
   "id": "18484d8d-e44e-491c-af64-e2cf453c8626",
   "metadata": {},
   "outputs": [],
   "source": [
    "# Importar paquete GEE\n",
    "import ee\n",
    "ee.Initialize()"
   ]
  },
  {
   "cell_type": "markdown",
   "id": "ae7c2b8c-5ebc-4efd-8d77-01a4c69d94a3",
   "metadata": {},
   "source": [
    "## Filtro zona estudio SHP"
   ]
  },
  {
   "cell_type": "code",
   "execution_count": 2,
   "id": "0ab43a7d-ecd5-4ddc-9d24-7027466b3a18",
   "metadata": {},
   "outputs": [],
   "source": [
    "import os\n",
    "import glob"
   ]
  },
  {
   "cell_type": "code",
   "execution_count": 3,
   "id": "0aabf4f7-bbe5-4bd0-832c-ff22208935b0",
   "metadata": {},
   "outputs": [],
   "source": [
    "ruta_archivos = r\"E:\\Teledeteccion_GEE\\Python\\Datos_Espaciales\\SHP\""
   ]
  },
  {
   "cell_type": "code",
   "execution_count": 6,
   "id": "ede1186f-ace3-455b-9063-308956b90036",
   "metadata": {},
   "outputs": [
    {
     "data": {
      "text/plain": [
       "'C:\\\\Users\\\\GEOMATICA\\\\Teledeteccion_Python\\\\GEE'"
      ]
     },
     "execution_count": 6,
     "metadata": {},
     "output_type": "execute_result"
    }
   ],
   "source": [
    "os.getcwd()"
   ]
  },
  {
   "cell_type": "code",
   "execution_count": 7,
   "id": "4d57ea0f-d548-4727-a27c-fe04db299405",
   "metadata": {},
   "outputs": [
    {
     "data": {
      "text/plain": [
       "'E:\\\\Teledeteccion_GEE\\\\Python\\\\Datos_Espaciales\\\\SHP'"
      ]
     },
     "execution_count": 7,
     "metadata": {},
     "output_type": "execute_result"
    }
   ],
   "source": [
    "os.chdir(ruta_archivos) # Cambiar ruta trabajo\n",
    "os.getcwd() # Consultar ruta trabajo"
   ]
  },
  {
   "cell_type": "code",
   "execution_count": 8,
   "id": "ad9d3128-cb13-4958-9bae-807589861878",
   "metadata": {},
   "outputs": [
    {
     "data": {
      "text/plain": [
       "['Cuenca_Geo.shp', 'ZONA_geo.shp', 'Zona_Geografica.shp', 'Zona_UTM_19S.shp']"
      ]
     },
     "execution_count": 8,
     "metadata": {},
     "output_type": "execute_result"
    }
   ],
   "source": [
    "lista = glob.glob(\"*.shp\")\n",
    "lista"
   ]
  },
  {
   "cell_type": "code",
   "execution_count": 9,
   "id": "6b8b10e8-7eaa-42f2-adf1-63c7ea4bf849",
   "metadata": {},
   "outputs": [],
   "source": [
    "import geopandas as gpd"
   ]
  },
  {
   "cell_type": "code",
   "execution_count": 10,
   "id": "a3110392-67cd-47cc-90ab-f365251ff9be",
   "metadata": {},
   "outputs": [
    {
     "data": {
      "text/html": [
       "<div>\n",
       "<style scoped>\n",
       "    .dataframe tbody tr th:only-of-type {\n",
       "        vertical-align: middle;\n",
       "    }\n",
       "\n",
       "    .dataframe tbody tr th {\n",
       "        vertical-align: top;\n",
       "    }\n",
       "\n",
       "    .dataframe thead th {\n",
       "        text-align: right;\n",
       "    }\n",
       "</style>\n",
       "<table border=\"1\" class=\"dataframe\">\n",
       "  <thead>\n",
       "    <tr style=\"text-align: right;\">\n",
       "      <th></th>\n",
       "      <th>id</th>\n",
       "      <th>geometry</th>\n",
       "    </tr>\n",
       "  </thead>\n",
       "  <tbody>\n",
       "    <tr>\n",
       "      <th>0</th>\n",
       "      <td>1</td>\n",
       "      <td>POLYGON ((-70.14663 -12.74826, -69.84347 -12.7...</td>\n",
       "    </tr>\n",
       "  </tbody>\n",
       "</table>\n",
       "</div>"
      ],
      "text/plain": [
       "   id                                           geometry\n",
       "0   1  POLYGON ((-70.14663 -12.74826, -69.84347 -12.7..."
      ]
     },
     "execution_count": 10,
     "metadata": {},
     "output_type": "execute_result"
    }
   ],
   "source": [
    "# cargar un shp\n",
    "zona = gpd.read_file('ZONA_geo.shp')\n",
    "zona"
   ]
  },
  {
   "cell_type": "code",
   "execution_count": 12,
   "id": "f5b1f991-d87e-4414-915f-7df98c862d15",
   "metadata": {},
   "outputs": [],
   "source": [
    "# Crear un featureCollecion mediante GeoJSON\n",
    "ee_zona = ee.FeatureCollection(zona.__geo_interface__)"
   ]
  },
  {
   "cell_type": "code",
   "execution_count": 13,
   "id": "36ec681c-7894-4b15-b0c4-32c8b8301fd3",
   "metadata": {},
   "outputs": [
    {
     "data": {
      "text/plain": [
       "ee.featurecollection.FeatureCollection"
      ]
     },
     "execution_count": 13,
     "metadata": {},
     "output_type": "execute_result"
    }
   ],
   "source": [
    "type(ee_zona)"
   ]
  },
  {
   "cell_type": "markdown",
   "id": "6e7383f7-c132-4441-aaa9-fd9aaf4a9554",
   "metadata": {},
   "source": [
    "## Landsat 8 OLI TIRS RAW"
   ]
  },
  {
   "cell_type": "code",
   "execution_count": 14,
   "id": "4d842133-bff8-4b6b-ad16-cb51973ace0a",
   "metadata": {},
   "outputs": [],
   "source": [
    "# Coleccion de Landsat 8 OLI TIRS RAW\n",
    "L8_RAW = ee.ImageCollection(\"LANDSAT/LC08/C01/T1\")\\\n",
    "        .filterDate('2020-01-01','2021-06-05')\\\n",
    "        .filterMetadata('CLOUD_COVER', 'less_than',20)\\\n",
    "        .filterBounds(ee_zona)"
   ]
  },
  {
   "cell_type": "code",
   "execution_count": 15,
   "id": "7f2b3052-5a50-4453-baf6-86d883e6ec49",
   "metadata": {},
   "outputs": [
    {
     "name": "stdout",
     "output_type": "stream",
     "text": [
      "Cantidad de imagenes L8_RAW: 3\n"
     ]
    }
   ],
   "source": [
    "# Conteo de imagenes\n",
    "count = L8_RAW.size()\n",
    "print(\"Cantidad de imagenes L8_RAW:\", count.getInfo())"
   ]
  },
  {
   "cell_type": "code",
   "execution_count": 19,
   "id": "fc93fbf2-3853-4e10-8b64-ef84cde7a8cb",
   "metadata": {},
   "outputs": [],
   "source": [
    "# Imprimir la lista de ID Imagenes\n",
    "catalogo_L8 = L8_RAW.reduceColumns(ee.Reducer.toList(),[\"system:index\"]).get(\"list\").getInfo()"
   ]
  },
  {
   "cell_type": "code",
   "execution_count": 22,
   "id": "f7ffe42c-f908-4f5c-a3af-fd1953f06460",
   "metadata": {},
   "outputs": [
    {
     "name": "stdout",
     "output_type": "stream",
     "text": [
      "ID catalogo_L8:  ['LC08_003069_20200420', 'LC08_003069_20200607', 'LC08_003069_20200911']\n"
     ]
    }
   ],
   "source": [
    "print(\"ID catalogo_L8: \", catalogo_L8)"
   ]
  },
  {
   "cell_type": "code",
   "execution_count": 30,
   "id": "716a8329-6609-4e32-9322-d989b94c6dc9",
   "metadata": {},
   "outputs": [],
   "source": [
    "# Importar imagen Landsat 8 \n",
    "image = ee.Image(\"LANDSAT/LC08/C01/T1\" + \"/\" + catalogo_L8[0])"
   ]
  },
  {
   "cell_type": "code",
   "execution_count": 31,
   "id": "d6385dc3-2192-410a-b143-cdee3e91cd04",
   "metadata": {},
   "outputs": [
    {
     "data": {
      "text/plain": [
       "['B1', 'B2', 'B3', 'B4', 'B5', 'B6', 'B7', 'B8', 'B9', 'B10', 'B11', 'BQA']"
      ]
     },
     "execution_count": 31,
     "metadata": {},
     "output_type": "execute_result"
    }
   ],
   "source": [
    "# Consultar bandas\n",
    "image.bandNames().getInfo()"
   ]
  },
  {
   "cell_type": "code",
   "execution_count": 32,
   "id": "6658e3d7-da67-4215-974c-5ebdfe89e48d",
   "metadata": {},
   "outputs": [],
   "source": [
    "# Simbologia RAW de ND 16bits\n",
    "viz_Raw = {\n",
    "    'bands': ['B6', 'B5', 'B4'],\n",
    "    0,\n",
    "    'max': 18000'min': 600\n",
    "}"
   ]
  },
  {
   "cell_type": "code",
   "execution_count": 33,
   "id": "dbfca7ef-d9cb-4620-8e5d-31b6e4cbac21",
   "metadata": {},
   "outputs": [],
   "source": [
    "geometria = image.geometry()"
   ]
  },
  {
   "cell_type": "code",
   "execution_count": 34,
   "id": "cb2261a6-90ae-4b24-b355-9563276d3618",
   "metadata": {},
   "outputs": [],
   "source": [
    "# Importar geemap\n",
    "import geemap\n",
    "Map = geemap.Map(basemap='SATELLITE')"
   ]
  },
  {
   "cell_type": "code",
   "execution_count": 35,
   "id": "66b13dd8-5f68-487e-97c1-614c6695e953",
   "metadata": {},
   "outputs": [
    {
     "data": {
      "application/vnd.jupyter.widget-view+json": {
       "model_id": "c82e4577ba44465f9be6b284cd48e5b9",
       "version_major": 2,
       "version_minor": 0
      },
      "text/plain": [
       "Map(center=[-13.014742673841472, -70.46287583988538], controls=(WidgetControl(options=['position', 'transparen…"
      ]
     },
     "metadata": {},
     "output_type": "display_data"
    }
   ],
   "source": [
    "# Visualizacion de imagen\n",
    "Map.centerObject(geometria, 8)\n",
    "Map.addLayer(image, viz_Raw, 'L8 raw')\n",
    "Map"
   ]
  },
  {
   "cell_type": "markdown",
   "id": "fca56a27-b5c4-4ed8-acac-e82d727a0c8e",
   "metadata": {},
   "source": [
    "## Conversion de RAW a Radiancia"
   ]
  },
  {
   "cell_type": "code",
   "execution_count": 36,
   "id": "7666ff8d-9cdd-44d4-adad-10ce1f2ccfb9",
   "metadata": {},
   "outputs": [],
   "source": [
    "# Conversion de RAW a Radiancia\n",
    "radiance = ee.Algorithms.Landsat.calibratedRadiance(image)"
   ]
  },
  {
   "cell_type": "code",
   "execution_count": 37,
   "id": "05652dda-e655-49dc-898e-498507388ed7",
   "metadata": {},
   "outputs": [],
   "source": [
    "# Simbologia Radiancia\n",
    "viz_Rad  = {\n",
    "    'bands': ['B6', 'B5', 'B4'],\n",
    "    'min': 5,\n",
    "    'max': 100\n",
    "}"
   ]
  },
  {
   "cell_type": "code",
   "execution_count": 38,
   "id": "0b1767f2-0985-41d8-8e0b-eef7b3a50fd3",
   "metadata": {},
   "outputs": [
    {
     "data": {
      "application/vnd.jupyter.widget-view+json": {
       "model_id": "c82e4577ba44465f9be6b284cd48e5b9",
       "version_major": 2,
       "version_minor": 0
      },
      "text/plain": [
       "Map(bottom=35465.727294921875, center=[-13.056615445741686, -70.06274475586312], controls=(WidgetControl(optio…"
      ]
     },
     "metadata": {},
     "output_type": "display_data"
    }
   ],
   "source": [
    "# Visualizacion de imagen\n",
    "Map.addLayer(radiance, viz_Rad, 'radiance')\n",
    "Map"
   ]
  },
  {
   "cell_type": "markdown",
   "id": "63d460d2-9b4a-4b69-af12-2a031be91011",
   "metadata": {},
   "source": [
    "## Conversion de RAW a reflectancia TOA"
   ]
  },
  {
   "cell_type": "code",
   "execution_count": 39,
   "id": "876933a6-c41a-4a06-967f-1c06c85ca278",
   "metadata": {},
   "outputs": [],
   "source": [
    "img_toa = ee.Algorithms.Landsat.TOA(image)"
   ]
  },
  {
   "cell_type": "code",
   "execution_count": 40,
   "id": "c128ac93-7b52-46f8-a01c-52a360c18195",
   "metadata": {},
   "outputs": [],
   "source": [
    "# Simbologia Reflectancia TOA 0 - 1\n",
    "viz_toa  = {\n",
    "    'bands': ['B6', 'B5', 'B4'],\n",
    "    'min': 0.1,\n",
    "    'max': 0.4\n",
    "}"
   ]
  },
  {
   "cell_type": "code",
   "execution_count": 41,
   "id": "0f74088c-da64-4db7-93e4-26153c3f8e20",
   "metadata": {},
   "outputs": [
    {
     "data": {
      "text/plain": [
       "dict"
      ]
     },
     "execution_count": 41,
     "metadata": {},
     "output_type": "execute_result"
    }
   ],
   "source": [
    "type(viz_toa)"
   ]
  },
  {
   "cell_type": "code",
   "execution_count": 42,
   "id": "42be6639-0fa7-44b1-8f79-83c67019d865",
   "metadata": {},
   "outputs": [
    {
     "data": {
      "application/vnd.jupyter.widget-view+json": {
       "model_id": "c82e4577ba44465f9be6b284cd48e5b9",
       "version_major": 2,
       "version_minor": 0
      },
      "text/plain": [
       "Map(bottom=35466.0, center=[-13.056615445741686, -70.06274475586312], controls=(WidgetControl(options=['positi…"
      ]
     },
     "metadata": {},
     "output_type": "display_data"
    }
   ],
   "source": [
    "# Visualizacion de imagen\n",
    "Map.addLayer(img_toa, viz_toa, 'toa reflectance')\n",
    "Map"
   ]
  },
  {
   "cell_type": "code",
   "execution_count": null,
   "id": "feb17b82-c6c6-4693-b44e-9cf7893b96d3",
   "metadata": {},
   "outputs": [],
   "source": []
  }
 ],
 "metadata": {
  "kernelspec": {
   "display_name": "Python 3",
   "language": "python",
   "name": "python3"
  },
  "language_info": {
   "codemirror_mode": {
    "name": "ipython",
    "version": 3
   },
   "file_extension": ".py",
   "mimetype": "text/x-python",
   "name": "python",
   "nbconvert_exporter": "python",
   "pygments_lexer": "ipython3",
   "version": "3.7.10"
  }
 },
 "nbformat": 4,
 "nbformat_minor": 5
}
