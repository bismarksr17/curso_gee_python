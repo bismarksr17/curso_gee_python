{
 "cells": [
  {
   "cell_type": "markdown",
   "id": "483827c2-3073-4617-8bb1-820794ee7c5f",
   "metadata": {},
   "source": [
    "# Tipo datos númerico GEE"
   ]
  },
  {
   "cell_type": "markdown",
   "id": "90ac9450-a931-4c42-9be2-70df487ecd72",
   "metadata": {},
   "source": [
    "En python existe dos tipos entero (int) y real (float)."
   ]
  },
  {
   "cell_type": "markdown",
   "id": "9eccc052-dc5d-4dff-b3cd-e7c0b9692eee",
   "metadata": {},
   "source": [
    "Información de Numérico en Google Earth Engine:\n",
    "https://developers.google.com/earth-engine/apidocs/ee-number"
   ]
  },
  {
   "cell_type": "markdown",
   "id": "34bb7c7c-f3bb-4257-8f6b-eadf763b07c1",
   "metadata": {},
   "source": [
    "## Tipo datos numérica python"
   ]
  },
  {
   "cell_type": "code",
   "execution_count": 9,
   "id": "0559d176-4830-4794-b068-e2921a2c8879",
   "metadata": {},
   "outputs": [
    {
     "name": "stdout",
     "output_type": "stream",
     "text": [
      "Tipo de datos a: <class 'int'>\n",
      "Tipo de datos b: <class 'float'>\n"
     ]
    }
   ],
   "source": [
    "# Crear variable numerico en Python\n",
    "a = 3\n",
    "print(\"Tipo de datos a:\", type(a)) # int\n",
    "b = 4.1\n",
    "print(\"Tipo de datos b:\", type(b)) # float"
   ]
  },
  {
   "cell_type": "code",
   "execution_count": 10,
   "id": "a6e3c69e-0847-4849-96e3-ee5f9bbd8f2a",
   "metadata": {},
   "outputs": [],
   "source": [
    "# Importar paquete GEE\n",
    "import ee\n",
    "ee.Initialize()"
   ]
  },
  {
   "cell_type": "markdown",
   "id": "fcfc17be-bd78-4b58-8c6f-d8164ef85536",
   "metadata": {},
   "source": [
    "## Tipo datos numérico GEE"
   ]
  },
  {
   "cell_type": "code",
   "execution_count": 11,
   "id": "3373ec29-dca4-4fca-9f66-7fc44a82aa3d",
   "metadata": {},
   "outputs": [],
   "source": [
    "# Crear variable numerico en GEE\n",
    "a_ee = ee.Number(a) # entero o int\n",
    "b_ee = ee.Number(b) # decimal o float"
   ]
  },
  {
   "cell_type": "code",
   "execution_count": 14,
   "id": "a23dc9f4-7298-430d-855b-39a29294c0da",
   "metadata": {},
   "outputs": [
    {
     "name": "stdout",
     "output_type": "stream",
     "text": [
      "Valor de a_ee es: 3\n",
      "Valor de b_ee es: 4.1\n"
     ]
    }
   ],
   "source": [
    "# Imprimiendo los valores\n",
    "print(\"Valor de a_ee es:\", a_ee.getInfo()) # int\n",
    "print(\"Valor de b_ee es:\", b_ee.getInfo()) # float"
   ]
  },
  {
   "cell_type": "code",
   "execution_count": 21,
   "id": "c86e4018-86bd-4be3-9b53-9356555f4fc2",
   "metadata": {},
   "outputs": [
    {
     "data": {
      "text/plain": [
       "3.141592653589793"
      ]
     },
     "execution_count": 21,
     "metadata": {},
     "output_type": "execute_result"
    }
   ],
   "source": [
    "# Crear valor de pi\n",
    "import math\n",
    "valor_pi = ee.Number(math.pi)\n",
    "valor_pi.getInfo()"
   ]
  },
  {
   "cell_type": "code",
   "execution_count": 22,
   "id": "007c7e99",
   "metadata": {},
   "outputs": [
    {
     "data": {
      "text/plain": [
       "ee.ee_number.Number"
      ]
     },
     "execution_count": 22,
     "metadata": {},
     "output_type": "execute_result"
    }
   ],
   "source": [
    "type(valor_pi)"
   ]
  },
  {
   "cell_type": "code",
   "execution_count": 24,
   "id": "945ba200-a388-436f-a9d1-b9c20a6ad4b4",
   "metadata": {},
   "outputs": [
    {
     "data": {
      "text/plain": [
       "150"
      ]
     },
     "execution_count": 24,
     "metadata": {},
     "output_type": "execute_result"
    }
   ],
   "source": [
    "# Convierte de numero negativo adsoluto\n",
    "valor = ee.Number(-150).abs()\n",
    "valor.getInfo()"
   ]
  },
  {
   "cell_type": "code",
   "execution_count": 25,
   "id": "bf96444b-7888-4460-9556-41e034b29429",
   "metadata": {},
   "outputs": [
    {
     "name": "stdout",
     "output_type": "stream",
     "text": [
      "Tipo de clase <class 'int'>\n",
      "Valor de la variable: 4\n"
     ]
    }
   ],
   "source": [
    "# Convertir de double a int o entero\n",
    "b_ee_entero = b_ee.toInt()\n",
    "print(\"Tipo de clase\", type(b_ee_entero.getInfo()))\n",
    "print(\"Valor de la variable:\",b_ee_entero.getInfo())"
   ]
  },
  {
   "cell_type": "code",
   "execution_count": null,
   "id": "7ca27ecb",
   "metadata": {},
   "outputs": [],
   "source": []
  },
  {
   "cell_type": "code",
   "execution_count": 44,
   "id": "e9c7d537-85c8-419d-9dc7-a122b43640cf",
   "metadata": {},
   "outputs": [
    {
     "name": "stdout",
     "output_type": "stream",
     "text": [
      "Valor de b_ee es: 4.1\n",
      "Valor de b_ee_entero es: 4\n"
     ]
    }
   ],
   "source": [
    "# Calcula el número entero más grande menor o igual que la entrada.\n",
    "b_ee_entero = b_ee.floor()\n",
    "print(\"Valor de b_ee es:\", b_ee.getInfo())\n",
    "print(\"Valor de b_ee_entero es:\", b_ee_entero.getInfo())"
   ]
  },
  {
   "cell_type": "code",
   "execution_count": 29,
   "id": "3bf303d0",
   "metadata": {},
   "outputs": [
    {
     "name": "stdout",
     "output_type": "stream",
     "text": [
      "Valor de b_ee_entero es: 5\n"
     ]
    }
   ],
   "source": [
    "# Calcula el número entero más grande menor o igual que la entrada.\n",
    "b_ee_entero = ee.Number(5.999).toInt()\n",
    "print(\"Valor de b_ee_entero es:\", b_ee_entero.getInfo())"
   ]
  },
  {
   "cell_type": "code",
   "execution_count": 30,
   "id": "5994cb9a-86e5-4aee-9720-bf0606f2ef13",
   "metadata": {},
   "outputs": [
    {
     "data": {
      "text/plain": [
       "4"
      ]
     },
     "execution_count": 30,
     "metadata": {},
     "output_type": "execute_result"
    }
   ],
   "source": [
    "# Calcula el número entero más cercano a la entrada.\n",
    "pi2 = b_ee.round()\n",
    "pi2.getInfo()"
   ]
  },
  {
   "cell_type": "markdown",
   "id": "355eb195-c62b-454b-baae-7b931142bd6b",
   "metadata": {},
   "source": [
    "## Operación matemática"
   ]
  },
  {
   "cell_type": "code",
   "execution_count": 36,
   "id": "71d58b9a-25a9-4ebf-bb0b-7aa212658970",
   "metadata": {},
   "outputs": [],
   "source": [
    "c = ee.Number(7)\n",
    "d = ee.Number(3)"
   ]
  },
  {
   "cell_type": "markdown",
   "id": "796c34b0-96e0-4f09-a767-8c7abaff0bbb",
   "metadata": {},
   "source": [
    "### Suma"
   ]
  },
  {
   "cell_type": "code",
   "execution_count": 37,
   "id": "945453df-6c9f-4597-acab-21246d3c2425",
   "metadata": {},
   "outputs": [
    {
     "data": {
      "text/plain": [
       "10"
      ]
     },
     "execution_count": 37,
     "metadata": {},
     "output_type": "execute_result"
    }
   ],
   "source": [
    "suma = c.add(d)\n",
    "suma.getInfo()"
   ]
  },
  {
   "cell_type": "code",
   "execution_count": 38,
   "id": "afcfc2d0-ad3d-4585-a28a-4de69fee4cc4",
   "metadata": {},
   "outputs": [
    {
     "data": {
      "text/plain": [
       "10"
      ]
     },
     "execution_count": 38,
     "metadata": {},
     "output_type": "execute_result"
    }
   ],
   "source": [
    "7+3"
   ]
  },
  {
   "cell_type": "markdown",
   "id": "fd6e5388-2348-4834-a5b1-c6dc1514aa8a",
   "metadata": {},
   "source": [
    "### Resta"
   ]
  },
  {
   "cell_type": "code",
   "execution_count": 39,
   "id": "67cb36ec-4a7d-4bdb-92cb-ed5f5b871bbc",
   "metadata": {},
   "outputs": [
    {
     "data": {
      "text/plain": [
       "4"
      ]
     },
     "execution_count": 39,
     "metadata": {},
     "output_type": "execute_result"
    }
   ],
   "source": [
    "resta = c.subtract(d)\n",
    "resta.getInfo()"
   ]
  },
  {
   "cell_type": "code",
   "execution_count": 40,
   "id": "41581ab3-5fb3-4cbc-8ff3-8c1c1e864662",
   "metadata": {},
   "outputs": [
    {
     "data": {
      "text/plain": [
       "4"
      ]
     },
     "execution_count": 40,
     "metadata": {},
     "output_type": "execute_result"
    }
   ],
   "source": [
    "7-3"
   ]
  },
  {
   "cell_type": "markdown",
   "id": "b84085b5-cfd9-4b7c-b561-1cef59c267c6",
   "metadata": {},
   "source": [
    "### Multiplicación"
   ]
  },
  {
   "cell_type": "code",
   "execution_count": 41,
   "id": "db7011a0-5e13-4e7c-9c02-5caefa3dc09f",
   "metadata": {},
   "outputs": [
    {
     "data": {
      "text/plain": [
       "21"
      ]
     },
     "execution_count": 41,
     "metadata": {},
     "output_type": "execute_result"
    }
   ],
   "source": [
    "multiplo = c.multiply(d)\n",
    "multiplo.getInfo()"
   ]
  },
  {
   "cell_type": "code",
   "execution_count": 42,
   "id": "8d064c9f-36ce-485f-a4ac-236f600c86b8",
   "metadata": {},
   "outputs": [
    {
     "data": {
      "text/plain": [
       "21"
      ]
     },
     "execution_count": 42,
     "metadata": {},
     "output_type": "execute_result"
    }
   ],
   "source": [
    "7*3"
   ]
  },
  {
   "cell_type": "markdown",
   "id": "d667fefd-67a6-4ae0-98de-e67970fc9ee1",
   "metadata": {},
   "source": [
    "### división"
   ]
  },
  {
   "cell_type": "code",
   "execution_count": 43,
   "id": "487a2164-5260-4bb9-9654-e1b066704215",
   "metadata": {},
   "outputs": [
    {
     "data": {
      "text/plain": [
       "2.3333333333333335"
      ]
     },
     "execution_count": 43,
     "metadata": {},
     "output_type": "execute_result"
    }
   ],
   "source": [
    "divide = c.divide(d)\n",
    "divide.getInfo()"
   ]
  },
  {
   "cell_type": "code",
   "execution_count": 44,
   "id": "9dc0889a-102a-447c-a8e4-149a2bbb3f7c",
   "metadata": {},
   "outputs": [
    {
     "data": {
      "text/plain": [
       "2.3333333333333335"
      ]
     },
     "execution_count": 44,
     "metadata": {},
     "output_type": "execute_result"
    }
   ],
   "source": [
    "7/3"
   ]
  },
  {
   "cell_type": "markdown",
   "id": "31c6d556-99f8-44ed-8bcf-d7ae2f0f0748",
   "metadata": {},
   "source": [
    "### Raíz cuadrado"
   ]
  },
  {
   "cell_type": "code",
   "execution_count": 45,
   "id": "af4db6e0-40cb-46eb-9e5f-524e0745b227",
   "metadata": {},
   "outputs": [
    {
     "data": {
      "text/plain": [
       "2.6457513110645907"
      ]
     },
     "execution_count": 45,
     "metadata": {},
     "output_type": "execute_result"
    }
   ],
   "source": [
    "raiz = c.sqrt()\n",
    "raiz.getInfo()"
   ]
  },
  {
   "cell_type": "code",
   "execution_count": 46,
   "id": "ac3b6088-790f-4bcc-89cd-389ae2383d00",
   "metadata": {},
   "outputs": [
    {
     "data": {
      "text/plain": [
       "2.6457513110645907"
      ]
     },
     "execution_count": 46,
     "metadata": {},
     "output_type": "execute_result"
    }
   ],
   "source": [
    "math.sqrt(7)"
   ]
  },
  {
   "cell_type": "markdown",
   "id": "f4694207",
   "metadata": {},
   "source": [
    "### Exponente"
   ]
  },
  {
   "cell_type": "code",
   "execution_count": 47,
   "id": "99266387-67fe-4dd9-a32a-b62b1568f9d2",
   "metadata": {},
   "outputs": [
    {
     "data": {
      "text/plain": [
       "20.085536923187668"
      ]
     },
     "execution_count": 47,
     "metadata": {},
     "output_type": "execute_result"
    }
   ],
   "source": [
    "# Calcula el número de Euler e elevado a la potencia de la entrada.\n",
    "exponte = d.exp()\n",
    "exponte.getInfo()"
   ]
  },
  {
   "cell_type": "code",
   "execution_count": 48,
   "id": "502e3301-4594-4cba-a410-4e6ca5261a0e",
   "metadata": {},
   "outputs": [
    {
     "data": {
      "text/plain": [
       "20.085536923187668"
      ]
     },
     "execution_count": 48,
     "metadata": {},
     "output_type": "execute_result"
    }
   ],
   "source": [
    "# El método numérico de Python exp () devuelve un resultado exponencial de x: ex \n",
    "math.exp(3)"
   ]
  },
  {
   "cell_type": "markdown",
   "id": "fc01b004-3a88-489c-87c5-03dae932ac1a",
   "metadata": {},
   "source": [
    "## Operaciones Trigonométricas"
   ]
  },
  {
   "cell_type": "markdown",
   "id": "c599fdf6-3e6e-480f-93b1-671b429f7c1b",
   "metadata": {},
   "source": [
    "### Coseno"
   ]
  },
  {
   "cell_type": "code",
   "execution_count": 49,
   "id": "80033d28-540e-432f-82be-cc5a8e215f59",
   "metadata": {},
   "outputs": [
    {
     "data": {
      "text/plain": [
       "0.7539022543433046"
      ]
     },
     "execution_count": 49,
     "metadata": {},
     "output_type": "execute_result"
    }
   ],
   "source": [
    "coseno = c.cos()\n",
    "coseno.getInfo()"
   ]
  },
  {
   "cell_type": "code",
   "execution_count": 50,
   "id": "7f99d4b3-d47a-4198-98e1-0e527c2bbb20",
   "metadata": {},
   "outputs": [
    {
     "data": {
      "text/plain": [
       "0.7539022543433046"
      ]
     },
     "execution_count": 50,
     "metadata": {},
     "output_type": "execute_result"
    }
   ],
   "source": [
    "math.cos(7)"
   ]
  },
  {
   "cell_type": "markdown",
   "id": "32ec7738-ca01-4e83-a682-5203931a6413",
   "metadata": {},
   "source": [
    "### Seno"
   ]
  },
  {
   "cell_type": "code",
   "execution_count": 51,
   "id": "ac0d3401-6259-45cf-8f1b-26a4aaa0091b",
   "metadata": {},
   "outputs": [
    {
     "data": {
      "text/plain": [
       "0.6569865987187891"
      ]
     },
     "execution_count": 51,
     "metadata": {},
     "output_type": "execute_result"
    }
   ],
   "source": [
    "seno = c.sin()\n",
    "seno.getInfo()"
   ]
  },
  {
   "cell_type": "code",
   "execution_count": 52,
   "id": "957bdd4b-814f-400a-8c44-1f7c41967736",
   "metadata": {},
   "outputs": [
    {
     "data": {
      "text/plain": [
       "0.6569865987187891"
      ]
     },
     "execution_count": 52,
     "metadata": {},
     "output_type": "execute_result"
    }
   ],
   "source": [
    "math.sin(7)"
   ]
  },
  {
   "cell_type": "markdown",
   "id": "564b58af-300f-4cbd-8513-6c4196b3f382",
   "metadata": {},
   "source": [
    "### Tangente"
   ]
  },
  {
   "cell_type": "code",
   "execution_count": 53,
   "id": "8d1a86b3-338c-4bb6-81d4-940161c0cab6",
   "metadata": {},
   "outputs": [
    {
     "data": {
      "text/plain": [
       "0.8714479827243188"
      ]
     },
     "execution_count": 53,
     "metadata": {},
     "output_type": "execute_result"
    }
   ],
   "source": [
    "tangente = c.tan() # tangente de entrada radianes\n",
    "tangente.getInfo()"
   ]
  },
  {
   "cell_type": "code",
   "execution_count": 54,
   "id": "5ca37263-8cd6-4b1a-b17a-c3b4d334d2a8",
   "metadata": {},
   "outputs": [
    {
     "data": {
      "text/plain": [
       "0.8714479827243188"
      ]
     },
     "execution_count": 54,
     "metadata": {},
     "output_type": "execute_result"
    }
   ],
   "source": [
    "math.tan(7)"
   ]
  },
  {
   "cell_type": "code",
   "execution_count": 55,
   "id": "29541ab9-5114-4cd0-a70b-88c5124ef402",
   "metadata": {},
   "outputs": [
    {
     "data": {
      "text/plain": [
       "49.93029147529294"
      ]
     },
     "execution_count": 55,
     "metadata": {},
     "output_type": "execute_result"
    }
   ],
   "source": [
    "# Determinar de radianes a sexagesimal\n",
    "f = tangente.multiply(180).divide(math.pi)\n",
    "f.getInfo()"
   ]
  },
  {
   "cell_type": "code",
   "execution_count": 56,
   "id": "e601597a-541e-49ce-ba07-b883dd110920",
   "metadata": {},
   "outputs": [
    {
     "data": {
      "text/plain": [
       "49.93029147529294"
      ]
     },
     "execution_count": 56,
     "metadata": {},
     "output_type": "execute_result"
    }
   ],
   "source": [
    "math.tan(7)*180/math.pi"
   ]
  },
  {
   "cell_type": "code",
   "execution_count": null,
   "id": "a550aaf2-37d5-4ef5-82c5-c45a91237f42",
   "metadata": {},
   "outputs": [],
   "source": []
  }
 ],
 "metadata": {
  "kernelspec": {
   "display_name": "Python 3",
   "language": "python",
   "name": "python3"
  },
  "language_info": {
   "codemirror_mode": {
    "name": "ipython",
    "version": 3
   },
   "file_extension": ".py",
   "mimetype": "text/x-python",
   "name": "python",
   "nbconvert_exporter": "python",
   "pygments_lexer": "ipython3",
   "version": "3.7.10"
  },
  "toc": {
   "base_numbering": 1,
   "nav_menu": {},
   "number_sections": true,
   "sideBar": true,
   "skip_h1_title": false,
   "title_cell": "Table of Contents",
   "title_sidebar": "Contents",
   "toc_cell": false,
   "toc_position": {
    "height": "calc(100% - 180px)",
    "left": "10px",
    "top": "150px",
    "width": "384px"
   },
   "toc_section_display": true,
   "toc_window_display": true
  }
 },
 "nbformat": 4,
 "nbformat_minor": 5
}
