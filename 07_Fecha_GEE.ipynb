{
 "cells": [
  {
   "cell_type": "markdown",
   "id": "15c52386-de27-4c2d-a588-749c3befc182",
   "metadata": {},
   "source": [
    "# Tipo dato fecha GEE"
   ]
  },
  {
   "cell_type": "markdown",
   "id": "3abfef94-27f1-479b-85f0-1865ac3f7fcd",
   "metadata": {},
   "source": [
    "## **Dates**\n",
    "\n",
    "Los objetos de fecha son la forma en que Earth Engine representa el tiempo. Como en los ejemplos anteriores, es importante distinguir entre un objeto \"Python Date\" y un objeto Earth Engine `ee.Date`.\n",
    "  "
   ]
  },
  {
   "cell_type": "markdown",
   "id": "cd69ee98-8373-4e82-85cc-ecbf9f87c882",
   "metadata": {},
   "source": [
    "Información de tipo de datos fecha GEE: https://developers.google.com/earth-engine/apidocs/ee-date"
   ]
  },
  {
   "cell_type": "code",
   "execution_count": 1,
   "id": "de7a5a4c-621c-4828-bd84-0439c9e7dea0",
   "metadata": {},
   "outputs": [],
   "source": [
    "# Importar paquete GEE\n",
    "import ee\n",
    "ee.Initialize()"
   ]
  },
  {
   "cell_type": "markdown",
   "id": "87651d2a-0564-4aac-9d11-e0660142bd44",
   "metadata": {},
   "source": [
    "## Crear fecha en GEE"
   ]
  },
  {
   "cell_type": "code",
   "execution_count": 2,
   "id": "6c0d47c8-aaff-41f8-8355-b3f14640fcbb",
   "metadata": {},
   "outputs": [
    {
     "data": {
      "text/plain": [
       "{'type': 'Date', 'value': 1110240000000}"
      ]
     },
     "execution_count": 2,
     "metadata": {},
     "output_type": "execute_result"
    }
   ],
   "source": [
    "# Construye un nuevo objeto Fecha GEE\n",
    "fecha1_ee = ee.Date(\"2005-03-08\")\n",
    "fecha2_ee = ee.Date(\"2010-12-31\")\n",
    "fecha1_ee.getInfo()"
   ]
  },
  {
   "cell_type": "markdown",
   "id": "16cfee18-e08d-4d4c-8aa2-a6dc1a602e50",
   "metadata": {},
   "source": [
    "### Extraer datos fecha"
   ]
  },
  {
   "cell_type": "code",
   "execution_count": 3,
   "id": "93c22c7f-d8d9-46fa-a0e8-18d1776c467c",
   "metadata": {},
   "outputs": [],
   "source": [
    "# Extraer informacion fecha\n",
    "year = ee.Number.parse(fecha1_ee.format(\"yyyy\"))\n",
    "month = ee.Number.parse(fecha1_ee.format(\"MM\"))\n",
    "day = ee.Number.parse(fecha1_ee.format(\"dd\"))"
   ]
  },
  {
   "cell_type": "code",
   "execution_count": 8,
   "id": "08c3c173-7a43-4ece-a642-9bb4b59e22ce",
   "metadata": {},
   "outputs": [
    {
     "name": "stdout",
     "output_type": "stream",
     "text": [
      "year: 2005 month: 3 day: 8\n"
     ]
    }
   ],
   "source": [
    "print(\"year:\", year.getInfo(), \"month:\", month.getInfo(), \"day:\", day.getInfo())"
   ]
  },
  {
   "cell_type": "markdown",
   "id": "54efc85e-feeb-44c0-ba7f-248e4b06479f",
   "metadata": {},
   "source": [
    "### Crear fecha GEE"
   ]
  },
  {
   "cell_type": "code",
   "execution_count": 9,
   "id": "c59befca-c6f0-448a-90f1-19659e4359f8",
   "metadata": {},
   "outputs": [
    {
     "data": {
      "text/plain": [
       "{'type': 'Date', 'value': 1526342400000}"
      ]
     },
     "execution_count": 9,
     "metadata": {},
     "output_type": "execute_result"
    }
   ],
   "source": [
    "date1 = ee.Date.fromYMD(year,month,day)\n",
    "date2 = ee.Date.fromYMD(2018,5,15)\n",
    "date2.getInfo()"
   ]
  },
  {
   "cell_type": "markdown",
   "id": "5843fd71-eff8-47f2-8cf0-300a3d869286",
   "metadata": {},
   "source": [
    "### Extraer fecha de imagen satelite"
   ]
  },
  {
   "cell_type": "code",
   "execution_count": 10,
   "id": "50a395f5-f22e-438a-91c0-1a720cd09f87",
   "metadata": {},
   "outputs": [],
   "source": [
    "# Cargar una imagen Landsat 5 TM\n",
    "collection = ee.ImageCollection(\"LANDSAT/LT05/C01/T1\")\\\n",
    "               .filterDate(\"2009-01-01\",\"2010-01-01\")\\\n",
    "               .filterMetadata('WRS_PATH', 'equals', 3)\\\n",
    "               .filterMetadata('WRS_ROW', 'equals', 69)"
   ]
  },
  {
   "cell_type": "code",
   "execution_count": 11,
   "id": "f14383bf-ab7e-46d2-ba6e-58ec4bb28ceb",
   "metadata": {},
   "outputs": [],
   "source": [
    "# Funcion de extraer fecha\n",
    "def list_coll(coll):\n",
    "    def func_ejv(im):\n",
    "        return ee.String(ee.Image(im).date().format('YYYY/MM/dd')).slice(0)\n",
    "    return coll.toList(coll.size(), 0).map(func_ejv)"
   ]
  },
  {
   "cell_type": "code",
   "execution_count": 13,
   "id": "b73d24b3-a9c0-4246-99e6-4b3fd926940b",
   "metadata": {},
   "outputs": [
    {
     "name": "stdout",
     "output_type": "stream",
     "text": [
      "['2009/04/06', '2009/05/08', '2009/05/24', '2009/06/09', '2009/06/25', '2009/07/11', '2009/07/27', '2009/08/12', '2009/08/28', '2009/09/13', '2009/10/31']\n"
     ]
    }
   ],
   "source": [
    "fecha = list_coll(collection)\n",
    "print(fecha.getInfo())"
   ]
  }
 ],
 "metadata": {
  "kernelspec": {
   "display_name": "Python 3",
   "language": "python",
   "name": "python3"
  },
  "language_info": {
   "codemirror_mode": {
    "name": "ipython",
    "version": 3
   },
   "file_extension": ".py",
   "mimetype": "text/x-python",
   "name": "python",
   "nbconvert_exporter": "python",
   "pygments_lexer": "ipython3",
   "version": "3.7.10"
  }
 },
 "nbformat": 4,
 "nbformat_minor": 5
}
