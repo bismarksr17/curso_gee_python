{
 "cells": [
  {
   "cell_type": "markdown",
   "id": "16417e3f-b25e-4af0-b11f-d02f639083ae",
   "metadata": {},
   "source": [
    "# Caracteristica Sentinel-2 RS google Earth Engine "
   ]
  },
  {
   "cell_type": "code",
   "execution_count": 1,
   "id": "28e3cf4c-f3b5-41d9-ae93-d942d336dd76",
   "metadata": {},
   "outputs": [],
   "source": [
    "# Importar paquete GEE\n",
    "import ee\n",
    "ee.Initialize()"
   ]
  },
  {
   "cell_type": "markdown",
   "id": "dd1d0fce-aa1b-4e70-8d3e-2d960f9ccf23",
   "metadata": {},
   "source": [
    "## Filtro zona estudio mediante GEE"
   ]
  },
  {
   "cell_type": "code",
   "execution_count": 2,
   "id": "7c7076f8-8ee2-4bd8-bc5e-fe3c89294104",
   "metadata": {},
   "outputs": [],
   "source": [
    "# Agregar un shp GEE\n",
    "zona_ee = ee.FeatureCollection(\"users/bravomoralesnino/SHP/ZONA_19S\")"
   ]
  },
  {
   "cell_type": "code",
   "execution_count": 3,
   "id": "d5371cd4-3599-4d81-9503-8ef9a72e76b9",
   "metadata": {},
   "outputs": [],
   "source": [
    "# Importar geemap\n",
    "import geemap\n",
    "Map = geemap.Map(basemap='SATELLITE')"
   ]
  },
  {
   "cell_type": "code",
   "execution_count": 4,
   "id": "cfa5f4fe-dc46-4b1e-9b6a-612e6b3dcb9b",
   "metadata": {},
   "outputs": [],
   "source": [
    "geometria = zona_ee.geometry()\n",
    "Map.centerObject(geometria, 11)"
   ]
  },
  {
   "cell_type": "code",
   "execution_count": 5,
   "id": "9b1897da-7da2-452d-8296-c3c37a388ccf",
   "metadata": {},
   "outputs": [
    {
     "data": {
      "application/vnd.jupyter.widget-view+json": {
       "model_id": "7543c0a0582f453a838918c7172e8223",
       "version_major": 2,
       "version_minor": 0
      },
      "text/plain": [
       "Map(center=[-12.908744902436744, -69.9947155021359], controls=(WidgetControl(options=['position', 'transparent…"
      ]
     },
     "metadata": {},
     "output_type": "display_data"
    }
   ],
   "source": [
    "Map.addLayer(zona_ee,{\"color\" : \"00FF11\"}, name = \"Zona\")\n",
    "Map"
   ]
  },
  {
   "cell_type": "markdown",
   "id": "d3002b6a-7ce2-410c-a41c-acf89c30d90c",
   "metadata": {},
   "source": [
    "## Cargar colleccion Sentinel-2"
   ]
  },
  {
   "cell_type": "code",
   "execution_count": 6,
   "id": "caaf9754-ce61-4177-8faa-b624d47a1f9b",
   "metadata": {},
   "outputs": [],
   "source": [
    "# Coleccion de Sentinel-2 SR\n",
    "S2_RS = ee.ImageCollection(\"COPERNICUS/S2_SR\")\\\n",
    "          .filterDate('2019-01-01','2019-12-31')\\\n",
    "          .filterMetadata('CLOUDY_PIXEL_PERCENTAGE','less_than',20)\\\n",
    "          .filterBounds(zona_ee)"
   ]
  },
  {
   "cell_type": "code",
   "execution_count": 7,
   "id": "39631afc-f1d5-43f3-8858-779687ebc06a",
   "metadata": {},
   "outputs": [
    {
     "name": "stdout",
     "output_type": "stream",
     "text": [
      "Cantidad de imagenes S2_RS: 103\n"
     ]
    }
   ],
   "source": [
    "# Conteo de imagenes\n",
    "count = S2_RS.size()\n",
    "print(\"Cantidad de imagenes S2_RS:\", count.getInfo())"
   ]
  },
  {
   "cell_type": "markdown",
   "id": "93e18bac-eaad-40b0-a6b1-23a26cdfcfdc",
   "metadata": {},
   "source": [
    "## Determinar ID, Fecha, nubosidad y TILE"
   ]
  },
  {
   "cell_type": "code",
   "execution_count": 8,
   "id": "05ff3e4a-44a5-45ef-a6ed-4cdec67ead23",
   "metadata": {},
   "outputs": [
    {
     "name": "stdout",
     "output_type": "stream",
     "text": [
      "['20190308T144729_20190308T144826_T19LDG', '20190328T144729_20190328T145108_T19LCF', '20190328T144729_20190328T145108_T19LDF', '20190328T144729_20190328T145108_T19LDG', '20190410T145729_20190410T150251_T19LCG', '20190410T145729_20190410T150251_T19LDF', '20190410T145729_20190410T150251_T19LDG', '20190412T144731_20190412T145504_T19LDG', '20190515T145731_20190515T150214_T19LCG', '20190515T145731_20190515T150214_T19LDF', '20190515T145731_20190515T150214_T19LDG', '20190517T144739_20190517T145618_T19LDF', '20190517T144739_20190517T145618_T19LDG', '20190604T145731_20190604T145727_T19LDG', '20190606T144739_20190606T145618_T19LCF', '20190606T144739_20190606T145618_T19LDF', '20190606T144739_20190606T145618_T19LDG', '20190619T145739_20190619T145831_T19LCG', '20190619T145739_20190619T145831_T19LDG', '20190624T145731_20190624T150226_T19LCF', '20190624T145731_20190624T150226_T19LCG', '20190624T145731_20190624T150226_T19LDF', '20190624T145731_20190624T150226_T19LDG', '20190626T144739_20190626T145618_T19LDG', '20190629T145739_20190629T150349_T19LCF', '20190629T145739_20190629T150349_T19LCG', '20190629T145739_20190629T150349_T19LDG', '20190701T144741_20190701T145503_T19LDG', '20190704T145731_20190704T150215_T19LDG', '20190709T145739_20190709T150548_T19LCF', '20190709T145739_20190709T150548_T19LCG', '20190709T145739_20190709T150548_T19LDF', '20190709T145739_20190709T150548_T19LDG', '20190711T144741_20190711T145503_T19LCF', '20190711T144741_20190711T145503_T19LDF', '20190711T144741_20190711T145503_T19LDG', '20190714T145731_20190714T150216_T19LCG', '20190714T145731_20190714T150216_T19LDG', '20190719T145739_20190719T150548_T19LCG', '20190719T145739_20190719T150548_T19LDG', '20190721T144741_20190721T144736_T19LDG', '20190729T145739_20190729T150547_T19LCF', '20190729T145739_20190729T150547_T19LCG', '20190729T145739_20190729T150547_T19LDF', '20190729T145739_20190729T150547_T19LDG', '20190731T144741_20190731T144736_T19LCF', '20190731T144741_20190731T144736_T19LDF', '20190731T144741_20190731T144736_T19LDG', '20190731T144741_20190731T145634_T19LCF', '20190731T144741_20190731T145634_T19LDF', '20190805T144739_20190805T145617_T19LDF', '20190805T144739_20190805T145617_T19LDG', '20190808T145729_20190808T145732_T19LCF', '20190808T145729_20190808T145732_T19LCG', '20190808T145729_20190808T145732_T19LDF', '20190808T145729_20190808T145732_T19LDG', '20190810T144741_20190810T144851_T19LDF', '20190810T144741_20190810T144851_T19LDG', '20190815T144739_20190815T145519_T19LDF', '20190815T144739_20190815T145519_T19LDG', '20190818T145729_20190818T150545_T19LCF', '20190818T145729_20190818T150545_T19LCG', '20190818T145729_20190818T150545_T19LDF', '20190818T145729_20190818T150545_T19LDG', '20190823T145731_20190823T150212_T19LCF', '20190823T145731_20190823T150212_T19LCG', '20190823T145731_20190823T150212_T19LDF', '20190823T145731_20190823T150212_T19LDG', '20190825T144739_20190825T145614_T19LDF', '20190825T144739_20190825T145614_T19LDG', '20190828T145729_20190828T150616_T19LCF', '20190828T145729_20190828T150616_T19LCG', '20190828T145729_20190828T150616_T19LDF', '20190830T144731_20190830T145459_T19LCF', '20190830T144731_20190830T145459_T19LDF', '20190830T144731_20190830T145459_T19LDG', '20190914T144729_20190914T145610_T19LCF', '20190914T144729_20190914T145610_T19LDF', '20190914T144729_20190914T145610_T19LDG', '20190917T145729_20190917T150535_T19LCF', '20190917T145729_20190917T150535_T19LCG', '20190917T145729_20190917T150535_T19LDF', '20190917T145729_20190917T150535_T19LDG', '20190919T144731_20190919T145509_T19LCF', '20190919T144731_20190919T145509_T19LDF', '20190919T144731_20190919T145509_T19LDG', '20190924T144729_20190924T144943_T19LCF', '20190924T144729_20190924T144943_T19LDF', '20190924T144729_20190924T144943_T19LDG', '20190927T145729_20190927T150539_T19LCF', '20190927T145729_20190927T150539_T19LCG', '20190927T145729_20190927T150539_T19LDF', '20190927T145729_20190927T150539_T19LDG', '20190929T144731_20190929T145611_T19LCF', '20190929T144731_20190929T145611_T19LDF', '20190929T144731_20190929T145611_T19LDG', '20191009T144731_20191009T145352_T19LCF', '20191009T144731_20191009T145352_T19LDF', '20191009T144731_20191009T145352_T19LDG', '20191014T144729_20191014T145611_T19LDG', '20191118T144731_20191118T144727_T19LCF', '20191118T144731_20191118T144727_T19LDF', '20191126T145719_20191126T145721_T19LDG']\n"
     ]
    }
   ],
   "source": [
    "# Imprimir la lista de ID Imagenes\n",
    "ID_S2 = S2_RS.reduceColumns(ee.Reducer.toList(),[\"system:index\"]).get(\"list\").getInfo()\n",
    "print(ID_S2)"
   ]
  },
  {
   "cell_type": "code",
   "execution_count": 9,
   "id": "8725b6e0-e454-4bba-92f0-c178ecd0177f",
   "metadata": {},
   "outputs": [],
   "source": [
    "# funcion para determinar la fecha coleccion imagen\n",
    "def list_coll(coll):\n",
    "    def func_ejv(im):\n",
    "        return ee.String(ee.Image(im).date().format('YYYY/MM/dd')).slice(0)\n",
    "    return coll.toList(coll.size(), 0).map(func_ejv)"
   ]
  },
  {
   "cell_type": "code",
   "execution_count": 10,
   "id": "182355e6-d857-4c18-b35a-7f2472d71f05",
   "metadata": {},
   "outputs": [
    {
     "name": "stdout",
     "output_type": "stream",
     "text": [
      "['2019/03/08', '2019/03/28', '2019/03/28', '2019/03/28', '2019/04/10', '2019/04/10', '2019/04/10', '2019/04/12', '2019/05/15', '2019/05/15', '2019/05/15', '2019/05/17', '2019/05/17', '2019/06/04', '2019/06/06', '2019/06/06', '2019/06/06', '2019/06/19', '2019/06/19', '2019/06/24', '2019/06/24', '2019/06/24', '2019/06/24', '2019/06/26', '2019/06/29', '2019/06/29', '2019/06/29', '2019/07/01', '2019/07/04', '2019/07/09', '2019/07/09', '2019/07/09', '2019/07/09', '2019/07/11', '2019/07/11', '2019/07/11', '2019/07/14', '2019/07/14', '2019/07/19', '2019/07/19', '2019/07/21', '2019/07/29', '2019/07/29', '2019/07/29', '2019/07/29', '2019/07/31', '2019/07/31', '2019/07/31', '2019/07/31', '2019/07/31', '2019/08/05', '2019/08/05', '2019/08/08', '2019/08/08', '2019/08/08', '2019/08/08', '2019/08/10', '2019/08/10', '2019/08/15', '2019/08/15', '2019/08/18', '2019/08/18', '2019/08/18', '2019/08/18', '2019/08/23', '2019/08/23', '2019/08/23', '2019/08/23', '2019/08/25', '2019/08/25', '2019/08/28', '2019/08/28', '2019/08/28', '2019/08/30', '2019/08/30', '2019/08/30', '2019/09/14', '2019/09/14', '2019/09/14', '2019/09/17', '2019/09/17', '2019/09/17', '2019/09/17', '2019/09/19', '2019/09/19', '2019/09/19', '2019/09/24', '2019/09/24', '2019/09/24', '2019/09/27', '2019/09/27', '2019/09/27', '2019/09/27', '2019/09/29', '2019/09/29', '2019/09/29', '2019/10/09', '2019/10/09', '2019/10/09', '2019/10/14', '2019/11/18', '2019/11/18', '2019/11/26']\n"
     ]
    }
   ],
   "source": [
    "fecha = list_coll(S2_RS).getInfo()\n",
    "print(fecha)"
   ]
  },
  {
   "cell_type": "code",
   "execution_count": 11,
   "id": "417336c6-0448-4e9a-9acb-7de9ff711a49",
   "metadata": {},
   "outputs": [
    {
     "name": "stdout",
     "output_type": "stream",
     "text": [
      "[5.084996, 16.683913, 7.139764, 15.877965, 6.415063, 10.712649, 18.636773, 10.374877, 0.056921, 3.960565, 0.050506, 12.996968, 0.049385, 5.967882, 12.984062, 4.444776, 2.883065, 15.34465, 17.125631, 2.474212, 0.068716, 6.248259, 0.063387, 12.786019, 17.598377, 4.473067, 0.309651, 5.483015, 18.935463, 14.929464, 3.352714, 8.669354, 0.077748, 11.435824, 8.498756, 0.095933, 6.410519, 5.530022, 16.336369, 5.302226, 11.068576, 4.450205, 0.463091, 10.049177, 4.567756, 1.062707, 0.138314, 0.080042, 9.322644, 4.096712, 3.824454, 0.082842, 2.046623, 0.067276, 0.208973, 0.076762, 14.170798, 1.538121, 5.095553, 0.090815, 1.882379, 0.072412, 0.520415, 0.066222, 15.771254, 0.233632, 1.358211, 0.087201, 9.494497, 15.935582, 4.717994, 11.14406, 0.923759, 7.612037, 2.555425, 0.32214, 6.794414, 1.24152, 5.261013, 10.015178, 0.171672, 1.163979, 0.390985, 19.730862, 18.407473, 2.936536, 2.1974, 11.161244, 13.895004, 13.974067, 10.199074, 0.467127, 7.458318, 7.075314, 6.527762, 4.284217, 17.636127, 4.806805, 9.749969, 10.332519, 13.613103, 9.905438, 18.943369]\n"
     ]
    }
   ],
   "source": [
    "# Imprimir la lista Porcentaje Nubosidad\n",
    "porcentaje_nube = S2_RS.reduceColumns(ee.Reducer.toList(),[\"CLOUDY_PIXEL_PERCENTAGE\"]).get(\"list\").getInfo()\n",
    "print(porcentaje_nube)"
   ]
  },
  {
   "cell_type": "code",
   "execution_count": 12,
   "id": "37cbff56-323d-43f5-bad4-ff6f2952d8cd",
   "metadata": {},
   "outputs": [
    {
     "name": "stdout",
     "output_type": "stream",
     "text": [
      "['19LDG', '19LCF', '19LDF', '19LDG', '19LCG', '19LDF', '19LDG', '19LDG', '19LCG', '19LDF', '19LDG', '19LDF', '19LDG', '19LDG', '19LCF', '19LDF', '19LDG', '19LCG', '19LDG', '19LCF', '19LCG', '19LDF', '19LDG', '19LDG', '19LCF', '19LCG', '19LDG', '19LDG', '19LDG', '19LCF', '19LCG', '19LDF', '19LDG', '19LCF', '19LDF', '19LDG', '19LCG', '19LDG', '19LCG', '19LDG', '19LDG', '19LCF', '19LCG', '19LDF', '19LDG', '19LCF', '19LDF', '19LDG', '19LCF', '19LDF', '19LDF', '19LDG', '19LCF', '19LCG', '19LDF', '19LDG', '19LDF', '19LDG', '19LDF', '19LDG', '19LCF', '19LCG', '19LDF', '19LDG', '19LCF', '19LCG', '19LDF', '19LDG', '19LDF', '19LDG', '19LCF', '19LCG', '19LDF', '19LCF', '19LDF', '19LDG', '19LCF', '19LDF', '19LDG', '19LCF', '19LCG', '19LDF', '19LDG', '19LCF', '19LDF', '19LDG', '19LCF', '19LDF', '19LDG', '19LCF', '19LCG', '19LDF', '19LDG', '19LCF', '19LDF', '19LDG', '19LCF', '19LDF', '19LDG', '19LDG', '19LCF', '19LDF', '19LDG']\n"
     ]
    }
   ],
   "source": [
    "# Imprimir la lista MGRS_TILE\n",
    "TILE = S2_RS.reduceColumns(ee.Reducer.toList(),[\"MGRS_TILE\"]).get(\"list\").getInfo()\n",
    "print(TILE)"
   ]
  },
  {
   "cell_type": "code",
   "execution_count": 13,
   "id": "854a79c1-725a-4274-8465-6954b606fa78",
   "metadata": {},
   "outputs": [],
   "source": [
    "# Crear un diccionario con las listas\n",
    "dic = {\"ID\": ID_S2, \"Fecha\": fecha,\"Porcentaje Nube\": porcentaje_nube, \"TILE\": TILE}"
   ]
  },
  {
   "cell_type": "code",
   "execution_count": 14,
   "id": "68d53655-39a8-4b7c-9e05-ed3828760206",
   "metadata": {},
   "outputs": [],
   "source": [
    "import pandas as pd"
   ]
  },
  {
   "cell_type": "code",
   "execution_count": 15,
   "id": "5feedc9a-f837-4be4-b860-c7b3665d7913",
   "metadata": {},
   "outputs": [
    {
     "name": "stdout",
     "output_type": "stream",
     "text": [
      "                                         ID       Fecha  Porcentaje Nube  \\\n",
      "0    20190308T144729_20190308T144826_T19LDG  2019/03/08         5.084996   \n",
      "1    20190328T144729_20190328T145108_T19LCF  2019/03/28        16.683913   \n",
      "2    20190328T144729_20190328T145108_T19LDF  2019/03/28         7.139764   \n",
      "3    20190328T144729_20190328T145108_T19LDG  2019/03/28        15.877965   \n",
      "4    20190410T145729_20190410T150251_T19LCG  2019/04/10         6.415063   \n",
      "..                                      ...         ...              ...   \n",
      "98   20191009T144731_20191009T145352_T19LDG  2019/10/09         9.749969   \n",
      "99   20191014T144729_20191014T145611_T19LDG  2019/10/14        10.332519   \n",
      "100  20191118T144731_20191118T144727_T19LCF  2019/11/18        13.613103   \n",
      "101  20191118T144731_20191118T144727_T19LDF  2019/11/18         9.905438   \n",
      "102  20191126T145719_20191126T145721_T19LDG  2019/11/26        18.943369   \n",
      "\n",
      "      TILE  \n",
      "0    19LDG  \n",
      "1    19LCF  \n",
      "2    19LDF  \n",
      "3    19LDG  \n",
      "4    19LCG  \n",
      "..     ...  \n",
      "98   19LDG  \n",
      "99   19LDG  \n",
      "100  19LCF  \n",
      "101  19LDF  \n",
      "102  19LDG  \n",
      "\n",
      "[103 rows x 4 columns]\n",
      "Tipo de clase:  <class 'dict'>\n"
     ]
    }
   ],
   "source": [
    "# Crear un DataFrame mediante el diccionario\n",
    "df1 = pd.DataFrame(data = dic)\n",
    "print(df1)\n",
    "print(\"Tipo de clase: \", type(dic))"
   ]
  },
  {
   "cell_type": "markdown",
   "id": "e918940b-44e2-417d-be37-299cce585dd6",
   "metadata": {},
   "source": [
    "## Exportar tabla ID, Fecha, Porcentaje Nubosidad"
   ]
  },
  {
   "cell_type": "code",
   "execution_count": 16,
   "id": "b8e07201-0723-40f8-81ef-a24a9a3a704c",
   "metadata": {},
   "outputs": [],
   "source": [
    "import os"
   ]
  },
  {
   "cell_type": "code",
   "execution_count": 17,
   "id": "8c7aa84e-e2ab-479c-90cf-fc3dd6c4b3d8",
   "metadata": {},
   "outputs": [
    {
     "data": {
      "text/plain": [
       "'E:\\\\Teledeteccion_GEE\\\\Python\\\\Datos_Espaciales\\\\Resultado_GEE'"
      ]
     },
     "execution_count": 17,
     "metadata": {},
     "output_type": "execute_result"
    }
   ],
   "source": [
    "ruta_archivos = r\"E:\\Teledeteccion_GEE\\Python\\Datos_Espaciales\\Resultado_GEE\"\n",
    "os.chdir(ruta_archivos) # Cambiar ruta trabajo\n",
    "os.getcwd() # Consultar ruta trabajo"
   ]
  },
  {
   "cell_type": "code",
   "execution_count": 18,
   "id": "cac6e093-2199-4485-9bd6-5ce1cf0f67e9",
   "metadata": {},
   "outputs": [],
   "source": [
    "df1.to_csv(\"file_name_S2.csv\") # relative position"
   ]
  },
  {
   "cell_type": "markdown",
   "id": "6a922a0c-c1e1-4d7a-8ace-aac222fce304",
   "metadata": {},
   "source": [
    "## Seleccion imagen Sentinel-2"
   ]
  },
  {
   "cell_type": "code",
   "execution_count": 19,
   "id": "6aee0d1e-6ef3-4768-bdba-2205314f95c2",
   "metadata": {},
   "outputs": [
    {
     "data": {
      "text/plain": [
       "'20190731T144741_20190731T144736_T19LCF'"
      ]
     },
     "execution_count": 19,
     "metadata": {},
     "output_type": "execute_result"
    }
   ],
   "source": [
    "ID_S2[45]"
   ]
  },
  {
   "cell_type": "code",
   "execution_count": 28,
   "id": "1395ef5f-27ed-4c40-be8e-b79687e18b0f",
   "metadata": {},
   "outputs": [],
   "source": [
    "# Importar imagen Sentinel-2 RS \n",
    "image = ee.Image(\"COPERNICUS/S2_SR\" + \"/\" + ID_S2[52])"
   ]
  },
  {
   "cell_type": "code",
   "execution_count": 29,
   "id": "52603e3e-19c3-4200-b22f-fbc3bd7fe5bd",
   "metadata": {},
   "outputs": [
    {
     "name": "stdout",
     "output_type": "stream",
     "text": [
      "['B1', 'B2', 'B3', 'B4', 'B5', 'B6', 'B7', 'B8', 'B8A', 'B9', 'B11', 'B12', 'AOT', 'WVP', 'SCL', 'TCI_R', 'TCI_G', 'TCI_B', 'MSK_CLDPRB', 'MSK_SNWPRB', 'QA10', 'QA20', 'QA60']\n"
     ]
    }
   ],
   "source": [
    "# Nombre de las bandas\n",
    "print(image.bandNames().getInfo())"
   ]
  },
  {
   "cell_type": "markdown",
   "id": "2329d292-35ff-4f15-984d-bcda93372105",
   "metadata": {},
   "source": [
    "## Seleccionar Bandas"
   ]
  },
  {
   "cell_type": "code",
   "execution_count": 30,
   "id": "25a1919b-504e-40a9-aa98-04c632870825",
   "metadata": {},
   "outputs": [],
   "source": [
    "# Crear nombre por bandas\n",
    "bandas_RS = [\"B1\",\"B2\",\"B3\",\"B4\",\"B5\",\"B6\",\"B7\",\"B8\",\"B9\",\"B11\",\"B12\"]"
   ]
  },
  {
   "cell_type": "code",
   "execution_count": 31,
   "id": "77f529ab-deb3-404f-84bc-841933032c55",
   "metadata": {},
   "outputs": [],
   "source": [
    "# Seleccionar iamgenes por bandas\n",
    "S2_img_RS = image.select(bandas_RS)"
   ]
  },
  {
   "cell_type": "code",
   "execution_count": 32,
   "id": "24c48257-ff07-459a-a237-ecd1cf9cd104",
   "metadata": {},
   "outputs": [
    {
     "data": {
      "text/plain": [
       "['B1', 'B2', 'B3', 'B4', 'B5', 'B6', 'B7', 'B8', 'B9', 'B11', 'B12']"
      ]
     },
     "execution_count": 32,
     "metadata": {},
     "output_type": "execute_result"
    }
   ],
   "source": [
    "# Nombre de las bandas\n",
    "S2_img_RS.bandNames().getInfo()"
   ]
  },
  {
   "cell_type": "code",
   "execution_count": 33,
   "id": "4be41fca-a43f-48f7-9702-13ec8b84c059",
   "metadata": {},
   "outputs": [
    {
     "data": {
      "text/plain": [
       "['DATATAKE_IDENTIFIER',\n",
       " 'AOT_RETRIEVAL_ACCURACY',\n",
       " 'SPACECRAFT_NAME',\n",
       " 'SATURATED_DEFECTIVE_PIXEL_PERCENTAGE',\n",
       " 'system:id',\n",
       " 'MEAN_INCIDENCE_AZIMUTH_ANGLE_B8A',\n",
       " 'CLOUD_SHADOW_PERCENTAGE',\n",
       " 'MEAN_SOLAR_AZIMUTH_ANGLE',\n",
       " 'system:footprint',\n",
       " 'VEGETATION_PERCENTAGE',\n",
       " 'SOLAR_IRRADIANCE_B12',\n",
       " 'system:version',\n",
       " 'SOLAR_IRRADIANCE_B10',\n",
       " 'SENSOR_QUALITY',\n",
       " 'SOLAR_IRRADIANCE_B11',\n",
       " 'GENERATION_TIME',\n",
       " 'SOLAR_IRRADIANCE_B8A',\n",
       " 'FORMAT_CORRECTNESS',\n",
       " 'CLOUD_COVERAGE_ASSESSMENT',\n",
       " 'THIN_CIRRUS_PERCENTAGE',\n",
       " 'system:time_end',\n",
       " 'WATER_VAPOUR_RETRIEVAL_ACCURACY',\n",
       " 'system:time_start',\n",
       " 'DATASTRIP_ID',\n",
       " 'PROCESSING_BASELINE',\n",
       " 'SENSING_ORBIT_NUMBER',\n",
       " 'NODATA_PIXEL_PERCENTAGE',\n",
       " 'SENSING_ORBIT_DIRECTION',\n",
       " 'GENERAL_QUALITY',\n",
       " 'GRANULE_ID',\n",
       " 'REFLECTANCE_CONVERSION_CORRECTION',\n",
       " 'MEDIUM_PROBA_CLOUDS_PERCENTAGE',\n",
       " 'MEAN_INCIDENCE_AZIMUTH_ANGLE_B8',\n",
       " 'DATATAKE_TYPE',\n",
       " 'MEAN_INCIDENCE_AZIMUTH_ANGLE_B9',\n",
       " 'MEAN_INCIDENCE_AZIMUTH_ANGLE_B6',\n",
       " 'MEAN_INCIDENCE_AZIMUTH_ANGLE_B7',\n",
       " 'MEAN_INCIDENCE_AZIMUTH_ANGLE_B4',\n",
       " 'MEAN_INCIDENCE_ZENITH_ANGLE_B1',\n",
       " 'NOT_VEGETATED_PERCENTAGE',\n",
       " 'MEAN_INCIDENCE_AZIMUTH_ANGLE_B5',\n",
       " 'RADIOMETRIC_QUALITY',\n",
       " 'MEAN_INCIDENCE_AZIMUTH_ANGLE_B2',\n",
       " 'MEAN_INCIDENCE_AZIMUTH_ANGLE_B3',\n",
       " 'MEAN_INCIDENCE_ZENITH_ANGLE_B5',\n",
       " 'MEAN_INCIDENCE_AZIMUTH_ANGLE_B1',\n",
       " 'MEAN_INCIDENCE_ZENITH_ANGLE_B4',\n",
       " 'MEAN_INCIDENCE_ZENITH_ANGLE_B3',\n",
       " 'MEAN_INCIDENCE_ZENITH_ANGLE_B2',\n",
       " 'MEAN_INCIDENCE_ZENITH_ANGLE_B9',\n",
       " 'MEAN_INCIDENCE_ZENITH_ANGLE_B8',\n",
       " 'MEAN_INCIDENCE_ZENITH_ANGLE_B7',\n",
       " 'DARK_FEATURES_PERCENTAGE',\n",
       " 'HIGH_PROBA_CLOUDS_PERCENTAGE',\n",
       " 'MEAN_INCIDENCE_ZENITH_ANGLE_B6',\n",
       " 'UNCLASSIFIED_PERCENTAGE',\n",
       " 'MEAN_SOLAR_ZENITH_ANGLE',\n",
       " 'MEAN_INCIDENCE_ZENITH_ANGLE_B8A',\n",
       " 'RADIATIVE_TRANSFER_ACCURACY',\n",
       " 'MGRS_TILE',\n",
       " 'CLOUDY_PIXEL_PERCENTAGE',\n",
       " 'PRODUCT_ID',\n",
       " 'MEAN_INCIDENCE_ZENITH_ANGLE_B10',\n",
       " 'SOLAR_IRRADIANCE_B9',\n",
       " 'SNOW_ICE_PERCENTAGE',\n",
       " 'DEGRADED_MSI_DATA_PERCENTAGE',\n",
       " 'MEAN_INCIDENCE_ZENITH_ANGLE_B11',\n",
       " 'MEAN_INCIDENCE_ZENITH_ANGLE_B12',\n",
       " 'SOLAR_IRRADIANCE_B6',\n",
       " 'MEAN_INCIDENCE_AZIMUTH_ANGLE_B10',\n",
       " 'SOLAR_IRRADIANCE_B5',\n",
       " 'MEAN_INCIDENCE_AZIMUTH_ANGLE_B11',\n",
       " 'SOLAR_IRRADIANCE_B8',\n",
       " 'MEAN_INCIDENCE_AZIMUTH_ANGLE_B12',\n",
       " 'SOLAR_IRRADIANCE_B7',\n",
       " 'SOLAR_IRRADIANCE_B2',\n",
       " 'SOLAR_IRRADIANCE_B1',\n",
       " 'SOLAR_IRRADIANCE_B4',\n",
       " 'GEOMETRIC_QUALITY',\n",
       " 'SOLAR_IRRADIANCE_B3',\n",
       " 'system:asset_size',\n",
       " 'WATER_PERCENTAGE',\n",
       " 'system:index',\n",
       " 'system:bands',\n",
       " 'system:band_names']"
      ]
     },
     "execution_count": 33,
     "metadata": {},
     "output_type": "execute_result"
    }
   ],
   "source": [
    "# Consultar propiedades de los campos metadato\n",
    "S2_img_RS.propertyNames().getInfo()"
   ]
  },
  {
   "cell_type": "markdown",
   "id": "3641e4ac-9380-4bad-985c-ea42478db8b3",
   "metadata": {},
   "source": [
    "## Visualizar Sentinel-2"
   ]
  },
  {
   "cell_type": "code",
   "execution_count": 26,
   "id": "2f7ad3b0-50cd-448f-982c-9f233fc84f74",
   "metadata": {},
   "outputs": [],
   "source": [
    "# Simbologia de sentinel-2 escala 0 - 10000\n",
    "viz_s2 = {\n",
    "    'bands': ['B11', 'B8', 'B2'],\n",
    "    'min': 500,\n",
    "    'max': 5000,\n",
    "    'gamma': 1.2\n",
    "}"
   ]
  },
  {
   "cell_type": "code",
   "execution_count": 34,
   "id": "964d2be7-bc97-41f5-bedc-c70074fa41a7",
   "metadata": {},
   "outputs": [
    {
     "data": {
      "application/vnd.jupyter.widget-view+json": {
       "model_id": "7543c0a0582f453a838918c7172e8223",
       "version_major": 2,
       "version_minor": 0
      },
      "text/plain": [
       "Map(bottom=140816.4545288086, center=[-12.860004340637042, -69.68971252441408], controls=(WidgetControl(option…"
      ]
     },
     "metadata": {},
     "output_type": "display_data"
    }
   ],
   "source": [
    "# Visualizar ESCALADO 0 - 10000\n",
    "Map.addLayer(S2_img_RS, viz_s2,name = \"Sentinel2 RS\")\n",
    "Map"
   ]
  },
  {
   "cell_type": "markdown",
   "id": "16800852-53ed-4389-abc4-fe3869b93357",
   "metadata": {},
   "source": [
    "## Factor de escala Reflectancia Superficie"
   ]
  },
  {
   "cell_type": "code",
   "execution_count": 35,
   "id": "135caf5b-c635-4fc7-a384-bb30d4e09fd9",
   "metadata": {},
   "outputs": [],
   "source": [
    "# Escalar la imagen Sentinel-2 RS 0 - 1\n",
    "S2_img_RS_es = S2_img_RS.multiply(0.0001)"
   ]
  },
  {
   "cell_type": "code",
   "execution_count": 36,
   "id": "4c1388c6-e1f6-4261-b15a-3c4b5f512eb2",
   "metadata": {},
   "outputs": [],
   "source": [
    "# Simbologia escala 0 - 1\n",
    "viz_s2_es = {\n",
    "    'bands': ['B11', 'B8', 'B2'],\n",
    "    'min': 0.05,\n",
    "    'max': 0.6,\n",
    "    'gamma': 1.6\n",
    "}"
   ]
  },
  {
   "cell_type": "code",
   "execution_count": 37,
   "id": "60653dbc-c12b-4d32-90aa-f363fc441bac",
   "metadata": {},
   "outputs": [
    {
     "data": {
      "application/vnd.jupyter.widget-view+json": {
       "model_id": "7543c0a0582f453a838918c7172e8223",
       "version_major": 2,
       "version_minor": 0
      },
      "text/plain": [
       "Map(bottom=70597.0, center=[-12.964412428478397, -69.83322143554689], controls=(WidgetControl(options=['positi…"
      ]
     },
     "metadata": {},
     "output_type": "display_data"
    }
   ],
   "source": [
    "# Visualizar ESCALADO 0 - 1\n",
    "Map.addLayer(S2_img_RS_es, viz_s2_es,name = \"Sentinel-2 Escalado\")\n",
    "Map"
   ]
  },
  {
   "cell_type": "code",
   "execution_count": 39,
   "id": "7a04a1de-d302-4c70-addf-be5b0bf0364f",
   "metadata": {},
   "outputs": [
    {
     "data": {
      "text/plain": [
       "{'type': 'Projection',\n",
       " 'crs': 'EPSG:32719',\n",
       " 'transform': [60, 0, 300000, 0, -60, 8600020]}"
      ]
     },
     "execution_count": 39,
     "metadata": {},
     "output_type": "execute_result"
    }
   ],
   "source": [
    "# Proyeccion se encuentra zona y resolucion espacial 60m B1\n",
    "S2_img_RS_es.select([\"B1\"]).projection().getInfo()"
   ]
  },
  {
   "cell_type": "code",
   "execution_count": 40,
   "id": "796bbc1c-de92-463f-8bd0-8d89524329f2",
   "metadata": {},
   "outputs": [
    {
     "data": {
      "text/plain": [
       "{'type': 'Projection',\n",
       " 'crs': 'EPSG:32719',\n",
       " 'transform': [10, 0, 300000, 0, -10, 8600020]}"
      ]
     },
     "execution_count": 40,
     "metadata": {},
     "output_type": "execute_result"
    }
   ],
   "source": [
    "# Proyeccion se encuentra zona y resolucion espacial 10m B2\n",
    "S2_img_RS_es.select([\"B2\"]).projection().getInfo()"
   ]
  },
  {
   "cell_type": "code",
   "execution_count": 41,
   "id": "fc01978a-a2bf-4b3a-9bbc-7254d5eaaa32",
   "metadata": {},
   "outputs": [
    {
     "data": {
      "text/plain": [
       "{'type': 'Projection',\n",
       " 'crs': 'EPSG:32719',\n",
       " 'transform': [20, 0, 300000, 0, -20, 8600020]}"
      ]
     },
     "execution_count": 41,
     "metadata": {},
     "output_type": "execute_result"
    }
   ],
   "source": [
    "# Proyeccion se encuentra zona y resolucion espacial 20m B5\n",
    "S2_img_RS_es.select([\"B5\"]).projection().getInfo()"
   ]
  },
  {
   "cell_type": "code",
   "execution_count": 42,
   "id": "0e5dd9a5-ce74-4fb3-b1ce-6987570eeee4",
   "metadata": {},
   "outputs": [],
   "source": [
    "# Recortar segun zona estudio\n",
    "S2_img_RS_es_clip = S2_img_RS_es.clip(zona_ee)"
   ]
  },
  {
   "cell_type": "code",
   "execution_count": 43,
   "id": "6ebc3342-0789-429b-93b1-f28044f7e4db",
   "metadata": {},
   "outputs": [
    {
     "data": {
      "application/vnd.jupyter.widget-view+json": {
       "model_id": "7543c0a0582f453a838918c7172e8223",
       "version_major": 2,
       "version_minor": 0
      },
      "text/plain": [
       "Map(bottom=70597.0, center=[-12.964412428478397, -69.83322143554689], controls=(WidgetControl(options=['positi…"
      ]
     },
     "metadata": {},
     "output_type": "display_data"
    }
   ],
   "source": [
    "# Visualizar ESCALADO 0 - 1\n",
    "Map.addLayer(S2_img_RS_es_clip, viz_s2_es,name = \"Sentinel-2 Escalado clip\")\n",
    "Map"
   ]
  },
  {
   "cell_type": "markdown",
   "id": "bbf98a6b-6d39-4605-be8d-741293d6fb78",
   "metadata": {},
   "source": [
    "## Exportar Imagen calibrado"
   ]
  },
  {
   "cell_type": "code",
   "execution_count": 44,
   "id": "08dd9d90-86ec-4e45-a01e-52a8853381ef",
   "metadata": {},
   "outputs": [
    {
     "data": {
      "text/plain": [
       "'E:\\\\Teledeteccion_GEE\\\\Python\\\\Datos_Espaciales\\\\Resultado_GEE'"
      ]
     },
     "execution_count": 44,
     "metadata": {},
     "output_type": "execute_result"
    }
   ],
   "source": [
    "os.getcwd()"
   ]
  },
  {
   "cell_type": "code",
   "execution_count": 45,
   "id": "2cd173f7-4cd6-4bbe-854d-82016f9c9fd9",
   "metadata": {},
   "outputs": [
    {
     "name": "stdout",
     "output_type": "stream",
     "text": [
      "Exporting S2_img_RS_es_clip ...\n"
     ]
    }
   ],
   "source": [
    "# Exportar en google drive\n",
    "geemap.ee_export_image_to_drive(S2_img_RS_es_clip, description='S2_img_RS_es_clip', folder='GEE_Python', region=geometria, scale=10)"
   ]
  }
 ],
 "metadata": {
  "kernelspec": {
   "display_name": "Python 3",
   "language": "python",
   "name": "python3"
  },
  "language_info": {
   "codemirror_mode": {
    "name": "ipython",
    "version": 3
   },
   "file_extension": ".py",
   "mimetype": "text/x-python",
   "name": "python",
   "nbconvert_exporter": "python",
   "pygments_lexer": "ipython3",
   "version": "3.7.10"
  }
 },
 "nbformat": 4,
 "nbformat_minor": 5
}
