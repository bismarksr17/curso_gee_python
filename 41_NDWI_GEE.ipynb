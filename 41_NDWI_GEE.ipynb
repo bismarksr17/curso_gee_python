{
 "cells": [
  {
   "cell_type": "markdown",
   "id": "7d63850e-6023-423f-b7bd-d12690f02a7a",
   "metadata": {},
   "source": [
    "# Indice espectrales NDWI en GEE"
   ]
  },
  {
   "cell_type": "code",
   "execution_count": 1,
   "id": "3a34ea5b-c474-4306-bd70-86153a7c1c12",
   "metadata": {},
   "outputs": [],
   "source": [
    "# Importar paquete GEE\n",
    "import ee\n",
    "ee.Initialize()"
   ]
  },
  {
   "cell_type": "markdown",
   "id": "54274986-c5eb-4393-88e7-df1953711cb8",
   "metadata": {},
   "source": [
    "## Filtro zona estudio mediante GEE"
   ]
  },
  {
   "cell_type": "code",
   "execution_count": 2,
   "id": "5fce995d-8fb6-4b15-ae11-7c39962a86c7",
   "metadata": {},
   "outputs": [],
   "source": [
    "# Agregar un shp GEE\n",
    "zona_ee = ee.FeatureCollection(\"users/bravomoralesnino/SHP/ZONA_19S\")"
   ]
  },
  {
   "cell_type": "code",
   "execution_count": 3,
   "id": "b93a2552-9153-4687-a4c3-cf0c82f83dd2",
   "metadata": {},
   "outputs": [],
   "source": [
    "# Importar geemap\n",
    "import geemap\n",
    "Map = geemap.Map(basemap='SATELLITE')"
   ]
  },
  {
   "cell_type": "code",
   "execution_count": 8,
   "id": "57db081f-f11e-42cd-afb2-5a5aec9597f2",
   "metadata": {},
   "outputs": [],
   "source": [
    "geometria = zona_ee.geometry()\n",
    "Map.centerObject(geometria, 11)"
   ]
  },
  {
   "cell_type": "code",
   "execution_count": 5,
   "id": "b00253f7-697b-44c6-a620-800f19431a2d",
   "metadata": {},
   "outputs": [
    {
     "data": {
      "application/vnd.jupyter.widget-view+json": {
       "model_id": "e821fb24e80b433d85124778ed121e08",
       "version_major": 2,
       "version_minor": 0
      },
      "text/plain": [
       "Map(center=[-12.908744902436744, -69.9947155021359], controls=(WidgetControl(options=['position', 'transparent…"
      ]
     },
     "metadata": {},
     "output_type": "display_data"
    }
   ],
   "source": [
    "Map.addLayer(zona_ee, {\"color\" : \"00FF11\"},name = \"Zona\")\n",
    "Map"
   ]
  },
  {
   "cell_type": "markdown",
   "id": "9b03dd89-4c58-49aa-b5b2-2dcdbf33e89c",
   "metadata": {},
   "source": [
    "## Seleccionar Imagenes Landsat RS"
   ]
  },
  {
   "cell_type": "code",
   "execution_count": 9,
   "id": "e7b96f8e-5e4c-4436-a2ff-de5540b7bbe2",
   "metadata": {},
   "outputs": [],
   "source": [
    "# Seleccionar una imagen Landsat8\n",
    "img_L8 = ee.Image(\"LANDSAT/LC08/C01/T1_SR/LC08_003069_20190808\")\\\n",
    "                  .select([\"B2\",\"B3\",\"B4\",\"B5\",\"B6\",\"B7\"],\n",
    "                          ['BLUE', 'GREEN', 'RED', 'NIR', 'SWIR1', 'SWIR2'])\\\n",
    "                  .multiply(0.0001)\\\n",
    "                  .reproject(crs = \"EPSG:32719\", scale = 30)"
   ]
  },
  {
   "cell_type": "code",
   "execution_count": 10,
   "id": "b9636267-8e7e-46f0-bc5b-548949074f62",
   "metadata": {},
   "outputs": [],
   "source": [
    "# Seleccionar una imagen Sentinel2\n",
    "img_S2 = ee.Image(\"COPERNICUS/S2_SR/20190808T145729_20190808T145732_T19LCF\")\\\n",
    "                  .select(['B2', 'B3', 'B4', 'B8', 'B11', 'B12'],\n",
    "                          ['BLUE', 'GREEN', 'RED', 'NIR', 'SWIR1', 'SWIR2'])\\\n",
    "                  .multiply(0.0001) # 0 - 1"
   ]
  },
  {
   "cell_type": "markdown",
   "id": "096fb52b-d2d1-4b18-855f-b08fc9baa7b0",
   "metadata": {},
   "source": [
    "## Consultar nombre bandas y proyección"
   ]
  },
  {
   "cell_type": "code",
   "execution_count": 11,
   "id": "f82458e0-93e0-4412-a9a4-11bc4118a979",
   "metadata": {},
   "outputs": [
    {
     "name": "stdout",
     "output_type": "stream",
     "text": [
      "Nombre bandas L8:  ['BLUE', 'GREEN', 'RED', 'NIR', 'SWIR1', 'SWIR2']\n",
      "Nombre bandas S2:  ['BLUE', 'GREEN', 'RED', 'NIR', 'SWIR1', 'SWIR2']\n"
     ]
    }
   ],
   "source": [
    "# Nombre de las bandas\n",
    "print(\"Nombre bandas L8: \",img_L8.bandNames().getInfo())\n",
    "print(\"Nombre bandas S2: \",img_S2.bandNames().getInfo())"
   ]
  },
  {
   "cell_type": "code",
   "execution_count": 12,
   "id": "f9a66d8e-ef28-4c33-aebb-2faa395211ce",
   "metadata": {},
   "outputs": [
    {
     "name": "stdout",
     "output_type": "stream",
     "text": [
      "Proyeccion L8:  {'type': 'Projection', 'crs': 'EPSG:32719', 'transform': [30, 0, 0, 0, -30, 0]}\n",
      "Proyeccion S2:  {'type': 'Projection', 'crs': 'EPSG:32719', 'transform': [10, 0, 300000, 0, -10, 8600020]}\n"
     ]
    }
   ],
   "source": [
    "# Consultar Proyeccion\n",
    "print(\"Proyeccion L8: \",img_L8.projection().getInfo())\n",
    "print(\"Proyeccion S2: \",img_S2.select(['BLUE']).projection().getInfo())"
   ]
  },
  {
   "cell_type": "code",
   "execution_count": 13,
   "id": "f2499862-6fae-4523-ad21-5ea3a14ffc4d",
   "metadata": {},
   "outputs": [],
   "source": [
    "# Simbologia escala 0 - 1\n",
    "viz_es = {\n",
    "    'bands': ['SWIR1','NIR','RED'],\n",
    "    'min': 0.1,\n",
    "    'max': 0.6,\n",
    "    'gamma': 1.6\n",
    "}"
   ]
  },
  {
   "cell_type": "markdown",
   "id": "6f89648e-9dfb-488b-b08c-d86d3c92166e",
   "metadata": {},
   "source": [
    "## Recortar imagen"
   ]
  },
  {
   "cell_type": "code",
   "execution_count": 14,
   "id": "2bb5d96a-85cd-49c4-bfe4-7b0d545ec435",
   "metadata": {},
   "outputs": [],
   "source": [
    "# Recortar informacion con la zona de estudio\n",
    "img_L8_clip = img_L8.clip(zona_ee)\n",
    "img_S2_clip = img_S2.clip(zona_ee)"
   ]
  },
  {
   "cell_type": "code",
   "execution_count": 15,
   "id": "11aaf87b-1457-46d6-84ba-f0d9510c77aa",
   "metadata": {},
   "outputs": [
    {
     "data": {
      "application/vnd.jupyter.widget-view+json": {
       "model_id": "e821fb24e80b433d85124778ed121e08",
       "version_major": 2,
       "version_minor": 0
      },
      "text/plain": [
       "Map(bottom=281405.0, center=[-12.908744902436744, -69.9947155021359], controls=(WidgetControl(options=['positi…"
      ]
     },
     "metadata": {},
     "output_type": "display_data"
    }
   ],
   "source": [
    "# Visualizar \n",
    "Map.addLayer(img_L8_clip, viz_es, name = \"Landsat8 RS\")\n",
    "Map.addLayer(img_S2_clip, viz_es, name = \"Sentinel2 RS\")\n",
    "Map"
   ]
  },
  {
   "cell_type": "markdown",
   "id": "5600f8a1-0c25-4c8f-aa56-04bf9e61d9f7",
   "metadata": {},
   "source": [
    "## Determinar NDWI"
   ]
  },
  {
   "cell_type": "code",
   "execution_count": 16,
   "id": "155e0cab-a833-4517-8b4a-acb30ed5d82f",
   "metadata": {},
   "outputs": [],
   "source": [
    "# Funcion para NDWI GAO - Muñoz Aguayo, 2015\n",
    "def Calc_NDWI_gao(image):\n",
    "    ndwi = image.expression(\"float(nir - swir1)/(nir + swir1)\", {\n",
    "        'nir': image.select('NIR'),\n",
    "        'swir1': image.select('SWIR1')\n",
    "    })\n",
    "    return ndwi.rename(\"NDWI\")"
   ]
  },
  {
   "cell_type": "code",
   "execution_count": 17,
   "id": "748c5da0-ef5c-4c9d-a484-3a397a751918",
   "metadata": {},
   "outputs": [],
   "source": [
    "# Funcion para NDWI MF - McFeeters, 1996\n",
    "def Calc_NDWI_mf(image):\n",
    "    ndwi = image.expression(\"float(green - nir)/(green + nir)\", {\n",
    "        'green': image.select('GREEN'),\n",
    "        'nir': image.select('NIR')\n",
    "    })\n",
    "    return ndwi.rename(\"NDWI\")"
   ]
  },
  {
   "cell_type": "code",
   "execution_count": 18,
   "id": "4e73845f-ccee-471d-b0f1-767d1e5a79f6",
   "metadata": {},
   "outputs": [],
   "source": [
    "# Calcular indices con funcion\n",
    "ndwi_L8 = Calc_NDWI_mf(img_L8_clip)\n",
    "ndwi_S2 = Calc_NDWI_mf(img_S2_clip)"
   ]
  },
  {
   "cell_type": "code",
   "execution_count": 19,
   "id": "c787223f-aedb-452b-a003-bc8da5c03a27",
   "metadata": {},
   "outputs": [],
   "source": [
    "# Simbologia de NDWI\n",
    "viz_ndwi = {\n",
    "    'palette': ['fff947', 'b9fa3e', '5ce5d3', '5172f4', '001334'],\n",
    "    'min': -0.5,\n",
    "    'max': 0.8,\n",
    "    'bands': \"NDWI\"\n",
    "}"
   ]
  },
  {
   "cell_type": "code",
   "execution_count": 20,
   "id": "73b12eaf-56d5-4289-81d9-d7c419aff908",
   "metadata": {},
   "outputs": [
    {
     "data": {
      "application/vnd.jupyter.widget-view+json": {
       "model_id": "e821fb24e80b433d85124778ed121e08",
       "version_major": 2,
       "version_minor": 0
      },
      "text/plain": [
       "Map(bottom=2248967.0, center=[-12.89439354983945, -69.99999046325685], controls=(WidgetControl(options=['posit…"
      ]
     },
     "metadata": {},
     "output_type": "display_data"
    }
   ],
   "source": [
    "# Visualizar \n",
    "Map.addLayer(ndwi_L8, viz_ndwi, name = \"Landsat8 NDWI\")\n",
    "Map.addLayer(ndwi_S2, viz_ndwi, name = \"Sentinel2 NDWI\")\n",
    "Map"
   ]
  },
  {
   "cell_type": "markdown",
   "id": "99f1d1f6-6296-409f-9108-4801338f5374",
   "metadata": {},
   "source": [
    "## Clasificación NDWI"
   ]
  },
  {
   "cell_type": "code",
   "execution_count": 25,
   "id": "ffc1c01d-04f5-4867-92a6-32d380a8fc39",
   "metadata": {},
   "outputs": [],
   "source": [
    "# Seleccionar\n",
    "#  NDWI >= 0.1 es agua\n",
    "ndwi_L8_Agua = ee.Image(0).where(ndwi_L8.lt(0.1),0)\\\n",
    "                          .where(ndwi_L8.gte(0.1),1)\\\n",
    "                          .clip(zona_ee)\\\n",
    "                          .reproject(crs=\"EPSG:32719\", scale = 30)\\\n",
    "                          .rename(\"Agua\")\n",
    "\n",
    "ndwi_S2_Agua = ee.Image(0).where(ndwi_S2.lt(0.1),0)\\\n",
    "                          .where(ndwi_S2.gte(0.1),1)\\\n",
    "                          .clip(zona_ee)\\\n",
    "                          .reproject(crs=\"EPSG:32719\", scale = 10)\\\n",
    "                          .rename(\"Agua\")"
   ]
  },
  {
   "cell_type": "code",
   "execution_count": 26,
   "id": "5a634d2d-66fa-42dd-967d-e7e51e4e7c6c",
   "metadata": {},
   "outputs": [
    {
     "data": {
      "text/plain": [
       "{'type': 'Image',\n",
       " 'bands': [{'id': 'Agua',\n",
       "   'data_type': {'type': 'PixelType', 'precision': 'int', 'min': 0, 'max': 1},\n",
       "   'crs': 'EPSG:32719',\n",
       "   'crs_transform': [30, 0, 0, 0, -30, 0]}]}"
      ]
     },
     "execution_count": 26,
     "metadata": {},
     "output_type": "execute_result"
    }
   ],
   "source": [
    "ndwi_L8_Agua.getInfo()"
   ]
  },
  {
   "cell_type": "code",
   "execution_count": 27,
   "id": "07305d5b-9ae5-489d-bafc-342116f2724e",
   "metadata": {},
   "outputs": [
    {
     "data": {
      "text/plain": [
       "['Agua']"
      ]
     },
     "execution_count": 27,
     "metadata": {},
     "output_type": "execute_result"
    }
   ],
   "source": [
    "ndwi_L8_Agua.bandNames().getInfo()"
   ]
  },
  {
   "cell_type": "code",
   "execution_count": 28,
   "id": "0707b8bd-4890-456d-be26-2aa5227ff280",
   "metadata": {},
   "outputs": [
    {
     "name": "stdout",
     "output_type": "stream",
     "text": [
      "{'type': 'Projection', 'crs': 'EPSG:32719', 'transform': [30, 0, 0, 0, -30, 0]}\n",
      "{'type': 'Projection', 'crs': 'EPSG:32719', 'transform': [10, 0, 0, 0, -10, 0]}\n"
     ]
    }
   ],
   "source": [
    "print(ndwi_L8_Agua.projection().getInfo())\n",
    "print(ndwi_S2_Agua.projection().getInfo())"
   ]
  },
  {
   "cell_type": "code",
   "execution_count": 29,
   "id": "c9c791d2-c949-4381-b789-cad30948ca42",
   "metadata": {},
   "outputs": [],
   "source": [
    "# Simbologia de clasificacion EVI\n",
    "viz_agua = {\n",
    "    'palette': [\"#fdfdfd\",\"blue\"],\n",
    "    'min': 0,\n",
    "    'max': 1\n",
    "}"
   ]
  },
  {
   "cell_type": "code",
   "execution_count": 30,
   "id": "38d81c39-9e59-4f3d-9b1e-3f609048abaa",
   "metadata": {},
   "outputs": [
    {
     "data": {
      "application/vnd.jupyter.widget-view+json": {
       "model_id": "e821fb24e80b433d85124778ed121e08",
       "version_major": 2,
       "version_minor": 0
      },
      "text/plain": [
       "Map(bottom=562368.3635864258, center=[-12.86134318154514, -69.91218566894533], controls=(WidgetControl(options…"
      ]
     },
     "metadata": {},
     "output_type": "display_data"
    }
   ],
   "source": [
    "# Visualizar \n",
    "Map.addLayer(ndwi_L8_Agua, viz_agua, name = \"L8_Agua\")\n",
    "Map.addLayer(ndwi_S2_Agua, viz_agua, name = \"S2_Agua\")\n",
    "Map"
   ]
  },
  {
   "cell_type": "markdown",
   "id": "58737e4b-2628-42a1-a417-9d3774818575",
   "metadata": {},
   "source": [
    "## Exportar Imagen"
   ]
  },
  {
   "cell_type": "code",
   "execution_count": 31,
   "id": "91999544-3090-4d9a-9eb8-a6f13a15b953",
   "metadata": {},
   "outputs": [
    {
     "data": {
      "text/plain": [
       "'C:\\\\Users\\\\GEOMATICA\\\\Teledeteccion_Python\\\\GEE'"
      ]
     },
     "execution_count": 31,
     "metadata": {},
     "output_type": "execute_result"
    }
   ],
   "source": [
    "import os\n",
    "os.getcwd()"
   ]
  },
  {
   "cell_type": "code",
   "execution_count": 32,
   "id": "563049c9-0e9a-4db7-be92-5ece60f97fc0",
   "metadata": {},
   "outputs": [
    {
     "data": {
      "text/plain": [
       "'E:\\\\Teledeteccion_GEE\\\\Python\\\\Datos_Espaciales\\\\Resultado_GEE'"
      ]
     },
     "execution_count": 32,
     "metadata": {},
     "output_type": "execute_result"
    }
   ],
   "source": [
    "ruta_archivos = r\"E:\\Teledeteccion_GEE\\Python\\Datos_Espaciales\\Resultado_GEE\"\n",
    "os.chdir(ruta_archivos) # Cambiar ruta trabajo\n",
    "os.getcwd() # Consultar ruta trabajo"
   ]
  },
  {
   "cell_type": "code",
   "execution_count": 33,
   "id": "3bdf9494-879a-49e6-924e-744ee6e4eac0",
   "metadata": {},
   "outputs": [
    {
     "name": "stdout",
     "output_type": "stream",
     "text": [
      "Generating URL ...\n",
      "Downloading data from https://earthengine.googleapis.com/v1alpha/projects/earthengine-legacy/thumbnails/81ac24c6b0078d73ef0395814a566921-22b6ff62f90f7fd6e8a46751da7c3803:getPixels\n",
      "Please wait ...\n",
      "Data downloaded to E:\\Teledeteccion_GEE\\Python\\Datos_Espaciales\\Resultado_GEE\\ndwi_L8_agua.tif\n",
      "Generating URL ...\n",
      "Downloading data from https://earthengine.googleapis.com/v1alpha/projects/earthengine-legacy/thumbnails/3c8125d16359878e8221574a683016ab-a88c185d3be123b7e880dc07e6956a49:getPixels\n",
      "Please wait ...\n",
      "Data downloaded to E:\\Teledeteccion_GEE\\Python\\Datos_Espaciales\\Resultado_GEE\\L8_ndwi.tif\n"
     ]
    }
   ],
   "source": [
    "# Exportar imagen directorio Landsat\n",
    "geemap.ee_export_image(ndwi_L8_Agua, filename=\"ndwi_L8_agua.tif\", scale=30, region=geometria, file_per_band=False)\n",
    "geemap.ee_export_image(ndwi_L8, filename=\"L8_ndwi.tif\", scale=30, region=geometria, file_per_band=False)"
   ]
  },
  {
   "cell_type": "code",
   "execution_count": 34,
   "id": "46e532de-7711-48ae-9ee5-b74ad633b2c2",
   "metadata": {},
   "outputs": [
    {
     "name": "stdout",
     "output_type": "stream",
     "text": [
      "Generating URL ...\n",
      "Downloading data from https://earthengine.googleapis.com/v1alpha/projects/earthengine-legacy/thumbnails/9b347d7ca0a54fa587fdb2427f923169-6c84a305a2477e6f059fb80d7c88ef83:getPixels\n",
      "Please wait ...\n",
      "Data downloaded to E:\\Teledeteccion_GEE\\Python\\Datos_Espaciales\\Resultado_GEE\\ndwi_S2_Agua.tif\n",
      "Generating URL ...\n",
      "An error occurred while downloading.\n",
      "Total request size (98259616 bytes) must be less than or equal to 33554432 bytes.\n"
     ]
    }
   ],
   "source": [
    "# Exportar imagen directorio Sentinel-2\n",
    "geemap.ee_export_image(ndwi_S2_Agua, filename=\"ndwi_S2_Agua.tif\", scale=10, region=geometria, file_per_band=False)"
   ]
  },
  {
   "cell_type": "code",
   "execution_count": 35,
   "id": "034c9c36-e4a4-4dd0-8bd9-74987f245841",
   "metadata": {},
   "outputs": [
    {
     "name": "stdout",
     "output_type": "stream",
     "text": [
      "Exporting S2_ndwi ...\n"
     ]
    }
   ],
   "source": [
    "# Exportarlo en google drivers\n",
    "geemap.ee_export_image_to_drive(ndwi_S2, description='S2_ndwi', folder='GEE_Python', region=geometria, scale=10)"
   ]
  }
 ],
 "metadata": {
  "kernelspec": {
   "display_name": "Python 3",
   "language": "python",
   "name": "python3"
  },
  "language_info": {
   "codemirror_mode": {
    "name": "ipython",
    "version": 3
   },
   "file_extension": ".py",
   "mimetype": "text/x-python",
   "name": "python",
   "nbconvert_exporter": "python",
   "pygments_lexer": "ipython3",
   "version": "3.7.10"
  }
 },
 "nbformat": 4,
 "nbformat_minor": 5
}
