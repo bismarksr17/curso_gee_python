{
 "cells": [
  {
   "cell_type": "markdown",
   "id": "0afe1ff9-5029-4ded-bb7b-a3e0121086ac",
   "metadata": {},
   "source": [
    "# Reduccion de Suma Precipitacion imagen google Earth Engine"
   ]
  },
  {
   "cell_type": "code",
   "execution_count": 1,
   "id": "bc4bdb32-fa45-4c6a-8915-14983e1d3302",
   "metadata": {},
   "outputs": [],
   "source": [
    "# Importar GEE\n",
    "import ee\n",
    "ee.Initialize()"
   ]
  },
  {
   "cell_type": "markdown",
   "id": "86a2c937-700e-42cf-b0cd-0e04268d5394",
   "metadata": {},
   "source": [
    "## Filtro zona estudio mediante GEE"
   ]
  },
  {
   "cell_type": "code",
   "execution_count": 2,
   "id": "b11a1252-a52e-45aa-b850-d41c7eff3745",
   "metadata": {},
   "outputs": [],
   "source": [
    "# Agregar shp cuenca\n",
    "cuenca = ee.FeatureCollection(\"users/bravomoralesnino/SHP/Cuenca\")"
   ]
  },
  {
   "cell_type": "code",
   "execution_count": 3,
   "id": "065e90b5-6fd2-4a99-ac73-a89986ecad90",
   "metadata": {},
   "outputs": [],
   "source": [
    "# Importar geemap\n",
    "import geemap\n",
    "Map = geemap.Map(basemap='SATELLITE')"
   ]
  },
  {
   "cell_type": "code",
   "execution_count": 4,
   "id": "f9f88534-ea44-4bda-b581-d6f8290fa744",
   "metadata": {},
   "outputs": [],
   "source": [
    "geometria = cuenca.geometry()\n",
    "Map.centerObject(geometria, 8)"
   ]
  },
  {
   "cell_type": "code",
   "execution_count": 5,
   "id": "ef1dbef4-5aff-4a7d-a8f8-5e6f12a73986",
   "metadata": {},
   "outputs": [
    {
     "data": {
      "application/vnd.jupyter.widget-view+json": {
       "model_id": "e285eaf94b4145b0806e96f3c39229c8",
       "version_major": 2,
       "version_minor": 0
      },
      "text/plain": [
       "Map(center=[-13.822942378556581, -71.5432582449152], controls=(WidgetControl(options=['position', 'transparent…"
      ]
     },
     "metadata": {},
     "output_type": "display_data"
    }
   ],
   "source": [
    "Map.addLayer(cuenca, {\"color\" : \"blue\"},name = \"Cuenca\")\n",
    "Map"
   ]
  },
  {
   "cell_type": "markdown",
   "id": "d164f8a0-ae16-402c-9c4e-fe6c039fe88d",
   "metadata": {},
   "source": [
    "## Collección datos precipitación"
   ]
  },
  {
   "cell_type": "code",
   "execution_count": 6,
   "id": "747d27ea-6c6e-479b-a64e-0fda3f6d58bc",
   "metadata": {},
   "outputs": [],
   "source": [
    "# cargar datos de precipitacion (mm/Anual): 365 imagenes por anual\n",
    "precipCollection = ee.ImageCollection(\"UCSB-CHG/CHIRPS/DAILY\")\\\n",
    "                        .select('precipitation')\\\n",
    "                        .filterDate('2019-01-01', '2019-12-31')"
   ]
  },
  {
   "cell_type": "code",
   "execution_count": 7,
   "id": "4c2d1ecb-6e03-4cbf-a806-463c92be84f0",
   "metadata": {},
   "outputs": [
    {
     "data": {
      "text/plain": [
       "364"
      ]
     },
     "execution_count": 7,
     "metadata": {},
     "output_type": "execute_result"
    }
   ],
   "source": [
    "count = precipCollection.size()\n",
    "count.getInfo()"
   ]
  },
  {
   "cell_type": "code",
   "execution_count": 8,
   "id": "76906abe-7b22-4b31-b2f4-50c55fff0095",
   "metadata": {},
   "outputs": [],
   "source": [
    "# funcion para determinar la fecha de las imagenes\n",
    "def list_coll(coll):\n",
    "    def func_ejv(im):\n",
    "        return ee.String(ee.Image(im).date().format('YYYY/MM/dd')).slice(0)\n",
    "    return coll.toList(coll.size(), 0).map(func_ejv)"
   ]
  },
  {
   "cell_type": "code",
   "execution_count": 9,
   "id": "d6fce459-6069-472a-982f-6a9d23e88be9",
   "metadata": {},
   "outputs": [
    {
     "name": "stdout",
     "output_type": "stream",
     "text": [
      "['2019/01/01', '2019/01/02', '2019/01/03', '2019/01/04', '2019/01/05', '2019/01/06', '2019/01/07', '2019/01/08', '2019/01/09', '2019/01/10', '2019/01/11', '2019/01/12', '2019/01/13', '2019/01/14', '2019/01/15', '2019/01/16', '2019/01/17', '2019/01/18', '2019/01/19', '2019/01/20', '2019/01/21', '2019/01/22', '2019/01/23', '2019/01/24', '2019/01/25', '2019/01/26', '2019/01/27', '2019/01/28', '2019/01/29', '2019/01/30', '2019/01/31', '2019/02/01', '2019/02/02', '2019/02/03', '2019/02/04', '2019/02/05', '2019/02/06', '2019/02/07', '2019/02/08', '2019/02/09', '2019/02/10', '2019/02/11', '2019/02/12', '2019/02/13', '2019/02/14', '2019/02/15', '2019/02/16', '2019/02/17', '2019/02/18', '2019/02/19', '2019/02/20', '2019/02/21', '2019/02/22', '2019/02/23', '2019/02/24', '2019/02/25', '2019/02/26', '2019/02/27', '2019/02/28', '2019/03/01', '2019/03/02', '2019/03/03', '2019/03/04', '2019/03/05', '2019/03/06', '2019/03/07', '2019/03/08', '2019/03/09', '2019/03/10', '2019/03/11', '2019/03/12', '2019/03/13', '2019/03/14', '2019/03/15', '2019/03/16', '2019/03/17', '2019/03/18', '2019/03/19', '2019/03/20', '2019/03/21', '2019/03/22', '2019/03/23', '2019/03/24', '2019/03/25', '2019/03/26', '2019/03/27', '2019/03/28', '2019/03/29', '2019/03/30', '2019/03/31', '2019/04/01', '2019/04/02', '2019/04/03', '2019/04/04', '2019/04/05', '2019/04/06', '2019/04/07', '2019/04/08', '2019/04/09', '2019/04/10', '2019/04/11', '2019/04/12', '2019/04/13', '2019/04/14', '2019/04/15', '2019/04/16', '2019/04/17', '2019/04/18', '2019/04/19', '2019/04/20', '2019/04/21', '2019/04/22', '2019/04/23', '2019/04/24', '2019/04/25', '2019/04/26', '2019/04/27', '2019/04/28', '2019/04/29', '2019/04/30', '2019/05/01', '2019/05/02', '2019/05/03', '2019/05/04', '2019/05/05', '2019/05/06', '2019/05/07', '2019/05/08', '2019/05/09', '2019/05/10', '2019/05/11', '2019/05/12', '2019/05/13', '2019/05/14', '2019/05/15', '2019/05/16', '2019/05/17', '2019/05/18', '2019/05/19', '2019/05/20', '2019/05/21', '2019/05/22', '2019/05/23', '2019/05/24', '2019/05/25', '2019/05/26', '2019/05/27', '2019/05/28', '2019/05/29', '2019/05/30', '2019/05/31', '2019/06/01', '2019/06/02', '2019/06/03', '2019/06/04', '2019/06/05', '2019/06/06', '2019/06/07', '2019/06/08', '2019/06/09', '2019/06/10', '2019/06/11', '2019/06/12', '2019/06/13', '2019/06/14', '2019/06/15', '2019/06/16', '2019/06/17', '2019/06/18', '2019/06/19', '2019/06/20', '2019/06/21', '2019/06/22', '2019/06/23', '2019/06/24', '2019/06/25', '2019/06/26', '2019/06/27', '2019/06/28', '2019/06/29', '2019/06/30', '2019/07/01', '2019/07/02', '2019/07/03', '2019/07/04', '2019/07/05', '2019/07/06', '2019/07/07', '2019/07/08', '2019/07/09', '2019/07/10', '2019/07/11', '2019/07/12', '2019/07/13', '2019/07/14', '2019/07/15', '2019/07/16', '2019/07/17', '2019/07/18', '2019/07/19', '2019/07/20', '2019/07/21', '2019/07/22', '2019/07/23', '2019/07/24', '2019/07/25', '2019/07/26', '2019/07/27', '2019/07/28', '2019/07/29', '2019/07/30', '2019/07/31', '2019/08/01', '2019/08/02', '2019/08/03', '2019/08/04', '2019/08/05', '2019/08/06', '2019/08/07', '2019/08/08', '2019/08/09', '2019/08/10', '2019/08/11', '2019/08/12', '2019/08/13', '2019/08/14', '2019/08/15', '2019/08/16', '2019/08/17', '2019/08/18', '2019/08/19', '2019/08/20', '2019/08/21', '2019/08/22', '2019/08/23', '2019/08/24', '2019/08/25', '2019/08/26', '2019/08/27', '2019/08/28', '2019/08/29', '2019/08/30', '2019/08/31', '2019/09/01', '2019/09/02', '2019/09/03', '2019/09/04', '2019/09/05', '2019/09/06', '2019/09/07', '2019/09/08', '2019/09/09', '2019/09/10', '2019/09/11', '2019/09/12', '2019/09/13', '2019/09/14', '2019/09/15', '2019/09/16', '2019/09/17', '2019/09/18', '2019/09/19', '2019/09/20', '2019/09/21', '2019/09/22', '2019/09/23', '2019/09/24', '2019/09/25', '2019/09/26', '2019/09/27', '2019/09/28', '2019/09/29', '2019/09/30', '2019/10/01', '2019/10/02', '2019/10/03', '2019/10/04', '2019/10/05', '2019/10/06', '2019/10/07', '2019/10/08', '2019/10/09', '2019/10/10', '2019/10/11', '2019/10/12', '2019/10/13', '2019/10/14', '2019/10/15', '2019/10/16', '2019/10/17', '2019/10/18', '2019/10/19', '2019/10/20', '2019/10/21', '2019/10/22', '2019/10/23', '2019/10/24', '2019/10/25', '2019/10/26', '2019/10/27', '2019/10/28', '2019/10/29', '2019/10/30', '2019/10/31', '2019/11/01', '2019/11/02', '2019/11/03', '2019/11/04', '2019/11/05', '2019/11/06', '2019/11/07', '2019/11/08', '2019/11/09', '2019/11/10', '2019/11/11', '2019/11/12', '2019/11/13', '2019/11/14', '2019/11/15', '2019/11/16', '2019/11/17', '2019/11/18', '2019/11/19', '2019/11/20', '2019/11/21', '2019/11/22', '2019/11/23', '2019/11/24', '2019/11/25', '2019/11/26', '2019/11/27', '2019/11/28', '2019/11/29', '2019/11/30', '2019/12/01', '2019/12/02', '2019/12/03', '2019/12/04', '2019/12/05', '2019/12/06', '2019/12/07', '2019/12/08', '2019/12/09', '2019/12/10', '2019/12/11', '2019/12/12', '2019/12/13', '2019/12/14', '2019/12/15', '2019/12/16', '2019/12/17', '2019/12/18', '2019/12/19', '2019/12/20', '2019/12/21', '2019/12/22', '2019/12/23', '2019/12/24', '2019/12/25', '2019/12/26', '2019/12/27', '2019/12/28', '2019/12/29', '2019/12/30']\n"
     ]
    }
   ],
   "source": [
    "fecha = list_coll(precipCollection).getInfo()\n",
    "print(fecha)"
   ]
  },
  {
   "cell_type": "code",
   "execution_count": 10,
   "id": "9bd7d8c0-a4d4-4117-9ebb-8419def4c48a",
   "metadata": {},
   "outputs": [],
   "source": [
    "# Simbologia Precipitacion diario\n",
    "viz_PP = {\n",
    "    'min': 1,\n",
    "    'max': 17,\n",
    "    'palette': ['001137', '0aab1e', 'e7eb05', 'ff4a2d', 'e90000']\n",
    "}"
   ]
  },
  {
   "cell_type": "code",
   "execution_count": 11,
   "id": "d7bdbd61-52c9-4dd3-896c-76d1f107d655",
   "metadata": {},
   "outputs": [
    {
     "data": {
      "application/vnd.jupyter.widget-view+json": {
       "model_id": "e285eaf94b4145b0806e96f3c39229c8",
       "version_major": 2,
       "version_minor": 0
      },
      "text/plain": [
       "Map(bottom=35609.0, center=[-13.822942378556581, -71.5432582449152], controls=(WidgetControl(options=['positio…"
      ]
     },
     "metadata": {},
     "output_type": "display_data"
    }
   ],
   "source": [
    "# Visualizar \n",
    "Map.addLayer(precipCollection, viz_PP, name = \"Precippitacion\")\n",
    "Map"
   ]
  },
  {
   "cell_type": "markdown",
   "id": "1ca3e5bb-22bc-4b06-a6bd-a8c5f1714850",
   "metadata": {},
   "source": [
    "## Suma de precipitaciones diarias"
   ]
  },
  {
   "cell_type": "code",
   "execution_count": 12,
   "id": "13a5592f-53a8-4820-b797-cc47962a4f28",
   "metadata": {},
   "outputs": [],
   "source": [
    "# reducir la image collection a una sola imagen sumando los 364 patrones diarios\n",
    "annualPrecip = precipCollection.reduce(ee.Reducer.sum())"
   ]
  },
  {
   "cell_type": "code",
   "execution_count": 13,
   "id": "bde1e55e-7a7f-4e0f-9ae8-71583a18f8e9",
   "metadata": {},
   "outputs": [],
   "source": [
    "# Simbologia precipitacion acumulada anual\n",
    "viz_PP_anual = {\n",
    "    'min': 60,\n",
    "    'max': 3000,\n",
    "    'palette': ['001137', '0aab1e', 'e7eb05', 'ff4a2d', 'e90000']\n",
    "}"
   ]
  },
  {
   "cell_type": "code",
   "execution_count": 14,
   "id": "770fe9a8-3a8f-4d34-8be1-1e2a263da5ab",
   "metadata": {},
   "outputs": [
    {
     "data": {
      "application/vnd.jupyter.widget-view+json": {
       "model_id": "e285eaf94b4145b0806e96f3c39229c8",
       "version_major": 2,
       "version_minor": 0
      },
      "text/plain": [
       "Map(bottom=2539.0, center=[-16.55196172197251, -60.95214843750001], controls=(WidgetControl(options=['position…"
      ]
     },
     "metadata": {},
     "output_type": "display_data"
    }
   ],
   "source": [
    "# Visualizar \n",
    "Map.addLayer(annualPrecip, viz_PP_anual, name = \"annualPrecip\")\n",
    "Map"
   ]
  },
  {
   "cell_type": "markdown",
   "id": "f10f6085-a733-424f-a9e8-7f6e7a6b71ff",
   "metadata": {},
   "source": [
    "## Recortar segun zona"
   ]
  },
  {
   "cell_type": "code",
   "execution_count": 15,
   "id": "2066c0af-196e-486a-ab38-f8034281a8bd",
   "metadata": {},
   "outputs": [],
   "source": [
    "# Recortar segun zona de estudio\n",
    "annualPrecip_clip = annualPrecip.clip(cuenca)"
   ]
  },
  {
   "cell_type": "code",
   "execution_count": 16,
   "id": "a32b1db2-2633-433e-9722-1a762270df83",
   "metadata": {},
   "outputs": [
    {
     "data": {
      "application/vnd.jupyter.widget-view+json": {
       "model_id": "e285eaf94b4145b0806e96f3c39229c8",
       "version_major": 2,
       "version_minor": 0
      },
      "text/plain": [
       "Map(bottom=1435.0, center=[-19.145168196205297, -45.79101562500001], controls=(WidgetControl(options=['positio…"
      ]
     },
     "metadata": {},
     "output_type": "display_data"
    }
   ],
   "source": [
    "# Visualizar \n",
    "Map.addLayer(annualPrecip_clip, viz_PP_anual, name = \"annualPrecip_clip\")\n",
    "Map"
   ]
  },
  {
   "cell_type": "markdown",
   "id": "3ceb6f54-dad0-4204-8ea3-078d68397bd7",
   "metadata": {},
   "source": [
    "## Exportar Imagen calibrado"
   ]
  },
  {
   "cell_type": "code",
   "execution_count": 17,
   "id": "155b40b1-6db0-4e25-b3f4-c00c0c0b7b2d",
   "metadata": {},
   "outputs": [
    {
     "data": {
      "text/plain": [
       "'C:\\\\Users\\\\GEOMATICA\\\\Teledeteccion_Python\\\\GEE'"
      ]
     },
     "execution_count": 17,
     "metadata": {},
     "output_type": "execute_result"
    }
   ],
   "source": [
    "import os\n",
    "os.getcwd()"
   ]
  },
  {
   "cell_type": "code",
   "execution_count": 18,
   "id": "f751c741-0ea6-4e57-8c41-730679975453",
   "metadata": {},
   "outputs": [
    {
     "data": {
      "text/plain": [
       "'E:\\\\Teledeteccion_GEE\\\\Python\\\\Datos_Espaciales\\\\Resultado_GEE'"
      ]
     },
     "execution_count": 18,
     "metadata": {},
     "output_type": "execute_result"
    }
   ],
   "source": [
    "ruta_archivos = r\"E:\\Teledeteccion_GEE\\Python\\Datos_Espaciales\\Resultado_GEE\"\n",
    "os.chdir(ruta_archivos) # Cambiar ruta trabajo\n",
    "os.getcwd() # Consultar ruta trabajo"
   ]
  },
  {
   "cell_type": "code",
   "execution_count": 19,
   "id": "fd3338a1-8b30-49f5-98ac-f22387664c13",
   "metadata": {},
   "outputs": [
    {
     "name": "stdout",
     "output_type": "stream",
     "text": [
      "Generating URL ...\n",
      "Downloading data from https://earthengine.googleapis.com/v1alpha/projects/earthengine-legacy/thumbnails/2065d4dcaa5f6c14478af0c27f60ed0c-7f233894123d8abb943b4da7c5e0a472:getPixels\n",
      "Please wait ...\n",
      "Data downloaded to E:\\Teledeteccion_GEE\\Python\\Datos_Espaciales\\Resultado_GEE\\annualPrecip_clip.tif\n"
     ]
    }
   ],
   "source": [
    "# Exportar imagen Precipitacion acumulada\n",
    "geemap.ee_export_image(annualPrecip_clip, filename = \"annualPrecip_clip.tif\", scale=5000, region=geometria, file_per_band=False)"
   ]
  },
  {
   "cell_type": "code",
   "execution_count": 20,
   "id": "0bbe78ba-e0e0-4f76-b479-11df73a2439c",
   "metadata": {},
   "outputs": [
    {
     "name": "stdout",
     "output_type": "stream",
     "text": [
      "Exporting annualPrecip_clip ...\n"
     ]
    }
   ],
   "source": [
    "# Exportar en google drive\n",
    "geemap.ee_export_image_to_drive(annualPrecip_clip, description='annualPrecip_clip', folder='GEE_Python', region=geometria, scale=5000)"
   ]
  }
 ],
 "metadata": {
  "kernelspec": {
   "display_name": "Python 3",
   "language": "python",
   "name": "python3"
  },
  "language_info": {
   "codemirror_mode": {
    "name": "ipython",
    "version": 3
   },
   "file_extension": ".py",
   "mimetype": "text/x-python",
   "name": "python",
   "nbconvert_exporter": "python",
   "pygments_lexer": "ipython3",
   "version": "3.7.10"
  },
  "toc": {
   "base_numbering": 1,
   "nav_menu": {},
   "number_sections": true,
   "sideBar": true,
   "skip_h1_title": false,
   "title_cell": "Table of Contents",
   "title_sidebar": "Contents",
   "toc_cell": false,
   "toc_position": {},
   "toc_section_display": true,
   "toc_window_display": false
  }
 },
 "nbformat": 4,
 "nbformat_minor": 5
}
