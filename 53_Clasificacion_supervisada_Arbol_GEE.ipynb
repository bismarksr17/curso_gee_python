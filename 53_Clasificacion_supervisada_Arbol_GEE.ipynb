{
 "cells": [
  {
   "cell_type": "markdown",
   "id": "f2350176-6d6f-4a98-a233-a0a8ef9a9c44",
   "metadata": {},
   "source": [
    "# Clasificacion supervisada de Arboles de decision"
   ]
  },
  {
   "cell_type": "code",
   "execution_count": 1,
   "id": "9b8de841-4c11-4a99-8e61-e52eee5b8f3b",
   "metadata": {},
   "outputs": [],
   "source": [
    "# Importar paquete GEE\n",
    "import ee\n",
    "ee.Initialize()"
   ]
  },
  {
   "cell_type": "markdown",
   "id": "6ab86b17-59ae-4598-8220-9e78a070ffa2",
   "metadata": {},
   "source": [
    "## Filtro zona estudio mediante GEE"
   ]
  },
  {
   "cell_type": "code",
   "execution_count": 2,
   "id": "f22b77f7-7c85-4d4d-ac5f-750ce5e01f98",
   "metadata": {},
   "outputs": [],
   "source": [
    "# Agregar un shp GEE\n",
    "zona_ee = ee.FeatureCollection(\"users/bravomoralesnino/SHP/ZONA_19S\")"
   ]
  },
  {
   "cell_type": "code",
   "execution_count": 3,
   "id": "c00d19e0-a9ab-4c97-94de-57db6fbe8cf2",
   "metadata": {},
   "outputs": [],
   "source": [
    "# Importar geemap\n",
    "import geemap\n",
    "Map = geemap.Map(basemap='ESRI')"
   ]
  },
  {
   "cell_type": "code",
   "execution_count": 4,
   "id": "df9218ea-05d9-496b-a410-22f1cd7d193a",
   "metadata": {},
   "outputs": [],
   "source": [
    "geometria = zona_ee.geometry()\n",
    "Map.centerObject(geometria, 11)"
   ]
  },
  {
   "cell_type": "code",
   "execution_count": 5,
   "id": "d84925f3-007d-439a-8af4-f124662961c2",
   "metadata": {},
   "outputs": [
    {
     "data": {
      "application/vnd.jupyter.widget-view+json": {
       "model_id": "fe8ac92c67b14992932275aa4ee96920",
       "version_major": 2,
       "version_minor": 0
      },
      "text/plain": [
       "Map(center=[-12.908744902436744, -69.9947155021359], controls=(WidgetControl(options=['position', 'transparent…"
      ]
     },
     "metadata": {},
     "output_type": "display_data"
    }
   ],
   "source": [
    "Map.addLayer(zona_ee, {\"color\" : \"00FF11\"},name = \"Zona estudio\")\n",
    "Map"
   ]
  },
  {
   "cell_type": "markdown",
   "id": "2dd2a98e-30d4-4ba1-b900-1a4aef691c4c",
   "metadata": {},
   "source": [
    "## Selección de imagen"
   ]
  },
  {
   "cell_type": "code",
   "execution_count": 6,
   "id": "aed6149c-6517-427e-b627-b11d46287ee9",
   "metadata": {},
   "outputs": [],
   "source": [
    "# Seleccionar una imagen Landsat8\n",
    "img_L8 = ee.Image(\"LANDSAT/LC08/C01/T1_SR/LC08_003069_20190808\")\\\n",
    "             .select(['B2', 'B3', 'B4', 'B5', 'B6', 'B7'],\n",
    "                     ['BLUE', 'GREEN', 'RED', 'NIR', 'SWIR1', 'SWIR2'])\\\n",
    "             .multiply(0.0001)\\\n",
    "             .clip(zona_ee)\\\n",
    "             .reproject(crs=\"EPSG:32719\", scale = 30)"
   ]
  },
  {
   "cell_type": "code",
   "execution_count": 7,
   "id": "e1f74b3f-67f3-4f49-af84-092606bb55ef",
   "metadata": {},
   "outputs": [
    {
     "data": {
      "text/plain": [
       "['BLUE', 'GREEN', 'RED', 'NIR', 'SWIR1', 'SWIR2']"
      ]
     },
     "execution_count": 7,
     "metadata": {},
     "output_type": "execute_result"
    }
   ],
   "source": [
    "# Nombre de las bandas\n",
    "img_L8.bandNames().getInfo()"
   ]
  },
  {
   "cell_type": "code",
   "execution_count": 8,
   "id": "14361f01-78d8-4feb-a457-7d0734a3cce8",
   "metadata": {},
   "outputs": [],
   "source": [
    "# Simbologia escala 0 - 1\n",
    "viz_es = {\n",
    "    'bands': ['SWIR1','NIR','RED'],\n",
    "    'min': 0.1,\n",
    "    'max': 0.6,\n",
    "    'gamma': 1.6\n",
    "}"
   ]
  },
  {
   "cell_type": "code",
   "execution_count": 9,
   "id": "e29afdb3-f822-43a1-917e-310ee3c4ec72",
   "metadata": {},
   "outputs": [
    {
     "data": {
      "application/vnd.jupyter.widget-view+json": {
       "model_id": "fe8ac92c67b14992932275aa4ee96920",
       "version_major": 2,
       "version_minor": 0
      },
      "text/plain": [
       "Map(bottom=281402.6000366211, center=[-12.907261120236692, -70.0039174664375], controls=(WidgetControl(options…"
      ]
     },
     "metadata": {},
     "output_type": "display_data"
    }
   ],
   "source": [
    "Map.addLayer(img_L8, viz_es,name = \"Landsat8 RS\")\n",
    "Map"
   ]
  },
  {
   "cell_type": "markdown",
   "id": "aaadb56a-1ad7-466f-8cc9-3f648fc817e6",
   "metadata": {},
   "source": [
    "## Agregar ROI estudio SHP"
   ]
  },
  {
   "cell_type": "code",
   "execution_count": 10,
   "id": "d9d727c9-3189-455e-bff2-43f11880fc55",
   "metadata": {},
   "outputs": [
    {
     "data": {
      "text/plain": [
       "'C:\\\\Users\\\\GEOMATICA\\\\Teledeteccion_Python\\\\GEE'"
      ]
     },
     "execution_count": 10,
     "metadata": {},
     "output_type": "execute_result"
    }
   ],
   "source": [
    "import os\n",
    "os.getcwd() # Consultar ruta trabajo"
   ]
  },
  {
   "cell_type": "code",
   "execution_count": 11,
   "id": "cc221575-8457-4a52-9826-3b74c4acadbb",
   "metadata": {},
   "outputs": [
    {
     "data": {
      "text/plain": [
       "'E:\\\\Teledeteccion_GEE\\\\Python\\\\Datos_Espaciales\\\\SHP\\\\ROI'"
      ]
     },
     "execution_count": 11,
     "metadata": {},
     "output_type": "execute_result"
    }
   ],
   "source": [
    "ruta_archivos = r\"E:\\Teledeteccion_GEE\\Python\\Datos_Espaciales\\SHP\\ROI\"\n",
    "os.chdir(ruta_archivos) # Cambiar ruta trabajo\n",
    "os.getcwd() # Consultar ruta trabajo"
   ]
  },
  {
   "cell_type": "code",
   "execution_count": 12,
   "id": "100bea79-f914-4edb-b452-410f0ce0d083",
   "metadata": {},
   "outputs": [],
   "source": [
    "import geopandas as gpd"
   ]
  },
  {
   "cell_type": "code",
   "execution_count": 13,
   "id": "294e7e80-b3e5-469c-8ffc-1540ada9c313",
   "metadata": {},
   "outputs": [
    {
     "data": {
      "text/html": [
       "<div>\n",
       "<style scoped>\n",
       "    .dataframe tbody tr th:only-of-type {\n",
       "        vertical-align: middle;\n",
       "    }\n",
       "\n",
       "    .dataframe tbody tr th {\n",
       "        vertical-align: top;\n",
       "    }\n",
       "\n",
       "    .dataframe thead th {\n",
       "        text-align: right;\n",
       "    }\n",
       "</style>\n",
       "<table border=\"1\" class=\"dataframe\">\n",
       "  <thead>\n",
       "    <tr style=\"text-align: right;\">\n",
       "      <th></th>\n",
       "      <th>Id</th>\n",
       "      <th>Class</th>\n",
       "      <th>ID_Clas</th>\n",
       "      <th>geometry</th>\n",
       "    </tr>\n",
       "  </thead>\n",
       "  <tbody>\n",
       "    <tr>\n",
       "      <th>0</th>\n",
       "      <td>1</td>\n",
       "      <td>Bosque</td>\n",
       "      <td>3</td>\n",
       "      <td>POINT (-69.95182 -12.96576)</td>\n",
       "    </tr>\n",
       "    <tr>\n",
       "      <th>1</th>\n",
       "      <td>2</td>\n",
       "      <td>Bosque</td>\n",
       "      <td>3</td>\n",
       "      <td>POINT (-69.95296 -12.94446)</td>\n",
       "    </tr>\n",
       "    <tr>\n",
       "      <th>2</th>\n",
       "      <td>3</td>\n",
       "      <td>Bosque</td>\n",
       "      <td>3</td>\n",
       "      <td>POINT (-69.95096 -12.93107)</td>\n",
       "    </tr>\n",
       "    <tr>\n",
       "      <th>3</th>\n",
       "      <td>4</td>\n",
       "      <td>Bosque</td>\n",
       "      <td>3</td>\n",
       "      <td>POINT (-69.90221 -12.93842)</td>\n",
       "    </tr>\n",
       "    <tr>\n",
       "      <th>4</th>\n",
       "      <td>5</td>\n",
       "      <td>Bosque</td>\n",
       "      <td>3</td>\n",
       "      <td>POINT (-69.88706 -12.93034)</td>\n",
       "    </tr>\n",
       "    <tr>\n",
       "      <th>...</th>\n",
       "      <td>...</td>\n",
       "      <td>...</td>\n",
       "      <td>...</td>\n",
       "      <td>...</td>\n",
       "    </tr>\n",
       "    <tr>\n",
       "      <th>195</th>\n",
       "      <td>197</td>\n",
       "      <td>Agricultura</td>\n",
       "      <td>1</td>\n",
       "      <td>POINT (-70.02166 -12.99661)</td>\n",
       "    </tr>\n",
       "    <tr>\n",
       "      <th>196</th>\n",
       "      <td>198</td>\n",
       "      <td>Agricultura</td>\n",
       "      <td>1</td>\n",
       "      <td>POINT (-70.01474 -12.99581)</td>\n",
       "    </tr>\n",
       "    <tr>\n",
       "      <th>197</th>\n",
       "      <td>199</td>\n",
       "      <td>Agricultura</td>\n",
       "      <td>1</td>\n",
       "      <td>POINT (-70.01503 -12.86148)</td>\n",
       "    </tr>\n",
       "    <tr>\n",
       "      <th>198</th>\n",
       "      <td>200</td>\n",
       "      <td>Agricultura</td>\n",
       "      <td>1</td>\n",
       "      <td>POINT (-70.00675 -12.85307)</td>\n",
       "    </tr>\n",
       "    <tr>\n",
       "      <th>199</th>\n",
       "      <td>1</td>\n",
       "      <td>Bosque</td>\n",
       "      <td>1</td>\n",
       "      <td>POINT (-69.89391 -13.05951)</td>\n",
       "    </tr>\n",
       "  </tbody>\n",
       "</table>\n",
       "<p>200 rows × 4 columns</p>\n",
       "</div>"
      ],
      "text/plain": [
       "      Id        Class  ID_Clas                     geometry\n",
       "0      1       Bosque        3  POINT (-69.95182 -12.96576)\n",
       "1      2       Bosque        3  POINT (-69.95296 -12.94446)\n",
       "2      3       Bosque        3  POINT (-69.95096 -12.93107)\n",
       "3      4       Bosque        3  POINT (-69.90221 -12.93842)\n",
       "4      5       Bosque        3  POINT (-69.88706 -12.93034)\n",
       "..   ...          ...      ...                          ...\n",
       "195  197  Agricultura        1  POINT (-70.02166 -12.99661)\n",
       "196  198  Agricultura        1  POINT (-70.01474 -12.99581)\n",
       "197  199  Agricultura        1  POINT (-70.01503 -12.86148)\n",
       "198  200  Agricultura        1  POINT (-70.00675 -12.85307)\n",
       "199    1       Bosque        1  POINT (-69.89391 -13.05951)\n",
       "\n",
       "[200 rows x 4 columns]"
      ]
     },
     "execution_count": 13,
     "metadata": {},
     "output_type": "execute_result"
    }
   ],
   "source": [
    "# cargar un shp\n",
    "ROI = gpd.read_file(\"ROI_L8_Geo.shp\")\n",
    "ROI"
   ]
  },
  {
   "cell_type": "code",
   "execution_count": 14,
   "id": "5ac90fac-a608-4065-aa4c-2f5e4845ca4a",
   "metadata": {},
   "outputs": [],
   "source": [
    "# Crear un featureCollecion mediante GeoJSON\n",
    "ee_ROI = ee.FeatureCollection(ROI.__geo_interface__)"
   ]
  },
  {
   "cell_type": "code",
   "execution_count": 15,
   "id": "0e9c9819-4a23-47bb-87c4-26da542823ca",
   "metadata": {},
   "outputs": [
    {
     "data": {
      "application/vnd.jupyter.widget-view+json": {
       "model_id": "fe8ac92c67b14992932275aa4ee96920",
       "version_major": 2,
       "version_minor": 0
      },
      "text/plain": [
       "Map(bottom=281403.0, center=[-12.907261120236692, -70.0039174664375], controls=(WidgetControl(options=['positi…"
      ]
     },
     "metadata": {},
     "output_type": "display_data"
    }
   ],
   "source": [
    "Map.addLayer(ee_ROI,{\"color\" : \"red\"},name = \"L8 ROI\")\n",
    "Map"
   ]
  },
  {
   "cell_type": "markdown",
   "id": "2a0f1aca-ec5d-47b0-a8ff-9a62001a9299",
   "metadata": {},
   "source": [
    "## Datos de entrenamiento ROI"
   ]
  },
  {
   "cell_type": "code",
   "execution_count": 16,
   "id": "1851fb0c-e15e-417d-ab8f-b83866b9624c",
   "metadata": {},
   "outputs": [],
   "source": [
    "# Obtener un FeatureCollection de datos de entrenamiento\n",
    "training = img_L8.sampleRegions(collection = ee_ROI,\n",
    "                                properties = [\"ID_Clas\",\"Class\"],\n",
    "                                scale = 30)"
   ]
  },
  {
   "cell_type": "code",
   "execution_count": 17,
   "id": "c991c364-3b2d-4097-aabf-1985bb9a4045",
   "metadata": {},
   "outputs": [],
   "source": [
    "# seleccionar las bandas\n",
    "bandas = ['BLUE', 'GREEN', 'RED', 'NIR', 'SWIR1', 'SWIR2']"
   ]
  },
  {
   "cell_type": "markdown",
   "id": "4d8cb8fa-c871-4322-a443-84dbef4e1b11",
   "metadata": {},
   "source": [
    "## Parámetro clasificación Arboles desición"
   ]
  },
  {
   "cell_type": "code",
   "execution_count": 18,
   "id": "b20afe78-e0b7-4cfd-a713-d5d0f393fb49",
   "metadata": {},
   "outputs": [],
   "source": [
    "# image classification\n",
    "classifier = ee.Classifier.smileCart().train(training, \"ID_Clas\", bandas)"
   ]
  },
  {
   "cell_type": "markdown",
   "id": "11d78423-5b76-491b-9dc0-69d341fe7f54",
   "metadata": {},
   "source": [
    "## Aplicar clasificación"
   ]
  },
  {
   "cell_type": "code",
   "execution_count": 19,
   "id": "95b601ec-6d52-4a03-b9c0-173993f6b3a1",
   "metadata": {},
   "outputs": [],
   "source": [
    "# Clasificador CART\n",
    "clasificacion_CART = img_L8.classify(classifier)"
   ]
  },
  {
   "cell_type": "code",
   "execution_count": 20,
   "id": "6d75880b-0f8d-4a2d-b7b6-204e7ed4308d",
   "metadata": {},
   "outputs": [],
   "source": [
    "# Simbologia clasificacion\n",
    "viz_clas = {\n",
    "    'palette': [\"#4dde40\",\"#2032ed\",\n",
    "                \"#13800c\",\"#dc0f0f\"],\n",
    "    'min': 1,\n",
    "    'max': 4\n",
    "}"
   ]
  },
  {
   "cell_type": "code",
   "execution_count": 21,
   "id": "c1dddabc-85cf-4e20-bff2-66b0fd04921d",
   "metadata": {},
   "outputs": [
    {
     "data": {
      "application/vnd.jupyter.widget-view+json": {
       "model_id": "fe8ac92c67b14992932275aa4ee96920",
       "version_major": 2,
       "version_minor": 0
      },
      "text/plain": [
       "Map(bottom=281405.0, center=[-12.908867400877059, -69.94720458984376], controls=(WidgetControl(options=['posit…"
      ]
     },
     "metadata": {},
     "output_type": "display_data"
    }
   ],
   "source": [
    "Map.addLayer(clasificacion_CART, viz_clas,name = \"Clasificado CART\")\n",
    "Map"
   ]
  },
  {
   "cell_type": "code",
   "execution_count": 22,
   "id": "42f048f5-4886-431e-8016-33037d1df8a5",
   "metadata": {},
   "outputs": [
    {
     "data": {
      "text/plain": [
       "['classification']"
      ]
     },
     "execution_count": 22,
     "metadata": {},
     "output_type": "execute_result"
    }
   ],
   "source": [
    "clasificacion_CART.bandNames().getInfo()"
   ]
  },
  {
   "cell_type": "markdown",
   "id": "3f8e1a64-3c4b-4592-bc0f-c5d0e0394bc5",
   "metadata": {},
   "source": [
    "## Matriz de confusión y precisión"
   ]
  },
  {
   "cell_type": "code",
   "execution_count": 23,
   "id": "1862d113-0f0a-46e7-81ec-42046a31c4bc",
   "metadata": {},
   "outputs": [
    {
     "data": {
      "text/plain": [
       "[[0, 0, 0, 0, 0],\n",
       " [0, 32, 0, 0, 0],\n",
       " [0, 0, 45, 0, 0],\n",
       " [0, 0, 0, 49, 0],\n",
       " [0, 0, 0, 0, 74]]"
      ]
     },
     "execution_count": 23,
     "metadata": {},
     "output_type": "execute_result"
    }
   ],
   "source": [
    "# Estimar la matriz de confusión o error \n",
    "Matriz = classifier.confusionMatrix().getInfo()\n",
    "Matriz"
   ]
  },
  {
   "cell_type": "code",
   "execution_count": 24,
   "id": "f2a675af-fe4a-4213-834e-8b3aabd0cc6d",
   "metadata": {},
   "outputs": [
    {
     "data": {
      "text/plain": [
       "1"
      ]
     },
     "execution_count": 24,
     "metadata": {},
     "output_type": "execute_result"
    }
   ],
   "source": [
    "# precisión de la clasificación\n",
    "classifier.confusionMatrix().accuracy().getInfo()"
   ]
  },
  {
   "cell_type": "markdown",
   "id": "a2459eae-623d-4562-b004-869330723c65",
   "metadata": {},
   "source": [
    "## Exportar Imagen "
   ]
  },
  {
   "cell_type": "code",
   "execution_count": 25,
   "id": "6dabe414-fe9e-4b53-9158-5846836f4b5f",
   "metadata": {},
   "outputs": [
    {
     "data": {
      "text/plain": [
       "'E:\\\\Teledeteccion_GEE\\\\Python\\\\Datos_Espaciales\\\\SHP\\\\ROI'"
      ]
     },
     "execution_count": 25,
     "metadata": {},
     "output_type": "execute_result"
    }
   ],
   "source": [
    "os.getcwd()"
   ]
  },
  {
   "cell_type": "code",
   "execution_count": 26,
   "id": "c5bf96c5-bb30-4623-8312-d1ef4ca65057",
   "metadata": {},
   "outputs": [
    {
     "data": {
      "text/plain": [
       "'E:\\\\Teledeteccion_GEE\\\\Python\\\\Datos_Espaciales\\\\Resultado_GEE'"
      ]
     },
     "execution_count": 26,
     "metadata": {},
     "output_type": "execute_result"
    }
   ],
   "source": [
    "ruta_archivos = r\"E:\\Teledeteccion_GEE\\Python\\Datos_Espaciales\\Resultado_GEE\"\n",
    "os.chdir(ruta_archivos) # Cambiar ruta trabajo\n",
    "os.getcwd() # Consultar ruta trabajo"
   ]
  },
  {
   "cell_type": "code",
   "execution_count": 27,
   "id": "adb0cb29-4521-44d1-8a32-b304387687a7",
   "metadata": {},
   "outputs": [
    {
     "name": "stdout",
     "output_type": "stream",
     "text": [
      "Generating URL ...\n",
      "Downloading data from https://earthengine.googleapis.com/v1alpha/projects/earthengine-legacy/thumbnails/57e38e07e3dab69d41e717d479053e07-ec18dd770cce937398465dcea9f7fcfb:getPixels\n",
      "Please wait ...\n",
      "Data downloaded to E:\\Teledeteccion_GEE\\Python\\Datos_Espaciales\\Resultado_GEE\\L8_clasificacion_CART.tif\n"
     ]
    }
   ],
   "source": [
    "# Exportar imagen Clasificado\n",
    "geemap.ee_export_image(clasificacion_CART, filename=\"L8_clasificacion_CART.tif\", scale=30, region=geometria, file_per_band=False)"
   ]
  },
  {
   "cell_type": "code",
   "execution_count": null,
   "id": "ab2c171d-349a-440c-a9b7-fcb46d557311",
   "metadata": {},
   "outputs": [],
   "source": []
  }
 ],
 "metadata": {
  "kernelspec": {
   "display_name": "Python 3",
   "language": "python",
   "name": "python3"
  },
  "language_info": {
   "codemirror_mode": {
    "name": "ipython",
    "version": 3
   },
   "file_extension": ".py",
   "mimetype": "text/x-python",
   "name": "python",
   "nbconvert_exporter": "python",
   "pygments_lexer": "ipython3",
   "version": "3.7.10"
  }
 },
 "nbformat": 4,
 "nbformat_minor": 5
}
