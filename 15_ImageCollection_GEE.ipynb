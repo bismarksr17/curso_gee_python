{
 "cells": [
  {
   "cell_type": "markdown",
   "id": "3ec66e3a-f75f-408d-9750-8a0889e4a35b",
   "metadata": {},
   "source": [
    "# Agregar ImageCollection google Earth Engine"
   ]
  },
  {
   "cell_type": "code",
   "execution_count": 1,
   "id": "5f03db00-c739-44b5-b506-59a57ebc73e5",
   "metadata": {},
   "outputs": [],
   "source": [
    "# Importar paquete GEE\n",
    "import ee\n",
    "ee.Initialize()"
   ]
  },
  {
   "cell_type": "markdown",
   "id": "cbbc6595-bac9-4ed5-ad91-993b04117a20",
   "metadata": {},
   "source": [
    "## Agregar un pais"
   ]
  },
  {
   "cell_type": "code",
   "execution_count": 2,
   "id": "361f2fd2-d698-4302-8d73-fc67b569fb44",
   "metadata": {},
   "outputs": [],
   "source": [
    "BOLIVIA = ee.FeatureCollection('USDOS/LSIB_SIMPLE/2017')\\\n",
    "             .filterMetadata('country_na', 'equals', 'Bolivia')"
   ]
  },
  {
   "cell_type": "code",
   "execution_count": 4,
   "id": "652ab6ec-1b18-4aee-b4fc-f98f759d6e0d",
   "metadata": {},
   "outputs": [],
   "source": [
    "import geemap\n",
    "Map = geemap.Map(basemap='SATELLITE')"
   ]
  },
  {
   "cell_type": "code",
   "execution_count": 5,
   "id": "29776553-d7e6-4e2b-8950-5cee981c9a92",
   "metadata": {},
   "outputs": [
    {
     "data": {
      "application/vnd.jupyter.widget-view+json": {
       "model_id": "8fb2f48f34434fd5b5ffd0f8580ebb8f",
       "version_major": 2,
       "version_minor": 0
      },
      "text/plain": [
       "Map(center=[-16.68638579132066, -64.67577878939099], controls=(WidgetControl(options=['position', 'transparent…"
      ]
     },
     "metadata": {},
     "output_type": "display_data"
    }
   ],
   "source": [
    "# Visualizar el pais\n",
    "geometria = BOLIVIA.geometry()\n",
    "Map.centerObject(geometria, 5)\n",
    "Map.addLayer(BOLIVIA, {\"color\" : \"00FF11\"},name = 'BOLIVIA')\n",
    "Map"
   ]
  },
  {
   "cell_type": "markdown",
   "id": "cdfda3c4-6859-4da2-adde-b331c505c005",
   "metadata": {},
   "source": [
    "## Agregar imagen collection filtrado"
   ]
  },
  {
   "cell_type": "code",
   "execution_count": 6,
   "id": "e6c4d504-7f41-48e4-b47a-5ebd9bbc3a29",
   "metadata": {},
   "outputs": [],
   "source": [
    "# Importar imagen Landsat 5 OLI SR\n",
    "L5_collection = ee.ImageCollection(\"LANDSAT/LT05/C01/T1_SR\")\\\n",
    "                    .filterBounds(BOLIVIA)"
   ]
  },
  {
   "cell_type": "code",
   "execution_count": 11,
   "id": "f128bc2f-f38b-47bf-b9ef-60c965ffcc8a",
   "metadata": {},
   "outputs": [],
   "source": [
    "viz_RS = {\n",
    "    'bands': [\"B5\", \"B4\", \"B3\"],\n",
    "    'min': 250,\n",
    "    'max': 7000,\n",
    "    'gamma': 1.90\n",
    "}"
   ]
  },
  {
   "cell_type": "code",
   "execution_count": 9,
   "id": "cc9e487f-9a2f-484d-87e2-6548e7963256",
   "metadata": {},
   "outputs": [],
   "source": [
    "# Realizar la median de todas las imagenes\n",
    "composite = L5_collection.median().clip(BOLIVIA)"
   ]
  },
  {
   "cell_type": "code",
   "execution_count": 12,
   "id": "dd8277c0-0b8b-4637-9ebd-e0bf12d951a3",
   "metadata": {},
   "outputs": [
    {
     "data": {
      "application/vnd.jupyter.widget-view+json": {
       "model_id": "8fb2f48f34434fd5b5ffd0f8580ebb8f",
       "version_major": 2,
       "version_minor": 0
      },
      "text/plain": [
       "Map(bottom=9190.0, center=[-15.156973713377667, -62.54516601562501], controls=(WidgetControl(options=['positio…"
      ]
     },
     "metadata": {},
     "output_type": "display_data"
    }
   ],
   "source": [
    "# Visualizar imagen\n",
    "Map.addLayer(composite, viz_RS, \"Landsat 5 TM\")\n",
    "Map"
   ]
  },
  {
   "cell_type": "code",
   "execution_count": null,
   "id": "de8f832b-f1cb-4fb9-9e6b-752cffcf0b8b",
   "metadata": {},
   "outputs": [],
   "source": []
  },
  {
   "cell_type": "code",
   "execution_count": null,
   "id": "72cd22a3-7b16-48df-8201-f2c43ae5368f",
   "metadata": {},
   "outputs": [],
   "source": []
  },
  {
   "cell_type": "code",
   "execution_count": null,
   "id": "2f5bce8e-3596-474a-b129-47a38708af22",
   "metadata": {},
   "outputs": [],
   "source": []
  }
 ],
 "metadata": {
  "kernelspec": {
   "display_name": "Python 3",
   "language": "python",
   "name": "python3"
  },
  "language_info": {
   "codemirror_mode": {
    "name": "ipython",
    "version": 3
   },
   "file_extension": ".py",
   "mimetype": "text/x-python",
   "name": "python",
   "nbconvert_exporter": "python",
   "pygments_lexer": "ipython3",
   "version": "3.7.10"
  }
 },
 "nbformat": 4,
 "nbformat_minor": 5
}
