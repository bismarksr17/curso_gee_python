{
 "cells": [
  {
   "cell_type": "markdown",
   "id": "fe49a505-dd7f-4298-8df9-9d0b74cb6952",
   "metadata": {},
   "source": [
    "# Enmascaramiento de diferencia NDVI google Earth Engine"
   ]
  },
  {
   "cell_type": "code",
   "execution_count": 1,
   "id": "599e35b4-9edd-4ad4-8e99-50ab67ab1ada",
   "metadata": {},
   "outputs": [],
   "source": [
    "# Importar paquete GEE\n",
    "import ee\n",
    "ee.Initialize()"
   ]
  },
  {
   "cell_type": "markdown",
   "id": "0142e7fe-b8dd-4c58-b59f-fa7bc51c3752",
   "metadata": {},
   "source": [
    "## Seleccionar imagenes de 20 años diferencia"
   ]
  },
  {
   "cell_type": "code",
   "execution_count": 2,
   "id": "49d433d2-91cf-445e-9475-93fff9aeaec1",
   "metadata": {},
   "outputs": [],
   "source": [
    "# Seleccion dos imagenes diferencia 20 años\n",
    "image1 = ee.Image(\"LANDSAT/LT05/C01/T1_TOA/LT05_044034_19900604\")\\\n",
    "              .select(['B1', 'B2', 'B3', 'B4', 'B5', 'B7'],\n",
    "                     ['BLUE', 'GREEN', 'RED', 'NIR', 'SWIR1', 'SWIR2'])"
   ]
  },
  {
   "cell_type": "code",
   "execution_count": 3,
   "id": "c700a91b-bdb6-4ead-9ad9-1f9c7e01ae24",
   "metadata": {},
   "outputs": [],
   "source": [
    "image2 = ee.Image(\"LANDSAT/LT05/C01/T1_TOA/LT05_044034_20100611\")\\\n",
    "              .select(['B1', 'B2', 'B3', 'B4', 'B5', 'B7'],\n",
    "                     ['BLUE', 'GREEN', 'RED', 'NIR', 'SWIR1', 'SWIR2'])"
   ]
  },
  {
   "cell_type": "code",
   "execution_count": 4,
   "id": "ba12061e-2b47-4659-8b9d-03a211bbbeba",
   "metadata": {},
   "outputs": [],
   "source": [
    "# Importar geemap\n",
    "import geemap\n",
    "Map = geemap.Map(basemap='ESRI')"
   ]
  },
  {
   "cell_type": "code",
   "execution_count": 23,
   "id": "b5714232-14b6-4279-8238-449ecdcd6cd9",
   "metadata": {},
   "outputs": [],
   "source": [
    "geomatria = image1.geometry()\n",
    "Map.centerObject(geomatria)"
   ]
  },
  {
   "cell_type": "code",
   "execution_count": 8,
   "id": "24d49341-368c-4793-ac62-261e76ef9254",
   "metadata": {},
   "outputs": [
    {
     "name": "stdout",
     "output_type": "stream",
     "text": [
      "Imagen1: ['BLUE', 'GREEN', 'RED', 'NIR', 'SWIR1', 'SWIR2']\n",
      "Imagen2: ['BLUE', 'GREEN', 'RED', 'NIR', 'SWIR1', 'SWIR2']\n"
     ]
    }
   ],
   "source": [
    "# Nombre de las bandas\n",
    "print(\"Imagen1:\",image1.bandNames().getInfo())\n",
    "print(\"Imagen2:\",image2.bandNames().getInfo())"
   ]
  },
  {
   "cell_type": "code",
   "execution_count": 9,
   "id": "76cf775c-69a8-47c9-8531-059414a943d3",
   "metadata": {},
   "outputs": [],
   "source": [
    "# Simbologia escala 0 - 1 TOA\n",
    "viz_es = {\n",
    "    'bands': ['SWIR1','NIR','RED'],\n",
    "    'min': 0.1,\n",
    "    'max': 0.6,\n",
    "    'gamma': 1.6\n",
    "}"
   ]
  },
  {
   "cell_type": "code",
   "execution_count": 10,
   "id": "abe99e49-3719-465e-b752-7e477b14b807",
   "metadata": {},
   "outputs": [
    {
     "data": {
      "application/vnd.jupyter.widget-view+json": {
       "model_id": "533bffdd59144a96a1576c9f747fe230",
       "version_major": 2,
       "version_minor": 0
      },
      "text/plain": [
       "Map(center=[37.482218868889554, -122.15074683989116], controls=(WidgetControl(options=['position', 'transparen…"
      ]
     },
     "metadata": {},
     "output_type": "display_data"
    }
   ],
   "source": [
    "# Visualizar \n",
    "Map.addLayer(image1, viz_es, name = \"Landsat8 IMG1\")\n",
    "Map.addLayer(image2, viz_es, name = \"Landsat8 IMG2\")\n",
    "Map"
   ]
  },
  {
   "cell_type": "markdown",
   "id": "35b7b850-0650-48c1-a134-fedc83c1ba74",
   "metadata": {},
   "source": [
    "## Calcular NDVI"
   ]
  },
  {
   "cell_type": "code",
   "execution_count": 11,
   "id": "7df1c57f-7290-4e56-adc3-fdce50d6c1d7",
   "metadata": {},
   "outputs": [],
   "source": [
    "# Determinar NDVI forma 3 Funcion GEE\n",
    "def Calc_NDVI(image):\n",
    "    ndvi = image.expression('float(nir - red)/(nir + red)', {\n",
    "        'nir': image.select('NIR'),\n",
    "        'red': image.select('RED')\n",
    "    })\n",
    "\n",
    "    return ndvi.rename(\"NDVI\")"
   ]
  },
  {
   "cell_type": "code",
   "execution_count": 12,
   "id": "2a3d639e-e5ee-4188-b371-9374ebb292e3",
   "metadata": {},
   "outputs": [],
   "source": [
    "# Calcular indices con funcion\n",
    "ndvi_1 = Calc_NDVI(image1)\n",
    "ndvi_2 = Calc_NDVI(image2)"
   ]
  },
  {
   "cell_type": "code",
   "execution_count": 13,
   "id": "cb0bbe59-eab2-44ff-830a-656cde3f1944",
   "metadata": {},
   "outputs": [],
   "source": [
    "# Simbologia de NDVI\n",
    "viz_ndvi = {\n",
    "    'palette': ['FFFFFF', 'CE7E45','DF923D', 'F1B555',\n",
    "                'FCD163', '99B718','74A901', '66A000',\n",
    "                '529400', '3E8601','207401', '056201',\n",
    "                '004C00', '023B01','012E01', '011D01',\n",
    "                '011301'],\n",
    "    'min': -0.4,\n",
    "    'max': 1,\n",
    "    'bands': \"NDVI\"\n",
    "}"
   ]
  },
  {
   "cell_type": "code",
   "execution_count": 14,
   "id": "a0901d0d-7687-4d08-b4da-33bb34ecca75",
   "metadata": {},
   "outputs": [
    {
     "data": {
      "application/vnd.jupyter.widget-view+json": {
       "model_id": "533bffdd59144a96a1576c9f747fe230",
       "version_major": 2,
       "version_minor": 0
      },
      "text/plain": [
       "Map(bottom=405983.0, center=[37.66996211213936, -121.43823623657228], controls=(WidgetControl(options=['positi…"
      ]
     },
     "metadata": {},
     "output_type": "display_data"
    }
   ],
   "source": [
    "# Visualizar \n",
    "Map.addLayer(ndvi_1, viz_ndvi, name = \"ndvi 1990\")\n",
    "Map.addLayer(ndvi_2, viz_ndvi, name = \"ndvi 2010\")\n",
    "Map"
   ]
  },
  {
   "cell_type": "markdown",
   "id": "5b514666-c861-4b13-ace8-036e7c270054",
   "metadata": {},
   "source": [
    "## Diferencia de NDVI"
   ]
  },
  {
   "cell_type": "code",
   "execution_count": 15,
   "id": "547c5c17-922a-49c1-baf4-16736455a0db",
   "metadata": {},
   "outputs": [],
   "source": [
    "# Diferencia de NDVI.\n",
    "Diferencia_ndvi = ndvi_2.subtract(ndvi_1)"
   ]
  },
  {
   "cell_type": "markdown",
   "id": "b3f0f1f8-b0e9-467d-83ce-73a79cd7386c",
   "metadata": {},
   "source": [
    "## Agregar MDE"
   ]
  },
  {
   "cell_type": "code",
   "execution_count": 16,
   "id": "abd727ca-aa31-4955-9965-fc87c98db9e4",
   "metadata": {},
   "outputs": [],
   "source": [
    "# Agregar MDE SRTM Mascara\n",
    "MDE = ee.Image(\"CGIAR/SRTM90_V4\")\n",
    "MDE_Mask = MDE.mask()"
   ]
  },
  {
   "cell_type": "code",
   "execution_count": 19,
   "id": "4ff21903-a835-48d6-a20a-77a75096e611",
   "metadata": {},
   "outputs": [
    {
     "data": {
      "application/vnd.jupyter.widget-view+json": {
       "model_id": "533bffdd59144a96a1576c9f747fe230",
       "version_major": 2,
       "version_minor": 0
      },
      "text/plain": [
       "Map(bottom=2381.0, center=[-2.8991526985043006, -62.35839843750001], controls=(WidgetControl(options=['positio…"
      ]
     },
     "metadata": {},
     "output_type": "display_data"
    }
   ],
   "source": [
    "# Visualizar \n",
    "Map.addLayer(MDE_Mask,{},\"MDE Mascara\")\n",
    "Map"
   ]
  },
  {
   "cell_type": "markdown",
   "id": "bae8a7d8-8a7c-4b0f-8d63-5fa2ad6fad8e",
   "metadata": {},
   "source": [
    "## Actualizar enmascaramiento"
   ]
  },
  {
   "cell_type": "code",
   "execution_count": 20,
   "id": "cc971c2d-70f2-406d-8850-7d9006e5dfc4",
   "metadata": {},
   "outputs": [],
   "source": [
    "# Actualizar mascara de NDVI mediante MDE\n",
    "mask_ndvi = Diferencia_ndvi.updateMask(MDE_Mask)"
   ]
  },
  {
   "cell_type": "code",
   "execution_count": 21,
   "id": "59a7f73e-9c5e-4750-bdc6-e49df85a7661",
   "metadata": {},
   "outputs": [],
   "source": [
    "# Simbologia de NDVI diferenciada\n",
    "vizParams = {\n",
    "    'palette': [\"FF0000\", \"FFFFFF\", \"0000FF\"],\n",
    "    'min': -0.5,\n",
    "    'max': 0.5\n",
    "}"
   ]
  },
  {
   "cell_type": "code",
   "execution_count": 22,
   "id": "c3b32210-7328-474c-814a-d70ceafe7d5d",
   "metadata": {},
   "outputs": [
    {
     "data": {
      "application/vnd.jupyter.widget-view+json": {
       "model_id": "533bffdd59144a96a1576c9f747fe230",
       "version_major": 2,
       "version_minor": 0
      },
      "text/plain": [
       "Map(bottom=2381.0, center=[-2.8991526985043006, -62.35839843750001], controls=(WidgetControl(options=['positio…"
      ]
     },
     "metadata": {},
     "output_type": "display_data"
    }
   ],
   "source": [
    "# Visualizar \n",
    "Map.addLayer(mask_ndvi, vizParams, name = \"NDVI difference\")\n",
    "Map"
   ]
  },
  {
   "cell_type": "code",
   "execution_count": null,
   "id": "1b89b4e3-da8b-4d58-a174-08b81c7da187",
   "metadata": {},
   "outputs": [],
   "source": []
  }
 ],
 "metadata": {
  "kernelspec": {
   "display_name": "Python 3",
   "language": "python",
   "name": "python3"
  },
  "language_info": {
   "codemirror_mode": {
    "name": "ipython",
    "version": 3
   },
   "file_extension": ".py",
   "mimetype": "text/x-python",
   "name": "python",
   "nbconvert_exporter": "python",
   "pygments_lexer": "ipython3",
   "version": "3.7.10"
  }
 },
 "nbformat": 4,
 "nbformat_minor": 5
}
