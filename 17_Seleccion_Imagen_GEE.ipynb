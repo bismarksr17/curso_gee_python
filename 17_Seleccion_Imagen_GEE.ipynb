{
 "cells": [
  {
   "cell_type": "markdown",
   "id": "482796f4-ff35-48d0-a1b6-18803b5ca32a",
   "metadata": {},
   "source": [
    "# Seleccionar una imagen de un Image google Earth Engine"
   ]
  },
  {
   "cell_type": "code",
   "execution_count": 1,
   "id": "938540b0-a62b-49b0-b85d-56f0d11220bb",
   "metadata": {},
   "outputs": [],
   "source": [
    "import ee\n",
    "ee.Initialize()"
   ]
  },
  {
   "cell_type": "markdown",
   "id": "e7c042ec-c431-4284-a7f8-ce4abaecdfea",
   "metadata": {},
   "source": [
    "## Seleccionar segun EarthExplorer"
   ]
  },
  {
   "cell_type": "code",
   "execution_count": 14,
   "id": "f53f3f65-f2f4-4809-a319-04c14b642296",
   "metadata": {},
   "outputs": [],
   "source": [
    "# ID = \"LC08_L1TP_006066_20210701_20210708_01_T1\" segun EarthExplorer Level 1 - T1\n",
    "# LC08_L1TP_006066_20170722_20170728_01_T1\n",
    "ID = \"LC08_006066_20170722\""
   ]
  },
  {
   "cell_type": "code",
   "execution_count": 15,
   "id": "6cc723aa-e326-435a-8ab4-5f57bd70533f",
   "metadata": {},
   "outputs": [],
   "source": [
    "# Importar imagen Landsat 8 OLI RS coleccion 1 Level1\n",
    "image = ee.Image(\"LANDSAT/LC08/C01/T1_SR\" + \"/\" + ID).select(\"B2\",\"B3\",\"B4\",\"B5\",\"B6\",\"B7\")"
   ]
  },
  {
   "cell_type": "code",
   "execution_count": 18,
   "id": "ad3d2d93-7ca4-4dce-bbe4-73ba35112ec5",
   "metadata": {},
   "outputs": [],
   "source": [
    "image1 = ee.Image(\"LANDSAT/LC08/C02/T1_L2\" + \"/\" + ID)"
   ]
  },
  {
   "cell_type": "code",
   "execution_count": 23,
   "id": "d6585ff4-4de6-4d6d-8c27-6d5ce164fd1b",
   "metadata": {},
   "outputs": [],
   "source": [
    "# Simbologia escala 0 - 10000 Level2\n",
    "viz_RS1 = {\n",
    "    'bands': ['SR_B6', 'SR_B5', 'SR_B4'],\n",
    "    'min': 250,\n",
    "    'max': 30000,\n",
    "    'gamma': 0.9\n",
    "}"
   ]
  },
  {
   "cell_type": "code",
   "execution_count": 5,
   "id": "c4155df5-36bc-4f6d-9c21-05c89ee7201c",
   "metadata": {},
   "outputs": [],
   "source": [
    "# Simbologia escala 0 - 10000\n",
    "viz_RS = {\n",
    "    'bands': ['B6', 'B5', 'B4'],\n",
    "    'min': 250,\n",
    "    'max': 8000,\n",
    "    'gamma': 1.70\n",
    "}"
   ]
  },
  {
   "cell_type": "code",
   "execution_count": 16,
   "id": "0d62b844-4c38-490e-8eb7-add603676ce0",
   "metadata": {},
   "outputs": [],
   "source": [
    "geometria = image.geometry()"
   ]
  },
  {
   "cell_type": "code",
   "execution_count": 7,
   "id": "c44665cd-14f3-4b6b-86f6-0ff6843a8c31",
   "metadata": {},
   "outputs": [],
   "source": [
    "# Importar geemap\n",
    "import geemap\n",
    "Map = geemap.Map(basemap='ESRI')"
   ]
  },
  {
   "cell_type": "code",
   "execution_count": 24,
   "id": "a6ee0e73-4493-421a-9511-63355ad60d04",
   "metadata": {},
   "outputs": [],
   "source": [
    "Map.addLayer(image1, viz_RS1, 'L8_B654_L2')"
   ]
  },
  {
   "cell_type": "code",
   "execution_count": 17,
   "id": "989afb5b-c14d-4b73-9ffd-10e304985f02",
   "metadata": {},
   "outputs": [
    {
     "data": {
      "application/vnd.jupyter.widget-view+json": {
       "model_id": "7c7cdc050f32478c80a7b57a4cb3146b",
       "version_major": 2,
       "version_minor": 0
      },
      "text/plain": [
       "Map(bottom=34654.0, center=[-8.678540243496697, -74.15128940495077], controls=(WidgetControl(options=['positio…"
      ]
     },
     "metadata": {},
     "output_type": "display_data"
    }
   ],
   "source": [
    "# Center the map and display the image.\n",
    "Map.centerObject(geometria,8)\n",
    "Map.addLayer(image, viz_RS, 'L8_B654')\n",
    "Map"
   ]
  },
  {
   "cell_type": "markdown",
   "id": "559febcd-a461-463b-a65f-9207e5885dfa",
   "metadata": {},
   "source": [
    "## Buscar segun Coleccion Landsat"
   ]
  },
  {
   "cell_type": "code",
   "execution_count": 25,
   "id": "6d82aaa7-f46f-4440-ac1b-aa98c5a2049f",
   "metadata": {},
   "outputs": [],
   "source": [
    "# Importar imagen Landsat 5 TM RS\n",
    "L5_collection = ee.ImageCollection(\"LANDSAT/LT05/C01/T1_SR\")\\\n",
    "                  .filterMetadata('WRS_PATH', 'equals', 3)\\\n",
    "                  .filterMetadata('WRS_ROW', 'equals', 69)\\\n",
    "                  .filterMetadata('CLOUD_COVER', 'less_than', 20)\\\n",
    "                  .filterDate('2005-01-01','2009-12-31')"
   ]
  },
  {
   "cell_type": "code",
   "execution_count": 26,
   "id": "ffb71939-a141-4326-94d5-b670b4f85489",
   "metadata": {},
   "outputs": [
    {
     "name": "stdout",
     "output_type": "stream",
     "text": [
      "Cantidad de imagenes: 15\n"
     ]
    }
   ],
   "source": [
    "# Catalago de landsat 5\n",
    "count = L5_collection.size()\n",
    "print(\"Cantidad de imagenes:\",count.getInfo())"
   ]
  },
  {
   "cell_type": "code",
   "execution_count": 27,
   "id": "7fb58b45-50c1-4cd8-92ea-ed6434769620",
   "metadata": {},
   "outputs": [],
   "source": [
    "# Imprimir la lista de ID Imagenes\n",
    "catalogo_L5 = L5_collection.reduceColumns(ee.Reducer.toList(),[\"system:index\"]).get(\"list\").getInfo()"
   ]
  },
  {
   "cell_type": "code",
   "execution_count": 28,
   "id": "af8b8624-1d1a-48b1-8899-978a9391f3ad",
   "metadata": {},
   "outputs": [
    {
     "data": {
      "text/plain": [
       "['LT05_003069_20050716',\n",
       " 'LT05_003069_20050817',\n",
       " 'LT05_003069_20060516',\n",
       " 'LT05_003069_20060617',\n",
       " 'LT05_003069_20060719',\n",
       " 'LT05_003069_20060804',\n",
       " 'LT05_003069_20070823',\n",
       " 'LT05_003069_20070908',\n",
       " 'LT05_003069_20080505',\n",
       " 'LT05_003069_20080606',\n",
       " 'LT05_003069_20080825',\n",
       " 'LT05_003069_20080910',\n",
       " 'LT05_003069_20090524',\n",
       " 'LT05_003069_20090812',\n",
       " 'LT05_003069_20090828']"
      ]
     },
     "execution_count": 28,
     "metadata": {},
     "output_type": "execute_result"
    }
   ],
   "source": [
    "catalogo_L5"
   ]
  },
  {
   "cell_type": "code",
   "execution_count": 8,
   "id": "cec8edbb-1992-4bd2-84de-33a888462d9e",
   "metadata": {},
   "outputs": [
    {
     "data": {
      "text/plain": [
       "list"
      ]
     },
     "execution_count": 8,
     "metadata": {},
     "output_type": "execute_result"
    }
   ],
   "source": [
    "# Seleccionar ID de la lista\n",
    "type(catalogo_L5)"
   ]
  },
  {
   "cell_type": "code",
   "execution_count": 30,
   "id": "68a33478-8305-4700-a14a-234efebecc85",
   "metadata": {},
   "outputs": [
    {
     "data": {
      "text/plain": [
       "'LT05_003069_20050817'"
      ]
     },
     "execution_count": 30,
     "metadata": {},
     "output_type": "execute_result"
    }
   ],
   "source": [
    "# Seleccionar el primer ID\n",
    "catalogo_L5[1]"
   ]
  },
  {
   "cell_type": "code",
   "execution_count": 31,
   "id": "422fffe2-1e9b-4217-80a9-f16df926f90b",
   "metadata": {},
   "outputs": [
    {
     "data": {
      "text/plain": [
       "'LT05_003069_20090828'"
      ]
     },
     "execution_count": 31,
     "metadata": {},
     "output_type": "execute_result"
    }
   ],
   "source": [
    "# Seleccionar el ultimo ID\n",
    "catalogo_L5[-1]"
   ]
  },
  {
   "cell_type": "code",
   "execution_count": 40,
   "id": "9e063fbe-0ce7-4f5f-a308-c21ea85cdd7c",
   "metadata": {},
   "outputs": [],
   "source": [
    "# Importar imagen Landsat 5 TM RS\n",
    "image1 = ee.Image(\"LANDSAT/LT05/C01/T1_SR\" + \"/\" + catalogo_L5[2]).select(\"B1\",\"B2\",\"B3\",\"B4\",\"B5\",\"B7\")"
   ]
  },
  {
   "cell_type": "code",
   "execution_count": 38,
   "id": "8270c6a0-67d0-49df-bc23-8027cf5c8cea",
   "metadata": {},
   "outputs": [],
   "source": [
    "# Simbologia estala 0 - 10000\n",
    "viz = {\n",
    "    'bands': ['B5', 'B4', 'B3'],\n",
    "    'min': 250,\n",
    "    'max': 7000,\n",
    "    'gamma': 1.9\n",
    "}"
   ]
  },
  {
   "cell_type": "code",
   "execution_count": 35,
   "id": "93ec7227-a869-41ae-8f66-f421e9250ef4",
   "metadata": {},
   "outputs": [],
   "source": [
    "geometria1 = image1.geometry()"
   ]
  },
  {
   "cell_type": "code",
   "execution_count": 41,
   "id": "7e1cd02e-e243-482f-a92d-fb516720c881",
   "metadata": {},
   "outputs": [
    {
     "data": {
      "application/vnd.jupyter.widget-view+json": {
       "model_id": "7c7cdc050f32478c80a7b57a4cb3146b",
       "version_major": 2,
       "version_minor": 0
      },
      "text/plain": [
       "Map(bottom=35457.0, center=[-13.008656169377849, -70.48840216975938], controls=(WidgetControl(options=['positi…"
      ]
     },
     "metadata": {},
     "output_type": "display_data"
    }
   ],
   "source": [
    "# Center the map and display the image.\n",
    "Map.centerObject(geometria1,8)\n",
    "Map.addLayer(image1, viz, 'L5_B543')\n",
    "Map"
   ]
  },
  {
   "cell_type": "code",
   "execution_count": null,
   "id": "082f2109-ab71-4372-a0ec-031088c9de13",
   "metadata": {},
   "outputs": [],
   "source": []
  }
 ],
 "metadata": {
  "kernelspec": {
   "display_name": "Python 3",
   "language": "python",
   "name": "python3"
  },
  "language_info": {
   "codemirror_mode": {
    "name": "ipython",
    "version": 3
   },
   "file_extension": ".py",
   "mimetype": "text/x-python",
   "name": "python",
   "nbconvert_exporter": "python",
   "pygments_lexer": "ipython3",
   "version": "3.7.10"
  }
 },
 "nbformat": 4,
 "nbformat_minor": 5
}
