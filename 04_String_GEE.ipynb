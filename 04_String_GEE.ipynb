{
 "cells": [
  {
   "cell_type": "markdown",
   "id": "166b92aa-bac7-4964-9f15-4a2ef382ddca",
   "metadata": {},
   "source": [
    "# Tipo datos String GEE"
   ]
  },
  {
   "cell_type": "markdown",
   "id": "29ec56c4-bfff-4855-b877-d0c4f891ccf5",
   "metadata": {},
   "source": [
    "Información de String en Google Earth Engine:\n",
    "https://developers.google.com/earth-engine/apidocs/ee-string\n"
   ]
  },
  {
   "cell_type": "code",
   "execution_count": 1,
   "id": "c2f62557-38ab-422d-8ce6-179b06d5eb61",
   "metadata": {},
   "outputs": [],
   "source": [
    "# Importar paquete GEE\n",
    "import ee\n",
    "ee.Initialize()"
   ]
  },
  {
   "cell_type": "markdown",
   "id": "15b4afdc-5fdc-4bc6-83a5-494f6800ffca",
   "metadata": {},
   "source": [
    "## String en Python"
   ]
  },
  {
   "cell_type": "code",
   "execution_count": 6,
   "id": "da6e2e6b-95b2-495d-b7a7-3df9b9733a6e",
   "metadata": {},
   "outputs": [
    {
     "name": "stdout",
     "output_type": "stream",
     "text": [
      "Tipo de clase: <class 'str'>\n",
      "Geomatica\n"
     ]
    }
   ],
   "source": [
    "# Crear un string o texto en Python\n",
    "a = \"Geomatica\"\n",
    "print(\"Tipo de clase:\",type(a))\n",
    "print(a)"
   ]
  },
  {
   "cell_type": "markdown",
   "id": "471ede92-5112-4396-b09d-4ad59beaadce",
   "metadata": {},
   "source": [
    "## String en GEE"
   ]
  },
  {
   "cell_type": "code",
   "execution_count": 2,
   "id": "1e938ca1-aca1-40ce-a336-58d670a19a17",
   "metadata": {},
   "outputs": [
    {
     "name": "stdout",
     "output_type": "stream",
     "text": [
      "Geomatica\n"
     ]
    }
   ],
   "source": [
    "# Crear un string o texto en GEE\n",
    "string = ee.String(\"Geomatica\")\n",
    "\n",
    "print(string.getInfo())"
   ]
  },
  {
   "cell_type": "markdown",
   "id": "698d7376-8411-4dae-8ddb-769173bbc3a3",
   "metadata": {},
   "source": [
    "## Operaciones de String GEE"
   ]
  },
  {
   "cell_type": "markdown",
   "id": "1c71488a-3e64-45e2-b0f6-6b685cf8e04e",
   "metadata": {},
   "source": [
    "### Ubicación index"
   ]
  },
  {
   "cell_type": "code",
   "execution_count": 12,
   "id": "e962eb39-5fe9-4428-b9b6-51cddbff1994",
   "metadata": {},
   "outputs": [
    {
     "data": {
      "text/plain": [
       "5"
      ]
     },
     "execution_count": 12,
     "metadata": {},
     "output_type": "execute_result"
    }
   ],
   "source": [
    "# Ubicacion index orden\n",
    "index = string.index(\"t\")\n",
    "index.getInfo() # Imprimir variable"
   ]
  },
  {
   "cell_type": "markdown",
   "id": "5a0d27f2-9913-4c8f-b08d-38e03f7c02bc",
   "metadata": {},
   "source": [
    "### Remplazar variable"
   ]
  },
  {
   "cell_type": "code",
   "execution_count": 13,
   "id": "d510a1a8-c88d-4096-beff-bea1f34c3175",
   "metadata": {},
   "outputs": [
    {
     "name": "stdout",
     "output_type": "stream",
     "text": [
      "GeoXica\n"
     ]
    }
   ],
   "source": [
    "# Remplazar variable\n",
    "tex1 = string.replace('mat', 'X')\n",
    "print(tex1.getInfo())"
   ]
  },
  {
   "cell_type": "markdown",
   "id": "4762605b-07cf-46af-9e7d-c4a6b25519bf",
   "metadata": {},
   "source": [
    "### Longitud string"
   ]
  },
  {
   "cell_type": "code",
   "execution_count": 14,
   "id": "989191cd-e800-49f5-97cc-f678e85df01a",
   "metadata": {},
   "outputs": [
    {
     "data": {
      "text/plain": [
       "9"
      ]
     },
     "execution_count": 14,
     "metadata": {},
     "output_type": "execute_result"
    }
   ],
   "source": [
    "# Longitud del string\n",
    "longitud = string.length()\n",
    "longitud.getInfo()"
   ]
  },
  {
   "cell_type": "markdown",
   "id": "243674f4-45cf-46b1-b36d-10dc6ee8da31",
   "metadata": {},
   "source": [
    "### Extraer información string"
   ]
  },
  {
   "cell_type": "code",
   "execution_count": 17,
   "id": "b9ae644d-bbfb-4d58-9459-bb48e0c217c9",
   "metadata": {},
   "outputs": [
    {
     "data": {
      "text/plain": [
       "'omatic'"
      ]
     },
     "execution_count": 17,
     "metadata": {},
     "output_type": "execute_result"
    }
   ],
   "source": [
    "# Extraer informacion string segun index\n",
    "extra = string.slice(2,8)\n",
    "extra.getInfo()"
   ]
  },
  {
   "cell_type": "code",
   "execution_count": 20,
   "id": "51345f45-105b-45cd-912a-581b26bb703d",
   "metadata": {},
   "outputs": [
    {
     "data": {
      "text/plain": [
       "'atica'"
      ]
     },
     "execution_count": 20,
     "metadata": {},
     "output_type": "execute_result"
    }
   ],
   "source": [
    "extra1 = string.slice(-5)\n",
    "extra1.getInfo()"
   ]
  },
  {
   "cell_type": "markdown",
   "id": "79eca4f2-764b-448f-9e4d-0897930151a4",
   "metadata": {},
   "source": [
    "### Convertir en Minuscula todo"
   ]
  },
  {
   "cell_type": "code",
   "execution_count": 21,
   "id": "5f9da3a8-d1d2-4200-a9aa-81823925a1b9",
   "metadata": {},
   "outputs": [
    {
     "name": "stdout",
     "output_type": "stream",
     "text": [
      "geomatica\n"
     ]
    }
   ],
   "source": [
    "# Convierte caracter minusculo todo\n",
    "minuscula = string.toLowerCase()\n",
    "print(minuscula.getInfo())"
   ]
  },
  {
   "cell_type": "markdown",
   "id": "2d4120ce-05c9-4baa-8629-04d3d92e4c4d",
   "metadata": {},
   "source": [
    "### Convertir en Mayuscula todo"
   ]
  },
  {
   "cell_type": "code",
   "execution_count": 22,
   "id": "be76881b-67c6-461f-bee6-2acf2c6e68d7",
   "metadata": {},
   "outputs": [
    {
     "name": "stdout",
     "output_type": "stream",
     "text": [
      "GEOMATICA\n"
     ]
    }
   ],
   "source": [
    "# Convierte caracter Mayuscula todo\n",
    "mayuscula = string.toUpperCase()\n",
    "print(mayuscula.getInfo())"
   ]
  },
  {
   "cell_type": "markdown",
   "id": "1bb3c974-2361-47c2-9ae0-8043e22fd06c",
   "metadata": {},
   "source": [
    "### Concatenar string"
   ]
  },
  {
   "cell_type": "code",
   "execution_count": 25,
   "id": "c2da4cad-b1f4-40f7-ab88-7eeb070e9566",
   "metadata": {},
   "outputs": [
    {
     "name": "stdout",
     "output_type": "stream",
     "text": [
      "Geomatica Ambiental\n"
     ]
    }
   ],
   "source": [
    "# Concatenar caracter\n",
    "empresa = string.cat(\" Ambiental\")\n",
    "print(empresa.getInfo())"
   ]
  },
  {
   "cell_type": "code",
   "execution_count": null,
   "id": "98028c19-a159-4820-a468-d5fe551cdf91",
   "metadata": {},
   "outputs": [],
   "source": []
  }
 ],
 "metadata": {
  "kernelspec": {
   "display_name": "Python 3",
   "language": "python",
   "name": "python3"
  },
  "language_info": {
   "codemirror_mode": {
    "name": "ipython",
    "version": 3
   },
   "file_extension": ".py",
   "mimetype": "text/x-python",
   "name": "python",
   "nbconvert_exporter": "python",
   "pygments_lexer": "ipython3",
   "version": "3.7.10"
  },
  "toc": {
   "base_numbering": 1,
   "nav_menu": {},
   "number_sections": true,
   "sideBar": true,
   "skip_h1_title": false,
   "title_cell": "Table of Contents",
   "title_sidebar": "Contents",
   "toc_cell": false,
   "toc_position": {},
   "toc_section_display": true,
   "toc_window_display": true
  }
 },
 "nbformat": 4,
 "nbformat_minor": 5
}
