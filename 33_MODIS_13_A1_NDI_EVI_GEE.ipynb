{
 "cells": [
  {
   "cell_type": "markdown",
   "id": "bad69704-ee14-45b5-9ddb-0b16b373f0d7",
   "metadata": {},
   "source": [
    "# Caracteristica MOD13A1 NDVI y EVI google Earth Engine"
   ]
  },
  {
   "cell_type": "code",
   "execution_count": 1,
   "id": "b620bdc2-9fb4-424f-bdc0-b91a628d1b85",
   "metadata": {},
   "outputs": [],
   "source": [
    "# Importar paquete GEE\n",
    "import ee\n",
    "ee.Initialize()"
   ]
  },
  {
   "cell_type": "markdown",
   "id": "57c078bf-2b6e-47c4-ba1a-38eda2f4118e",
   "metadata": {},
   "source": [
    "## Filtro zona estudio mediante GEE"
   ]
  },
  {
   "cell_type": "code",
   "execution_count": 2,
   "id": "ebaf0a95-969c-41d9-a7f0-bb23c0f2c924",
   "metadata": {},
   "outputs": [],
   "source": [
    "# Agregar un shp GEE\n",
    "zona_ee = ee.FeatureCollection(\"users/bravomoralesnino/SHP/ZONA_19S\")"
   ]
  },
  {
   "cell_type": "code",
   "execution_count": 3,
   "id": "2cafba2e-1458-4bef-b1cd-0227ed563fcb",
   "metadata": {},
   "outputs": [],
   "source": [
    "# Importar geemap\n",
    "import geemap\n",
    "Map = geemap.Map(basemap='SATELLITE')"
   ]
  },
  {
   "cell_type": "code",
   "execution_count": 4,
   "id": "4dcb8345-e3fa-4c12-9063-2dbe89badc3d",
   "metadata": {},
   "outputs": [],
   "source": [
    "geometria = zona_ee.geometry()\n",
    "Map.centerObject(geometria, 11)"
   ]
  },
  {
   "cell_type": "code",
   "execution_count": 5,
   "id": "75d0f10b-09c1-4266-815a-b365868bb1f6",
   "metadata": {},
   "outputs": [
    {
     "data": {
      "application/vnd.jupyter.widget-view+json": {
       "model_id": "85bcb3f1a321461486f1452a7b5ac97f",
       "version_major": 2,
       "version_minor": 0
      },
      "text/plain": [
       "Map(center=[-12.908744902436744, -69.9947155021359], controls=(WidgetControl(options=['position', 'transparent…"
      ]
     },
     "metadata": {},
     "output_type": "display_data"
    }
   ],
   "source": [
    "Map.addLayer(zona_ee,{\"color\" : \"00FF11\"},name = \"Zona\")\n",
    "Map"
   ]
  },
  {
   "cell_type": "markdown",
   "id": "a5c8ca40-13b1-4eae-a752-50cd25a97811",
   "metadata": {},
   "source": [
    "## Coleccion MODIS13 A1"
   ]
  },
  {
   "cell_type": "code",
   "execution_count": 6,
   "id": "cc76f35a-fb29-43a0-bb93-3b1ec1aa1ba1",
   "metadata": {},
   "outputs": [],
   "source": [
    "# Coleccion de MODIS LST\n",
    "MODIS_Indice = ee.ImageCollection(\"MODIS/006/MOD13A1\")\\\n",
    "              .filterDate('2019-01-01','2019-12-31')\\\n",
    "              .filterBounds(zona_ee)"
   ]
  },
  {
   "cell_type": "code",
   "execution_count": 7,
   "id": "71dc57a0-40d5-437f-9e61-dcbc62337fe6",
   "metadata": {},
   "outputs": [
    {
     "name": "stdout",
     "output_type": "stream",
     "text": [
      "Cantidad de imagenes MODIS_Indice: 23\n"
     ]
    }
   ],
   "source": [
    "# Conteo de imagenes\n",
    "count = MODIS_Indice.size()\n",
    "print(\"Cantidad de imagenes MODIS_Indice:\", count.getInfo())"
   ]
  },
  {
   "cell_type": "code",
   "execution_count": 8,
   "id": "675a72ca-ef5a-4a97-9ccb-a55a6ab42bf3",
   "metadata": {},
   "outputs": [
    {
     "name": "stdout",
     "output_type": "stream",
     "text": [
      "['2019_01_01', '2019_01_17', '2019_02_02', '2019_02_18', '2019_03_06', '2019_03_22', '2019_04_07', '2019_04_23', '2019_05_09', '2019_05_25', '2019_06_10', '2019_06_26', '2019_07_12', '2019_07_28', '2019_08_13', '2019_08_29', '2019_09_14', '2019_09_30', '2019_10_16', '2019_11_01', '2019_11_17', '2019_12_03', '2019_12_19']\n"
     ]
    }
   ],
   "source": [
    "# Imprimir la lista de ID Imagenes\n",
    "ID_MODIS_Indice = MODIS_Indice.reduceColumns(ee.Reducer.toList(),[\"system:index\"]).get(\"list\").getInfo()\n",
    "print(ID_MODIS_Indice)"
   ]
  },
  {
   "cell_type": "markdown",
   "id": "ff1b856d-3f43-41ed-aaff-0fdd69a87491",
   "metadata": {},
   "source": [
    "## Seleccion de imagen"
   ]
  },
  {
   "cell_type": "code",
   "execution_count": 9,
   "id": "682ccc0b-a4b6-4050-84c5-87a4ba7cbacd",
   "metadata": {},
   "outputs": [
    {
     "data": {
      "text/plain": [
       "'2019_08_13'"
      ]
     },
     "execution_count": 9,
     "metadata": {},
     "output_type": "execute_result"
    }
   ],
   "source": [
    "ID_MODIS_Indice[14]"
   ]
  },
  {
   "cell_type": "code",
   "execution_count": 10,
   "id": "b6a65edf-1315-4b47-9136-cdebcd4bc726",
   "metadata": {},
   "outputs": [],
   "source": [
    "# Importar imagen MODIS13 A1 LST\n",
    "MODIS_img = ee.Image(\"MODIS/006/MOD13A1\" + \"/\" + ID_MODIS_Indice[14])"
   ]
  },
  {
   "cell_type": "code",
   "execution_count": 11,
   "id": "7fdddd20-1794-4a85-9a87-42286f689da2",
   "metadata": {},
   "outputs": [
    {
     "name": "stdout",
     "output_type": "stream",
     "text": [
      "['NDVI', 'EVI', 'DetailedQA', 'sur_refl_b01', 'sur_refl_b02', 'sur_refl_b03', 'sur_refl_b07', 'ViewZenith', 'SolarZenith', 'RelativeAzimuth', 'DayOfYear', 'SummaryQA']\n"
     ]
    }
   ],
   "source": [
    "# Nombre de las bandas\n",
    "print(MODIS_img.bandNames().getInfo())"
   ]
  },
  {
   "cell_type": "markdown",
   "id": "104cf3f6-de96-48ac-9092-f0c038fde696",
   "metadata": {},
   "source": [
    "## Seleccionar banda"
   ]
  },
  {
   "cell_type": "code",
   "execution_count": 12,
   "id": "8e7eff5c-0bcf-4dc8-938e-315ac45cf296",
   "metadata": {},
   "outputs": [],
   "source": [
    "# Seleccionar las bandas\n",
    "MODIS_img = MODIS_img.select([\"NDVI\",\"EVI\"])"
   ]
  },
  {
   "cell_type": "code",
   "execution_count": 13,
   "id": "dc3f0742-77df-45e0-b8c2-df670dd58d9c",
   "metadata": {},
   "outputs": [
    {
     "name": "stdout",
     "output_type": "stream",
     "text": [
      "['NDVI', 'EVI']\n"
     ]
    }
   ],
   "source": [
    "# Nombre de las bandas\n",
    "print(MODIS_img.bandNames().getInfo())"
   ]
  },
  {
   "cell_type": "markdown",
   "id": "bac3af9a-0a62-43fe-9ae5-bf35dc2a2328",
   "metadata": {},
   "source": [
    "## Reproyectar"
   ]
  },
  {
   "cell_type": "code",
   "execution_count": 14,
   "id": "1c6e4ce6-a55e-40ef-831b-f537ebdd63d1",
   "metadata": {},
   "outputs": [],
   "source": [
    "# Reproyectar segun zona de estudio\n",
    "MODIS_img_py = MODIS_img.reproject(crs = \"EPSG:4326\", scale = 500)"
   ]
  },
  {
   "cell_type": "code",
   "execution_count": 15,
   "id": "f070b8d5-1ecb-46de-88b8-9289a4f6f882",
   "metadata": {},
   "outputs": [
    {
     "data": {
      "text/plain": [
       "{'type': 'Projection',\n",
       " 'crs': 'EPSG:4326',\n",
       " 'transform': [0.004491576420597608, 0, 0, 0, -0.004491576420597608, 0]}"
      ]
     },
     "execution_count": 15,
     "metadata": {},
     "output_type": "execute_result"
    }
   ],
   "source": [
    "# Consultar Proyeccion\n",
    "MODIS_img_py.projection().getInfo()"
   ]
  },
  {
   "cell_type": "markdown",
   "id": "5a256504-e945-4949-ad21-5762434cc0f6",
   "metadata": {},
   "source": [
    "## Factor de escala"
   ]
  },
  {
   "cell_type": "code",
   "execution_count": 16,
   "id": "d26dff56-577b-4be6-b282-1683489f0cbc",
   "metadata": {},
   "outputs": [],
   "source": [
    "# Multiplicar factor de escala\n",
    "MODIS_img_py1 = MODIS_img_py.multiply(0.0001)"
   ]
  },
  {
   "cell_type": "code",
   "execution_count": 17,
   "id": "d1762aa3-3a21-4e84-ba68-7f37853bb9ea",
   "metadata": {},
   "outputs": [],
   "source": [
    "# Simbologia de MODIS\n",
    "viz = {\n",
    "    'min': 0,\n",
    "    'max': 0.9,\n",
    "    'palette': ['FFFFFF', 'CE7E45', 'DF923D', 'F1B555', \n",
    "                'FCD163', '99B718', '74A901', '66A000',\n",
    "                '529400', '3E8601', '207401', '056201',\n",
    "                '004C00', '023B01', '012E01', '011D01', \n",
    "                '011301']\n",
    "}"
   ]
  },
  {
   "cell_type": "code",
   "execution_count": 19,
   "id": "839ec1fe-14cf-4291-b4b4-f230882783b9",
   "metadata": {},
   "outputs": [
    {
     "data": {
      "application/vnd.jupyter.widget-view+json": {
       "model_id": "85bcb3f1a321461486f1452a7b5ac97f",
       "version_major": 2,
       "version_minor": 0
      },
      "text/plain": [
       "Map(bottom=2507.0, center=[-13.838079936422462, -52.60253906250001], controls=(WidgetControl(options=['positio…"
      ]
     },
     "metadata": {},
     "output_type": "display_data"
    }
   ],
   "source": [
    "# Visualizar \n",
    "Map.addLayer(MODIS_img_py1.select([\"NDVI\"]), viz, name = \"MODIS NDVI\")\n",
    "Map.addLayer(MODIS_img_py1.select([\"EVI\"]), viz, name = \"MODIS EVI\")\n",
    "Map"
   ]
  },
  {
   "cell_type": "markdown",
   "id": "77e9b334-d2ca-41aa-a69b-e3c4fbcc6fae",
   "metadata": {},
   "source": [
    "## Recortar zona estudio"
   ]
  },
  {
   "cell_type": "code",
   "execution_count": 20,
   "id": "7c09f9c4-398d-4fe3-a065-eecf208efb97",
   "metadata": {},
   "outputs": [],
   "source": [
    "# Recortar zona estudio\n",
    "MODIS_img_py1_clip = MODIS_img_py1.clip(zona_ee)"
   ]
  },
  {
   "cell_type": "code",
   "execution_count": 21,
   "id": "95391798-d1e8-4024-ade5-c8f0e67cbb68",
   "metadata": {},
   "outputs": [
    {
     "data": {
      "application/vnd.jupyter.widget-view+json": {
       "model_id": "85bcb3f1a321461486f1452a7b5ac97f",
       "version_major": 2,
       "version_minor": 0
      },
      "text/plain": [
       "Map(bottom=2507.0, center=[-13.838079936422462, -52.60253906250001], controls=(WidgetControl(options=['positio…"
      ]
     },
     "metadata": {},
     "output_type": "display_data"
    }
   ],
   "source": [
    "# Visualizar \n",
    "Map.addLayer(MODIS_img_py1_clip.select([\"NDVI\"]), viz,name = \"MODIS NDVI clip\")\n",
    "Map.addLayer(MODIS_img_py1_clip.select([\"EVI\"]), viz,name = \"MODIS EVI clip\")\n",
    "Map"
   ]
  },
  {
   "cell_type": "markdown",
   "id": "4fc9b688-0818-4644-b92b-7e7d2c223c5a",
   "metadata": {},
   "source": [
    "## Reproyectar UTM"
   ]
  },
  {
   "cell_type": "code",
   "execution_count": 22,
   "id": "6ad0bb76-d06e-445d-aa6e-5b80309284ba",
   "metadata": {},
   "outputs": [],
   "source": [
    "# Cambiar la proyeccion\n",
    "MODIS_img_py1_clip_utm = MODIS_img_py1_clip.reproject(crs = \"EPSG:32719\", scale = 500)"
   ]
  },
  {
   "cell_type": "markdown",
   "id": "cfd58e31-f109-4c6f-87e0-34c624a11bb2",
   "metadata": {},
   "source": [
    "## Exportar Imagen calibrado"
   ]
  },
  {
   "cell_type": "code",
   "execution_count": 23,
   "id": "afeeea62-6bad-4bb5-9d96-08c230665663",
   "metadata": {},
   "outputs": [
    {
     "data": {
      "text/plain": [
       "'C:\\\\Users\\\\GEOMATICA\\\\Teledeteccion_Python\\\\GEE'"
      ]
     },
     "execution_count": 23,
     "metadata": {},
     "output_type": "execute_result"
    }
   ],
   "source": [
    "import os\n",
    "os.getcwd()"
   ]
  },
  {
   "cell_type": "code",
   "execution_count": 24,
   "id": "042179f7-9b6d-4e09-93dc-f0d7487d326a",
   "metadata": {},
   "outputs": [
    {
     "data": {
      "text/plain": [
       "'E:\\\\Teledeteccion_GEE\\\\Python\\\\Datos_Espaciales\\\\Resultado_GEE'"
      ]
     },
     "execution_count": 24,
     "metadata": {},
     "output_type": "execute_result"
    }
   ],
   "source": [
    "ruta_archivos = r\"E:\\Teledeteccion_GEE\\Python\\Datos_Espaciales\\Resultado_GEE\"\n",
    "os.chdir(ruta_archivos) # Cambiar ruta trabajo\n",
    "os.getcwd() # Consultar ruta trabajo"
   ]
  },
  {
   "cell_type": "code",
   "execution_count": 25,
   "id": "c1ddf1a8-fa4f-40c3-bdf2-144fd41816c1",
   "metadata": {},
   "outputs": [
    {
     "name": "stdout",
     "output_type": "stream",
     "text": [
      "Generating URL ...\n",
      "Downloading data from https://earthengine.googleapis.com/v1alpha/projects/earthengine-legacy/thumbnails/4aca295e11d993d965b95625b5e10f9a-e1e03abedcedb8a87141ae13f555364e:getPixels\n",
      "Please wait ...\n",
      "Data downloaded to E:\\Teledeteccion_GEE\\Python\\Datos_Espaciales\\Resultado_GEE\n"
     ]
    }
   ],
   "source": [
    "# Exportar imagen directorio\n",
    "geemap.ee_export_image(MODIS_img_py1_clip_utm, filename=\"MODIS_13_clip_utm.tif\", scale=500, region=geometria, file_per_band=True)"
   ]
  },
  {
   "cell_type": "code",
   "execution_count": 26,
   "id": "e954bd3b-d826-48fe-8c38-0a09ecfebfe4",
   "metadata": {},
   "outputs": [
    {
     "name": "stdout",
     "output_type": "stream",
     "text": [
      "Exporting MODIS_13_NDVI_EVI_clip_utm ...\n"
     ]
    }
   ],
   "source": [
    "# Exportar en google drive\n",
    "geemap.ee_export_image_to_drive(MODIS_img_py1_clip_utm, description='MODIS_13_NDVI_EVI_clip_utm', folder='GEE_Python', region=geometria, scale=500)"
   ]
  }
 ],
 "metadata": {
  "kernelspec": {
   "display_name": "Python 3",
   "language": "python",
   "name": "python3"
  },
  "language_info": {
   "codemirror_mode": {
    "name": "ipython",
    "version": 3
   },
   "file_extension": ".py",
   "mimetype": "text/x-python",
   "name": "python",
   "nbconvert_exporter": "python",
   "pygments_lexer": "ipython3",
   "version": "3.7.10"
  }
 },
 "nbformat": 4,
 "nbformat_minor": 5
}
