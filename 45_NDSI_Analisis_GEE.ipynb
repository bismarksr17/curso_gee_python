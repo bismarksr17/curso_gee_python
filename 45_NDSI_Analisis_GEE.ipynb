{
 "cells": [
  {
   "cell_type": "markdown",
   "id": "7d63850e-6023-423f-b7bd-d12690f02a7a",
   "metadata": {},
   "source": [
    "# Indice espectrales NDSI Analisis en GEE"
   ]
  },
  {
   "cell_type": "code",
   "execution_count": 1,
   "id": "3a34ea5b-c474-4306-bd70-86153a7c1c12",
   "metadata": {},
   "outputs": [],
   "source": [
    "# Importar paquete GEE\n",
    "import ee\n",
    "ee.Initialize()"
   ]
  },
  {
   "cell_type": "markdown",
   "id": "c090c614-aa0d-4a4b-a16a-4d592722ae8f",
   "metadata": {},
   "source": [
    "## Filtro zona estudio SHP"
   ]
  },
  {
   "cell_type": "code",
   "execution_count": 2,
   "id": "b38ed15c-59c6-4496-af8c-60fb46c2b094",
   "metadata": {},
   "outputs": [],
   "source": [
    "import os"
   ]
  },
  {
   "cell_type": "code",
   "execution_count": 3,
   "id": "6d096bcb-ebb8-4789-b636-1ccfe80a7714",
   "metadata": {},
   "outputs": [
    {
     "data": {
      "text/plain": [
       "'E:\\\\Teledeteccion_GEE\\\\Python\\\\Datos_Espaciales\\\\SHP\\\\Indices'"
      ]
     },
     "execution_count": 3,
     "metadata": {},
     "output_type": "execute_result"
    }
   ],
   "source": [
    "ruta_archivos = r\"E:\\Teledeteccion_GEE\\Python\\Datos_Espaciales\\SHP\\Indices\"\n",
    "os.chdir(ruta_archivos) # Cambiar ruta trabajo\n",
    "os.getcwd() # Consultar ruta trabajo"
   ]
  },
  {
   "cell_type": "code",
   "execution_count": 4,
   "id": "0df05551-325d-4925-9c53-0e2310ada635",
   "metadata": {},
   "outputs": [],
   "source": [
    "import geopandas as gpd"
   ]
  },
  {
   "cell_type": "code",
   "execution_count": 5,
   "id": "340b79f3-d219-42dc-b3ab-7450900527fa",
   "metadata": {},
   "outputs": [
    {
     "data": {
      "text/html": [
       "<div>\n",
       "<style scoped>\n",
       "    .dataframe tbody tr th:only-of-type {\n",
       "        vertical-align: middle;\n",
       "    }\n",
       "\n",
       "    .dataframe tbody tr th {\n",
       "        vertical-align: top;\n",
       "    }\n",
       "\n",
       "    .dataframe thead th {\n",
       "        text-align: right;\n",
       "    }\n",
       "</style>\n",
       "<table border=\"1\" class=\"dataframe\">\n",
       "  <thead>\n",
       "    <tr style=\"text-align: right;\">\n",
       "      <th></th>\n",
       "      <th>id</th>\n",
       "      <th>geometry</th>\n",
       "    </tr>\n",
       "  </thead>\n",
       "  <tbody>\n",
       "    <tr>\n",
       "      <th>0</th>\n",
       "      <td>1</td>\n",
       "      <td>POLYGON ((-77.80787 -8.76092, -77.47329 -8.763...</td>\n",
       "    </tr>\n",
       "  </tbody>\n",
       "</table>\n",
       "</div>"
      ],
      "text/plain": [
       "   id                                           geometry\n",
       "0   1  POLYGON ((-77.80787 -8.76092, -77.47329 -8.763..."
      ]
     },
     "execution_count": 5,
     "metadata": {},
     "output_type": "execute_result"
    }
   ],
   "source": [
    "# cargar un shp\n",
    "zona = gpd.read_file(\"Zona_Nieve_Geo.shp\")\n",
    "zona"
   ]
  },
  {
   "cell_type": "code",
   "execution_count": 6,
   "id": "f5c15ee4-ed3e-452b-a5d2-7526c9abbc81",
   "metadata": {},
   "outputs": [],
   "source": [
    "# Crear un featureCollecion mediante GeoJSON\n",
    "ee_zona = ee.FeatureCollection(zona.__geo_interface__)"
   ]
  },
  {
   "cell_type": "code",
   "execution_count": 7,
   "id": "1d448623-b984-44d9-803b-dfdef07d90ef",
   "metadata": {},
   "outputs": [],
   "source": [
    "# Importar geemap\n",
    "import geemap\n",
    "Map = geemap.Map(basemap='ESRI')"
   ]
  },
  {
   "cell_type": "code",
   "execution_count": 8,
   "id": "f50e9679-46af-40a1-9196-f298d2b91a50",
   "metadata": {},
   "outputs": [],
   "source": [
    "geometria = ee_zona.geometry()\n",
    "Map.centerObject(geometria, 10)"
   ]
  },
  {
   "cell_type": "code",
   "execution_count": 9,
   "id": "524342a5-cb1b-4e47-9441-c7a7031de317",
   "metadata": {},
   "outputs": [
    {
     "data": {
      "application/vnd.jupyter.widget-view+json": {
       "model_id": "5d351c02c7444bd4963287de50549c57",
       "version_major": 2,
       "version_minor": 0
      },
      "text/plain": [
       "Map(center=[-8.907880660247429, -77.65415567840776], controls=(WidgetControl(options=['position', 'transparent…"
      ]
     },
     "metadata": {},
     "output_type": "display_data"
    }
   ],
   "source": [
    "# Visualizar en el mapa\n",
    "Map.addLayer(ee_zona, {\"color\" : \"00FF11\"}, name = \"Zona\")\n",
    "Map"
   ]
  },
  {
   "cell_type": "markdown",
   "id": "d38c47c4-268d-42bf-8bc1-4c813e745491",
   "metadata": {},
   "source": [
    "## Seleccion de imagenes"
   ]
  },
  {
   "cell_type": "code",
   "execution_count": 10,
   "id": "5539108c-431c-40f3-828c-70a9d3709902",
   "metadata": {},
   "outputs": [],
   "source": [
    "# Seleccion de la imagen Landsat 5 - 1987\n",
    "img_L5 = ee.Image(\"LANDSAT/LT05/C01/T1_SR/LT05_008066_19870531\")\\\n",
    "            .select(['B1', 'B2', 'B3', 'B4', 'B5', 'B7'],\n",
    "                    ['BLUE', 'GREEN', 'RED', 'NIR', 'SWIR1', 'SWIR2'])\\\n",
    "            .multiply(0.0001)\\\n",
    "            .reproject(crs=\"EPSG:32718\", scale = 30)\\\n",
    "            .clip(ee_zona)"
   ]
  },
  {
   "cell_type": "code",
   "execution_count": 11,
   "id": "27f7cd09-ede2-454f-9180-68fdb6e5f7b3",
   "metadata": {},
   "outputs": [],
   "source": [
    "# Seleccion de la imagen Landsat 8 - 2020\n",
    "img_L8 = ee.Image(\"LANDSAT/LC08/C01/T1_SR/LC08_008066_20200610\")\\\n",
    "            .select(['B2', 'B3', 'B4', 'B5', 'B6', 'B7'],\n",
    "                    ['BLUE', 'GREEN', 'RED', 'NIR', 'SWIR1', 'SWIR2'])\\\n",
    "            .multiply(0.0001)\\\n",
    "            .reproject(crs=\"EPSG:32718\", scale = 30)\\\n",
    "            .clip(ee_zona)"
   ]
  },
  {
   "cell_type": "markdown",
   "id": "6267cb79-a680-4dc0-a48c-ff410dc11f94",
   "metadata": {},
   "source": [
    "## Consultar nombre bandas y proyección"
   ]
  },
  {
   "cell_type": "code",
   "execution_count": 12,
   "id": "c0162bbc-e45c-4739-a10b-f167381ebdc5",
   "metadata": {},
   "outputs": [
    {
     "name": "stdout",
     "output_type": "stream",
     "text": [
      "Nombre bandas L5:  ['BLUE', 'GREEN', 'RED', 'NIR', 'SWIR1', 'SWIR2']\n",
      "Nombre bandas L8:  ['BLUE', 'GREEN', 'RED', 'NIR', 'SWIR1', 'SWIR2']\n"
     ]
    }
   ],
   "source": [
    "# Nombre de las bandas\n",
    "print(\"Nombre bandas L5: \",img_L5.bandNames().getInfo())\n",
    "print(\"Nombre bandas L8: \",img_L8.bandNames().getInfo())"
   ]
  },
  {
   "cell_type": "code",
   "execution_count": 13,
   "id": "b2d63f4f-c5ff-4e47-9001-f958f0607a21",
   "metadata": {},
   "outputs": [
    {
     "name": "stdout",
     "output_type": "stream",
     "text": [
      "Proyeccion L5:  {'type': 'Projection', 'crs': 'EPSG:32718', 'transform': [30, 0, 0, 0, -30, 0]}\n",
      "Proyeccion L8:  {'type': 'Projection', 'crs': 'EPSG:32718', 'transform': [30, 0, 0, 0, -30, 0]}\n"
     ]
    }
   ],
   "source": [
    "# Consultar Proyeccion\n",
    "print(\"Proyeccion L5: \",img_L5.projection().getInfo())\n",
    "print(\"Proyeccion L8: \",img_L8.projection().getInfo())"
   ]
  },
  {
   "cell_type": "code",
   "execution_count": 14,
   "id": "365cd3be-936c-4f3a-a725-e9f2efb11fc5",
   "metadata": {},
   "outputs": [],
   "source": [
    "# Simbologia escala 0 - 1\n",
    "viz_es = {\n",
    "    'bands': ['SWIR1','NIR','RED'],\n",
    "    'min': 0.1,\n",
    "    'max': 0.6,\n",
    "    'gamma': 1.6\n",
    "}"
   ]
  },
  {
   "cell_type": "code",
   "execution_count": 15,
   "id": "4f3843ec-162f-477b-9d6f-09b209e3a788",
   "metadata": {},
   "outputs": [
    {
     "data": {
      "application/vnd.jupyter.widget-view+json": {
       "model_id": "5d351c02c7444bd4963287de50549c57",
       "version_major": 2,
       "version_minor": 0
      },
      "text/plain": [
       "Map(bottom=137874.0, center=[-8.892669730827384, -77.50944581007508], controls=(WidgetControl(options=['positi…"
      ]
     },
     "metadata": {},
     "output_type": "display_data"
    }
   ],
   "source": [
    "# Visualizar mapa\n",
    "Map.addLayer(img_L5, viz_es, name = \"Landsat5 RS 1987\")\n",
    "Map.addLayer(img_L8, viz_es, name = \"Landsat8 RS 2020\")\n",
    "Map"
   ]
  },
  {
   "cell_type": "markdown",
   "id": "5600f8a1-0c25-4c8f-aa56-04bf9e61d9f7",
   "metadata": {},
   "source": [
    "## Determinar NDSI"
   ]
  },
  {
   "cell_type": "code",
   "execution_count": 16,
   "id": "748c5da0-ef5c-4c9d-a484-3a397a751918",
   "metadata": {},
   "outputs": [],
   "source": [
    "# Funcion para NDSI\n",
    "def Calc_NDSI(image):\n",
    "    ndsi = image.expression(\"float(green - swir1)/(green + swir1)\", {\n",
    "        'green': image.select('GREEN'),\n",
    "        'swir1': image.select('SWIR1')\n",
    "    })\n",
    "    return ndsi.rename(\"NDSI\")"
   ]
  },
  {
   "cell_type": "code",
   "execution_count": 17,
   "id": "4e73845f-ccee-471d-b0f1-767d1e5a79f6",
   "metadata": {},
   "outputs": [],
   "source": [
    "# Calcular indices con funcion\n",
    "ndsi_L5 = Calc_NDSI(img_L5)\n",
    "ndsi_L8 = Calc_NDSI(img_L8)"
   ]
  },
  {
   "cell_type": "code",
   "execution_count": 18,
   "id": "c787223f-aedb-452b-a003-bc8da5c03a27",
   "metadata": {},
   "outputs": [],
   "source": [
    "# Simbologia de NDSI\n",
    "viz_ndsi = {\n",
    "    'palette': ['fff947', 'b9fa3e', '5ce5d3', '5172f4', '001334'],\n",
    "    'min': -0.5,\n",
    "    'max': 0.8,\n",
    "    'bands': \"NDSI\"\n",
    "}"
   ]
  },
  {
   "cell_type": "code",
   "execution_count": 19,
   "id": "74001c90-36f0-40cb-b6f2-1f76aa5dd2fa",
   "metadata": {},
   "outputs": [
    {
     "data": {
      "application/vnd.jupyter.widget-view+json": {
       "model_id": "5d351c02c7444bd4963287de50549c57",
       "version_major": 2,
       "version_minor": 0
      },
      "text/plain": [
       "Map(bottom=1100420.0, center=[-8.813153606144143, -77.69659996032715], controls=(WidgetControl(options=['posit…"
      ]
     },
     "metadata": {},
     "output_type": "display_data"
    }
   ],
   "source": [
    "# Visualizar en el mapa\n",
    "Map.addLayer(ndsi_L5, viz_ndsi, name = \"L5 NDSI\")\n",
    "Map.addLayer(ndsi_L8, viz_ndsi, name = \"L8 NDSI\")\n",
    "Map"
   ]
  },
  {
   "cell_type": "markdown",
   "id": "9d50a20c-f504-4c21-9d53-79211df14507",
   "metadata": {},
   "source": [
    "## Seleccionar Nieve"
   ]
  },
  {
   "cell_type": "code",
   "execution_count": 20,
   "id": "8f6eca0e-147f-43a5-90c2-4d49b98efc0c",
   "metadata": {},
   "outputs": [],
   "source": [
    "# Seleccionar Nieve Landsat 5 - 1987\n",
    "#  NDSI >= 0.4 es nieve\n",
    "ndsi_L5_Nieve = ndsi_L5.gte(0.3)\n",
    "ndsi_L8_Nieve = ndsi_L8.gte(0.4)"
   ]
  },
  {
   "cell_type": "markdown",
   "id": "55fdb6e5-cd40-4767-bf53-8b7de1c07114",
   "metadata": {},
   "source": [
    "## Enmascaramiento de nieve"
   ]
  },
  {
   "cell_type": "code",
   "execution_count": 21,
   "id": "21bf73ea-5d75-4c90-b8ba-adbad3311c2a",
   "metadata": {},
   "outputs": [],
   "source": [
    "# Enmascarar NDSI con el nieve\n",
    "ndsi_L5_mascara = ndsi_L5.updateMask(ndsi_L5_Nieve)\n",
    "ndsi_L8_mascara = ndsi_L8.updateMask(ndsi_L8_Nieve)"
   ]
  },
  {
   "cell_type": "code",
   "execution_count": 22,
   "id": "5058a9af-5849-4f0d-a79a-0d5fc1d777cd",
   "metadata": {},
   "outputs": [
    {
     "data": {
      "application/vnd.jupyter.widget-view+json": {
       "model_id": "5d351c02c7444bd4963287de50549c57",
       "version_major": 2,
       "version_minor": 0
      },
      "text/plain": [
       "Map(bottom=550547.0, center=[-8.876591492156717, -77.64947891235353], controls=(WidgetControl(options=['positi…"
      ]
     },
     "metadata": {},
     "output_type": "display_data"
    }
   ],
   "source": [
    "# Visualizar \n",
    "Map.addLayer(ndsi_L5_mascara, viz_ndsi, name = \"L5 NDSI Mask\")\n",
    "Map.addLayer(ndsi_L8_mascara, viz_ndsi, name = \"L8 NDSI Mask\")\n",
    "Map"
   ]
  },
  {
   "cell_type": "code",
   "execution_count": 23,
   "id": "8335afe9-dc94-4f0a-b79d-3f539b7f882e",
   "metadata": {},
   "outputs": [],
   "source": [
    "# Simbologia para cada cambio\n",
    "viz_ndsi1 = {\"min\": -0.5,\n",
    "             \"max\" : 0.8,\n",
    "             \"palette\" : \"red\"\n",
    "}\n",
    "\n",
    "viz_ndsi2 = {\"min\": -0.5,\n",
    "             \"max\" : 0.8,\n",
    "             \"palette\" : \"blue\"\n",
    "}"
   ]
  },
  {
   "cell_type": "code",
   "execution_count": 24,
   "id": "90f76c99-05f3-4ce7-ba3c-6d67f93afd0f",
   "metadata": {},
   "outputs": [
    {
     "data": {
      "application/vnd.jupyter.widget-view+json": {
       "model_id": "5d351c02c7444bd4963287de50549c57",
       "version_major": 2,
       "version_minor": 0
      },
      "text/plain": [
       "Map(bottom=1101530.0, center=[-9.001399723428355, -77.68973350524904], controls=(WidgetControl(options=['posit…"
      ]
     },
     "metadata": {},
     "output_type": "display_data"
    }
   ],
   "source": [
    "# Visualizar \n",
    "Map.addLayer(ndsi_L5_mascara, viz_ndsi1, name = \"L5 NDSI Mask\")\n",
    "Map.addLayer(ndsi_L8_mascara, viz_ndsi2, name = \"L8 NDSI Mask\")\n",
    "Map"
   ]
  },
  {
   "cell_type": "markdown",
   "id": "58737e4b-2628-42a1-a417-9d3774818575",
   "metadata": {},
   "source": [
    "## Exportar Imagen"
   ]
  },
  {
   "cell_type": "code",
   "execution_count": 25,
   "id": "91999544-3090-4d9a-9eb8-a6f13a15b953",
   "metadata": {},
   "outputs": [
    {
     "data": {
      "text/plain": [
       "'E:\\\\Teledeteccion_GEE\\\\Python\\\\Datos_Espaciales\\\\SHP\\\\Indices'"
      ]
     },
     "execution_count": 25,
     "metadata": {},
     "output_type": "execute_result"
    }
   ],
   "source": [
    "import os\n",
    "os.getcwd()"
   ]
  },
  {
   "cell_type": "code",
   "execution_count": 26,
   "id": "563049c9-0e9a-4db7-be92-5ece60f97fc0",
   "metadata": {},
   "outputs": [
    {
     "data": {
      "text/plain": [
       "'E:\\\\Teledeteccion_GEE\\\\Python\\\\Datos_Espaciales\\\\Resultado_GEE'"
      ]
     },
     "execution_count": 26,
     "metadata": {},
     "output_type": "execute_result"
    }
   ],
   "source": [
    "ruta_archivos = r\"E:\\Teledeteccion_GEE\\Python\\Datos_Espaciales\\Resultado_GEE\"\n",
    "os.chdir(ruta_archivos) # Cambiar ruta trabajo\n",
    "os.getcwd() # Consultar ruta trabajo"
   ]
  },
  {
   "cell_type": "code",
   "execution_count": 27,
   "id": "3bdf9494-879a-49e6-924e-744ee6e4eac0",
   "metadata": {},
   "outputs": [
    {
     "name": "stdout",
     "output_type": "stream",
     "text": [
      "Generating URL ...\n",
      "Downloading data from https://earthengine.googleapis.com/v1alpha/projects/earthengine-legacy/thumbnails/ff13434a801fa95ac59380765d3e108d-387c23d06581a8d789fd0c306542ba3a:getPixels\n",
      "Please wait ...\n",
      "Data downloaded to E:\\Teledeteccion_GEE\\Python\\Datos_Espaciales\\Resultado_GEE\\ndsi_L5_mascara.tif\n",
      "Generating URL ...\n",
      "Downloading data from https://earthengine.googleapis.com/v1alpha/projects/earthengine-legacy/thumbnails/31c2f6788d3cf8223fe8d16dc4669e12-0e7f1e1b2e020d2ce144c98840044034:getPixels\n",
      "Please wait ...\n",
      "Data downloaded to E:\\Teledeteccion_GEE\\Python\\Datos_Espaciales\\Resultado_GEE\\ndsi_L8_mascara.tif\n"
     ]
    }
   ],
   "source": [
    "# Exportar imagen directorio\n",
    "geemap.ee_export_image(ndsi_L5_mascara, filename=\"ndsi_L5_mascara.tif\", scale=30, region=geometria, file_per_band=False)\n",
    "geemap.ee_export_image(ndsi_L8_mascara, filename=\"ndsi_L8_mascara.tif\", scale=30, region=geometria, file_per_band=False)"
   ]
  },
  {
   "cell_type": "code",
   "execution_count": null,
   "id": "9a5920a6-b15b-4442-9854-77c4992fd749",
   "metadata": {},
   "outputs": [],
   "source": [
    "# Exportar en google drive\n",
    "geemap.ee_export_image_to_drive(ndsi_L5_mascara, description='ndsi_L5_mascara', folder='GEE_Python', region=geometria, scale=30)\n",
    "geemap.ee_export_image_to_drive(ndsi_L8_mascara, description='ndsi_L8_mascara', folder='GEE_Python', region=geometria, scale=30)"
   ]
  },
  {
   "cell_type": "code",
   "execution_count": null,
   "id": "034c9c36-e4a4-4dd0-8bd9-74987f245841",
   "metadata": {},
   "outputs": [],
   "source": []
  }
 ],
 "metadata": {
  "kernelspec": {
   "display_name": "Python 3",
   "language": "python",
   "name": "python3"
  },
  "language_info": {
   "codemirror_mode": {
    "name": "ipython",
    "version": 3
   },
   "file_extension": ".py",
   "mimetype": "text/x-python",
   "name": "python",
   "nbconvert_exporter": "python",
   "pygments_lexer": "ipython3",
   "version": "3.7.10"
  }
 },
 "nbformat": 4,
 "nbformat_minor": 5
}
