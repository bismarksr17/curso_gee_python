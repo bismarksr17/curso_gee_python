{
 "cells": [
  {
   "cell_type": "markdown",
   "id": "f1cf2dd4-7ec3-43d6-81d9-98e2788936fd",
   "metadata": {},
   "source": [
    "# Crear feature mediante geeMap google"
   ]
  },
  {
   "cell_type": "code",
   "execution_count": 1,
   "id": "84a051d1-c895-46ef-8ec3-7eaf9e09dbb1",
   "metadata": {},
   "outputs": [],
   "source": [
    "# Importar paquete GEE\n",
    "import ee\n",
    "import os\n",
    "import geemap"
   ]
  },
  {
   "cell_type": "code",
   "execution_count": 2,
   "id": "2d71787e-e7f8-433d-b186-8df7350dd46f",
   "metadata": {},
   "outputs": [],
   "source": [
    "ee.Initialize()"
   ]
  },
  {
   "cell_type": "code",
   "execution_count": 5,
   "id": "4e709d30-286f-4ec0-99f2-345cdb305823",
   "metadata": {},
   "outputs": [
    {
     "data": {
      "application/vnd.jupyter.widget-view+json": {
       "model_id": "a9371fbdb3c646d1a759ea4506dbc6ba",
       "version_major": 2,
       "version_minor": 0
      },
      "text/plain": [
       "Map(center=[40, -100], controls=(WidgetControl(options=['position', 'transparent_bg'], widget=HBox(children=(T…"
      ]
     },
     "metadata": {},
     "output_type": "display_data"
    }
   ],
   "source": [
    "# Voy a configurar para utilizar Satellite\n",
    "Map = geemap.Map(basemap='SATELLITE')\n",
    "Map"
   ]
  },
  {
   "cell_type": "markdown",
   "id": "de562f59-d405-4521-b967-22e160edda63",
   "metadata": {},
   "source": [
    "## Crear una geometría Poligono o Rectangulo"
   ]
  },
  {
   "cell_type": "code",
   "execution_count": 6,
   "id": "5e9ad59d-a0bc-4fd9-a68e-454e14475662",
   "metadata": {},
   "outputs": [],
   "source": [
    "Rectangulo = Map.user_roi"
   ]
  },
  {
   "cell_type": "code",
   "execution_count": 7,
   "id": "1d12d456-3f63-48cf-8b02-962f8c418a95",
   "metadata": {},
   "outputs": [
    {
     "data": {
      "text/plain": [
       "ee.geometry.Geometry"
      ]
     },
     "execution_count": 7,
     "metadata": {},
     "output_type": "execute_result"
    }
   ],
   "source": [
    "type(Rectangulo)"
   ]
  },
  {
   "cell_type": "code",
   "execution_count": 8,
   "id": "9754d9ec-1a29-4014-9591-1f6932daf690",
   "metadata": {},
   "outputs": [
    {
     "data": {
      "text/plain": [
       "{'geodesic': False,\n",
       " 'type': 'Polygon',\n",
       " 'coordinates': [[[-70.702045, -13.121461],\n",
       "   [-70.702045, -12.6162],\n",
       "   [-70.337465, -12.6162],\n",
       "   [-70.337465, -13.121461],\n",
       "   [-70.702045, -13.121461]]]}"
      ]
     },
     "execution_count": 8,
     "metadata": {},
     "output_type": "execute_result"
    }
   ],
   "source": [
    "Rectangulo.getInfo()"
   ]
  },
  {
   "cell_type": "markdown",
   "id": "c2f18d0d-fdd5-458f-9a1f-39eea65bb6c6",
   "metadata": {},
   "source": [
    "### Convertir de geometría a Feature"
   ]
  },
  {
   "cell_type": "code",
   "execution_count": 9,
   "id": "3971e486-e606-4c7f-a6af-9d4e60a1a7ba",
   "metadata": {},
   "outputs": [],
   "source": [
    "Feature_Rectangulo = ee.Feature(Rectangulo)"
   ]
  },
  {
   "cell_type": "code",
   "execution_count": 10,
   "id": "847f89c8-308b-436f-aac1-459d492140c5",
   "metadata": {},
   "outputs": [
    {
     "data": {
      "text/plain": [
       "ee.feature.Feature"
      ]
     },
     "execution_count": 10,
     "metadata": {},
     "output_type": "execute_result"
    }
   ],
   "source": [
    "type(Feature_Rectangulo)"
   ]
  },
  {
   "cell_type": "markdown",
   "id": "0b145945-064d-4483-acd1-3ef15b386694",
   "metadata": {},
   "source": [
    "### Convertir de Feature a FeatureCollection"
   ]
  },
  {
   "cell_type": "code",
   "execution_count": 11,
   "id": "728f57b9-1208-4a33-bb5e-af87046d873d",
   "metadata": {},
   "outputs": [],
   "source": [
    "Collection_Rectangulo = ee.FeatureCollection(Rectangulo)"
   ]
  },
  {
   "cell_type": "code",
   "execution_count": 12,
   "id": "02fc0162-5a74-47bd-abd4-f634bf7ab5a3",
   "metadata": {},
   "outputs": [
    {
     "data": {
      "text/plain": [
       "ee.featurecollection.FeatureCollection"
      ]
     },
     "execution_count": 12,
     "metadata": {},
     "output_type": "execute_result"
    }
   ],
   "source": [
    "type(Collection_Rectangulo)"
   ]
  },
  {
   "cell_type": "code",
   "execution_count": 15,
   "id": "960bffdc-fdb4-433d-9ebb-dc513c46b6ba",
   "metadata": {},
   "outputs": [
    {
     "data": {
      "application/vnd.jupyter.widget-view+json": {
       "model_id": "a9371fbdb3c646d1a759ea4506dbc6ba",
       "version_major": 2,
       "version_minor": 0
      },
      "text/plain": [
       "Map(bottom=70561.0, center=[-12.86876928355977, -70.51975499999955], controls=(WidgetControl(options=['positio…"
      ]
     },
     "metadata": {},
     "output_type": "display_data"
    }
   ],
   "source": [
    "# visualizacion del mapa\n",
    "Map.centerObject(Rectangulo,10)\n",
    "Map.addLayer(Collection_Rectangulo, {\"color\" : \"#00f55e\"}, 'Poligono')\n",
    "Map"
   ]
  },
  {
   "cell_type": "code",
   "execution_count": 16,
   "id": "a7d4c547-063f-4394-bf56-9cee91925d93",
   "metadata": {},
   "outputs": [
    {
     "data": {
      "application/vnd.jupyter.widget-view+json": {
       "model_id": "f7fa57972e7648849a896db848dfd449",
       "version_major": 2,
       "version_minor": 0
      },
      "text/plain": [
       "Map(center=[40, -100], controls=(WidgetControl(options=['position', 'transparent_bg'], widget=HBox(children=(T…"
      ]
     },
     "metadata": {},
     "output_type": "display_data"
    }
   ],
   "source": [
    "# Voy a configurar para utilizar Satellite\n",
    "Map = geemap.Map(basemap='SATELLITE')\n",
    "Map"
   ]
  },
  {
   "cell_type": "markdown",
   "id": "cb2c6064-670c-47ef-94a7-55de3286ffac",
   "metadata": {},
   "source": [
    "## Crear un Featurecollection tipo Punto"
   ]
  },
  {
   "cell_type": "code",
   "execution_count": 17,
   "id": "bb44286a-3fa2-41e2-ac8b-9a49a7469540",
   "metadata": {},
   "outputs": [],
   "source": [
    "Puntos = Map.user_rois"
   ]
  },
  {
   "cell_type": "code",
   "execution_count": 18,
   "id": "bbd0f8cb-4822-46ab-8006-fa14443aab03",
   "metadata": {},
   "outputs": [
    {
     "data": {
      "text/plain": [
       "ee.featurecollection.FeatureCollection"
      ]
     },
     "execution_count": 18,
     "metadata": {},
     "output_type": "execute_result"
    }
   ],
   "source": [
    "type(Puntos)"
   ]
  },
  {
   "cell_type": "code",
   "execution_count": 19,
   "id": "2e4cac86-f01e-489e-8275-d7d6b4e66469",
   "metadata": {},
   "outputs": [
    {
     "data": {
      "text/plain": [
       "{'type': 'FeatureCollection',\n",
       " 'columns': {'system:index': 'String'},\n",
       " 'features': [{'type': 'Feature',\n",
       "   'geometry': {'type': 'Point', 'coordinates': [-74.603258, -8.369008]},\n",
       "   'id': '0',\n",
       "   'properties': {}},\n",
       "  {'type': 'Feature',\n",
       "   'geometry': {'type': 'Point', 'coordinates': [-74.58833, -8.359328]},\n",
       "   'id': '1',\n",
       "   'properties': {}},\n",
       "  {'type': 'Feature',\n",
       "   'geometry': {'type': 'Point', 'coordinates': [-74.583011, -8.378519]},\n",
       "   'id': '2',\n",
       "   'properties': {}},\n",
       "  {'type': 'Feature',\n",
       "   'geometry': {'type': 'Point', 'coordinates': [-74.556072, -8.365272]},\n",
       "   'id': '3',\n",
       "   'properties': {}},\n",
       "  {'type': 'Feature',\n",
       "   'geometry': {'type': 'Point', 'coordinates': [-74.546292, -8.388029]},\n",
       "   'id': '4',\n",
       "   'properties': {}},\n",
       "  {'type': 'Feature',\n",
       "   'geometry': {'type': 'Point', 'coordinates': [-74.580094, -8.411125]},\n",
       "   'id': '5',\n",
       "   'properties': {}},\n",
       "  {'type': 'Feature',\n",
       "   'geometry': {'type': 'Point', 'coordinates': [-74.542517, -8.407389]},\n",
       "   'id': '6',\n",
       "   'properties': {}},\n",
       "  {'type': 'Feature',\n",
       "   'geometry': {'type': 'Point', 'coordinates': [-74.528619, -8.372235]},\n",
       "   'id': '7',\n",
       "   'properties': {}}]}"
      ]
     },
     "execution_count": 19,
     "metadata": {},
     "output_type": "execute_result"
    }
   ],
   "source": [
    "Puntos.getInfo()"
   ]
  },
  {
   "cell_type": "markdown",
   "id": "92581d1a-81f0-4ed9-9b64-6699d47203cb",
   "metadata": {},
   "source": [
    "### Convertir de FeatureCollection a Geometria"
   ]
  },
  {
   "cell_type": "code",
   "execution_count": 20,
   "id": "7f96ad34-cd81-414a-a23c-51898263da4e",
   "metadata": {},
   "outputs": [],
   "source": [
    "geometria = Puntos.geometry()"
   ]
  },
  {
   "cell_type": "code",
   "execution_count": 21,
   "id": "083470f3-9000-41c2-8d9c-8fd9493595a3",
   "metadata": {},
   "outputs": [
    {
     "data": {
      "application/vnd.jupyter.widget-view+json": {
       "model_id": "f7fa57972e7648849a896db848dfd449",
       "version_major": 2,
       "version_minor": 0
      },
      "text/plain": [
       "Map(bottom=1097928.0, center=[-8.381363881552318, -74.56602438939076], controls=(WidgetControl(options=['posit…"
      ]
     },
     "metadata": {},
     "output_type": "display_data"
    }
   ],
   "source": [
    "# visualizacion del mapa\n",
    "Map.centerObject(geometria,11)\n",
    "Map.addLayer(Puntos, {\"color\" : \"#00f55e\"}, 'Puntos')\n",
    "Map"
   ]
  },
  {
   "cell_type": "markdown",
   "id": "9ea17fb9-d20a-40e5-abf1-8dec6e6d41bd",
   "metadata": {},
   "source": [
    "## Crear una geometría tipo Línea"
   ]
  },
  {
   "cell_type": "code",
   "execution_count": 22,
   "id": "64a68be9-6dfe-4d95-b25c-c4f7c236b714",
   "metadata": {},
   "outputs": [
    {
     "data": {
      "application/vnd.jupyter.widget-view+json": {
       "model_id": "adc639d2fcc14e6eadaedc805f72e3f4",
       "version_major": 2,
       "version_minor": 0
      },
      "text/plain": [
       "Map(center=[40, -100], controls=(WidgetControl(options=['position', 'transparent_bg'], widget=HBox(children=(T…"
      ]
     },
     "metadata": {},
     "output_type": "display_data"
    }
   ],
   "source": [
    "# Voy a configurar para utilizar Satellite\n",
    "Map = geemap.Map(basemap='ESRI')\n",
    "Map"
   ]
  },
  {
   "cell_type": "code",
   "execution_count": 31,
   "id": "854fd96d-8550-4b63-a586-2ad54a103a4d",
   "metadata": {},
   "outputs": [],
   "source": [
    "Linea = Map.user_rois"
   ]
  },
  {
   "cell_type": "code",
   "execution_count": 36,
   "id": "0d4b4ddb-ee41-4f55-b238-092d7ecf1e2b",
   "metadata": {},
   "outputs": [],
   "source": [
    "geometria_linea = Linea.geometry()"
   ]
  },
  {
   "cell_type": "code",
   "execution_count": 37,
   "id": "4c6665c5-8d52-4b46-b8b8-fbac3bf0c207",
   "metadata": {},
   "outputs": [
    {
     "data": {
      "text/plain": [
       "ee.geometry.Geometry"
      ]
     },
     "execution_count": 37,
     "metadata": {},
     "output_type": "execute_result"
    }
   ],
   "source": [
    "type(geometria_linea)"
   ]
  },
  {
   "cell_type": "code",
   "execution_count": 32,
   "id": "839d9d5c-2553-40ea-b219-3e8a81b358c9",
   "metadata": {},
   "outputs": [
    {
     "data": {
      "text/plain": [
       "ee.featurecollection.FeatureCollection"
      ]
     },
     "execution_count": 32,
     "metadata": {},
     "output_type": "execute_result"
    }
   ],
   "source": [
    "type(Linea)"
   ]
  },
  {
   "cell_type": "code",
   "execution_count": 33,
   "id": "081ec036-6655-469f-8825-b8f641aa2224",
   "metadata": {},
   "outputs": [
    {
     "data": {
      "text/plain": [
       "{'type': 'FeatureCollection',\n",
       " 'columns': {'system:index': 'String'},\n",
       " 'features': [{'type': 'Feature',\n",
       "   'geometry': {'geodesic': False,\n",
       "    'type': 'LineString',\n",
       "    'coordinates': [[-70.09696, -12.977644],\n",
       "     [-70.062369, -12.957838],\n",
       "     [-70.02613, -12.940707],\n",
       "     [-70.004168, -12.918756],\n",
       "     [-69.986598, -12.890378],\n",
       "     [-69.975067, -12.857176],\n",
       "     [-69.945418, -12.82397],\n",
       "     [-69.910826, -12.787546]]},\n",
       "   'id': '0',\n",
       "   'properties': {}},\n",
       "  {'type': 'Feature',\n",
       "   'geometry': {'geodesic': False,\n",
       "    'type': 'LineString',\n",
       "    'coordinates': [[-70.095313, -12.94499],\n",
       "     [-70.073899, -12.924645],\n",
       "     [-70.065114, -12.901622],\n",
       "     [-70.040955, -12.891448],\n",
       "     [-70.02613, -12.865745],\n",
       "     [-70.018443, -12.836825]]},\n",
       "   'id': '1',\n",
       "   'properties': {}}]}"
      ]
     },
     "execution_count": 33,
     "metadata": {},
     "output_type": "execute_result"
    }
   ],
   "source": [
    "Linea.getInfo()"
   ]
  },
  {
   "cell_type": "markdown",
   "id": "fa67e823-3aac-4c4a-9902-f8cbd9291f69",
   "metadata": {},
   "source": [
    "### Convertir de geometría a Feature"
   ]
  },
  {
   "cell_type": "code",
   "execution_count": 26,
   "id": "858e9ef4-248f-4f0d-b57f-8ee0c73a07aa",
   "metadata": {},
   "outputs": [],
   "source": [
    "Feature_Linea = ee.Feature(Linea)"
   ]
  },
  {
   "cell_type": "code",
   "execution_count": 27,
   "id": "9fcd6516-4f8b-492e-bf45-742ca3d99261",
   "metadata": {},
   "outputs": [
    {
     "data": {
      "text/plain": [
       "ee.feature.Feature"
      ]
     },
     "execution_count": 27,
     "metadata": {},
     "output_type": "execute_result"
    }
   ],
   "source": [
    "type(Feature_Linea)"
   ]
  },
  {
   "cell_type": "markdown",
   "id": "da08e329-c144-4496-989d-745f41a7cba1",
   "metadata": {},
   "source": [
    "### Convertir de Feature a FeatureCollection"
   ]
  },
  {
   "cell_type": "code",
   "execution_count": 28,
   "id": "978d77e7-5e65-4981-ae14-e1e5250300c4",
   "metadata": {},
   "outputs": [],
   "source": [
    "Collection_Linea = ee.FeatureCollection(Linea)"
   ]
  },
  {
   "cell_type": "code",
   "execution_count": 29,
   "id": "9dade906-b865-47fb-85f5-06aa5ec2bd9f",
   "metadata": {},
   "outputs": [
    {
     "data": {
      "text/plain": [
       "ee.featurecollection.FeatureCollection"
      ]
     },
     "execution_count": 29,
     "metadata": {},
     "output_type": "execute_result"
    }
   ],
   "source": [
    "type(Collection_Linea)"
   ]
  },
  {
   "cell_type": "code",
   "execution_count": 38,
   "id": "8d54ed6c-bf00-40dc-b5c9-f37bdc1e708a",
   "metadata": {},
   "outputs": [
    {
     "data": {
      "application/vnd.jupyter.widget-view+json": {
       "model_id": "adc639d2fcc14e6eadaedc805f72e3f4",
       "version_major": 2,
       "version_minor": 0
      },
      "text/plain": [
       "Map(bottom=281489.19999694824, center=[-12.89168825432795, -70.01552084300795], controls=(WidgetControl(option…"
      ]
     },
     "metadata": {},
     "output_type": "display_data"
    }
   ],
   "source": [
    "# visualizacion del mapa\n",
    "Map.centerObject(Linea,10)\n",
    "Map.addLayer(Linea, {\"color\" : \"#00f55e\"}, 'Linea')\n",
    "Map"
   ]
  },
  {
   "cell_type": "code",
   "execution_count": 39,
   "id": "128bb68c-9337-4bd4-b18a-92dd326871e3",
   "metadata": {},
   "outputs": [],
   "source": [
    "Poligonos = Map.user_rois"
   ]
  },
  {
   "cell_type": "code",
   "execution_count": 40,
   "id": "6499fea8-f9d1-4b50-b28e-0fc810db9cc0",
   "metadata": {},
   "outputs": [
    {
     "data": {
      "text/plain": [
       "ee.featurecollection.FeatureCollection"
      ]
     },
     "execution_count": 40,
     "metadata": {},
     "output_type": "execute_result"
    }
   ],
   "source": [
    "type(Poligonos)"
   ]
  },
  {
   "cell_type": "code",
   "execution_count": 41,
   "id": "33e39b97-e454-45a4-a299-bb3637845a07",
   "metadata": {},
   "outputs": [],
   "source": [
    "geometria_poli = Poligonos.geometry()"
   ]
  },
  {
   "cell_type": "code",
   "execution_count": 43,
   "id": "0864cefc-186d-45e4-975e-e26356beb383",
   "metadata": {},
   "outputs": [
    {
     "data": {
      "application/vnd.jupyter.widget-view+json": {
       "model_id": "adc639d2fcc14e6eadaedc805f72e3f4",
       "version_major": 2,
       "version_minor": 0
      },
      "text/plain": [
       "Map(bottom=140848.0, center=[-12.902280960353947, -69.91076391370697], controls=(WidgetControl(options=['posit…"
      ]
     },
     "metadata": {},
     "output_type": "display_data"
    }
   ],
   "source": [
    "# visualizacion del mapa\n",
    "Map.centerObject(geometria_poli,11)\n",
    "Map.addLayer(Poligonos, {\"color\" : \"#00f55e\"}, 'Poligonos2')\n",
    "Map"
   ]
  },
  {
   "cell_type": "code",
   "execution_count": null,
   "id": "3658948a-edf4-4a49-9f64-9d6ec582b672",
   "metadata": {},
   "outputs": [],
   "source": []
  }
 ],
 "metadata": {
  "kernelspec": {
   "display_name": "Python 3",
   "language": "python",
   "name": "python3"
  },
  "language_info": {
   "codemirror_mode": {
    "name": "ipython",
    "version": 3
   },
   "file_extension": ".py",
   "mimetype": "text/x-python",
   "name": "python",
   "nbconvert_exporter": "python",
   "pygments_lexer": "ipython3",
   "version": "3.7.10"
  }
 },
 "nbformat": 4,
 "nbformat_minor": 5
}
