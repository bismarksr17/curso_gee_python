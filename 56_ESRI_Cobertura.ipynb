{
 "cells": [
  {
   "cell_type": "markdown",
   "id": "bad69704-ee14-45b5-9ddb-0b16b373f0d7",
   "metadata": {},
   "source": [
    "# ESRI 2020 Cobertura 10m Sentinel-2"
   ]
  },
  {
   "cell_type": "code",
   "execution_count": 1,
   "id": "b620bdc2-9fb4-424f-bdc0-b91a628d1b85",
   "metadata": {},
   "outputs": [],
   "source": [
    "# Importar paquete GEE\n",
    "import ee\n",
    "ee.Initialize()"
   ]
  },
  {
   "cell_type": "markdown",
   "id": "13eff984-8a7f-4087-842d-dfaa765ce120",
   "metadata": {},
   "source": [
    "## Filtro zona estudio mediante GEE"
   ]
  },
  {
   "cell_type": "code",
   "execution_count": 2,
   "id": "ebaf0a95-969c-41d9-a7f0-bb23c0f2c924",
   "metadata": {},
   "outputs": [],
   "source": [
    "# Agregar un shp GEE\n",
    "zona_ee = ee.FeatureCollection(\"users/bravomoralesnino/SHP/ZONA_19S\")"
   ]
  },
  {
   "cell_type": "code",
   "execution_count": 3,
   "id": "2cafba2e-1458-4bef-b1cd-0227ed563fcb",
   "metadata": {},
   "outputs": [],
   "source": [
    "# Importar geemap\n",
    "import geemap\n",
    "Map = geemap.Map(basemap='ESRI')"
   ]
  },
  {
   "cell_type": "code",
   "execution_count": 4,
   "id": "4dcb8345-e3fa-4c12-9063-2dbe89badc3d",
   "metadata": {},
   "outputs": [],
   "source": [
    "geometria = zona_ee.geometry()\n",
    "Map.centerObject(geometria, 11)"
   ]
  },
  {
   "cell_type": "code",
   "execution_count": 5,
   "id": "75d0f10b-09c1-4266-815a-b365868bb1f6",
   "metadata": {},
   "outputs": [
    {
     "data": {
      "application/vnd.jupyter.widget-view+json": {
       "model_id": "9c1bd17a7e084c9790cd6abf594bae8b",
       "version_major": 2,
       "version_minor": 0
      },
      "text/plain": [
       "Map(center=[-12.908744902436744, -69.9947155021359], controls=(WidgetControl(options=['position', 'transparent…"
      ]
     },
     "metadata": {},
     "output_type": "display_data"
    }
   ],
   "source": [
    "Map.addLayer(zona_ee, {\"color\" : \"red\"},name = \"Zona\")\n",
    "Map"
   ]
  },
  {
   "cell_type": "markdown",
   "id": "a5c8ca40-13b1-4eae-a752-50cd25a97811",
   "metadata": {},
   "source": [
    "## seleccion de imagen colleccion ESRI Global Cobertura 10m"
   ]
  },
  {
   "cell_type": "code",
   "execution_count": 6,
   "id": "cc76f35a-fb29-43a0-bb93-3b1ec1aa1ba1",
   "metadata": {},
   "outputs": [],
   "source": [
    "# esri\n",
    "esri_lulc2020 = ee.ImageCollection(\"projects/sat-io/open-datasets/landcover/ESRI_Global-LULC_10m\")"
   ]
  },
  {
   "cell_type": "code",
   "execution_count": 7,
   "id": "60866432-2983-4555-b933-7684704f0983",
   "metadata": {},
   "outputs": [],
   "source": [
    "## Crear mosaico\n",
    "LULC_10m = esri_lulc2020.mosaic()"
   ]
  },
  {
   "cell_type": "markdown",
   "id": "b3b64f35-3513-4ca8-9546-b4d1272253db",
   "metadata": {},
   "source": [
    "## Crear simbologia y leyenda"
   ]
  },
  {
   "cell_type": "code",
   "execution_count": 8,
   "id": "d1762aa3-3a21-4e84-ba68-7f37853bb9ea",
   "metadata": {},
   "outputs": [],
   "source": [
    "# Simbologia\n",
    "viz = {\n",
    "    'palette': [\"#1A5BAB\",\"#358221\",\"#A7D282\",\"#87D19E\",\"#FFDB5C\",\n",
    "              \"#EECFA8\",\"#ED022A\",\"#EDE9E4\",\"#F2FAFF\",\"#C8C8C8\"],\n",
    "    'min': 1,\n",
    "    'max': 10,\n",
    "}"
   ]
  },
  {
   "cell_type": "code",
   "execution_count": 9,
   "id": "097b1041-2c9b-49ef-96e9-209a8ccc2e25",
   "metadata": {},
   "outputs": [],
   "source": [
    "# Crear leyenda para visualizar\n",
    "legend_dict = {\n",
    "    'Water': '#1A5BAB',\n",
    "    'Trees': '#358221',\n",
    "    'Grass': '#A7D282',\n",
    "    'Flooded Vegetation': '#87D19E',\n",
    "    'Crops': '#FFDB5C',\n",
    "    'Scrub/Shrub': '#EECFA8',\n",
    "    'Built Area': '#ED022A',\n",
    "    'Bare Ground': '#EDE9E4',\n",
    "    'Snow/Ice': '#F2FAFF',\n",
    "    'Clouds': '#C8C8C8'\n",
    "}"
   ]
  },
  {
   "cell_type": "code",
   "execution_count": 10,
   "id": "379181ba-718d-4b3c-8954-7d624463a7a6",
   "metadata": {},
   "outputs": [
    {
     "data": {
      "application/vnd.jupyter.widget-view+json": {
       "model_id": "9c1bd17a7e084c9790cd6abf594bae8b",
       "version_major": 2,
       "version_minor": 0
      },
      "text/plain": [
       "Map(bottom=281405.0, center=[-12.908744902436744, -69.9947155021359], controls=(WidgetControl(options=['positi…"
      ]
     },
     "metadata": {},
     "output_type": "display_data"
    }
   ],
   "source": [
    "Map.addLayer(LULC_10m, viz, name = \"ESRI LULC\")\n",
    "Map.add_legend(legend_title=\"ESRI Classification\", legend_dict = legend_dict)\n",
    "Map"
   ]
  },
  {
   "cell_type": "markdown",
   "id": "65cee457-0a3b-4d3f-aa57-737477d93a7a",
   "metadata": {},
   "source": [
    "## Recortar zona estudio"
   ]
  },
  {
   "cell_type": "code",
   "execution_count": 11,
   "id": "3bc6133a-a3d7-4579-8615-c90f609024e7",
   "metadata": {},
   "outputs": [],
   "source": [
    "# clip dato\n",
    "LULC_10m_clip = LULC_10m.clip(zona_ee)"
   ]
  },
  {
   "cell_type": "code",
   "execution_count": 12,
   "id": "839ec1fe-14cf-4291-b4b4-f230882783b9",
   "metadata": {},
   "outputs": [
    {
     "data": {
      "application/vnd.jupyter.widget-view+json": {
       "model_id": "9c1bd17a7e084c9790cd6abf594bae8b",
       "version_major": 2,
       "version_minor": 0
      },
      "text/plain": [
       "Map(bottom=4659.0, center=[-11.480024648555816, -70.00488281250001], controls=(WidgetControl(options=['positio…"
      ]
     },
     "metadata": {},
     "output_type": "display_data"
    }
   ],
   "source": [
    "# Visualizar \n",
    "Map.addLayer(LULC_10m_clip, viz, name = \"ESRI 2020 clip\")\n",
    "Map"
   ]
  },
  {
   "cell_type": "markdown",
   "id": "fcc7332f-e7b1-437a-bb38-67d21c5b4447",
   "metadata": {},
   "source": [
    "## Exportar raster"
   ]
  },
  {
   "cell_type": "code",
   "execution_count": 13,
   "id": "afeeea62-6bad-4bb5-9d96-08c230665663",
   "metadata": {},
   "outputs": [
    {
     "data": {
      "text/plain": [
       "'C:\\\\Users\\\\GEOMATICA\\\\Teledeteccion_Python\\\\GEE'"
      ]
     },
     "execution_count": 13,
     "metadata": {},
     "output_type": "execute_result"
    }
   ],
   "source": [
    "import os\n",
    "os.getcwd()"
   ]
  },
  {
   "cell_type": "code",
   "execution_count": 14,
   "id": "042179f7-9b6d-4e09-93dc-f0d7487d326a",
   "metadata": {},
   "outputs": [
    {
     "data": {
      "text/plain": [
       "'E:\\\\Teledeteccion_GEE\\\\Python\\\\Datos_Espaciales\\\\Resultado_GEE'"
      ]
     },
     "execution_count": 14,
     "metadata": {},
     "output_type": "execute_result"
    }
   ],
   "source": [
    "ruta_archivos = r\"E:\\Teledeteccion_GEE\\Python\\Datos_Espaciales\\Resultado_GEE\"\n",
    "os.chdir(ruta_archivos) # Cambiar ruta trabajo\n",
    "os.getcwd() # Consultar ruta trabajo"
   ]
  },
  {
   "cell_type": "code",
   "execution_count": 15,
   "id": "c1ddf1a8-fa4f-40c3-bdf2-144fd41816c1",
   "metadata": {},
   "outputs": [
    {
     "name": "stdout",
     "output_type": "stream",
     "text": [
      "Generating URL ...\n",
      "Downloading data from https://earthengine.googleapis.com/v1alpha/projects/earthengine-legacy/thumbnails/ea93781b28ef833e40ddf3e0da816694-269228289f7aba1d085dee6f2364eebd:getPixels\n",
      "Please wait ...\n",
      "Data downloaded to E:\\Teledeteccion_GEE\\Python\\Datos_Espaciales\\Resultado_GEE\\ESRI_LULC_10m_clip.tif\n"
     ]
    }
   ],
   "source": [
    "# Exportar imagen directorio\n",
    "geemap.ee_export_image(LULC_10m_clip, filename=\"ESRI_LULC_10m_clip.tif\", scale=10, region=geometria, file_per_band=False)"
   ]
  },
  {
   "cell_type": "code",
   "execution_count": 16,
   "id": "e954bd3b-d826-48fe-8c38-0a09ecfebfe4",
   "metadata": {},
   "outputs": [
    {
     "name": "stdout",
     "output_type": "stream",
     "text": [
      "Exporting ESRI_LULC_10m_clip ...\n"
     ]
    }
   ],
   "source": [
    "# Exportar en google drive\n",
    "geemap.ee_export_image_to_drive(LULC_10m_clip, description='ESRI_LULC_10m_clip', folder='GEE_Python', region=geometria, scale=10)"
   ]
  },
  {
   "cell_type": "code",
   "execution_count": null,
   "id": "b36f2c70-e94f-4a00-87dc-2c9ef90c2299",
   "metadata": {},
   "outputs": [],
   "source": []
  }
 ],
 "metadata": {
  "kernelspec": {
   "display_name": "Python 3",
   "language": "python",
   "name": "python3"
  },
  "language_info": {
   "codemirror_mode": {
    "name": "ipython",
    "version": 3
   },
   "file_extension": ".py",
   "mimetype": "text/x-python",
   "name": "python",
   "nbconvert_exporter": "python",
   "pygments_lexer": "ipython3",
   "version": "3.7.10"
  },
  "toc": {
   "base_numbering": 1,
   "nav_menu": {},
   "number_sections": true,
   "sideBar": true,
   "skip_h1_title": false,
   "title_cell": "Table of Contents",
   "title_sidebar": "Contents",
   "toc_cell": false,
   "toc_position": {},
   "toc_section_display": true,
   "toc_window_display": false
  }
 },
 "nbformat": 4,
 "nbformat_minor": 5
}
