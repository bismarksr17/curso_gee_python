{
 "cells": [
  {
   "cell_type": "markdown",
   "id": "c2ef234c-be49-45e5-9776-16ff09b3cced",
   "metadata": {},
   "source": [
    "# Agregar FeatureCollection google Earth Engine    "
   ]
  },
  {
   "cell_type": "code",
   "execution_count": 1,
   "id": "63de224e-fcd7-4040-94b0-9cf82bc513c5",
   "metadata": {},
   "outputs": [],
   "source": [
    "# Importar paquete GEE\n",
    "import ee\n",
    "ee.Initialize()"
   ]
  },
  {
   "cell_type": "markdown",
   "id": "6cccb7ce-ed5f-41d1-8b01-e28914c62757",
   "metadata": {},
   "source": [
    "## Agregar FeatureCollection Paises"
   ]
  },
  {
   "cell_type": "code",
   "execution_count": 2,
   "id": "9153b382-2436-4096-bef9-258233a3558e",
   "metadata": {},
   "outputs": [],
   "source": [
    "# Agregar FeatureCollection de PAISES\n",
    "PAISES = ee.FeatureCollection(\"USDOS/LSIB_SIMPLE/2017\")"
   ]
  },
  {
   "cell_type": "code",
   "execution_count": 4,
   "id": "bd6709ac-2762-4e94-ae6d-f7073a9980be",
   "metadata": {},
   "outputs": [
    {
     "data": {
      "text/plain": [
       "['wld_rgn', 'country_na', 'abbreviati', 'system:index', 'country_co']"
      ]
     },
     "execution_count": 4,
     "metadata": {},
     "output_type": "execute_result"
    }
   ],
   "source": [
    "# Visualizar sus propiedades\n",
    "PAISES.first().propertyNames().getInfo()"
   ]
  },
  {
   "cell_type": "code",
   "execution_count": 5,
   "id": "1ffa7426-e87a-4d8f-9fe9-f156a99f878f",
   "metadata": {},
   "outputs": [
    {
     "name": "stdout",
     "output_type": "stream",
     "text": [
      "['Chad', 'Malawi', 'Zambia', 'Zimbabwe', 'Botswana', 'Namibia', 'Angola', 'Burundi', 'Rwanda', 'South Africa', 'Lesotho', 'Swaziland', 'Mayotte', 'Niger', 'Sudan', 'Libya', 'Koualou Area', 'Tunisia', 'Egypt', 'Bir Tawil', 'Halaib Triangle', 'Eritrea', 'Ethiopia', 'Djibouti', 'Somalia', 'South Sudan', 'Abyei Area', 'Kenya', 'Uganda', 'Tanzania', 'Mozambique', 'Comoros', 'Madagascar', 'Cabo Verde', 'Western Sahara', 'Mauritania', 'Morocco', 'Spain (Canary Is)', 'Portugal (Madeira Is)', 'Spain (Africa)', 'Algeria', 'Mali', 'Burkina Faso', 'Togo', 'Ghana', \"Cote d'Ivoire\", 'Guinea', 'Senegal', 'Gambia, The', 'Guinea-Bissau', 'Sierra Leone', 'Liberia', 'Benin', 'Nigeria', 'Cameroon', 'Equatorial Guinea', 'Sao Tome & Principe', 'Gabon', 'Rep of the Congo', 'Central African Rep', 'Dem Rep of the Congo', 'Hong Kong', 'Macau', 'Taiwan', 'Senkakus', 'Japan', 'Korea, South', 'Korea, North', 'Korean Is. (UN Jurisdiction)', 'China', 'China', 'China', 'China', 'Liancourt Rocks', 'Russia', 'Ukraine', 'Romania', 'Moldova', 'Russia', 'Finland', 'Norway', 'Andorra', 'Italy', 'Monaco', 'Malta', 'San Marino', 'Vatican City', 'Croatia', 'Albania', 'Bosnia & Herzegovina', 'Montenegro', 'Serbia', 'Greece', 'Macedonia', 'Kosovo', 'Bulgaria', 'Portugal (Azores)', 'Portugal', 'Gibraltar', 'Spain', 'France', 'Svalbard', 'Sweden', 'Denmark', 'Estonia', 'Latvia', 'Lithuania', 'Belarus', 'Poland', 'Germany', 'Czechia', 'Slovakia', 'Hungary', 'Slovenia', 'Austria', 'Dragonja River Mouth', 'Switzerland', 'Liechtenstein', 'Luxembourg', 'Netherlands', 'Belgium', 'United Kingdom', 'Jersey', 'Guernsey', 'Ireland', 'Isle of Man', 'Faroe Is', 'Iceland', 'Jan Mayen', 'Russia', 'Russia', 'Mongolia', 'Russia', 'Russia', 'Maldives', 'Bhutan', 'Aksai Chin', 'Afghanistan', 'Pakistan', 'Siachen-Saltoro Area', 'Demchok Area', 'IN-CH Small Disputed Areas', 'Nepal', 'Kalapani Area', 'Dramana-Shakatoe Area', 'Sri Lanka', 'India', 'Bangladesh', 'Pitcairn Is', 'Palau', 'Nauru', 'Tuvalu', 'Tokelau', 'US Minor Pacific Is. Refuges', 'Cook Is', 'American Samoa', 'Tonga', 'Niue', 'Samoa', 'Wallis & Futuna', 'French Polynesia', 'United States (Hawaii)', 'Northern Mariana Is', 'Marshall Is', 'Wake I', 'Kiribati', 'Fed States of Micronesia', 'Guam', 'Papua New Guinea', 'Solomon Is', 'New Caledonia', 'Norfolk I', 'New Zealand', 'Fiji', 'Vanuatu', 'Indonesia', 'Paracel Is', 'Singapore', 'Brunei', 'Philippines', 'Spratly Is', 'Timor-Leste', 'Ashmore & Cartier Is', 'Malaysia', 'Thailand', 'Burma', 'Laos', 'Cambodia', 'Vietnam', 'Oman', 'United Arab Emirates', 'Qatar', 'Bahrain', 'Iran', 'Kuwait', 'Azerbaijan', 'Armenia', 'Georgia', 'Sinafir & Tiran Is.', 'Turkey', 'Cyprus', 'Dhekelia', 'Akrotiri', 'Gaza Strip', 'Israel', 'Jordan', 'Saudi Arabia', 'West Bank', \"No Man's Land\", 'West Bank', 'Iraq', 'Syria', 'Lebanon', 'Syria', 'Syria', 'Israel', 'Syria', 'Syria', 'Yemen', 'Australia', 'Coral Sea Is', 'Cuba', 'Puerto Rico', 'US Virgin Is', 'British Virgin Is', 'Antigua & Barbuda', 'St Barthelemy', 'Netherlands (Caribbean)', 'Anguilla', 'St Martin', 'Sint Maarten', 'St Kitts & Nevis', 'Montserrat', 'Guadeloupe', 'Dominica', 'Trinidad & Tobago', 'Grenada', 'Martinique', 'Saint Lucia', 'St Vincent & the Grenadines', 'Barbados', 'Curacao', 'Aruba', 'Dominican Republic', 'Haiti', 'Jamaica', 'Navassa I', 'Cuba', 'Cayman Is', 'Antarctica', 'Antarctica', 'Antarctica', 'Antarctica', 'Bouvet Island', 'S Georgia & S Sandwich Is', 'St Helena', 'Turkmenistan', 'Kyrgyzstan', 'Kazakhstan', 'Tajikistan', 'Uzbekistan', 'French S & Antarctic Lands', 'Reunion', 'Mauritius', 'Seychelles', 'British Indian Ocean Terr', 'Heard I & McDonald Is', 'Christmas I', 'Cocos (Keeling) Is', 'Mexico', 'Clipperton Island', 'United States', 'Bahamas, The', 'Turks & Caicos Is', 'Bermuda', 'Greenland', 'Canada', 'St Pierre & Miquelon', 'Canada', 'United States', 'Canada', 'Canada', 'Canada', 'Canada', 'United States (Alaska)', 'Canada', 'Canada', 'United States', 'United States', 'Bolivia', 'Chile', 'Paraguay', 'Argentina', 'Uruguay', 'Invernada Area', 'Isla Brasilera', 'Falkland Islands', 'Ecuador', 'Venezuela', 'Suriname', 'French Guiana', 'Guyana', 'Colombia', 'Peru', 'Brazil', 'El Salvador', 'Guatemala', 'Panama', 'Costa Rica', 'Nicaragua', 'Honduras', 'Belize']\n"
     ]
    }
   ],
   "source": [
    "# Extraer la lista de paises\n",
    "lista_pais = PAISES.reduceColumns(ee.Reducer.toList(),[\"country_na\"]).get(\"list\").getInfo()\n",
    "print(lista_pais)"
   ]
  },
  {
   "cell_type": "code",
   "execution_count": 6,
   "id": "18b7f15f-26e3-44db-b5a9-602c32f44a31",
   "metadata": {},
   "outputs": [],
   "source": [
    "PERU = PAISES.filterMetadata('country_na', 'equals', 'Peru')"
   ]
  },
  {
   "cell_type": "code",
   "execution_count": 7,
   "id": "ea22795b-3b71-4e56-8407-cc5908759f90",
   "metadata": {},
   "outputs": [],
   "source": [
    "BOLIVIA = PAISES.filterMetadata('country_na', 'equals', 'Bolivia')"
   ]
  },
  {
   "cell_type": "code",
   "execution_count": 8,
   "id": "55e7fbfc-c9fc-43f4-85ca-1229c08e5131",
   "metadata": {},
   "outputs": [],
   "source": [
    "COLOMBIA = ee.FeatureCollection('USDOS/LSIB_SIMPLE/2017')\\\n",
    "             .filterMetadata('country_na', 'equals', 'Colombia')"
   ]
  },
  {
   "cell_type": "code",
   "execution_count": 9,
   "id": "37c4beaa-b540-4493-9622-62fc2f38b899",
   "metadata": {},
   "outputs": [],
   "source": [
    "BRASIL = ee.FeatureCollection('USDOS/LSIB_SIMPLE/2017')\\\n",
    "            .filterMetadata('country_na', 'equals', 'Brazil')"
   ]
  },
  {
   "cell_type": "code",
   "execution_count": 10,
   "id": "648c5357-1905-43c0-9086-ececa8c67270",
   "metadata": {},
   "outputs": [],
   "source": [
    "Sur_America = ee.FeatureCollection('USDOS/LSIB_SIMPLE/2017')\\\n",
    "                .filterMetadata('wld_rgn', 'equals', 'South America')"
   ]
  },
  {
   "cell_type": "code",
   "execution_count": 11,
   "id": "dcea141a-7648-4829-84f0-e62fe1d6601e",
   "metadata": {},
   "outputs": [],
   "source": [
    "import geemap\n",
    "Map = geemap.Map(basemap='SATELLITE')"
   ]
  },
  {
   "cell_type": "code",
   "execution_count": 14,
   "id": "5a71868f-c1b1-4d6e-abf4-412905af8212",
   "metadata": {},
   "outputs": [
    {
     "data": {
      "application/vnd.jupyter.widget-view+json": {
       "model_id": "75749622b44c45738b7b8556548ae251",
       "version_major": 2,
       "version_minor": 0
      },
      "text/plain": [
       "Map(bottom=2474.4000244140625, center=[-13.965556932843256, -60.43413095742282], controls=(WidgetControl(optio…"
      ]
     },
     "metadata": {},
     "output_type": "display_data"
    }
   ],
   "source": [
    "# Visualizar\n",
    "Map.centerObject(Sur_America,4)\n",
    "Map.addLayer(Sur_America, {\"color\" : \"00FF11\"},name = 'Sur america')\n",
    "Map.addLayer(PERU, {\"color\" : \"red\"},name = 'Peru')\n",
    "Map.addLayer(BOLIVIA, {\"color\" : \"blue\"},name = 'Bolivia')\n",
    "Map"
   ]
  },
  {
   "cell_type": "markdown",
   "id": "1ecf809a-6405-432e-b294-1a129d28ea7b",
   "metadata": {},
   "source": [
    "## Exportar featureCollection"
   ]
  },
  {
   "cell_type": "markdown",
   "id": "9efb77b7-122f-4030-9418-17035a3ab758",
   "metadata": {},
   "source": [
    "### Directorio de trabajo"
   ]
  },
  {
   "cell_type": "code",
   "execution_count": 15,
   "id": "99d5f677-deb0-44cf-ae34-b65ae06a3fc2",
   "metadata": {},
   "outputs": [],
   "source": [
    "import os"
   ]
  },
  {
   "cell_type": "code",
   "execution_count": 16,
   "id": "4465d912-532a-4d00-a23b-a1e1119e2b41",
   "metadata": {},
   "outputs": [
    {
     "data": {
      "text/plain": [
       "'C:\\\\Users\\\\GEOMATICA\\\\Teledeteccion_Python\\\\GEE'"
      ]
     },
     "execution_count": 16,
     "metadata": {},
     "output_type": "execute_result"
    }
   ],
   "source": [
    "# Preguntar directorio de trabajo\n",
    "os.getcwd()"
   ]
  },
  {
   "cell_type": "code",
   "execution_count": 17,
   "id": "548671d3-39e5-4ae8-b43b-4cc5f960dc57",
   "metadata": {},
   "outputs": [
    {
     "data": {
      "text/plain": [
       "'E:\\\\Teledeteccion_GEE\\\\Python\\\\Datos_Espaciales'"
      ]
     },
     "execution_count": 17,
     "metadata": {},
     "output_type": "execute_result"
    }
   ],
   "source": [
    "ruta_archivos = r\"E:\\Teledeteccion_GEE\\Python\\Datos_Espaciales\"\n",
    "os.chdir(ruta_archivos) # Cambiar ruta trabajo\n",
    "os.getcwd() # Consultar ruta trabajo"
   ]
  },
  {
   "cell_type": "markdown",
   "id": "a70e5529-b3f7-42e8-946a-0058e4ce8289",
   "metadata": {},
   "source": [
    "### Crear una carpeta directorio"
   ]
  },
  {
   "cell_type": "code",
   "execution_count": 18,
   "id": "a045f5e4-83b4-47f6-bf29-b84caa43f8e4",
   "metadata": {},
   "outputs": [
    {
     "data": {
      "text/plain": [
       "'E:\\\\Teledeteccion_GEE\\\\Python\\\\Datos_Espaciales\\\\Resultado_GEE'"
      ]
     },
     "execution_count": 18,
     "metadata": {},
     "output_type": "execute_result"
    }
   ],
   "source": [
    "# Concatenar string o texto \n",
    "out_dir = os.getcwd() + \"\\\\\" + 'Resultado_GEE'\n",
    "out_dir"
   ]
  },
  {
   "cell_type": "code",
   "execution_count": 20,
   "id": "eb30060a-774f-48ac-af16-fe9d5801106e",
   "metadata": {},
   "outputs": [],
   "source": [
    "# Crear la carpeta en el directorio\n",
    "os.makedirs(out_dir)"
   ]
  },
  {
   "cell_type": "code",
   "execution_count": 21,
   "id": "91bc99f6-b23c-445c-81e2-f06c1d438b4a",
   "metadata": {},
   "outputs": [
    {
     "data": {
      "text/plain": [
       "'E:\\\\Teledeteccion_GEE\\\\Python\\\\Datos_Espaciales\\\\Resultado_GEE'"
      ]
     },
     "execution_count": 21,
     "metadata": {},
     "output_type": "execute_result"
    }
   ],
   "source": [
    "# Lugar de la exportación\n",
    "os.chdir(out_dir)\n",
    "os.getcwd()"
   ]
  },
  {
   "cell_type": "markdown",
   "id": "64bddfee-b412-4552-a648-09a46d6327f0",
   "metadata": {},
   "source": [
    "### Exportar Shapefile"
   ]
  },
  {
   "cell_type": "code",
   "execution_count": 22,
   "id": "f030a3c8-c19c-4a60-9e00-44dba24db3d8",
   "metadata": {},
   "outputs": [
    {
     "name": "stdout",
     "output_type": "stream",
     "text": [
      "Generating URL ...\n",
      "Downloading data from https://earthengine.googleapis.com/v1alpha/projects/earthengine-legacy/tables/c9ee878eb862e6296a246e4e1b2e3ada-089b052bc216abaf3ec5738c98a5edbe:getFeatures\n",
      "Please wait ...\n",
      "Data downloaded to E:\\Teledeteccion_GEE\\Python\\Datos_Espaciales\\Resultado_GEE\\Sur_America.shp\n"
     ]
    }
   ],
   "source": [
    "# Exportar shp America Sur\n",
    "geemap.ee_to_shp(Sur_America, filename = 'Sur_America.shp')"
   ]
  },
  {
   "cell_type": "code",
   "execution_count": 23,
   "id": "94164c15-ec18-440e-a420-999b79fe4038",
   "metadata": {},
   "outputs": [
    {
     "name": "stdout",
     "output_type": "stream",
     "text": [
      "Generating URL ...\n",
      "Downloading data from https://earthengine.googleapis.com/v1alpha/projects/earthengine-legacy/tables/14c01b9ceb46fe0999b6b0c3c33cd79b-3c8447a7d23e4b43a1dda95cac2e53da:getFeatures\n",
      "Please wait ...\n",
      "Data downloaded to E:\\Teledeteccion_GEE\\Python\\Datos_Espaciales\\Resultado_GEE\\PERU.shp\n"
     ]
    }
   ],
   "source": [
    "# Exportar shp Peru\n",
    "geemap.ee_to_shp(PERU, filename = 'PERU.shp')"
   ]
  },
  {
   "cell_type": "markdown",
   "id": "6edfb05f-4784-4356-aee2-50be655ff6a9",
   "metadata": {},
   "source": [
    "## Importar una Shapefile subido GEE"
   ]
  },
  {
   "cell_type": "code",
   "execution_count": 28,
   "id": "8c9d8678-ec3a-479a-a1a5-b1b70a929032",
   "metadata": {},
   "outputs": [],
   "source": [
    "# Agregar un feature subido GEE\n",
    "zona = ee.FeatureCollection(\"users/bravomoralesnino/SHP1/Zona_geo\")"
   ]
  },
  {
   "cell_type": "code",
   "execution_count": 29,
   "id": "1361d8a5-f570-4542-aea2-f1bf9e579bfe",
   "metadata": {},
   "outputs": [],
   "source": [
    "# Conversion a geometria\n",
    "geometria = zona.geometry()"
   ]
  },
  {
   "cell_type": "code",
   "execution_count": 30,
   "id": "de925c3b-bdd5-4e1d-9fdc-a219ca1ea69f",
   "metadata": {},
   "outputs": [
    {
     "data": {
      "application/vnd.jupyter.widget-view+json": {
       "model_id": "75749622b44c45738b7b8556548ae251",
       "version_major": 2,
       "version_minor": 0
      },
      "text/plain": [
       "Map(bottom=140780.0, center=[-12.90871687434752, -69.99471710452879], controls=(WidgetControl(options=['positi…"
      ]
     },
     "metadata": {},
     "output_type": "display_data"
    }
   ],
   "source": [
    "# visualizacion del mapa\n",
    "Map.centerObject(geometria,10)\n",
    "Map.addLayer(zona, {\"color\" : \"#00f55e\"}, 'zona')\n",
    "Map"
   ]
  },
  {
   "cell_type": "code",
   "execution_count": null,
   "id": "ab40d37e-cbcb-47fc-b7e6-7b275dd09ce2",
   "metadata": {},
   "outputs": [],
   "source": []
  }
 ],
 "metadata": {
  "kernelspec": {
   "display_name": "Python 3",
   "language": "python",
   "name": "python3"
  },
  "language_info": {
   "codemirror_mode": {
    "name": "ipython",
    "version": 3
   },
   "file_extension": ".py",
   "mimetype": "text/x-python",
   "name": "python",
   "nbconvert_exporter": "python",
   "pygments_lexer": "ipython3",
   "version": "3.7.10"
  }
 },
 "nbformat": 4,
 "nbformat_minor": 5
}
