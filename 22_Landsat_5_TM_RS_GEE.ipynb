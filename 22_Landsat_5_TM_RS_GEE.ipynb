{
 "cells": [
  {
   "cell_type": "markdown",
   "id": "4a046c44-db5b-4a09-a644-0e2ce66248b6",
   "metadata": {},
   "source": [
    "# Landsat 5 TM Reflectancia Superficie GEE"
   ]
  },
  {
   "cell_type": "code",
   "execution_count": 1,
   "id": "c5929646-66ae-4cce-b8d8-407b08cd07c9",
   "metadata": {},
   "outputs": [],
   "source": [
    "# Importar paquete GEE\n",
    "import ee\n",
    "ee.Initialize()"
   ]
  },
  {
   "cell_type": "markdown",
   "id": "65065283-ced6-4180-96c0-bcf054b7bb8f",
   "metadata": {},
   "source": [
    "## Filtro zona estudio SHP con geoPandas"
   ]
  },
  {
   "cell_type": "code",
   "execution_count": 2,
   "id": "416f5e77-d5b1-4b9c-9354-2b11acf250e1",
   "metadata": {},
   "outputs": [],
   "source": [
    "import os\n",
    "import glob"
   ]
  },
  {
   "cell_type": "code",
   "execution_count": 3,
   "id": "d18c0d17-30f4-45e9-8240-21d166551caa",
   "metadata": {},
   "outputs": [
    {
     "data": {
      "text/plain": [
       "'E:\\\\Teledeteccion_GEE\\\\Python\\\\Datos_Espaciales\\\\SHP'"
      ]
     },
     "execution_count": 3,
     "metadata": {},
     "output_type": "execute_result"
    }
   ],
   "source": [
    "ruta_archivos = r\"E:\\Teledeteccion_GEE\\Python\\Datos_Espaciales\\SHP\"\n",
    "os.chdir(ruta_archivos) # Cambiar ruta trabajo\n",
    "os.getcwd() # Consultar ruta trabajo"
   ]
  },
  {
   "cell_type": "code",
   "execution_count": 4,
   "id": "8fd5bd8a-1a6c-4154-8d10-e32cde28c6bb",
   "metadata": {},
   "outputs": [],
   "source": [
    "import geopandas as gpd"
   ]
  },
  {
   "cell_type": "code",
   "execution_count": 5,
   "id": "44ef6da4-737d-459f-a824-1d375aee2d62",
   "metadata": {},
   "outputs": [
    {
     "data": {
      "text/html": [
       "<div>\n",
       "<style scoped>\n",
       "    .dataframe tbody tr th:only-of-type {\n",
       "        vertical-align: middle;\n",
       "    }\n",
       "\n",
       "    .dataframe tbody tr th {\n",
       "        vertical-align: top;\n",
       "    }\n",
       "\n",
       "    .dataframe thead th {\n",
       "        text-align: right;\n",
       "    }\n",
       "</style>\n",
       "<table border=\"1\" class=\"dataframe\">\n",
       "  <thead>\n",
       "    <tr style=\"text-align: right;\">\n",
       "      <th></th>\n",
       "      <th>id</th>\n",
       "      <th>geometry</th>\n",
       "    </tr>\n",
       "  </thead>\n",
       "  <tbody>\n",
       "    <tr>\n",
       "      <th>0</th>\n",
       "      <td>1</td>\n",
       "      <td>POLYGON ((-70.14663 -12.74826, -69.84347 -12.7...</td>\n",
       "    </tr>\n",
       "  </tbody>\n",
       "</table>\n",
       "</div>"
      ],
      "text/plain": [
       "   id                                           geometry\n",
       "0   1  POLYGON ((-70.14663 -12.74826, -69.84347 -12.7..."
      ]
     },
     "execution_count": 5,
     "metadata": {},
     "output_type": "execute_result"
    }
   ],
   "source": [
    "# cargar un shp\n",
    "zona = gpd.read_file(\"ZONA_geo.shp\")\n",
    "zona"
   ]
  },
  {
   "cell_type": "code",
   "execution_count": 6,
   "id": "da6ad55d-5edf-4df4-a359-20aca42e340f",
   "metadata": {},
   "outputs": [],
   "source": [
    "# Crear un featureCollecion mediante GeoJSON\n",
    "ee_zona = ee.FeatureCollection(zona.__geo_interface__)"
   ]
  },
  {
   "cell_type": "code",
   "execution_count": 7,
   "id": "8955f9a9-8720-4706-b551-ba1fcc90d749",
   "metadata": {},
   "outputs": [
    {
     "data": {
      "text/plain": [
       "ee.featurecollection.FeatureCollection"
      ]
     },
     "execution_count": 7,
     "metadata": {},
     "output_type": "execute_result"
    }
   ],
   "source": [
    "type(ee_zona)"
   ]
  },
  {
   "cell_type": "markdown",
   "id": "097579d2-fab2-4969-a8e2-0c8e233ab65b",
   "metadata": {},
   "source": [
    "## Coleccion de Landsat 5 TM RS"
   ]
  },
  {
   "cell_type": "code",
   "execution_count": 8,
   "id": "1a49e415-445a-4d8c-bcb6-56f2d7391157",
   "metadata": {},
   "outputs": [],
   "source": [
    "L5_RS = ee.ImageCollection(\"LANDSAT/LT05/C01/T1_SR\")\\\n",
    "          .filterDate('2005-01-01','2009-12-31')\\\n",
    "          .filterMetadata('CLOUD_COVER','less_than',20)\\\n",
    "          .filterBounds(ee_zona)"
   ]
  },
  {
   "cell_type": "code",
   "execution_count": 10,
   "id": "96be3ae0-4a2d-43f8-9b3b-df484d45ab0b",
   "metadata": {},
   "outputs": [
    {
     "name": "stdout",
     "output_type": "stream",
     "text": [
      "Cantidad de imagenes L5_RS: 26\n"
     ]
    }
   ],
   "source": [
    "# Conteo de imagenes\n",
    "count = L5_RS.size().getInfo()\n",
    "print(\"Cantidad de imagenes L5_RS:\", count)"
   ]
  },
  {
   "cell_type": "code",
   "execution_count": 11,
   "id": "182c43f3-4795-4b6a-bce0-2f514e0c2da7",
   "metadata": {},
   "outputs": [
    {
     "data": {
      "text/plain": [
       "int"
      ]
     },
     "execution_count": 11,
     "metadata": {},
     "output_type": "execute_result"
    }
   ],
   "source": [
    "type(count)"
   ]
  },
  {
   "cell_type": "code",
   "execution_count": 12,
   "id": "025124a8-dd7d-405e-bde9-14bda2da2f61",
   "metadata": {},
   "outputs": [
    {
     "name": "stdout",
     "output_type": "stream",
     "text": [
      "['LT05_002069_20050607', 'LT05_002069_20050709', 'LT05_002069_20050810', 'LT05_002069_20050911', 'LT05_002069_20051013', 'LT05_002069_20060712', 'LT05_002069_20060813', 'LT05_002069_20070325', 'LT05_002069_20070512', 'LT05_002069_20080903', 'LT05_002069_20090906', 'LT05_003069_20050716', 'LT05_003069_20050817', 'LT05_003069_20060516', 'LT05_003069_20060617', 'LT05_003069_20060719', 'LT05_003069_20060804', 'LT05_003069_20070823', 'LT05_003069_20070908', 'LT05_003069_20080505', 'LT05_003069_20080606', 'LT05_003069_20080825', 'LT05_003069_20080910', 'LT05_003069_20090524', 'LT05_003069_20090812', 'LT05_003069_20090828']\n"
     ]
    }
   ],
   "source": [
    "# Imprimir la lista de ID Imagenes\n",
    "ID_L5 = L5_RS.reduceColumns(ee.Reducer.toList(),[\"system:index\"]).get(\"list\").getInfo()\n",
    "print(ID_L5)"
   ]
  },
  {
   "cell_type": "code",
   "execution_count": 13,
   "id": "62b7f28d-dd46-4d00-b3ca-52cebacdfd77",
   "metadata": {},
   "outputs": [
    {
     "data": {
      "text/plain": [
       "list"
      ]
     },
     "execution_count": 13,
     "metadata": {},
     "output_type": "execute_result"
    }
   ],
   "source": [
    "type(ID_L5)"
   ]
  },
  {
   "cell_type": "code",
   "execution_count": 14,
   "id": "b3acc4ed-cb82-4e89-8bb0-4c2e6c8d553a",
   "metadata": {},
   "outputs": [],
   "source": [
    "# Crear una funcion para determinar la fecha de las imagenes ID\n",
    "def list_coll(coll):\n",
    "    def func_ejv(im):\n",
    "        return ee.String(ee.Image(im).date().format('YYYY/MM/dd')).slice(0)\n",
    "    return coll.toList(coll.size(), 0).map(func_ejv)"
   ]
  },
  {
   "cell_type": "code",
   "execution_count": 15,
   "id": "2ad83649-7885-4d1c-a890-c562d60fca2e",
   "metadata": {},
   "outputs": [
    {
     "name": "stdout",
     "output_type": "stream",
     "text": [
      "['2005/06/07', '2005/07/09', '2005/08/10', '2005/09/11', '2005/10/13', '2006/07/12', '2006/08/13', '2007/03/25', '2007/05/12', '2008/09/03', '2009/09/06', '2005/07/16', '2005/08/17', '2006/05/16', '2006/06/17', '2006/07/19', '2006/08/04', '2007/08/23', '2007/09/08', '2008/05/05', '2008/06/06', '2008/08/25', '2008/09/10', '2009/05/24', '2009/08/12', '2009/08/28']\n"
     ]
    }
   ],
   "source": [
    "fecha = list_coll(L5_RS).getInfo()\n",
    "print(fecha)"
   ]
  },
  {
   "cell_type": "code",
   "execution_count": 16,
   "id": "991ce65c-f8e1-4ae2-b064-dc346f4adebb",
   "metadata": {},
   "outputs": [
    {
     "data": {
      "text/plain": [
       "list"
      ]
     },
     "execution_count": 16,
     "metadata": {},
     "output_type": "execute_result"
    }
   ],
   "source": [
    "type(fecha)"
   ]
  },
  {
   "cell_type": "code",
   "execution_count": 17,
   "id": "d5b19f41-eac6-4f34-88d5-6ae3fe99540e",
   "metadata": {},
   "outputs": [
    {
     "name": "stdout",
     "output_type": "stream",
     "text": [
      "[6, 2, 7, 3, 3, 2, 1, 13, 14, 4, 4, 8, 9, 2, 9, 17, 5, 6, 17, 18, 15, 1, 15, 15, 11, 15]\n"
     ]
    }
   ],
   "source": [
    "# Imprimir la lista Porcentaje Nubosidad\n",
    "porcentaje_nube = L5_RS.reduceColumns(ee.Reducer.toList(),[\"CLOUD_COVER\"]).get(\"list\").getInfo()\n",
    "print(porcentaje_nube)"
   ]
  },
  {
   "cell_type": "code",
   "execution_count": 18,
   "id": "fe0d6267-b820-44d8-99a4-cb1f163aa5d9",
   "metadata": {},
   "outputs": [
    {
     "name": "stdout",
     "output_type": "stream",
     "text": [
      "[2, 2, 2, 2, 2, 2, 2, 2, 2, 2, 2, 3, 3, 3, 3, 3, 3, 3, 3, 3, 3, 3, 3, 3, 3, 3]\n",
      "[69, 69, 69, 69, 69, 69, 69, 69, 69, 69, 69, 69, 69, 69, 69, 69, 69, 69, 69, 69, 69, 69, 69, 69, 69, 69]\n"
     ]
    }
   ],
   "source": [
    "# Imprimir la lista Path y Row\n",
    "WRS_PATH = L5_RS.reduceColumns(ee.Reducer.toList(),[\"WRS_PATH\"]).get(\"list\").getInfo()\n",
    "WRS_ROW = L5_RS.reduceColumns(ee.Reducer.toList(),[\"WRS_ROW\"]).get(\"list\").getInfo()\n",
    "print(WRS_PATH)\n",
    "print(WRS_ROW)"
   ]
  },
  {
   "cell_type": "code",
   "execution_count": 19,
   "id": "5ad47fd1-17fc-44d4-8162-b08111e517b1",
   "metadata": {},
   "outputs": [],
   "source": [
    "# Crear un diccionario con las listas\n",
    "dic = {\"ID\": ID_L5, \"Fecha\": fecha,\"Porcentaje Nube\": porcentaje_nube,\"PATH\": WRS_PATH,\"ROW\":WRS_ROW}"
   ]
  },
  {
   "cell_type": "code",
   "execution_count": 20,
   "id": "78bf66a8-286f-4d56-80a8-aaa38e85a79c",
   "metadata": {},
   "outputs": [],
   "source": [
    "import pandas as pd"
   ]
  },
  {
   "cell_type": "code",
   "execution_count": 21,
   "id": "52adeec2-f9ac-4d1e-9ee6-d2fb33e0e315",
   "metadata": {},
   "outputs": [
    {
     "name": "stdout",
     "output_type": "stream",
     "text": [
      "                      ID       Fecha  Porcentaje Nube  PATH  ROW\n",
      "0   LT05_002069_20050607  2005/06/07                6     2   69\n",
      "1   LT05_002069_20050709  2005/07/09                2     2   69\n",
      "2   LT05_002069_20050810  2005/08/10                7     2   69\n",
      "3   LT05_002069_20050911  2005/09/11                3     2   69\n",
      "4   LT05_002069_20051013  2005/10/13                3     2   69\n",
      "5   LT05_002069_20060712  2006/07/12                2     2   69\n",
      "6   LT05_002069_20060813  2006/08/13                1     2   69\n",
      "7   LT05_002069_20070325  2007/03/25               13     2   69\n",
      "8   LT05_002069_20070512  2007/05/12               14     2   69\n",
      "9   LT05_002069_20080903  2008/09/03                4     2   69\n",
      "10  LT05_002069_20090906  2009/09/06                4     2   69\n",
      "11  LT05_003069_20050716  2005/07/16                8     3   69\n",
      "12  LT05_003069_20050817  2005/08/17                9     3   69\n",
      "13  LT05_003069_20060516  2006/05/16                2     3   69\n",
      "14  LT05_003069_20060617  2006/06/17                9     3   69\n",
      "15  LT05_003069_20060719  2006/07/19               17     3   69\n",
      "16  LT05_003069_20060804  2006/08/04                5     3   69\n",
      "17  LT05_003069_20070823  2007/08/23                6     3   69\n",
      "18  LT05_003069_20070908  2007/09/08               17     3   69\n",
      "19  LT05_003069_20080505  2008/05/05               18     3   69\n",
      "20  LT05_003069_20080606  2008/06/06               15     3   69\n",
      "21  LT05_003069_20080825  2008/08/25                1     3   69\n",
      "22  LT05_003069_20080910  2008/09/10               15     3   69\n",
      "23  LT05_003069_20090524  2009/05/24               15     3   69\n",
      "24  LT05_003069_20090812  2009/08/12               11     3   69\n",
      "25  LT05_003069_20090828  2009/08/28               15     3   69\n",
      "Tipo de clase:  <class 'pandas.core.frame.DataFrame'>\n"
     ]
    }
   ],
   "source": [
    "# Crear un DataFrame mediante el diccionario\n",
    "df1 = pd.DataFrame(data = dic)\n",
    "print(df1)\n",
    "print(\"Tipo de clase: \", type(df1))"
   ]
  },
  {
   "cell_type": "markdown",
   "id": "8ad3d062-9663-40a3-831e-a36cd4e48c5d",
   "metadata": {},
   "source": [
    "## Exportar tabla ID, Fecha, Porcentaje Nubosidad"
   ]
  },
  {
   "cell_type": "code",
   "execution_count": 85,
   "id": "f367cc2a-af0c-4968-8cc4-bf3c743c3075",
   "metadata": {},
   "outputs": [],
   "source": [
    "import os"
   ]
  },
  {
   "cell_type": "code",
   "execution_count": 22,
   "id": "75a19911-37fe-4d54-b922-00484c523bc4",
   "metadata": {},
   "outputs": [
    {
     "data": {
      "text/plain": [
       "'E:\\\\Teledeteccion_GEE\\\\Python\\\\Datos_Espaciales\\\\Resultado_GEE'"
      ]
     },
     "execution_count": 22,
     "metadata": {},
     "output_type": "execute_result"
    }
   ],
   "source": [
    "ruta_archivos = r\"E:\\Teledeteccion_GEE\\Python\\Datos_Espaciales\\Resultado_GEE\"\n",
    "os.chdir(ruta_archivos) # Cambiar ruta trabajo\n",
    "os.getcwd() # Consultar ruta trabajo"
   ]
  },
  {
   "cell_type": "code",
   "execution_count": 23,
   "id": "eaf3e12e-a239-4aad-83cf-7c40a708bc61",
   "metadata": {},
   "outputs": [],
   "source": [
    "df1.to_csv(\"file_name.csv\") # relative position"
   ]
  },
  {
   "cell_type": "markdown",
   "id": "9331af65-057e-49f5-8d18-9282e20e38fc",
   "metadata": {},
   "source": [
    "## Seleccion imagen Landsat 5"
   ]
  },
  {
   "cell_type": "code",
   "execution_count": 25,
   "id": "8e4acf61-c36b-4051-9ebb-3fbbd124b7ad",
   "metadata": {},
   "outputs": [],
   "source": [
    "# Importar imagen Landsat 5 RS \n",
    "image = ee.Image(\"LANDSAT/LT05/C01/T1_SR\" + \"/\" + ID_L5[21])"
   ]
  },
  {
   "cell_type": "code",
   "execution_count": 26,
   "id": "6937a8c4-2aaf-411f-98f0-f252e074eb6d",
   "metadata": {},
   "outputs": [
    {
     "name": "stdout",
     "output_type": "stream",
     "text": [
      "['B1', 'B2', 'B3', 'B4', 'B5', 'B6', 'B7', 'sr_atmos_opacity', 'sr_cloud_qa', 'pixel_qa', 'radsat_qa']\n"
     ]
    }
   ],
   "source": [
    "# Nombre de las bandas\n",
    "print(image.bandNames().getInfo())"
   ]
  },
  {
   "cell_type": "markdown",
   "id": "c06d6f11-f564-414d-ba03-97f59ff4c0a6",
   "metadata": {},
   "source": [
    "## Seleccionar Bandas"
   ]
  },
  {
   "cell_type": "code",
   "execution_count": 27,
   "id": "190e9be0-1d3c-461d-9a93-0985abeb0f33",
   "metadata": {},
   "outputs": [],
   "source": [
    "# Crear nombre por bandas\n",
    "bandas_RS = [\"B1\",\"B2\",\"B3\",\"B4\",\"B5\",\"B7\"]\n",
    "bandas_TB = [\"B6\"]"
   ]
  },
  {
   "cell_type": "code",
   "execution_count": 28,
   "id": "276dfe58-02ae-4c78-955f-33788432c460",
   "metadata": {},
   "outputs": [],
   "source": [
    "# Seleccionar imagenes por bandas\n",
    "img_L5_RS = image.select(bandas_RS)\n",
    "img_L5_TB = image.select(bandas_TB)"
   ]
  },
  {
   "cell_type": "code",
   "execution_count": 29,
   "id": "ef805278-98f6-40c3-8d4f-ea6d25994d43",
   "metadata": {},
   "outputs": [
    {
     "name": "stdout",
     "output_type": "stream",
     "text": [
      "Banda RS: ['B1', 'B2', 'B3', 'B4', 'B5', 'B7']\n",
      "Banda TB: ['B6']\n"
     ]
    }
   ],
   "source": [
    "# Nombre de las bandas\n",
    "print(\"Banda RS:\",img_L5_RS.bandNames().getInfo())\n",
    "print(\"Banda TB:\",img_L5_TB.bandNames().getInfo())"
   ]
  },
  {
   "cell_type": "markdown",
   "id": "4f8bc82c-bb3d-4336-9708-6076c02ddb57",
   "metadata": {},
   "source": [
    "## Verificar proyeccion"
   ]
  },
  {
   "cell_type": "code",
   "execution_count": 30,
   "id": "48340277-ac78-4164-854e-4c4113b815ec",
   "metadata": {},
   "outputs": [
    {
     "name": "stdout",
     "output_type": "stream",
     "text": [
      "Proyeccion RS: {'type': 'Projection', 'crs': 'EPSG:32619', 'transform': [30, 0, 222885, 0, -30, -1336485]}\n",
      "Proyeccion TB: {'type': 'Projection', 'crs': 'EPSG:32619', 'transform': [30, 0, 222885, 0, -30, -1336485]}\n"
     ]
    }
   ],
   "source": [
    "# Consultar Proyeccion\n",
    "print(\"Proyeccion RS:\",img_L5_RS.projection().getInfo())\n",
    "print(\"Proyeccion TB:\",img_L5_TB.projection().getInfo())"
   ]
  },
  {
   "cell_type": "markdown",
   "id": "bf231225-bdd0-4fb8-884a-94df0d4764f1",
   "metadata": {},
   "source": [
    "## Metadato landsat"
   ]
  },
  {
   "cell_type": "code",
   "execution_count": 31,
   "id": "62016def-d233-4c91-a2d3-fef03e2ec076",
   "metadata": {},
   "outputs": [
    {
     "data": {
      "text/plain": [
       "['IMAGE_QUALITY',\n",
       " 'SATELLITE',\n",
       " 'SOLAR_AZIMUTH_ANGLE',\n",
       " 'CLOUD_COVER',\n",
       " 'system:id',\n",
       " 'WRS_PATH',\n",
       " 'EARTH_SUN_DISTANCE',\n",
       " 'system:time_start',\n",
       " 'LANDSAT_ID',\n",
       " 'SENSING_TIME',\n",
       " 'ESPA_VERSION',\n",
       " 'SOLAR_ZENITH_ANGLE',\n",
       " 'system:footprint',\n",
       " 'system:version',\n",
       " 'WRS_ROW',\n",
       " 'GEOMETRIC_RMSE_MODEL_Y',\n",
       " 'LEVEL1_PRODUCTION_DATE',\n",
       " 'CLOUD_COVER_LAND',\n",
       " 'GEOMETRIC_RMSE_MODEL_X',\n",
       " 'system:asset_size',\n",
       " 'GEOMETRIC_RMSE_MODEL',\n",
       " 'SR_APP_VERSION',\n",
       " 'PIXEL_QA_VERSION',\n",
       " 'system:index',\n",
       " 'system:bands',\n",
       " 'system:band_names']"
      ]
     },
     "execution_count": 31,
     "metadata": {},
     "output_type": "execute_result"
    }
   ],
   "source": [
    "# Nombres del Metadato\n",
    "img_L5_RS.propertyNames().getInfo()"
   ]
  },
  {
   "cell_type": "code",
   "execution_count": 32,
   "id": "a41f83c8-a7bf-434e-a60b-614e15a9a03c",
   "metadata": {},
   "outputs": [
    {
     "data": {
      "text/plain": [
       "1.010653"
      ]
     },
     "execution_count": 32,
     "metadata": {},
     "output_type": "execute_result"
    }
   ],
   "source": [
    "# Extraer valor metadato distancia del sol a tierra\n",
    "d = img_L5_RS.get(\"EARTH_SUN_DISTANCE\").getInfo()\n",
    "d"
   ]
  },
  {
   "cell_type": "code",
   "execution_count": 33,
   "id": "44657b73-ddda-49fc-a5d7-459269a8c0c8",
   "metadata": {},
   "outputs": [
    {
     "data": {
      "text/plain": [
       "40.226799"
      ]
     },
     "execution_count": 33,
     "metadata": {},
     "output_type": "execute_result"
    }
   ],
   "source": [
    "# Extraer angulo zenital solar\n",
    "SOLAR_ZENITH_ANGLE = img_L5_RS.get(\"SOLAR_ZENITH_ANGLE\").getInfo()\n",
    "SOLAR_ZENITH_ANGLE"
   ]
  },
  {
   "cell_type": "code",
   "execution_count": 34,
   "id": "447a5fd1-bad1-4a56-98ca-42c607f15962",
   "metadata": {},
   "outputs": [],
   "source": [
    "import math"
   ]
  },
  {
   "cell_type": "code",
   "execution_count": 35,
   "id": "590c1a54-d7e8-4ba7-a99b-3854e46af183",
   "metadata": {},
   "outputs": [
    {
     "data": {
      "text/plain": [
       "0.7020900900879624"
      ]
     },
     "execution_count": 35,
     "metadata": {},
     "output_type": "execute_result"
    }
   ],
   "source": [
    "SOLAR_ZENITH_ANGLE_R = SOLAR_ZENITH_ANGLE*math.pi/180"
   ]
  },
  {
   "cell_type": "code",
   "execution_count": 36,
   "id": "82f21b8e-27e5-4dad-9136-0266f96657fb",
   "metadata": {},
   "outputs": [
    {
     "name": "stdout",
     "output_type": "stream",
     "text": [
      "Elevacion solar radianes: 0.8687062367069341\n"
     ]
    }
   ],
   "source": [
    "# Determinacion angulo elevacion solar radianes\n",
    "SUN_ELEVATION = 90 - SOLAR_ZENITH_ANGLE\n",
    "SUN_ELEVATION_R = SUN_ELEVATION*math.pi/180\n",
    "print(\"Elevacion solar radianes:\", SUN_ELEVATION_R)"
   ]
  },
  {
   "cell_type": "markdown",
   "id": "2a46129e-4c11-470f-9593-95f75d9b70a5",
   "metadata": {},
   "source": [
    "## Visualizar Landsat"
   ]
  },
  {
   "cell_type": "code",
   "execution_count": 37,
   "id": "9e795000-3216-44dd-9d2e-8652a5aa0e18",
   "metadata": {},
   "outputs": [],
   "source": [
    "# Simbologia estala 0 - 10000\n",
    "viz_RS = {\n",
    "    'bands': ['B5', 'B4', 'B3'],\n",
    "    'min': 250,\n",
    "    'max': 7000,\n",
    "    'gamma': 1.90\n",
    "}"
   ]
  },
  {
   "cell_type": "code",
   "execution_count": 38,
   "id": "18794940-efee-47d8-a35c-feef61a256c1",
   "metadata": {},
   "outputs": [],
   "source": [
    "# Importar geemap\n",
    "import geemap\n",
    "Map = geemap.Map(basemap='ESRI')"
   ]
  },
  {
   "cell_type": "code",
   "execution_count": 39,
   "id": "a5113f53-1f24-497c-a517-55b011f61da7",
   "metadata": {},
   "outputs": [],
   "source": [
    "# Convertir en Geometria\n",
    "geometria = ee_zona.geometry()\n",
    "Map.centerObject(geometria, 8)"
   ]
  },
  {
   "cell_type": "code",
   "execution_count": 40,
   "id": "e1bf0774-e41e-4894-ba04-6668cf6d6bcb",
   "metadata": {},
   "outputs": [
    {
     "data": {
      "application/vnd.jupyter.widget-view+json": {
       "model_id": "ed33ac88385941c89327e737aea9ba19",
       "version_major": 2,
       "version_minor": 0
      },
      "text/plain": [
       "Map(center=[-12.908744339809369, -69.99471735110599], controls=(WidgetControl(options=['position', 'transparen…"
      ]
     },
     "metadata": {},
     "output_type": "display_data"
    }
   ],
   "source": [
    "# Visualizar ESCALADO 0 - 10000\n",
    "Map.addLayer(img_L5_RS, viz_RS, name = \"Landsat5 RS\")\n",
    "Map"
   ]
  },
  {
   "cell_type": "markdown",
   "id": "a09282d7-7df7-4808-baf6-36cbedc5161c",
   "metadata": {},
   "source": [
    "## Factor de escala Reflectancia Superficie"
   ]
  },
  {
   "cell_type": "code",
   "execution_count": 41,
   "id": "78f691d1-f326-44d4-88cf-3e38e2bf9dd8",
   "metadata": {},
   "outputs": [],
   "source": [
    "# Escalar la imagen Landsat 5 RS 0 - 1\n",
    "img_L5_RS_Es = img_L5_RS.multiply(0.0001)"
   ]
  },
  {
   "cell_type": "code",
   "execution_count": 42,
   "id": "8c1df10f-937d-426d-a6c2-ab2c02ac84cb",
   "metadata": {},
   "outputs": [],
   "source": [
    "# Simbologia escalado 0 - 1\n",
    "viz_es = {\n",
    "    'bands': ['B5', 'B4', 'B3'],\n",
    "    'min': 0.1,\n",
    "    'max': 0.6,\n",
    "    'gamma': 1.6\n",
    "}"
   ]
  },
  {
   "cell_type": "code",
   "execution_count": 43,
   "id": "a8577911-9a2b-4fda-a6d7-a6d65a253d55",
   "metadata": {},
   "outputs": [
    {
     "data": {
      "application/vnd.jupyter.widget-view+json": {
       "model_id": "ed33ac88385941c89327e737aea9ba19",
       "version_major": 2,
       "version_minor": 0
      },
      "text/plain": [
       "Map(bottom=35438.0, center=[-12.908744339809369, -69.99471735110599], controls=(WidgetControl(options=['positi…"
      ]
     },
     "metadata": {},
     "output_type": "display_data"
    }
   ],
   "source": [
    "# Visualizar ESCALADO 0 - 1\n",
    "Map.addLayer(img_L5_RS_Es, viz_es,name = \"Landsat5 RS Escalado\")\n",
    "Map"
   ]
  },
  {
   "cell_type": "markdown",
   "id": "e10bdbe7-16ca-4a4e-921c-39fcb03b813e",
   "metadata": {},
   "source": [
    "## Factor de escala Temperatura Brillo"
   ]
  },
  {
   "cell_type": "code",
   "execution_count": 44,
   "id": "071986d7-12a9-43de-a06b-f0b1d569e62a",
   "metadata": {},
   "outputs": [],
   "source": [
    "# Escalar la imagen Landsat 5 TB convertir Kelvin a Celsius\n",
    "img_L5_TB_es = img_L5_TB.subtract(273.15).multiply(0.01)"
   ]
  },
  {
   "cell_type": "code",
   "execution_count": 45,
   "id": "1e03158d-035f-42e8-9967-5190f6158f6c",
   "metadata": {},
   "outputs": [],
   "source": [
    "# Crear su simbologia TB\n",
    "viz_tb = {\n",
    "    'palette': ['040274', '040281', '0502a3', '0502b8', '0502ce', '0502e6',\n",
    "                '0602ff', '235cb1', '307ef3', '269db1', '30c8e2', '32d3ef',\n",
    "                '3be285', '3ff38f', '86e26f', '3ae237', 'b5e22e', 'd6e21f',\n",
    "                'fff705', 'ffd611', 'ffb613', 'ff8b13', 'ff6e08', 'ff500d',\n",
    "                'ff0000', 'de0101', 'c21301', 'a71001', '911003'],\n",
    "    'min': 25,\n",
    "    'max': 28\n",
    "}"
   ]
  },
  {
   "cell_type": "code",
   "execution_count": 46,
   "id": "3786ea2f-1d59-4ae5-8f66-78b1bd10eab8",
   "metadata": {},
   "outputs": [
    {
     "data": {
      "application/vnd.jupyter.widget-view+json": {
       "model_id": "ed33ac88385941c89327e737aea9ba19",
       "version_major": 2,
       "version_minor": 0
      },
      "text/plain": [
       "Map(bottom=35438.0, center=[-12.908744339809369, -69.99471735110599], controls=(WidgetControl(options=['positi…"
      ]
     },
     "metadata": {},
     "output_type": "display_data"
    }
   ],
   "source": [
    "# Visualizacion temperatura brillo\n",
    "Map.addLayer(img_L5_TB_es, viz_tb,name = \"TB B6 Celsius\")\n",
    "Map"
   ]
  },
  {
   "cell_type": "markdown",
   "id": "4531f810-ff95-46fa-9736-07f960fefff7",
   "metadata": {},
   "source": [
    "## Reproyectar y recortar segun zona"
   ]
  },
  {
   "cell_type": "code",
   "execution_count": 47,
   "id": "478aace2-3be4-44a0-81ea-4535f31a987c",
   "metadata": {},
   "outputs": [],
   "source": [
    "# Reproyectar segun zona de estudio\n",
    "img_L5_TB_es = img_L5_TB_es.reproject(crs=\"EPSG:32719\", scale=30)\n",
    "img_L5_RS_Es = img_L5_RS_Es.reproject(crs=\"EPSG:32719\", scale=30)"
   ]
  },
  {
   "cell_type": "code",
   "execution_count": 48,
   "id": "0ef48f11-52ad-4432-86da-911a1a8e76bf",
   "metadata": {},
   "outputs": [],
   "source": [
    "# Recortar RS y TB\n",
    "img_L5_TB_es_clip = img_L5_TB_es.clip(ee_zona)\n",
    "img_L5_RS_Es_clip = img_L5_RS_Es.clip(ee_zona)"
   ]
  },
  {
   "cell_type": "code",
   "execution_count": 49,
   "id": "331b5b1f-d12b-4e62-aa9c-daa684ccd041",
   "metadata": {},
   "outputs": [
    {
     "name": "stdout",
     "output_type": "stream",
     "text": [
      "Proyeccion TB: {'type': 'Projection', 'crs': 'EPSG:32719', 'transform': [30, 0, 0, 0, -30, 0]}\n",
      "Proyeccion RS: {'type': 'Projection', 'crs': 'EPSG:32719', 'transform': [30, 0, 0, 0, -30, 0]}\n"
     ]
    }
   ],
   "source": [
    "# Consultar Proyeccion\n",
    "print(\"Proyeccion TB:\",img_L5_TB_es_clip.projection().getInfo())\n",
    "print(\"Proyeccion RS:\",img_L5_RS_Es_clip.projection().getInfo())"
   ]
  },
  {
   "cell_type": "code",
   "execution_count": 50,
   "id": "1d57372c-68b4-4617-8bc4-1be275ca4590",
   "metadata": {},
   "outputs": [
    {
     "data": {
      "text/plain": [
       "['B1', 'B2', 'B3', 'B4', 'B5', 'B7']"
      ]
     },
     "execution_count": 50,
     "metadata": {},
     "output_type": "execute_result"
    }
   ],
   "source": [
    "img_L5_RS_Es_clip.bandNames().getInfo()"
   ]
  },
  {
   "cell_type": "code",
   "execution_count": 51,
   "id": "6e178b38-9730-46e6-837d-a22eee918409",
   "metadata": {},
   "outputs": [
    {
     "data": {
      "application/vnd.jupyter.widget-view+json": {
       "model_id": "ed33ac88385941c89327e737aea9ba19",
       "version_major": 2,
       "version_minor": 0
      },
      "text/plain": [
       "Map(bottom=17881.0, center=[-13.036669323115234, -67.00012207031251], controls=(WidgetControl(options=['positi…"
      ]
     },
     "metadata": {},
     "output_type": "display_data"
    }
   ],
   "source": [
    "# Visualizacion TB y RS\n",
    "Map.addLayer(img_L5_TB_es_clip, viz_tb,name = \"TB B6 clip\")\n",
    "Map.addLayer(img_L5_RS_Es_clip, viz_es,name = \"L5 RS clip\")\n",
    "Map"
   ]
  },
  {
   "cell_type": "markdown",
   "id": "07f3b537-908e-4957-8ded-5b3b18e1264b",
   "metadata": {},
   "source": [
    "## Exportar Imagen calibrado"
   ]
  },
  {
   "cell_type": "code",
   "execution_count": 52,
   "id": "5b53554f-dca0-4fa4-87ff-79dafa8d003e",
   "metadata": {},
   "outputs": [
    {
     "data": {
      "text/plain": [
       "'E:\\\\Teledeteccion_GEE\\\\Python\\\\Datos_Espaciales\\\\Resultado_GEE'"
      ]
     },
     "execution_count": 52,
     "metadata": {},
     "output_type": "execute_result"
    }
   ],
   "source": [
    "os.getcwd()"
   ]
  },
  {
   "cell_type": "code",
   "execution_count": 53,
   "id": "5964c522-8355-461f-b50d-96ed9803fffa",
   "metadata": {},
   "outputs": [
    {
     "data": {
      "text/plain": [
       "'E:\\\\Teledeteccion_GEE\\\\Python\\\\Datos_Espaciales\\\\Resultado_GEE'"
      ]
     },
     "execution_count": 53,
     "metadata": {},
     "output_type": "execute_result"
    }
   ],
   "source": [
    "ruta_archivos = r\"E:\\Teledeteccion_GEE\\Python\\Datos_Espaciales\\Resultado_GEE\"\n",
    "os.chdir(ruta_archivos) # Cambiar ruta trabajo\n",
    "os.getcwd() # Consultar ruta trabajo"
   ]
  },
  {
   "cell_type": "code",
   "execution_count": 54,
   "id": "d2f27961-f1fb-43be-8044-04e8982fd587",
   "metadata": {},
   "outputs": [
    {
     "name": "stdout",
     "output_type": "stream",
     "text": [
      "Generating URL ...\n",
      "Downloading data from https://earthengine.googleapis.com/v1alpha/projects/earthengine-legacy/thumbnails/d5d8598b4117ccaef2d2ee4f8b48809f-8d5795d2b20907723d135a741cdbbbbb:getPixels\n",
      "Please wait ...\n",
      "Data downloaded to E:\\Teledeteccion_GEE\\Python\\Datos_Espaciales\\Resultado_GEE\\L5_TB_es_clip.tif\n"
     ]
    }
   ],
   "source": [
    "# Exportar imagen Temperatura de brillo B6\n",
    "geemap.ee_export_image(img_L5_TB_es_clip, filename=\"L5_TB_es_clip.tif\", scale=30, region=geometria, file_per_band = False)"
   ]
  },
  {
   "cell_type": "code",
   "execution_count": 55,
   "id": "c801c0e9-a2b3-41b7-ad74-bbf1ac6c1a9e",
   "metadata": {},
   "outputs": [
    {
     "name": "stdout",
     "output_type": "stream",
     "text": [
      "Generating URL ...\n",
      "Downloading data from https://earthengine.googleapis.com/v1alpha/projects/earthengine-legacy/thumbnails/d4286ab7216ac60b33f892522ab6531d-bbb30525070bfe2965d0b343200517d4:getPixels\n",
      "Please wait ...\n",
      "Data downloaded to E:\\Teledeteccion_GEE\\Python\\Datos_Espaciales\\Resultado_GEE\\L5_RS_Es_clip.tif\n"
     ]
    }
   ],
   "source": [
    "# Exportar imagen Reflectancia superficie B543\n",
    "geemap.ee_export_image(img_L5_RS_Es_clip.select([\"B5\",\"B4\",\"B3\"]), filename=\"L5_RS_Es_clip.tif\", scale=30, region=geometria, file_per_band=False)"
   ]
  },
  {
   "cell_type": "code",
   "execution_count": 56,
   "id": "bd850372-d707-4544-8566-d9f2062bcc93",
   "metadata": {},
   "outputs": [
    {
     "name": "stdout",
     "output_type": "stream",
     "text": [
      "Generating URL ...\n",
      "Downloading data from https://earthengine.googleapis.com/v1alpha/projects/earthengine-legacy/thumbnails/e5e9c79ae95d23824110565acc1c6045-a8cd0f4827a25334c651ab488d7c265e:getPixels\n",
      "Please wait ...\n",
      "Data downloaded to E:\\Teledeteccion_GEE\\Python\\Datos_Espaciales\\Resultado_GEE\n"
     ]
    }
   ],
   "source": [
    "# Exportar imagen Reflectancia superficie B543 Bandas separadas\n",
    "geemap.ee_export_image(img_L5_RS_Es_clip.select([\"B5\",\"B4\",\"B3\"]), filename=\"L5_RS_Es_clip_B.tif\", scale=30, region=geometria, file_per_band=True)"
   ]
  },
  {
   "cell_type": "code",
   "execution_count": 58,
   "id": "f6b93b31-1379-4ded-8f96-c6982563c864",
   "metadata": {},
   "outputs": [
    {
     "name": "stdout",
     "output_type": "stream",
     "text": [
      "Exporting L5_RS_Es_clip ...\n"
     ]
    }
   ],
   "source": [
    "# Exportar en google drive\n",
    "geemap.ee_export_image_to_drive(img_L5_RS_Es_clip, description='L5_RS_Es_clip', folder = 'GEE_Python', region=geometria, scale = 30)"
   ]
  }
 ],
 "metadata": {
  "kernelspec": {
   "display_name": "Python 3",
   "language": "python",
   "name": "python3"
  },
  "language_info": {
   "codemirror_mode": {
    "name": "ipython",
    "version": 3
   },
   "file_extension": ".py",
   "mimetype": "text/x-python",
   "name": "python",
   "nbconvert_exporter": "python",
   "pygments_lexer": "ipython3",
   "version": "3.7.10"
  }
 },
 "nbformat": 4,
 "nbformat_minor": 5
}
