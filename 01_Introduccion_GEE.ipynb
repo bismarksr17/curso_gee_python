{
 "cells": [
  {
   "cell_type": "markdown",
   "id": "0d2eb3e6-9306-4dd6-96ff-85959c15ef3f",
   "metadata": {},
   "source": [
    "# Introducción Google Earth Engine (GEE)\n",
    "Es una plataforma de computación en la nube con un catálogo de varios petabytes de imágenes satelitales y conjuntos de datos geoespaciales. Permite a los científicos, investigadores y desarrolladores analizar y visualizar cambios en la superficie de la Tierra. El paquete geemap Python proporciona a los usuarios de GEE una interfaz intuitiva para manipular, analizar y visualizar big data geoespacial de forma interactiva en un entorno basado en Jupyter."
   ]
  },
  {
   "cell_type": "markdown",
   "id": "7262061d-bcfe-4a54-a754-80b403a25af4",
   "metadata": {},
   "source": [
    "## **¿Porque usar Python?**\n",
    "\n",
    "Python se caraceriza por tener modulos y paquetes incluidos, esto significa que dentro de la instalacion basica del lenguaje, ya se encuentran incluidas muchas funciones que ayudan a realizar tareas complejas sin la necesidad de instalar paquetes o modulos adicionales de terceros.\n",
    "\n",
    "La sintaxis que ofrece Python es una de sus caracteristicas más notorias. En Python, un bloque de codigo interno (condicionales, loops), se crea a traves de indentaciones, lo que fuerza al desarrollador a **indentar su codigo fuente** garantizando una sintaxis ordenada y ordenada.\n",
    "\n",
    "###  **Es libre y de código abierto**\n",
    "\n",
    "Python cuenta con licencia Python Software Foundation License, licencia muy parecida a la de GPL, con la excepcion de que se puede distribuir los binarios del lenguaje sin tener que anexar las fuentes.\n",
    "\n",
    "La General license Public (GLP), permite a los usuarios usar modificar y redistribuir el software sin restriccion alguna y garantizar la no apropiacion del software.\n",
    "\n",
    "### **Es multiplataforma**\n",
    "\n",
    "Python es un lenguaje de programacion interpretado y es compatible con cualquier tipo de sistema operativo (Linux, Mac y Windows) que integre su interpretador. Asimismo, es posible utilizar executables compilados en Fortran, C++ y Java.\n"
   ]
  },
  {
   "cell_type": "code",
   "execution_count": 1,
   "id": "b88e85b0-5d69-4ad6-9acb-e74b2f8ea22b",
   "metadata": {},
   "outputs": [],
   "source": [
    "# Importar paquete GEE\n",
    "import ee\n",
    "ee.Initialize()"
   ]
  },
  {
   "cell_type": "code",
   "execution_count": 11,
   "id": "bd5df01e-849f-432a-a3ae-62417370dab1",
   "metadata": {},
   "outputs": [
    {
     "data": {
      "text/plain": [
       "'Hola geomaticos GEE'"
      ]
     },
     "execution_count": 11,
     "metadata": {},
     "output_type": "execute_result"
    }
   ],
   "source": [
    "# Verificando si funciona un mensaje en RGEE\n",
    "texto = ee.String(\"Hola geomaticos GEE\").getInfo()\n",
    "texto"
   ]
  },
  {
   "cell_type": "code",
   "execution_count": 12,
   "id": "d1622b26-5070-4904-8dcf-653078f8091d",
   "metadata": {},
   "outputs": [
    {
     "data": {
      "text/plain": [
       "str"
      ]
     },
     "execution_count": 12,
     "metadata": {},
     "output_type": "execute_result"
    }
   ],
   "source": [
    "type(texto)"
   ]
  },
  {
   "cell_type": "code",
   "execution_count": 2,
   "id": "2119d0e5-ad69-4a88-bd36-cad125d26860",
   "metadata": {},
   "outputs": [],
   "source": [
    "# Cargar una imagen Landsat 5 TM\n",
    "image = ee.Image(\"LANDSAT/LT05/C01/T1/LT05_003069_20060516\")"
   ]
  },
  {
   "cell_type": "code",
   "execution_count": 3,
   "id": "d400f88c-97be-48a8-9a5b-94021a81c0aa",
   "metadata": {},
   "outputs": [],
   "source": [
    "import geemap\n",
    "Map = geemap.Map()"
   ]
  },
  {
   "cell_type": "code",
   "execution_count": 4,
   "id": "1775de50-39a1-4fa0-90c8-ce896cd47ad6",
   "metadata": {},
   "outputs": [],
   "source": [
    "# Definir simbologia RGB\n",
    "viz = {\n",
    "    'bands': ['B5', 'B4', 'B3'],\n",
    "    'min': 1,\n",
    "    'max': 120,\n",
    "    'gamma': 0.90\n",
    "}"
   ]
  },
  {
   "cell_type": "code",
   "execution_count": 18,
   "id": "e0c8aa61-8c48-42aa-85ea-a851d7243ae2",
   "metadata": {},
   "outputs": [
    {
     "data": {
      "text/plain": [
       "dict"
      ]
     },
     "execution_count": 18,
     "metadata": {},
     "output_type": "execute_result"
    }
   ],
   "source": [
    "type(viz)"
   ]
  },
  {
   "cell_type": "code",
   "execution_count": 5,
   "id": "f64870a4-999a-4fab-b2f0-f7f604cdb3ad",
   "metadata": {},
   "outputs": [],
   "source": [
    "geometria = image.geometry()"
   ]
  },
  {
   "cell_type": "code",
   "execution_count": 6,
   "id": "27dfc1f2-e2f4-483c-a8a3-375b84291a7b",
   "metadata": {},
   "outputs": [
    {
     "data": {
      "application/vnd.jupyter.widget-view+json": {
       "model_id": "58ee081f13504823bbf8527edf3f7060",
       "version_major": 2,
       "version_minor": 0
      },
      "text/plain": [
       "Map(center=[-13.023149417026088, -70.46809136327242], controls=(WidgetControl(options=['position', 'transparen…"
      ]
     },
     "metadata": {},
     "output_type": "display_data"
    }
   ],
   "source": [
    "# Center the map and display the image.\n",
    "Map.centerObject(geometria,8)\n",
    "Map.addLayer(image, viz, 'L5_B543')\n",
    "Map"
   ]
  },
  {
   "cell_type": "code",
   "execution_count": null,
   "id": "9b6ba223-14a3-49d4-b5da-33e109d8ce6b",
   "metadata": {},
   "outputs": [],
   "source": []
  }
 ],
 "metadata": {
  "kernelspec": {
   "display_name": "Python 3",
   "language": "python",
   "name": "python3"
  },
  "language_info": {
   "codemirror_mode": {
    "name": "ipython",
    "version": 3
   },
   "file_extension": ".py",
   "mimetype": "text/x-python",
   "name": "python",
   "nbconvert_exporter": "python",
   "pygments_lexer": "ipython3",
   "version": "3.7.10"
  }
 },
 "nbformat": 4,
 "nbformat_minor": 5
}
