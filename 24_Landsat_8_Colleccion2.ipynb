{
 "cells": [
  {
   "cell_type": "markdown",
   "id": "4a046c44-db5b-4a09-a644-0e2ce66248b6",
   "metadata": {},
   "source": [
    "# Landsat 8 OLI TIRS Reflectancia Superficie google Earth Engine"
   ]
  },
  {
   "cell_type": "code",
   "execution_count": 1,
   "id": "c5929646-66ae-4cce-b8d8-407b08cd07c9",
   "metadata": {},
   "outputs": [],
   "source": [
    "# Importar paquete GEE\n",
    "import ee\n",
    "ee.Initialize()"
   ]
  },
  {
   "cell_type": "markdown",
   "id": "65065283-ced6-4180-96c0-bcf054b7bb8f",
   "metadata": {},
   "source": [
    "## Filtro zona estudio mediante GEE"
   ]
  },
  {
   "cell_type": "code",
   "execution_count": 2,
   "id": "416f5e77-d5b1-4b9c-9354-2b11acf250e1",
   "metadata": {},
   "outputs": [],
   "source": [
    "# Agregar un shp GEE\n",
    "ee_zona = ee.FeatureCollection(\"users/bravomoralesnino/SHP/ZONA_19S\")"
   ]
  },
  {
   "cell_type": "code",
   "execution_count": 3,
   "id": "d18c0d17-30f4-45e9-8240-21d166551caa",
   "metadata": {},
   "outputs": [],
   "source": [
    "# Importar geemap\n",
    "import geemap\n",
    "Map = geemap.Map(basemap=\"ESRI\")"
   ]
  },
  {
   "cell_type": "code",
   "execution_count": 5,
   "id": "8fd5bd8a-1a6c-4154-8d10-e32cde28c6bb",
   "metadata": {},
   "outputs": [
    {
     "data": {
      "application/vnd.jupyter.widget-view+json": {
       "model_id": "a709b2cef1464ccba5dcc64630035d5e",
       "version_major": 2,
       "version_minor": 0
      },
      "text/plain": [
       "Map(bottom=281405.0, center=[-12.908744902436744, -69.9947155021359], controls=(WidgetControl(options=['positi…"
      ]
     },
     "metadata": {},
     "output_type": "display_data"
    }
   ],
   "source": [
    "# Visualizar en mapa\n",
    "geometria = ee_zona.geometry()\n",
    "Map.centerObject(geometria, 11)\n",
    "Map.addLayer(ee_zona, {\"color\" : \"red\"}, name = \"Zona\")\n",
    "Map"
   ]
  },
  {
   "cell_type": "markdown",
   "id": "097579d2-fab2-4969-a8e2-0c8e233ab65b",
   "metadata": {},
   "source": [
    "## Coleccion de Landsat 8 OLI TIRS RS Colleccion 2"
   ]
  },
  {
   "cell_type": "code",
   "execution_count": 6,
   "id": "1a49e415-445a-4d8c-bcb6-56f2d7391157",
   "metadata": {},
   "outputs": [],
   "source": [
    "L8_RS = ee.ImageCollection(\"LANDSAT/LC08/C02/T1_L2\")\\\n",
    "          .filterDate('2019-01-01','2019-12-31')\\\n",
    "          .filterMetadata('CLOUD_COVER','less_than',20)\\\n",
    "          .filterBounds(ee_zona)"
   ]
  },
  {
   "cell_type": "code",
   "execution_count": 7,
   "id": "96be3ae0-4a2d-43f8-9b3b-df484d45ab0b",
   "metadata": {},
   "outputs": [
    {
     "name": "stdout",
     "output_type": "stream",
     "text": [
      "Cantidad de imagenes L8_RS: 4\n"
     ]
    }
   ],
   "source": [
    "# Conteo de imagenes\n",
    "count = L8_RS.size().getInfo()\n",
    "print(\"Cantidad de imagenes L8_RS:\", count)"
   ]
  },
  {
   "cell_type": "markdown",
   "id": "7c8d6784-6552-421d-87ce-3626b273235f",
   "metadata": {},
   "source": [
    "## Obtener ID, Fecha, nubosidad, Path y Row"
   ]
  },
  {
   "cell_type": "code",
   "execution_count": 8,
   "id": "025124a8-dd7d-405e-bde9-14bda2da2f61",
   "metadata": {},
   "outputs": [
    {
     "name": "stdout",
     "output_type": "stream",
     "text": [
      "['LC08_003069_20190621', 'LC08_003069_20190808', 'LC08_003069_20190824', 'LC08_003069_20190925']\n"
     ]
    }
   ],
   "source": [
    "# Imprimir la lista de ID Imagenes\n",
    "ID_L8 = L8_RS.reduceColumns(ee.Reducer.toList(),[\"system:index\"]).get(\"list\").getInfo()\n",
    "print(ID_L8)"
   ]
  },
  {
   "cell_type": "code",
   "execution_count": 9,
   "id": "0a834f11-70fd-41a6-946d-590aa7da1160",
   "metadata": {},
   "outputs": [],
   "source": [
    "# Crear funcion de extraer la fecha\n",
    "def list_coll(coll):\n",
    "    def func_ejv(im):\n",
    "        return ee.String(ee.Image(im).date().format('YYYY/MM/dd')).slice(0)\n",
    "    return coll.toList(coll.size(), 0).map(func_ejv)"
   ]
  },
  {
   "cell_type": "code",
   "execution_count": 10,
   "id": "a5a6d6c2-ad9d-4961-86f1-caeae3f99460",
   "metadata": {},
   "outputs": [
    {
     "name": "stdout",
     "output_type": "stream",
     "text": [
      "['2019/06/21', '2019/08/08', '2019/08/24', '2019/09/25']\n"
     ]
    }
   ],
   "source": [
    "fecha = list_coll(L8_RS).getInfo()\n",
    "print(fecha)"
   ]
  },
  {
   "cell_type": "code",
   "execution_count": 11,
   "id": "866a2f06-bfd6-4b77-a6ac-0cec605200f0",
   "metadata": {},
   "outputs": [
    {
     "name": "stdout",
     "output_type": "stream",
     "text": [
      "[11.45, 1.1, 18.05, 5.46]\n"
     ]
    }
   ],
   "source": [
    "# Imprimir la lista Porcentaje Nubosidad\n",
    "porcentaje_nube = L8_RS.reduceColumns(ee.Reducer.toList(),[\"CLOUD_COVER\"]).get(\"list\").getInfo()\n",
    "print(porcentaje_nube)"
   ]
  },
  {
   "cell_type": "code",
   "execution_count": 13,
   "id": "2e03062e-d6ea-4bc2-b842-ebf37ad7dbfc",
   "metadata": {},
   "outputs": [
    {
     "name": "stdout",
     "output_type": "stream",
     "text": [
      "PATH: [3, 3, 3, 3]\n",
      "ROW: [69, 69, 69, 69]\n"
     ]
    }
   ],
   "source": [
    "# Imprimir la lista Path y Row\n",
    "WRS_PATH = L8_RS.reduceColumns(ee.Reducer.toList(),[\"WRS_PATH\"]).get(\"list\").getInfo()\n",
    "WRS_ROW = L8_RS.reduceColumns(ee.Reducer.toList(),[\"WRS_ROW\"]).get(\"list\").getInfo()\n",
    "print(\"PATH:\", WRS_PATH)\n",
    "print(\"ROW:\",WRS_ROW)"
   ]
  },
  {
   "cell_type": "code",
   "execution_count": 15,
   "id": "a2b5d82c-d8ed-4d4a-bc54-d66143dcbfd2",
   "metadata": {},
   "outputs": [],
   "source": [
    "# Crear un diccionario con las listas\n",
    "dic = {\"ID\": ID_L8, \"Fecha\": fecha,\"Porcentaje Nube\": porcentaje_nube,\"PATH\": WRS_PATH,\"ROW\":WRS_ROW}"
   ]
  },
  {
   "cell_type": "code",
   "execution_count": 16,
   "id": "868ce6a1-ae96-4625-80ec-84ac35482ddc",
   "metadata": {},
   "outputs": [],
   "source": [
    "import pandas as pd"
   ]
  },
  {
   "cell_type": "code",
   "execution_count": 17,
   "id": "4cb5036f-ac0f-4432-99f2-cd21bdf573a6",
   "metadata": {},
   "outputs": [
    {
     "name": "stdout",
     "output_type": "stream",
     "text": [
      "                     ID       Fecha  Porcentaje Nube  PATH  ROW\n",
      "0  LC08_003069_20190621  2019/06/21            11.45     3   69\n",
      "1  LC08_003069_20190808  2019/08/08             1.10     3   69\n",
      "2  LC08_003069_20190824  2019/08/24            18.05     3   69\n",
      "3  LC08_003069_20190925  2019/09/25             5.46     3   69\n",
      "Tipo de clase:  <class 'pandas.core.frame.DataFrame'>\n"
     ]
    }
   ],
   "source": [
    "# Crear un DataFrame mediante el diccionario\n",
    "df1 = pd.DataFrame(dic)\n",
    "print(df1)\n",
    "print(\"Tipo de clase: \", type(df1))"
   ]
  },
  {
   "cell_type": "markdown",
   "id": "25b3e47b-c3a5-484d-ac69-794feeb95500",
   "metadata": {},
   "source": [
    "## Exportar tabla ID, Fecha, Porcentaje Nubosidad"
   ]
  },
  {
   "cell_type": "code",
   "execution_count": 18,
   "id": "68e4f8e5-0b61-4c79-bf03-46d54440aedc",
   "metadata": {},
   "outputs": [],
   "source": [
    "import os"
   ]
  },
  {
   "cell_type": "code",
   "execution_count": 19,
   "id": "c2ac0bf6-649f-4d1f-b267-5ad43672178f",
   "metadata": {},
   "outputs": [
    {
     "data": {
      "text/plain": [
       "'C:\\\\Users\\\\GEOMATICA\\\\Teledeteccion_Python\\\\GEE'"
      ]
     },
     "execution_count": 19,
     "metadata": {},
     "output_type": "execute_result"
    }
   ],
   "source": [
    "os.getcwd()"
   ]
  },
  {
   "cell_type": "code",
   "execution_count": 20,
   "id": "7893ae17-afb2-45dc-85f9-5c3913dd1689",
   "metadata": {},
   "outputs": [
    {
     "data": {
      "text/plain": [
       "'E:\\\\Teledeteccion_GEE\\\\Python\\\\Datos_Espaciales\\\\Resultado_GEE'"
      ]
     },
     "execution_count": 20,
     "metadata": {},
     "output_type": "execute_result"
    }
   ],
   "source": [
    "ruta_archivos = r\"E:\\Teledeteccion_GEE\\Python\\Datos_Espaciales\\Resultado_GEE\"\n",
    "os.chdir(ruta_archivos) # Cambiar ruta trabajo\n",
    "os.getcwd() # Consultar ruta trabajo"
   ]
  },
  {
   "cell_type": "code",
   "execution_count": 21,
   "id": "befa5b90-7b7a-45c4-be5f-66091d479d10",
   "metadata": {},
   "outputs": [],
   "source": [
    "df1.to_csv(\"file_name_L8_Collecion2.csv\") # relative position"
   ]
  },
  {
   "cell_type": "markdown",
   "id": "9331af65-057e-49f5-8d18-9282e20e38fc",
   "metadata": {},
   "source": [
    "## Seleccion imagen Landsat 8"
   ]
  },
  {
   "cell_type": "code",
   "execution_count": 25,
   "id": "44fe02dd-b176-4eae-bc1d-b2a10efd880d",
   "metadata": {},
   "outputs": [
    {
     "data": {
      "text/plain": [
       "'LANDSAT/LC08/C02/T1_L2/LC08_003069_20190808'"
      ]
     },
     "execution_count": 25,
     "metadata": {},
     "output_type": "execute_result"
    }
   ],
   "source": [
    "\"LANDSAT/LC08/C02/T1_L2\" + \"/\" + ID_L8[1]"
   ]
  },
  {
   "cell_type": "code",
   "execution_count": 26,
   "id": "8e4acf61-c36b-4051-9ebb-3fbbd124b7ad",
   "metadata": {},
   "outputs": [],
   "source": [
    "# Importar imagen Landsat 8 RS \n",
    "image = ee.Image(\"LANDSAT/LC08/C02/T1_L2\" + \"/\" + ID_L8[1])"
   ]
  },
  {
   "cell_type": "code",
   "execution_count": 27,
   "id": "6937a8c4-2aaf-411f-98f0-f252e074eb6d",
   "metadata": {},
   "outputs": [
    {
     "name": "stdout",
     "output_type": "stream",
     "text": [
      "['SR_B1', 'SR_B2', 'SR_B3', 'SR_B4', 'SR_B5', 'SR_B7', 'SR_B6', 'SR_QA_AEROSOL', 'ST_B10', 'ST_ATRAN', 'ST_CDIST', 'ST_DRAD', 'ST_EMIS', 'ST_EMSD', 'ST_QA', 'ST_TRAD', 'ST_URAD', 'QA_PIXEL', 'QA_RADSAT']\n"
     ]
    }
   ],
   "source": [
    "# Nombre de las bandas\n",
    "print(image.bandNames().getInfo())"
   ]
  },
  {
   "cell_type": "markdown",
   "id": "c06d6f11-f564-414d-ba03-97f59ff4c0a6",
   "metadata": {},
   "source": [
    "## Seleccionar Bandas"
   ]
  },
  {
   "cell_type": "code",
   "execution_count": 28,
   "id": "190e9be0-1d3c-461d-9a93-0985abeb0f33",
   "metadata": {},
   "outputs": [],
   "source": [
    "# Crear nombre por bandas\n",
    "bandas_RS = ['SR_B1', 'SR_B2', 'SR_B3', 'SR_B4', 'SR_B5', 'SR_B6', 'SR_B7']\n",
    "bandas_TB = [\"ST_B10\"]"
   ]
  },
  {
   "cell_type": "code",
   "execution_count": 29,
   "id": "276dfe58-02ae-4c78-955f-33788432c460",
   "metadata": {},
   "outputs": [],
   "source": [
    "# Seleccionar imagenes por bandas\n",
    "img_L8_RS = image.select(bandas_RS)\n",
    "img_L8_TB = image.select(bandas_TB)"
   ]
  },
  {
   "cell_type": "code",
   "execution_count": 30,
   "id": "ef805278-98f6-40c3-8d4f-ea6d25994d43",
   "metadata": {},
   "outputs": [
    {
     "name": "stdout",
     "output_type": "stream",
     "text": [
      "Banda RS: ['SR_B1', 'SR_B2', 'SR_B3', 'SR_B4', 'SR_B5', 'SR_B6', 'SR_B7']\n",
      "Banda TB: ['ST_B10']\n"
     ]
    }
   ],
   "source": [
    "# Nombre de las bandas\n",
    "print(\"Banda RS:\",img_L8_RS.bandNames().getInfo())\n",
    "print(\"Banda TB:\",img_L8_TB.bandNames().getInfo())"
   ]
  },
  {
   "cell_type": "markdown",
   "id": "4f8bc82c-bb3d-4336-9708-6076c02ddb57",
   "metadata": {},
   "source": [
    "## Verificar proyeccion"
   ]
  },
  {
   "cell_type": "code",
   "execution_count": 31,
   "id": "48340277-ac78-4164-854e-4c4113b815ec",
   "metadata": {},
   "outputs": [
    {
     "name": "stdout",
     "output_type": "stream",
     "text": [
      "Proyeccion RS: {'type': 'Projection', 'crs': 'EPSG:32619', 'transform': [30, 0, 228285, 0, -30, -1323585]}\n",
      "Proyeccion TB: {'type': 'Projection', 'crs': 'EPSG:32619', 'transform': [30, 0, 228285, 0, -30, -1323585]}\n"
     ]
    }
   ],
   "source": [
    "# Consultar Proyeccion\n",
    "print(\"Proyeccion RS:\", img_L8_RS.projection().getInfo())\n",
    "print(\"Proyeccion TB:\", img_L8_TB.projection().getInfo())"
   ]
  },
  {
   "cell_type": "markdown",
   "id": "bf231225-bdd0-4fb8-884a-94df0d4764f1",
   "metadata": {},
   "source": [
    "## Metadato landsat"
   ]
  },
  {
   "cell_type": "code",
   "execution_count": 32,
   "id": "62016def-d233-4c91-a2d3-fef03e2ec076",
   "metadata": {},
   "outputs": [
    {
     "data": {
      "text/plain": [
       "['DATA_SOURCE_ELEVATION',\n",
       " 'WRS_TYPE',\n",
       " 'system:id',\n",
       " 'REFLECTANCE_ADD_BAND_1',\n",
       " 'REFLECTANCE_ADD_BAND_2',\n",
       " 'DATUM',\n",
       " 'REFLECTANCE_ADD_BAND_3',\n",
       " 'REFLECTANCE_ADD_BAND_4',\n",
       " 'REFLECTANCE_ADD_BAND_5',\n",
       " 'REFLECTANCE_ADD_BAND_6',\n",
       " 'REFLECTANCE_ADD_BAND_7',\n",
       " 'system:footprint',\n",
       " 'REFLECTIVE_SAMPLES',\n",
       " 'system:version',\n",
       " 'GROUND_CONTROL_POINTS_VERSION',\n",
       " 'SUN_AZIMUTH',\n",
       " 'DATA_SOURCE_TIRS_STRAY_LIGHT_CORRECTION',\n",
       " 'UTM_ZONE',\n",
       " 'DATE_ACQUIRED',\n",
       " 'ELLIPSOID',\n",
       " 'system:time_end',\n",
       " 'DATA_SOURCE_PRESSURE',\n",
       " 'LANDSAT_PRODUCT_ID',\n",
       " 'STATION_ID',\n",
       " 'TEMPERATURE_ADD_BAND_ST_B10',\n",
       " 'DATA_SOURCE_REANALYSIS',\n",
       " 'REFLECTANCE_MULT_BAND_7',\n",
       " 'system:time_start',\n",
       " 'REFLECTANCE_MULT_BAND_6',\n",
       " 'L1_PROCESSING_LEVEL',\n",
       " 'PROCESSING_SOFTWARE_VERSION',\n",
       " 'L1_DATE_PRODUCT_GENERATED',\n",
       " 'ORIENTATION',\n",
       " 'REFLECTANCE_MULT_BAND_1',\n",
       " 'WRS_ROW',\n",
       " 'REFLECTANCE_MULT_BAND_3',\n",
       " 'REFLECTANCE_MULT_BAND_2',\n",
       " 'TARGET_WRS_ROW',\n",
       " 'REFLECTANCE_MULT_BAND_5',\n",
       " 'REFLECTANCE_MULT_BAND_4',\n",
       " 'THERMAL_LINES',\n",
       " 'TIRS_SSM_POSITION_STATUS',\n",
       " 'GRID_CELL_SIZE_THERMAL',\n",
       " 'IMAGE_QUALITY_TIRS',\n",
       " 'TRUNCATION_OLI',\n",
       " 'NADIR_OFFNADIR',\n",
       " 'CLOUD_COVER',\n",
       " 'REQUEST_ID',\n",
       " 'EARTH_SUN_DISTANCE',\n",
       " 'GEOMETRIC_RMSE_VERIFY',\n",
       " 'TIRS_SSM_MODEL',\n",
       " 'COLLECTION_CATEGORY',\n",
       " 'SCENE_CENTER_TIME',\n",
       " 'GRID_CELL_SIZE_REFLECTIVE',\n",
       " 'SUN_ELEVATION',\n",
       " 'ALGORITHM_SOURCE_SURFACE_TEMPERATURE',\n",
       " 'TEMPERATURE_MAXIMUM_BAND_ST_B10',\n",
       " 'CLOUD_COVER_LAND',\n",
       " 'GEOMETRIC_RMSE_MODEL',\n",
       " 'ROLL_ANGLE',\n",
       " 'COLLECTION_NUMBER',\n",
       " 'DATE_PRODUCT_GENERATED',\n",
       " 'L1_REQUEST_ID',\n",
       " 'DATA_SOURCE_OZONE',\n",
       " 'SATURATION_BAND_1',\n",
       " 'DATA_SOURCE_WATER_VAPOR',\n",
       " 'SATURATION_BAND_2',\n",
       " 'SATURATION_BAND_3',\n",
       " 'IMAGE_QUALITY_OLI',\n",
       " 'SATURATION_BAND_4',\n",
       " 'LANDSAT_SCENE_ID',\n",
       " 'SATURATION_BAND_5',\n",
       " 'MAP_PROJECTION',\n",
       " 'SATURATION_BAND_6',\n",
       " 'SENSOR_ID',\n",
       " 'SATURATION_BAND_7',\n",
       " 'SATURATION_BAND_8',\n",
       " 'WRS_PATH',\n",
       " 'SATURATION_BAND_9',\n",
       " 'TARGET_WRS_PATH',\n",
       " 'L1_PROCESSING_SOFTWARE_VERSION',\n",
       " 'TEMPERATURE_MULT_BAND_ST_B10',\n",
       " 'L1_LANDSAT_PRODUCT_ID',\n",
       " 'PROCESSING_LEVEL',\n",
       " 'ALGORITHM_SOURCE_SURFACE_REFLECTANCE',\n",
       " 'GROUND_CONTROL_POINTS_MODEL',\n",
       " 'SPACECRAFT_ID',\n",
       " 'TEMPERATURE_MINIMUM_BAND_ST_B10',\n",
       " 'GEOMETRIC_RMSE_MODEL_Y',\n",
       " 'REFLECTIVE_LINES',\n",
       " 'GEOMETRIC_RMSE_MODEL_X',\n",
       " 'THERMAL_SAMPLES',\n",
       " 'system:asset_size',\n",
       " 'DATA_SOURCE_AIR_TEMPERATURE',\n",
       " 'GROUND_CONTROL_POINTS_VERIFY',\n",
       " 'system:index',\n",
       " 'system:bands',\n",
       " 'system:band_names']"
      ]
     },
     "execution_count": 32,
     "metadata": {},
     "output_type": "execute_result"
    }
   ],
   "source": [
    "# Nombres del Metadato\n",
    "img_L8_RS.propertyNames().getInfo()"
   ]
  },
  {
   "cell_type": "code",
   "execution_count": 33,
   "id": "a41f83c8-a7bf-434e-a60b-614e15a9a03c",
   "metadata": {},
   "outputs": [
    {
     "data": {
      "text/plain": [
       "1.0140333"
      ]
     },
     "execution_count": 33,
     "metadata": {},
     "output_type": "execute_result"
    }
   ],
   "source": [
    "# Extraer valor metadato distancia del sol a tierra\n",
    "d = img_L8_RS.get(\"EARTH_SUN_DISTANCE\").getInfo()\n",
    "d"
   ]
  },
  {
   "cell_type": "code",
   "execution_count": 35,
   "id": "44657b73-ddda-49fc-a5d7-459269a8c0c8",
   "metadata": {},
   "outputs": [
    {
     "data": {
      "text/plain": [
       "48.29906763"
      ]
     },
     "execution_count": 35,
     "metadata": {},
     "output_type": "execute_result"
    }
   ],
   "source": [
    "# Extraer angulo Elevacion Solar\n",
    "SUN_ELEVATION = img_L8_RS.get(\"SUN_ELEVATION\").getInfo()\n",
    "SUN_ELEVATION"
   ]
  },
  {
   "cell_type": "code",
   "execution_count": 36,
   "id": "83ba4e88-2d19-486b-8adb-f31df45f31e7",
   "metadata": {},
   "outputs": [],
   "source": [
    "import math"
   ]
  },
  {
   "cell_type": "code",
   "execution_count": 37,
   "id": "ee205664-9cae-4d75-9896-e643b94de662",
   "metadata": {},
   "outputs": [
    {
     "data": {
      "text/plain": [
       "0.8429777557869145"
      ]
     },
     "execution_count": 37,
     "metadata": {},
     "output_type": "execute_result"
    }
   ],
   "source": [
    "SUN_ELEVATION_R = SUN_ELEVATION*math.pi/180\n",
    "SUN_ELEVATION_R"
   ]
  },
  {
   "cell_type": "markdown",
   "id": "2a46129e-4c11-470f-9593-95f75d9b70a5",
   "metadata": {},
   "source": [
    "## Visualizar Landsat"
   ]
  },
  {
   "cell_type": "code",
   "execution_count": 38,
   "id": "9e795000-3216-44dd-9d2e-8652a5aa0e18",
   "metadata": {},
   "outputs": [],
   "source": [
    "# Simbologia estala 1 - 65455\n",
    "viz_RS = {\n",
    "    'bands': ['SR_B6', 'SR_B5', 'SR_B4'],\n",
    "    'min': 100,\n",
    "    'max': 25000,\n",
    "    'gamma': 0.5\n",
    "}"
   ]
  },
  {
   "cell_type": "code",
   "execution_count": 39,
   "id": "18794940-efee-47d8-a35c-feef61a256c1",
   "metadata": {},
   "outputs": [],
   "source": [
    "# Importar geemap\n",
    "import geemap\n",
    "Map = geemap.Map(basemap='ESRI')"
   ]
  },
  {
   "cell_type": "code",
   "execution_count": 40,
   "id": "a5113f53-1f24-497c-a517-55b011f61da7",
   "metadata": {},
   "outputs": [],
   "source": [
    "# Convertir en Geometria\n",
    "geometria = ee_zona.geometry()\n",
    "Map.centerObject(geometria, 8)"
   ]
  },
  {
   "cell_type": "code",
   "execution_count": 41,
   "id": "e1bf0774-e41e-4894-ba04-6668cf6d6bcb",
   "metadata": {},
   "outputs": [
    {
     "data": {
      "application/vnd.jupyter.widget-view+json": {
       "model_id": "caab103f8dba4eb9b8dadd55f7560964",
       "version_major": 2,
       "version_minor": 0
      },
      "text/plain": [
       "Map(center=[-12.908744902436744, -69.9947155021359], controls=(WidgetControl(options=['position', 'transparent…"
      ]
     },
     "metadata": {},
     "output_type": "display_data"
    }
   ],
   "source": [
    "# Visualizar ESCALADO 1 - 65455\n",
    "Map.addLayer(img_L8_RS, viz_RS, name = \"Landsat8 RS\")\n",
    "Map"
   ]
  },
  {
   "cell_type": "markdown",
   "id": "a09282d7-7df7-4808-baf6-36cbedc5161c",
   "metadata": {},
   "source": [
    "## Factor de escala Reflectancia Superficie"
   ]
  },
  {
   "cell_type": "code",
   "execution_count": 42,
   "id": "78f691d1-f326-44d4-88cf-3e38e2bf9dd8",
   "metadata": {},
   "outputs": [],
   "source": [
    "# Escalar la imagen Landsat 8 RS 0 - 1\n",
    "img_L8_RS_Es = img_L8_RS.multiply(0.0000275).add(-0.2)"
   ]
  },
  {
   "cell_type": "code",
   "execution_count": 43,
   "id": "8c1df10f-937d-426d-a6c2-ab2c02ac84cb",
   "metadata": {},
   "outputs": [],
   "source": [
    "# Simbologia estala 0 - 1\n",
    "viz_es = {\n",
    "    'bands': ['SR_B6', 'SR_B5', 'SR_B4'],\n",
    "    'min': 0.1,\n",
    "    'max': 0.6,\n",
    "    'gamma': 1.6\n",
    "}"
   ]
  },
  {
   "cell_type": "code",
   "execution_count": 44,
   "id": "a8577911-9a2b-4fda-a6d7-a6d65a253d55",
   "metadata": {},
   "outputs": [
    {
     "data": {
      "application/vnd.jupyter.widget-view+json": {
       "model_id": "caab103f8dba4eb9b8dadd55f7560964",
       "version_major": 2,
       "version_minor": 0
      },
      "text/plain": [
       "Map(bottom=70898.09094238281, center=[-13.768973757679376, -71.38581507985927], controls=(WidgetControl(option…"
      ]
     },
     "metadata": {},
     "output_type": "display_data"
    }
   ],
   "source": [
    "# Visualizar ESCALADO 0 - 1\n",
    "Map.addLayer(img_L8_RS_Es, viz_es, name = \"Landsat8 RS Escalado\")\n",
    "Map"
   ]
  },
  {
   "cell_type": "markdown",
   "id": "e10bdbe7-16ca-4a4e-921c-39fcb03b813e",
   "metadata": {},
   "source": [
    "## Factor de escala Temperatura Brillo"
   ]
  },
  {
   "cell_type": "code",
   "execution_count": 45,
   "id": "d6ed901e-9ef5-4a87-97c2-41154020b9f1",
   "metadata": {},
   "outputs": [],
   "source": [
    "# Escalar la imagen Landsat 8 Temperatura de superficial\n",
    "img_L8_TB_Es = img_L8_TB.multiply(0.00341802).add(149)"
   ]
  },
  {
   "cell_type": "code",
   "execution_count": 46,
   "id": "071986d7-12a9-43de-a06b-f0b1d569e62a",
   "metadata": {},
   "outputs": [],
   "source": [
    "# Escalar la imagen Landsat 8 TB convertir Kelvin a Celsius\n",
    "img_L8_TB_Es = img_L8_TB_Es.subtract(273.15)"
   ]
  },
  {
   "cell_type": "code",
   "execution_count": 47,
   "id": "1e03158d-035f-42e8-9967-5190f6158f6c",
   "metadata": {},
   "outputs": [],
   "source": [
    "# Crear su simbologia TB\n",
    "viz_tb = {\n",
    "    'palette': ['040274', '040281', '0502a3', '0502b8', '0502ce', '0502e6',\n",
    "                '0602ff', '235cb1', '307ef3', '269db1', '30c8e2', '32d3ef',\n",
    "                '3be285', '3ff38f', '86e26f', '3ae237', 'b5e22e', 'd6e21f',\n",
    "                'fff705', 'ffd611', 'ffb613', 'ff8b13', 'ff6e08', 'ff500d',\n",
    "                'ff0000', 'de0101', 'c21301', 'a71001', '911003'],\n",
    "    'min': 25,\n",
    "    'max': 30\n",
    "}"
   ]
  },
  {
   "cell_type": "code",
   "execution_count": 48,
   "id": "3786ea2f-1d59-4ae5-8f66-78b1bd10eab8",
   "metadata": {},
   "outputs": [
    {
     "data": {
      "application/vnd.jupyter.widget-view+json": {
       "model_id": "caab103f8dba4eb9b8dadd55f7560964",
       "version_major": 2,
       "version_minor": 0
      },
      "text/plain": [
       "Map(bottom=35474.2727355957, center=[-13.100879969526476, -70.21087646484376], controls=(WidgetControl(options…"
      ]
     },
     "metadata": {},
     "output_type": "display_data"
    }
   ],
   "source": [
    "# Visualizacion temperatura brillo\n",
    "Map.addLayer(img_L8_TB_Es, viz_tb, name = \"TB Celsius\")\n",
    "Map"
   ]
  },
  {
   "cell_type": "markdown",
   "id": "4531f810-ff95-46fa-9736-07f960fefff7",
   "metadata": {},
   "source": [
    "## Reproyectar y recortar segun zona"
   ]
  },
  {
   "cell_type": "code",
   "execution_count": 53,
   "id": "478aace2-3be4-44a0-81ea-4535f31a987c",
   "metadata": {},
   "outputs": [],
   "source": [
    "# Reproyectar segun zona de estudio\n",
    "img_L8_TB_Es = img_L8_TB_Es.reproject(crs=\"EPSG:32719\", scale=30)\n",
    "img_L8_RS_Es = img_L8_RS_Es.reproject(crs=\"EPSG:32719\", scale=30)"
   ]
  },
  {
   "cell_type": "code",
   "execution_count": 54,
   "id": "0ef48f11-52ad-4432-86da-911a1a8e76bf",
   "metadata": {},
   "outputs": [],
   "source": [
    "# Recortar RS y TB\n",
    "img_L8_TB_Es_clip = img_L8_TB_Es.clip(ee_zona)\n",
    "img_L8_RS_Es_clip = img_L8_RS_Es.clip(ee_zona)"
   ]
  },
  {
   "cell_type": "code",
   "execution_count": 55,
   "id": "331b5b1f-d12b-4e62-aa9c-daa684ccd041",
   "metadata": {},
   "outputs": [
    {
     "name": "stdout",
     "output_type": "stream",
     "text": [
      "Proyeccion TB: {'type': 'Projection', 'crs': 'EPSG:32719', 'transform': [30, 0, 0, 0, -30, 0]}\n",
      "Proyeccion RS: {'type': 'Projection', 'crs': 'EPSG:32719', 'transform': [30, 0, 0, 0, -30, 0]}\n"
     ]
    }
   ],
   "source": [
    "# Consultar Proyeccion\n",
    "print(\"Proyeccion TB:\",img_L8_TB_Es_clip.projection().getInfo())\n",
    "print(\"Proyeccion RS:\",img_L8_RS_Es_clip.projection().getInfo())"
   ]
  },
  {
   "cell_type": "code",
   "execution_count": 56,
   "id": "1d57372c-68b4-4617-8bc4-1be275ca4590",
   "metadata": {},
   "outputs": [
    {
     "data": {
      "text/plain": [
       "['SR_B1', 'SR_B2', 'SR_B3', 'SR_B4', 'SR_B5', 'SR_B6', 'SR_B7']"
      ]
     },
     "execution_count": 56,
     "metadata": {},
     "output_type": "execute_result"
    }
   ],
   "source": [
    "img_L8_RS_Es_clip.bandNames().getInfo()"
   ]
  },
  {
   "cell_type": "code",
   "execution_count": 57,
   "id": "6e178b38-9730-46e6-837d-a22eee918409",
   "metadata": {},
   "outputs": [
    {
     "data": {
      "application/vnd.jupyter.widget-view+json": {
       "model_id": "caab103f8dba4eb9b8dadd55f7560964",
       "version_major": 2,
       "version_minor": 0
      },
      "text/plain": [
       "Map(bottom=35471.0, center=[-13.08482887454732, -70.88653564453126], controls=(WidgetControl(options=['positio…"
      ]
     },
     "metadata": {},
     "output_type": "display_data"
    }
   ],
   "source": [
    "# Visualizacion TB y RS\n",
    "Map.addLayer(img_L8_TB_Es_clip, viz_tb,name = \"L8 TB clip\")\n",
    "Map.addLayer(img_L8_RS_Es_clip, viz_es,name = \"L8 RS clip\")\n",
    "Map"
   ]
  },
  {
   "cell_type": "markdown",
   "id": "07f3b537-908e-4957-8ded-5b3b18e1264b",
   "metadata": {},
   "source": [
    "## Exportar Imagen calibrado"
   ]
  },
  {
   "cell_type": "code",
   "execution_count": 58,
   "id": "5b53554f-dca0-4fa4-87ff-79dafa8d003e",
   "metadata": {},
   "outputs": [
    {
     "data": {
      "text/plain": [
       "'E:\\\\Teledeteccion_GEE\\\\Python\\\\Datos_Espaciales\\\\Resultado_GEE'"
      ]
     },
     "execution_count": 58,
     "metadata": {},
     "output_type": "execute_result"
    }
   ],
   "source": [
    "os.getcwd()"
   ]
  },
  {
   "cell_type": "code",
   "execution_count": 59,
   "id": "d2f27961-f1fb-43be-8044-04e8982fd587",
   "metadata": {},
   "outputs": [
    {
     "name": "stdout",
     "output_type": "stream",
     "text": [
      "Generating URL ...\n",
      "Downloading data from https://earthengine.googleapis.com/v1alpha/projects/earthengine-legacy/thumbnails/d740c81b7d6c839175062892966540f3-fac98b205a8b8ff5c865cd6a87a794da:getPixels\n",
      "Please wait ...\n",
      "Data downloaded to E:\\Teledeteccion_GEE\\Python\\Datos_Espaciales\\Resultado_GEE\\L8_TB_es_clip_B10.tif\n"
     ]
    }
   ],
   "source": [
    "# Exportar imagen Temperatura de brillo TB10\n",
    "geemap.ee_export_image(img_L8_TB_Es_clip, filename=\"L8_TB_es_clip_B10.tif\", scale=30, region=geometria, file_per_band=False)"
   ]
  },
  {
   "cell_type": "code",
   "execution_count": 60,
   "id": "c801c0e9-a2b3-41b7-ad74-bbf1ac6c1a9e",
   "metadata": {},
   "outputs": [
    {
     "name": "stdout",
     "output_type": "stream",
     "text": [
      "Generating URL ...\n",
      "Downloading data from https://earthengine.googleapis.com/v1alpha/projects/earthengine-legacy/thumbnails/df7fe2c337845e69c3821bdb9098c1a4-158a7e8e40de4cfd86d682a809ca5c77:getPixels\n",
      "Please wait ...\n",
      "Data downloaded to E:\\Teledeteccion_GEE\\Python\\Datos_Espaciales\\Resultado_GEE\\L8_RS_Es_clip_B654_coleccion2.tif\n"
     ]
    }
   ],
   "source": [
    "# Exportar imagen Reflectancia superficie B654\n",
    "geemap.ee_export_image(img_L8_RS_Es_clip.select(['SR_B6', 'SR_B5', 'SR_B4']), filename=\"L8_RS_Es_clip_B654_coleccion2.tif\", scale=30, region=geometria, file_per_band=False)"
   ]
  },
  {
   "cell_type": "code",
   "execution_count": 61,
   "id": "f6b93b31-1379-4ded-8f96-c6982563c864",
   "metadata": {},
   "outputs": [
    {
     "name": "stdout",
     "output_type": "stream",
     "text": [
      "Exporting L8_RS_Es_clip_collecion2 ...\n"
     ]
    }
   ],
   "source": [
    "# Exportar en google drive\n",
    "geemap.ee_export_image_to_drive(img_L8_RS_Es_clip, description='L8_RS_Es_clip_collecion2', folder='GEE_Python', region=geometria, scale=30)"
   ]
  }
 ],
 "metadata": {
  "kernelspec": {
   "display_name": "Python 3",
   "language": "python",
   "name": "python3"
  },
  "language_info": {
   "codemirror_mode": {
    "name": "ipython",
    "version": 3
   },
   "file_extension": ".py",
   "mimetype": "text/x-python",
   "name": "python",
   "nbconvert_exporter": "python",
   "pygments_lexer": "ipython3",
   "version": "3.7.10"
  }
 },
 "nbformat": 4,
 "nbformat_minor": 5
}
