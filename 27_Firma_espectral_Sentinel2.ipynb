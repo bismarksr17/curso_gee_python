{
 "cells": [
  {
   "cell_type": "markdown",
   "id": "6b40e69b-b105-4fb7-b577-a43510a94d04",
   "metadata": {},
   "source": [
    "# Firma espectral Sentinel2 Google Earth Engine "
   ]
  },
  {
   "cell_type": "code",
   "execution_count": 1,
   "id": "bf6e6860-2c9a-4249-ab96-a4cef9574cf9",
   "metadata": {},
   "outputs": [],
   "source": [
    "# Importar paquete GEE\n",
    "import ee\n",
    "ee.Initialize()"
   ]
  },
  {
   "cell_type": "code",
   "execution_count": 2,
   "id": "b40ddf89-46cb-4e9e-be01-dc83bbe45c0c",
   "metadata": {},
   "outputs": [],
   "source": [
    "# Seleccionar una imagen Sentinel-2\n",
    "# S2A_MSIL2A_20210703T145731_N0301_R039_T19LCF_20210706T150706\n",
    "img_S2 = ee.Image(\"COPERNICUS/S2_SR/20190808T145729_20190808T145732_T19LCF\")\\\n",
    "                  .select([\"B1\",\"B2\",\"B3\",\"B4\",\"B5\",\"B6\",\"B7\",\"B8\",\"B9\",\"B11\",\"B12\"])\\\n",
    "                  .multiply(0.0001)"
   ]
  },
  {
   "cell_type": "code",
   "execution_count": 3,
   "id": "ae3290e4-9d53-49e1-af22-3667f4c123c0",
   "metadata": {},
   "outputs": [
    {
     "name": "stdout",
     "output_type": "stream",
     "text": [
      "Bandas: ['B1', 'B2', 'B3', 'B4', 'B5', 'B6', 'B7', 'B8', 'B9', 'B11', 'B12']\n"
     ]
    }
   ],
   "source": [
    "# Nombre de las bandas\n",
    "print(\"Bandas:\", img_S2.bandNames().getInfo())"
   ]
  },
  {
   "cell_type": "code",
   "execution_count": 4,
   "id": "d3243fcc-3a04-411e-bde1-3d59b1657e72",
   "metadata": {},
   "outputs": [
    {
     "name": "stdout",
     "output_type": "stream",
     "text": [
      "Proyeccion RS: {'type': 'Projection', 'crs': 'EPSG:32719', 'transform': [60, 0, 300000, 0, -60, 8600020]}\n"
     ]
    }
   ],
   "source": [
    "# Consultar Proyeccion\n",
    "print(\"Proyeccion RS:\",img_S2.select([\"B1\"]).projection().getInfo())"
   ]
  },
  {
   "cell_type": "code",
   "execution_count": 5,
   "id": "587ccc24-7eb3-4799-8095-88330b411fe3",
   "metadata": {},
   "outputs": [],
   "source": [
    "# Simbologia escala 0 - 1\n",
    "viz_s2_es = {\n",
    "    'bands': ['B11', 'B8', 'B2'],\n",
    "    'min': 0.05,\n",
    "    'max': 0.6,\n",
    "    'gamma': 1.6\n",
    "}"
   ]
  },
  {
   "cell_type": "code",
   "execution_count": 6,
   "id": "ac2a4050-ccc3-42ad-8109-1e59816c04c7",
   "metadata": {},
   "outputs": [],
   "source": [
    "# Importar geemap\n",
    "import geemap\n",
    "Map = geemap.Map(basemap='SATELLITE')"
   ]
  },
  {
   "cell_type": "code",
   "execution_count": 7,
   "id": "92c8ef51-d17b-4b9a-99f9-e880d297c577",
   "metadata": {},
   "outputs": [],
   "source": [
    "# Convertir en Geometria\n",
    "geometria = img_S2.geometry()\n",
    "Map.centerObject(geometria, 9)"
   ]
  },
  {
   "cell_type": "code",
   "execution_count": 8,
   "id": "672c4272-d05b-425c-8a65-acba1a0d1c89",
   "metadata": {},
   "outputs": [
    {
     "data": {
      "application/vnd.jupyter.widget-view+json": {
       "model_id": "067354eda7974ee98f98aa34c83f166d",
       "version_major": 2,
       "version_minor": 0
      },
      "text/plain": [
       "Map(center=[-13.156951262084085, -70.33872232897389], controls=(WidgetControl(options=['position', 'transparen…"
      ]
     },
     "metadata": {},
     "output_type": "display_data"
    }
   ],
   "source": [
    "# Visualizar ESCALADO 0 - 1 y realizar Firma espectral\n",
    "Map.addLayer(img_S2, viz_s2_es,name = \"Sentinel-2 RS\")\n",
    "Map"
   ]
  },
  {
   "cell_type": "code",
   "execution_count": null,
   "id": "0925ad2d-63af-4df7-8da1-c552d3398141",
   "metadata": {},
   "outputs": [],
   "source": []
  }
 ],
 "metadata": {
  "kernelspec": {
   "display_name": "Python 3",
   "language": "python",
   "name": "python3"
  },
  "language_info": {
   "codemirror_mode": {
    "name": "ipython",
    "version": 3
   },
   "file_extension": ".py",
   "mimetype": "text/x-python",
   "name": "python",
   "nbconvert_exporter": "python",
   "pygments_lexer": "ipython3",
   "version": "3.7.10"
  }
 },
 "nbformat": 4,
 "nbformat_minor": 5
}
