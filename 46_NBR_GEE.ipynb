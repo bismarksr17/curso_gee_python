{
 "cells": [
  {
   "cell_type": "markdown",
   "id": "7d63850e-6023-423f-b7bd-d12690f02a7a",
   "metadata": {},
   "source": [
    "# Indice espectrales NBR en GEE"
   ]
  },
  {
   "cell_type": "code",
   "execution_count": 1,
   "id": "3a34ea5b-c474-4306-bd70-86153a7c1c12",
   "metadata": {},
   "outputs": [],
   "source": [
    "# Importar paquete GEE\n",
    "import ee\n",
    "ee.Initialize()"
   ]
  },
  {
   "cell_type": "markdown",
   "id": "aa64c695-f132-41a5-8c09-7b4d6577b341",
   "metadata": {},
   "source": [
    "## Filtro zona estudio GEE"
   ]
  },
  {
   "cell_type": "code",
   "execution_count": 2,
   "id": "5fce995d-8fb6-4b15-ae11-7c39962a86c7",
   "metadata": {},
   "outputs": [],
   "source": [
    "# Agregar un shp GEE\n",
    "zona_ee = ee.FeatureCollection(\"users/bravomoralesnino/SHP/ZONA_19S\")"
   ]
  },
  {
   "cell_type": "code",
   "execution_count": 3,
   "id": "b93a2552-9153-4687-a4c3-cf0c82f83dd2",
   "metadata": {},
   "outputs": [],
   "source": [
    "# Importar geemap\n",
    "import geemap\n",
    "Map = geemap.Map(basemap='ESRI')"
   ]
  },
  {
   "cell_type": "code",
   "execution_count": 4,
   "id": "57db081f-f11e-42cd-afb2-5a5aec9597f2",
   "metadata": {},
   "outputs": [],
   "source": [
    "geometria = zona_ee.geometry()\n",
    "Map.centerObject(geometria, 11)"
   ]
  },
  {
   "cell_type": "code",
   "execution_count": 5,
   "id": "b00253f7-697b-44c6-a620-800f19431a2d",
   "metadata": {},
   "outputs": [
    {
     "data": {
      "application/vnd.jupyter.widget-view+json": {
       "model_id": "4ed4bd2d13984440a05cc17365b6ffef",
       "version_major": 2,
       "version_minor": 0
      },
      "text/plain": [
       "Map(center=[-12.908744902436744, -69.9947155021359], controls=(WidgetControl(options=['position', 'transparent…"
      ]
     },
     "metadata": {},
     "output_type": "display_data"
    }
   ],
   "source": [
    "Map.addLayer(zona_ee, {\"color\" : \"00FF11\"}, name = \"Zona\")\n",
    "Map"
   ]
  },
  {
   "cell_type": "markdown",
   "id": "808f6a5e-d40a-4091-b51c-1e08e0d2aef8",
   "metadata": {},
   "source": [
    "## Seleccionar imagenes Landsat RS"
   ]
  },
  {
   "cell_type": "code",
   "execution_count": 6,
   "id": "e7b96f8e-5e4c-4436-a2ff-de5540b7bbe2",
   "metadata": {},
   "outputs": [],
   "source": [
    "# Seleccionar una imagen Landsat8\n",
    "img_L8 = ee.Image(\"LANDSAT/LC08/C01/T1_SR/LC08_003069_20190808\")\\\n",
    "                  .select([\"B2\",\"B3\",\"B4\",\"B5\",\"B6\",\"B7\"],\n",
    "                          ['BLUE', 'GREEN', 'RED', 'NIR', 'SWIR1', 'SWIR2'])\\\n",
    "                  .multiply(0.0001)\\\n",
    "                  .reproject(crs = \"EPSG:32719\", scale = 30)\\\n",
    "                  .clip(zona_ee)"
   ]
  },
  {
   "cell_type": "code",
   "execution_count": 7,
   "id": "b9636267-8e7e-46f0-bc5b-548949074f62",
   "metadata": {},
   "outputs": [],
   "source": [
    "# Seleccionar una imagen Sentinel2\n",
    "img_S2 = ee.Image(\"COPERNICUS/S2_SR/20190808T145729_20190808T145732_T19LCF\")\\\n",
    "                  .select(['B2', 'B3', 'B4', 'B8', 'B11', 'B12'],\n",
    "                          ['BLUE', 'GREEN', 'RED', 'NIR', 'SWIR1', 'SWIR2'])\\\n",
    "                  .multiply(0.0001)\\\n",
    "                  .clip(zona_ee)"
   ]
  },
  {
   "cell_type": "markdown",
   "id": "47eb9f26-26bb-40b8-81e0-1ca3b9328ab1",
   "metadata": {},
   "source": [
    "## Consultar nombre bandas y proyección"
   ]
  },
  {
   "cell_type": "code",
   "execution_count": 8,
   "id": "f82458e0-93e0-4412-a9a4-11bc4118a979",
   "metadata": {},
   "outputs": [
    {
     "name": "stdout",
     "output_type": "stream",
     "text": [
      "Nombre bandas L8:  ['BLUE', 'GREEN', 'RED', 'NIR', 'SWIR1', 'SWIR2']\n",
      "Nombre bandas S2:  ['BLUE', 'GREEN', 'RED', 'NIR', 'SWIR1', 'SWIR2']\n"
     ]
    }
   ],
   "source": [
    "# Nombre de las bandas\n",
    "print(\"Nombre bandas L8: \",img_L8.bandNames().getInfo())\n",
    "print(\"Nombre bandas S2: \",img_S2.bandNames().getInfo())"
   ]
  },
  {
   "cell_type": "code",
   "execution_count": 9,
   "id": "f9a66d8e-ef28-4c33-aebb-2faa395211ce",
   "metadata": {},
   "outputs": [
    {
     "name": "stdout",
     "output_type": "stream",
     "text": [
      "Proyeccion L8:  {'type': 'Projection', 'crs': 'EPSG:32719', 'transform': [30, 0, 0, 0, -30, 0]}\n",
      "Proyeccion S2:  {'type': 'Projection', 'crs': 'EPSG:32719', 'transform': [10, 0, 300000, 0, -10, 8600020]}\n"
     ]
    }
   ],
   "source": [
    "# Consultar Proyeccion\n",
    "print(\"Proyeccion L8: \",img_L8.projection().getInfo())\n",
    "print(\"Proyeccion S2: \",img_S2.select(['BLUE']).projection().getInfo())"
   ]
  },
  {
   "cell_type": "code",
   "execution_count": 10,
   "id": "f2499862-6fae-4523-ad21-5ea3a14ffc4d",
   "metadata": {},
   "outputs": [],
   "source": [
    "# Simbologia escala 0 - 1\n",
    "viz_es = {\n",
    "    'bands': ['SWIR1','NIR','RED'],\n",
    "    'min': 0.1,\n",
    "    'max': 0.6,\n",
    "    'gamma': 1.6\n",
    "}"
   ]
  },
  {
   "cell_type": "code",
   "execution_count": 11,
   "id": "11aaf87b-1457-46d6-84ba-f0d9510c77aa",
   "metadata": {},
   "outputs": [
    {
     "data": {
      "application/vnd.jupyter.widget-view+json": {
       "model_id": "4ed4bd2d13984440a05cc17365b6ffef",
       "version_major": 2,
       "version_minor": 0
      },
      "text/plain": [
       "Map(bottom=281405.0, center=[-12.908744902436744, -69.9947155021359], controls=(WidgetControl(options=['positi…"
      ]
     },
     "metadata": {},
     "output_type": "display_data"
    }
   ],
   "source": [
    "# Visualizar \n",
    "Map.addLayer(img_L8, viz_es, name = \"Landsat8 RS\")\n",
    "Map.addLayer(img_S2, viz_es, name = \"Sentinel2 RS\")\n",
    "Map"
   ]
  },
  {
   "cell_type": "markdown",
   "id": "5600f8a1-0c25-4c8f-aa56-04bf9e61d9f7",
   "metadata": {},
   "source": [
    "## Determinar NBR"
   ]
  },
  {
   "cell_type": "code",
   "execution_count": 12,
   "id": "748c5da0-ef5c-4c9d-a484-3a397a751918",
   "metadata": {},
   "outputs": [],
   "source": [
    "# Funcion para NBR\n",
    "def Calc_NBR(image):\n",
    "    nbr = image.expression(\"float(nir - swir2)/(nir + swir2)\", {\n",
    "        'nir': image.select('NIR'),\n",
    "        'swir2': image.select('SWIR2')\n",
    "    })\n",
    "    return nbr.rename(\"NBR\")"
   ]
  },
  {
   "cell_type": "code",
   "execution_count": 13,
   "id": "4e73845f-ccee-471d-b0f1-767d1e5a79f6",
   "metadata": {},
   "outputs": [],
   "source": [
    "# Calcular indices con funcion\n",
    "nbr_L8 = Calc_NBR(img_L8)\n",
    "nbr_S2 = Calc_NBR(img_S2)"
   ]
  },
  {
   "cell_type": "code",
   "execution_count": 14,
   "id": "c787223f-aedb-452b-a003-bc8da5c03a27",
   "metadata": {},
   "outputs": [],
   "source": [
    "# Simbologia de NBR\n",
    "viz_nbr = {\n",
    "    'palette': [\"#66FF66\",\"#FF99FF\",\"#66FFFF\",\"#FFFF99\",\n",
    "                \"#FF9966\",\"#FF6600\",\"#FF0000\"],\n",
    "    'min': -0.4,\n",
    "    'max': 0.8,\n",
    "    'bands': \"NBR\"\n",
    "}"
   ]
  },
  {
   "cell_type": "code",
   "execution_count": 15,
   "id": "73b12eaf-56d5-4289-81d9-d7c419aff908",
   "metadata": {},
   "outputs": [
    {
     "data": {
      "application/vnd.jupyter.widget-view+json": {
       "model_id": "4ed4bd2d13984440a05cc17365b6ffef",
       "version_major": 2,
       "version_minor": 0
      },
      "text/plain": [
       "Map(bottom=562519.4000244141, center=[-12.91187919521466, -70.03389358520509], controls=(WidgetControl(options…"
      ]
     },
     "metadata": {},
     "output_type": "display_data"
    }
   ],
   "source": [
    "# Visualizar \n",
    "Map.addLayer(nbr_L8, viz_nbr, name = \"Landsat8 NBR\")\n",
    "Map.addLayer(nbr_S2, viz_nbr, name = \"Sentinel2 NBR\")\n",
    "Map"
   ]
  },
  {
   "cell_type": "markdown",
   "id": "58737e4b-2628-42a1-a417-9d3774818575",
   "metadata": {},
   "source": [
    "## Exportar Imagen"
   ]
  },
  {
   "cell_type": "code",
   "execution_count": 16,
   "id": "91999544-3090-4d9a-9eb8-a6f13a15b953",
   "metadata": {},
   "outputs": [
    {
     "data": {
      "text/plain": [
       "'C:\\\\Users\\\\GEOMATICA\\\\Teledeteccion_Python\\\\GEE'"
      ]
     },
     "execution_count": 16,
     "metadata": {},
     "output_type": "execute_result"
    }
   ],
   "source": [
    "import os\n",
    "os.getcwd()"
   ]
  },
  {
   "cell_type": "code",
   "execution_count": 17,
   "id": "563049c9-0e9a-4db7-be92-5ece60f97fc0",
   "metadata": {},
   "outputs": [
    {
     "data": {
      "text/plain": [
       "'E:\\\\Teledeteccion_GEE\\\\Python\\\\Datos_Espaciales\\\\Resultado_GEE'"
      ]
     },
     "execution_count": 17,
     "metadata": {},
     "output_type": "execute_result"
    }
   ],
   "source": [
    "ruta_archivos = r\"E:\\Teledeteccion_GEE\\Python\\Datos_Espaciales\\Resultado_GEE\"\n",
    "os.chdir(ruta_archivos) # Cambiar ruta trabajo\n",
    "os.getcwd() # Consultar ruta trabajo"
   ]
  },
  {
   "cell_type": "code",
   "execution_count": 18,
   "id": "3bdf9494-879a-49e6-924e-744ee6e4eac0",
   "metadata": {},
   "outputs": [
    {
     "name": "stdout",
     "output_type": "stream",
     "text": [
      "Generating URL ...\n",
      "Downloading data from https://earthengine.googleapis.com/v1alpha/projects/earthengine-legacy/thumbnails/906b756e5aa90418c5380add4ecdadfc-b4464b35efe8a396c9472bb06e6027cd:getPixels\n",
      "Please wait ...\n",
      "Data downloaded to E:\\Teledeteccion_GEE\\Python\\Datos_Espaciales\\Resultado_GEE\\nbr_L8.tif\n",
      "Generating URL ...\n",
      "An error occurred while downloading.\n",
      "Total request size (98259616 bytes) must be less than or equal to 33554432 bytes.\n"
     ]
    }
   ],
   "source": [
    "# Exportar imagen directorio\n",
    "geemap.ee_export_image(nbr_L8, filename=\"nbr_L8.tif\", scale=30, region=geometria, file_per_band=False)\n",
    "geemap.ee_export_image(nbr_S2, filename=\"nbr_S2.tif\", scale=10, region=geometria, file_per_band=False)"
   ]
  },
  {
   "cell_type": "code",
   "execution_count": 19,
   "id": "034c9c36-e4a4-4dd0-8bd9-74987f245841",
   "metadata": {},
   "outputs": [
    {
     "name": "stdout",
     "output_type": "stream",
     "text": [
      "Exporting nbr_L8 ...\n",
      "Exporting nbr_S2 ...\n"
     ]
    }
   ],
   "source": [
    "# Exportar en google drive\n",
    "geemap.ee_export_image_to_drive(nbr_L8, description='nbr_L8', folder='GEE_Python', region=geometria, scale=30)\n",
    "geemap.ee_export_image_to_drive(nbr_S2, description='nbr_S2', folder='GEE_Python', region=geometria, scale=10)"
   ]
  },
  {
   "cell_type": "code",
   "execution_count": null,
   "id": "6c34e7da-9b54-47b7-89fd-1ef63d90a1a3",
   "metadata": {},
   "outputs": [],
   "source": []
  }
 ],
 "metadata": {
  "kernelspec": {
   "display_name": "Python 3",
   "language": "python",
   "name": "python3"
  },
  "language_info": {
   "codemirror_mode": {
    "name": "ipython",
    "version": 3
   },
   "file_extension": ".py",
   "mimetype": "text/x-python",
   "name": "python",
   "nbconvert_exporter": "python",
   "pygments_lexer": "ipython3",
   "version": "3.7.10"
  }
 },
 "nbformat": 4,
 "nbformat_minor": 5
}
