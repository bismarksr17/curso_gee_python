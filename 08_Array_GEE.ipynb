{
 "cells": [
  {
   "cell_type": "markdown",
   "id": "818eb5db-94ea-40d4-bd5f-94037887d80d",
   "metadata": {},
   "source": [
    "# Tipo datos Array Google Earth Engine"
   ]
  },
  {
   "cell_type": "markdown",
   "id": "3185d570-8621-432b-b7e5-45e5abdbd4f7",
   "metadata": {},
   "source": [
    "Información de datos Array GEE: https://developers.google.com/earth-engine/apidocs/ee-array\n"
   ]
  },
  {
   "cell_type": "code",
   "execution_count": 1,
   "id": "04c608a5-6f99-4576-8968-83871b590ba7",
   "metadata": {},
   "outputs": [],
   "source": [
    "# Importar paquete GEE\n",
    "import ee\n",
    "ee.Initialize()"
   ]
  },
  {
   "cell_type": "markdown",
   "id": "e6f0b9ec-c333-4f76-a7ea-03aeb10503de",
   "metadata": {},
   "source": [
    "## Crear Array GEE"
   ]
  },
  {
   "cell_type": "code",
   "execution_count": 2,
   "id": "20d1810b-4495-4c9c-8c70-ee5c8797018d",
   "metadata": {
    "tags": []
   },
   "outputs": [
    {
     "data": {
      "text/plain": [
       "[-5, -3, -1, 1, 3, 5, 7, 9]"
      ]
     },
     "execution_count": 2,
     "metadata": {},
     "output_type": "execute_result"
    }
   ],
   "source": [
    "# Crear una lista en GEE\n",
    "List_ee = ee.List.sequence(-5, 10, 2)\n",
    "List_ee.getInfo()"
   ]
  },
  {
   "cell_type": "code",
   "execution_count": 3,
   "id": "e664bee1-c373-4cf5-93c7-ff6657d39d4e",
   "metadata": {},
   "outputs": [
    {
     "data": {
      "text/plain": [
       "ee.ee_list.List"
      ]
     },
     "execution_count": 3,
     "metadata": {},
     "output_type": "execute_result"
    }
   ],
   "source": [
    "type(List_ee)"
   ]
  },
  {
   "cell_type": "code",
   "execution_count": 3,
   "id": "37f6b008-f6e5-4a8e-8d0d-f3e41fdbf633",
   "metadata": {},
   "outputs": [
    {
     "data": {
      "text/plain": [
       "[-5, -3, -1, 1, 3, 5, 7, 9]"
      ]
     },
     "execution_count": 3,
     "metadata": {},
     "output_type": "execute_result"
    }
   ],
   "source": [
    "# Convertir de lista a Array\n",
    "array1 = ee.Array(List_ee)\n",
    "array1.getInfo()"
   ]
  },
  {
   "cell_type": "code",
   "execution_count": 4,
   "id": "bcfce0c6-ac1d-41ca-abff-7b4639775aed",
   "metadata": {},
   "outputs": [
    {
     "data": {
      "text/plain": [
       "ee.Array"
      ]
     },
     "execution_count": 4,
     "metadata": {},
     "output_type": "execute_result"
    }
   ],
   "source": [
    "type(array1)"
   ]
  },
  {
   "cell_type": "markdown",
   "id": "6734d74a-0f6d-4d4e-a886-133a903ae7a9",
   "metadata": {},
   "source": [
    "## Operación matemática"
   ]
  },
  {
   "cell_type": "markdown",
   "id": "4e76933d-5753-416f-8af4-bb9b3713d80c",
   "metadata": {},
   "source": [
    "### Convertir array valores absoluto"
   ]
  },
  {
   "cell_type": "code",
   "execution_count": 5,
   "id": "529da79b-7594-4e2b-85a0-53fb25369376",
   "metadata": {},
   "outputs": [
    {
     "data": {
      "text/plain": [
       "[5, 3, 1, 1, 3, 5, 7, 9]"
      ]
     },
     "execution_count": 5,
     "metadata": {},
     "output_type": "execute_result"
    }
   ],
   "source": [
    "# Convertir array a valores absoluto\n",
    "array2 = array1.abs()\n",
    "array2.getInfo()"
   ]
  },
  {
   "cell_type": "markdown",
   "id": "20d6bd0f-8445-4d43-961c-38e5fee180fa",
   "metadata": {},
   "source": [
    "### Operación suma"
   ]
  },
  {
   "cell_type": "code",
   "execution_count": 6,
   "id": "319bcead-55c4-49c3-a8af-9ffa4567bad2",
   "metadata": {},
   "outputs": [
    {
     "name": "stdout",
     "output_type": "stream",
     "text": [
      "Array1: [-5, -3, -1, 1, 3, 5, 7, 9]\n",
      "Array3: [-2, 0, 2, 4, 6, 8, 10, 12]\n"
     ]
    }
   ],
   "source": [
    "# Operacion de suma\n",
    "array3 = array1.add(3)\n",
    "print(\"Array1:\",array1.getInfo())\n",
    "print(\"Array3:\",array3.getInfo())"
   ]
  },
  {
   "cell_type": "markdown",
   "id": "f035b23e-435f-47cb-80fd-e78e4ba0d2f9",
   "metadata": {},
   "source": [
    "### Operación resta"
   ]
  },
  {
   "cell_type": "code",
   "execution_count": 7,
   "id": "a1f32a1f-be60-4cd9-b3cf-3b91a1b06b02",
   "metadata": {},
   "outputs": [
    {
     "name": "stdout",
     "output_type": "stream",
     "text": [
      "Array1: [-5, -3, -1, 1, 3, 5, 7, 9]\n",
      "Array3: [-8, -6, -4, -2, 0, 2, 4, 6]\n"
     ]
    }
   ],
   "source": [
    "# Operacion de resta\n",
    "array4 = array1.subtract(3)\n",
    "print(\"Array1:\",array1.getInfo())\n",
    "print(\"Array4:\",array4.getInfo())"
   ]
  },
  {
   "cell_type": "markdown",
   "id": "442529d0-b974-42d6-9186-d1794d6b62a7",
   "metadata": {},
   "source": [
    "### Operación multiplicación"
   ]
  },
  {
   "cell_type": "code",
   "execution_count": 8,
   "id": "9a061414-4bc9-4d5c-9f11-b4cc87ea898d",
   "metadata": {},
   "outputs": [
    {
     "name": "stdout",
     "output_type": "stream",
     "text": [
      "Array1: [-5, -3, -1, 1, 3, 5, 7, 9]\n",
      "Array3: [-10, -6, -2, 2, 6, 10, 14, 18]\n"
     ]
    }
   ],
   "source": [
    "# Operacion multiplicacion\n",
    "array5 = array1.multiply(2)\n",
    "print(\"Array1:\",array1.getInfo())\n",
    "print(\"Array5:\",array5.getInfo())"
   ]
  },
  {
   "cell_type": "markdown",
   "id": "ba300301-5472-4c5d-bed6-8246cf81c739",
   "metadata": {},
   "source": [
    "### Operación divición"
   ]
  },
  {
   "cell_type": "code",
   "execution_count": 9,
   "id": "0082919d-fb17-44a8-8126-d73378d2b254",
   "metadata": {},
   "outputs": [
    {
     "name": "stdout",
     "output_type": "stream",
     "text": [
      "Array1: [-5, -3, -1, 1, 3, 5, 7, 9]\n",
      "Array6: [-2.5, -1.5, -0.5, 0.5, 1.5, 2.5, 3.5, 4.5]\n"
     ]
    }
   ],
   "source": [
    "# Operacion divide\n",
    "array6 = array1.divide(2)\n",
    "print(\"Array1:\",array1.getInfo())\n",
    "print(\"Array6:\",array6.getInfo())"
   ]
  },
  {
   "cell_type": "markdown",
   "id": "d4a18fc8-dd68-4de0-885d-070ffb155a45",
   "metadata": {},
   "source": [
    "### Concatenar Array"
   ]
  },
  {
   "cell_type": "code",
   "execution_count": 10,
   "id": "1e98e785-6505-4fae-a6fe-ec9d80667883",
   "metadata": {},
   "outputs": [
    {
     "data": {
      "text/plain": [
       "[-10, -6, -2, 2, 6, 10, 14, 18, -2.5, -1.5, -0.5, 0.5, 1.5, 2.5, 3.5, 4.5]"
      ]
     },
     "execution_count": 10,
     "metadata": {},
     "output_type": "execute_result"
    }
   ],
   "source": [
    "array7 = ee.Array.cat([array5, array6])\n",
    "array7.getInfo()"
   ]
  },
  {
   "cell_type": "markdown",
   "id": "f193472a-4293-4d7d-bb3e-c7db117e2105",
   "metadata": {},
   "source": [
    "## Operación trigonométrica"
   ]
  },
  {
   "cell_type": "markdown",
   "id": "34dcae9c-269a-44bc-82c4-b29f34f421b9",
   "metadata": {},
   "source": [
    "### Coseno Array"
   ]
  },
  {
   "cell_type": "code",
   "execution_count": 11,
   "id": "a1794bc6-00cb-492e-9314-abda54bba28e",
   "metadata": {},
   "outputs": [],
   "source": [
    "import math"
   ]
  },
  {
   "cell_type": "code",
   "execution_count": 12,
   "id": "a75317aa-ac64-4366-86e4-41ffa1dc6c8d",
   "metadata": {},
   "outputs": [
    {
     "data": {
      "text/plain": [
       "3.141592653589793"
      ]
     },
     "execution_count": 12,
     "metadata": {},
     "output_type": "execute_result"
    }
   ],
   "source": [
    "math.pi"
   ]
  },
  {
   "cell_type": "code",
   "execution_count": 13,
   "id": "b68eeefe-e93d-4820-93e2-0fba0ae30b2a",
   "metadata": {},
   "outputs": [
    {
     "data": {
      "text/plain": [
       "-1"
      ]
     },
     "execution_count": 13,
     "metadata": {},
     "output_type": "execute_result"
    }
   ],
   "source": [
    "a = ee.Array(math.pi).cos()\n",
    "a.getInfo()"
   ]
  },
  {
   "cell_type": "markdown",
   "id": "916c7727-365d-4571-93ca-9ac1f185f497",
   "metadata": {},
   "source": [
    "### Seno Array"
   ]
  },
  {
   "cell_type": "code",
   "execution_count": 15,
   "id": "499cec74-3cb0-44f9-875c-3ccd109fd2d4",
   "metadata": {},
   "outputs": [
    {
     "data": {
      "text/plain": [
       "1"
      ]
     },
     "execution_count": 15,
     "metadata": {},
     "output_type": "execute_result"
    }
   ],
   "source": [
    "b = ee.Array(math.pi/2).sin()\n",
    "b.getInfo()"
   ]
  },
  {
   "cell_type": "markdown",
   "id": "d7a002ec-2d89-48f0-91bb-eeaebefce6e6",
   "metadata": {},
   "source": [
    "### Tangente Array"
   ]
  },
  {
   "cell_type": "code",
   "execution_count": 16,
   "id": "01daacaf-a4f8-4b28-887c-619bad0e6fb0",
   "metadata": {},
   "outputs": [
    {
     "data": {
      "text/plain": [
       "0.9999999999999999"
      ]
     },
     "execution_count": 16,
     "metadata": {},
     "output_type": "execute_result"
    }
   ],
   "source": [
    "c = ee.Array(math.pi/4).tan()\n",
    "c.getInfo()"
   ]
  },
  {
   "cell_type": "code",
   "execution_count": null,
   "id": "a255b4d9-ad43-4ae0-ab8f-ae6d6804640b",
   "metadata": {},
   "outputs": [],
   "source": []
  }
 ],
 "metadata": {
  "kernelspec": {
   "display_name": "Python 3",
   "language": "python",
   "name": "python3"
  },
  "language_info": {
   "codemirror_mode": {
    "name": "ipython",
    "version": 3
   },
   "file_extension": ".py",
   "mimetype": "text/x-python",
   "name": "python",
   "nbconvert_exporter": "python",
   "pygments_lexer": "ipython3",
   "version": "3.7.10"
  }
 },
 "nbformat": 4,
 "nbformat_minor": 5
}
