{
 "cells": [
  {
   "cell_type": "markdown",
   "id": "fcb35ef7-54a5-495f-b223-d8cd423de1ac",
   "metadata": {},
   "source": [
    "# Filtro de imagenes Landsat google Earth Engine"
   ]
  },
  {
   "cell_type": "code",
   "execution_count": 1,
   "id": "0b754516-9cef-4bb5-b73f-0a01407daf7a",
   "metadata": {},
   "outputs": [],
   "source": [
    "import ee\n",
    "ee.Initialize()"
   ]
  },
  {
   "cell_type": "markdown",
   "id": "90645b46-7dbc-417b-89f5-3489d29e61e5",
   "metadata": {},
   "source": [
    "## Coleccion Landsat"
   ]
  },
  {
   "cell_type": "code",
   "execution_count": 2,
   "id": "226666bc-3a36-4f0d-aea9-8a261c718871",
   "metadata": {},
   "outputs": [],
   "source": [
    "# Coleccion de Landsat Reflectacia de superficie\n",
    "L5 = ee.ImageCollection(\"LANDSAT/LT05/C01/T1_SR\") # Landsat 5 TM RS LANDSAT/LT05/C01/T1_SR\n",
    "L7 = ee.ImageCollection(\"LANDSAT/LE07/C01/T1_SR\") # Landsat 7 ETM RS LANDSAT/LE07/C01/T1_SR\n",
    "L8 = ee.ImageCollection(\"LANDSAT/LC08/C01/T1_SR\") # Landsat 8 OLI TIRS RS LANDSAT/LC08/C01/T1_SR\n",
    "L8_L2 = ee.ImageCollection(\"LANDSAT/LC08/C02/T1_L2\") # Landsat 8 OLI TIRS RS LEVEL 2\n",
    "L7_L2 = ee.ImageCollection(\"LANDSAT/LE07/C02/T1_L2\") # Landsat 7 ETM+ RS LEVEL 2"
   ]
  },
  {
   "cell_type": "markdown",
   "id": "bc4982ce-12b3-4815-a57c-a35a92768030",
   "metadata": {},
   "source": [
    "## Filtro Path y Row"
   ]
  },
  {
   "cell_type": "code",
   "execution_count": 3,
   "id": "bb9eb488-4eea-489e-a3c7-3e524bb1857a",
   "metadata": {},
   "outputs": [],
   "source": [
    "# Método 1\n",
    "L5_F1 = L5.filter(ee.Filter.eq('WRS_PATH', 3))\\\n",
    "          .filter(ee.Filter.eq('WRS_ROW', 69))"
   ]
  },
  {
   "cell_type": "code",
   "execution_count": 4,
   "id": "3e245c4b-fb52-42e0-ac07-902173c799fb",
   "metadata": {},
   "outputs": [],
   "source": [
    "# Método 2    \n",
    "L5_F2 = L5.filterMetadata('WRS_PATH', 'equals', 3)\\\n",
    "          .filterMetadata('WRS_ROW', 'equals', 69)\n"
   ]
  },
  {
   "cell_type": "code",
   "execution_count": 6,
   "id": "7cbcec73-1b61-4623-9a75-b6208924bbfb",
   "metadata": {},
   "outputs": [
    {
     "name": "stdout",
     "output_type": "stream",
     "text": [
      "Cantidad de imagenes: 252\n"
     ]
    }
   ],
   "source": [
    "# Conteo de imagenes\n",
    "count = L5_F2.size()\n",
    "print(\"Cantidad de imagenes:\",count.getInfo())"
   ]
  },
  {
   "cell_type": "markdown",
   "id": "568d72d7-5dd9-4299-8b85-78416f58d21e",
   "metadata": {},
   "source": [
    "## Filtro zona estudio SHP"
   ]
  },
  {
   "cell_type": "code",
   "execution_count": 7,
   "id": "babb64ac-e737-4ae4-85a2-5f97bf62b21e",
   "metadata": {},
   "outputs": [],
   "source": [
    "import os\n",
    "import glob"
   ]
  },
  {
   "cell_type": "code",
   "execution_count": 8,
   "id": "2c9fbaf8-a21d-4b19-8e03-8fea90e6395d",
   "metadata": {},
   "outputs": [
    {
     "data": {
      "text/plain": [
       "'E:\\\\Teledeteccion_GEE\\\\Python\\\\Datos_Espaciales\\\\SHP'"
      ]
     },
     "execution_count": 8,
     "metadata": {},
     "output_type": "execute_result"
    }
   ],
   "source": [
    "ruta_archivos = r\"E:\\Teledeteccion_GEE\\Python\\Datos_Espaciales\\SHP\"\n",
    "os.chdir(ruta_archivos) # Cambiar ruta trabajo\n",
    "os.getcwd() # Consultar ruta trabajo"
   ]
  },
  {
   "cell_type": "code",
   "execution_count": 9,
   "id": "fcb615f7-7b57-4927-af0d-ae468dcb56b6",
   "metadata": {},
   "outputs": [
    {
     "data": {
      "text/plain": [
       "['Cuenca_Geo.shp', 'ZONA_geo.shp', 'Zona_Geografica.shp', 'Zona_UTM_19S.shp']"
      ]
     },
     "execution_count": 9,
     "metadata": {},
     "output_type": "execute_result"
    }
   ],
   "source": [
    "lista = glob.glob(\"*.shp\")\n",
    "lista"
   ]
  },
  {
   "cell_type": "code",
   "execution_count": 10,
   "id": "06a9407b-f0b6-47e3-bfbf-3cc9d1c70ec9",
   "metadata": {},
   "outputs": [],
   "source": [
    "import geopandas as gpd"
   ]
  },
  {
   "cell_type": "code",
   "execution_count": 11,
   "id": "56e576f5-3e06-4862-83a1-34b88179a5cc",
   "metadata": {},
   "outputs": [
    {
     "data": {
      "text/html": [
       "<div>\n",
       "<style scoped>\n",
       "    .dataframe tbody tr th:only-of-type {\n",
       "        vertical-align: middle;\n",
       "    }\n",
       "\n",
       "    .dataframe tbody tr th {\n",
       "        vertical-align: top;\n",
       "    }\n",
       "\n",
       "    .dataframe thead th {\n",
       "        text-align: right;\n",
       "    }\n",
       "</style>\n",
       "<table border=\"1\" class=\"dataframe\">\n",
       "  <thead>\n",
       "    <tr style=\"text-align: right;\">\n",
       "      <th></th>\n",
       "      <th>id</th>\n",
       "      <th>geometry</th>\n",
       "    </tr>\n",
       "  </thead>\n",
       "  <tbody>\n",
       "    <tr>\n",
       "      <th>0</th>\n",
       "      <td>1</td>\n",
       "      <td>POLYGON ((-70.14663 -12.74826, -69.84347 -12.7...</td>\n",
       "    </tr>\n",
       "  </tbody>\n",
       "</table>\n",
       "</div>"
      ],
      "text/plain": [
       "   id                                           geometry\n",
       "0   1  POLYGON ((-70.14663 -12.74826, -69.84347 -12.7..."
      ]
     },
     "execution_count": 11,
     "metadata": {},
     "output_type": "execute_result"
    }
   ],
   "source": [
    "# cargar un shp\n",
    "zona = gpd.read_file(\"ZONA_geo.shp\")\n",
    "zona"
   ]
  },
  {
   "cell_type": "code",
   "execution_count": 12,
   "id": "b636f07a-2dfc-4213-bb60-69205e7c7bfe",
   "metadata": {},
   "outputs": [],
   "source": [
    "# Crear un featureCollecion mediante GeoJSON\n",
    "ee_zona = ee.FeatureCollection(zona.__geo_interface__)"
   ]
  },
  {
   "cell_type": "code",
   "execution_count": 13,
   "id": "39786157-c245-4f18-9949-a145f6443235",
   "metadata": {},
   "outputs": [
    {
     "data": {
      "text/plain": [
       "ee.featurecollection.FeatureCollection"
      ]
     },
     "execution_count": 13,
     "metadata": {},
     "output_type": "execute_result"
    }
   ],
   "source": [
    "type(ee_zona)"
   ]
  },
  {
   "cell_type": "markdown",
   "id": "0b8d4a6b-6c69-4e05-b1ae-7256748d0e67",
   "metadata": {},
   "source": [
    "### Aplicamos el filtro a la Zona"
   ]
  },
  {
   "cell_type": "code",
   "execution_count": 14,
   "id": "7491a534-3bd0-4900-9d8c-bc15a93589e3",
   "metadata": {},
   "outputs": [],
   "source": [
    "L5_Zona = L5.filterBounds(ee_zona)"
   ]
  },
  {
   "cell_type": "code",
   "execution_count": 15,
   "id": "4f33d2e2-cc1d-4639-b5b5-9483c8e054a9",
   "metadata": {},
   "outputs": [
    {
     "name": "stdout",
     "output_type": "stream",
     "text": [
      "Cantidad de imagenes: 369\n"
     ]
    }
   ],
   "source": [
    "# Conteo de imagenes\n",
    "count = L5_Zona.size()\n",
    "print(\"Cantidad de imagenes:\",count.getInfo())"
   ]
  },
  {
   "cell_type": "markdown",
   "id": "2d342219-42c5-41e5-bc0f-a529f4987e08",
   "metadata": {},
   "source": [
    "## Filtro de nubosidad"
   ]
  },
  {
   "cell_type": "code",
   "execution_count": 16,
   "id": "b506564d-632d-4b83-8025-4e4ee21d44c4",
   "metadata": {},
   "outputs": [],
   "source": [
    "# Puede aplicar al filtro Path y Row o segun zona\n",
    "L5_Nubosidad = L5_F1.filterMetadata('CLOUD_COVER', 'less_than', 20)"
   ]
  },
  {
   "cell_type": "code",
   "execution_count": 17,
   "id": "e71397af-dad3-4306-8990-d247129b7768",
   "metadata": {},
   "outputs": [
    {
     "name": "stdout",
     "output_type": "stream",
     "text": [
      "Cantidad de imagenes: 68\n"
     ]
    }
   ],
   "source": [
    "# Conteo de imagenes\n",
    "count = L5_Nubosidad.size()\n",
    "print(\"Cantidad de imagenes:\",count.getInfo())"
   ]
  },
  {
   "cell_type": "markdown",
   "id": "2aab7af0-b16c-4ac3-810f-9d709392f9b0",
   "metadata": {},
   "source": [
    "## Filtro fecha"
   ]
  },
  {
   "cell_type": "code",
   "execution_count": 18,
   "id": "be09ae9d-5e24-41a7-b210-4fdf439ddb7f",
   "metadata": {},
   "outputs": [],
   "source": [
    "L5_Fecha = L5_Nubosidad.filterDate('2008-01-01','2009-12-31')"
   ]
  },
  {
   "cell_type": "code",
   "execution_count": 19,
   "id": "577a6c66-a63f-45de-88dd-9b2f57458772",
   "metadata": {},
   "outputs": [
    {
     "name": "stdout",
     "output_type": "stream",
     "text": [
      "Cantidad de imagenes: 7\n"
     ]
    }
   ],
   "source": [
    "# Conteo de imagenes\n",
    "count = L5_Fecha.size()\n",
    "print(\"Cantidad de imagenes:\",count.getInfo())"
   ]
  },
  {
   "cell_type": "code",
   "execution_count": 29,
   "id": "7b049e26-350c-4510-a47f-45f84490948e",
   "metadata": {},
   "outputs": [
    {
     "data": {
      "text/plain": [
       "['LT05_003069_20080505',\n",
       " 'LT05_003069_20080606',\n",
       " 'LT05_003069_20080825',\n",
       " 'LT05_003069_20080910',\n",
       " 'LT05_003069_20090524',\n",
       " 'LT05_003069_20090812',\n",
       " 'LT05_003069_20090828']"
      ]
     },
     "execution_count": 29,
     "metadata": {},
     "output_type": "execute_result"
    }
   ],
   "source": [
    "# Imprimir la lista de ID Imagenes\n",
    "catalogo_L5 = L5_Fecha.reduceColumns(ee.Reducer.toList(),[\"system:index\"]).get(\"list\").getInfo()\n",
    "catalogo_L5"
   ]
  },
  {
   "cell_type": "code",
   "execution_count": 30,
   "id": "1cba45a2-f3b9-4956-8dd0-8cf1ac2c44b2",
   "metadata": {},
   "outputs": [
    {
     "data": {
      "text/plain": [
       "list"
      ]
     },
     "execution_count": 30,
     "metadata": {},
     "output_type": "execute_result"
    }
   ],
   "source": [
    "type(catalogo_L5)"
   ]
  },
  {
   "cell_type": "markdown",
   "id": "76f2f41a-b818-49dc-a8f4-423675062581",
   "metadata": {},
   "source": [
    "## Filtro en una sola linea"
   ]
  },
  {
   "cell_type": "code",
   "execution_count": 32,
   "id": "567d9822-1cf1-4d4f-b083-25017d3b916e",
   "metadata": {},
   "outputs": [],
   "source": [
    "# Filtro por Path y Row\n",
    "L5_1 = ee.ImageCollection(\"LANDSAT/LT05/C01/T1_SR\")\\\n",
    "        .filterDate('2008-01-01','2009-12-31')\\\n",
    "        .filterMetadata('CLOUD_COVER', 'less_than',20)\\\n",
    "        .filterMetadata('WRS_PATH', 'equals', 3)\\\n",
    "        .filterMetadata('WRS_ROW', 'equals', 69)"
   ]
  },
  {
   "cell_type": "code",
   "execution_count": 31,
   "id": "732e3592-3988-49ff-9813-bc278493f3a1",
   "metadata": {},
   "outputs": [],
   "source": [
    "# Filtro por zona de estudio\n",
    "L5_2 = ee.ImageCollection(\"LANDSAT/LT05/C01/T1_SR\")\\\n",
    "        .filterDate('2008-01-01','2009-12-31')\\\n",
    "        .filterMetadata('CLOUD_COVER', 'less_than',20)\\\n",
    "        .filterBounds(ee_zona)"
   ]
  },
  {
   "cell_type": "code",
   "execution_count": 33,
   "id": "c60b0679-35a1-4f0c-b4c0-f2e1510fb1e1",
   "metadata": {},
   "outputs": [
    {
     "name": "stdout",
     "output_type": "stream",
     "text": [
      "Cantidad de imagenes L5_1: 7\n",
      "Cantidad de imagenes L5_2: 9\n"
     ]
    }
   ],
   "source": [
    "# Conteo de imagenes\n",
    "count_L5_1 = L5_1.size()\n",
    "count_L5_2 = L5_2.size()\n",
    "print(\"Cantidad de imagenes L5_1:\", count_L5_1.getInfo())\n",
    "print(\"Cantidad de imagenes L5_2:\", count_L5_2.getInfo())"
   ]
  },
  {
   "cell_type": "code",
   "execution_count": 34,
   "id": "48c27424-82c6-477b-9ecf-f88f5437f469",
   "metadata": {},
   "outputs": [
    {
     "name": "stdout",
     "output_type": "stream",
     "text": [
      "ID catalogo_L5_1:  ['LT05_003069_20080505', 'LT05_003069_20080606', 'LT05_003069_20080825', 'LT05_003069_20080910', 'LT05_003069_20090524', 'LT05_003069_20090812', 'LT05_003069_20090828']\n",
      "ID catalogo_L5_2:  ['LT05_002069_20080903', 'LT05_002069_20090906', 'LT05_003069_20080505', 'LT05_003069_20080606', 'LT05_003069_20080825', 'LT05_003069_20080910', 'LT05_003069_20090524', 'LT05_003069_20090812', 'LT05_003069_20090828']\n"
     ]
    }
   ],
   "source": [
    "# Imprimir la lista de ID Imagenes\n",
    "catalogo_L5_1 = L5_1.reduceColumns(ee.Reducer.toList(),[\"system:index\"]).get(\"list\").getInfo()\n",
    "catalogo_L5_2 = L5_2.reduceColumns(ee.Reducer.toList(),[\"system:index\"]).get(\"list\").getInfo()\n",
    "print(\"ID catalogo_L5_1: \",catalogo_L5_1)\n",
    "print(\"ID catalogo_L5_2: \",catalogo_L5_2)"
   ]
  }
 ],
 "metadata": {
  "kernelspec": {
   "display_name": "Python 3",
   "language": "python",
   "name": "python3"
  },
  "language_info": {
   "codemirror_mode": {
    "name": "ipython",
    "version": 3
   },
   "file_extension": ".py",
   "mimetype": "text/x-python",
   "name": "python",
   "nbconvert_exporter": "python",
   "pygments_lexer": "ipython3",
   "version": "3.7.10"
  }
 },
 "nbformat": 4,
 "nbformat_minor": 5
}
