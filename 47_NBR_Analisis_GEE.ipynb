{
 "cells": [
  {
   "cell_type": "markdown",
   "id": "7d63850e-6023-423f-b7bd-d12690f02a7a",
   "metadata": {},
   "source": [
    "# Indice espectrales NBR Analisis en GEE"
   ]
  },
  {
   "cell_type": "code",
   "execution_count": 1,
   "id": "3a34ea5b-c474-4306-bd70-86153a7c1c12",
   "metadata": {},
   "outputs": [],
   "source": [
    "# Importar paquete GEE\n",
    "import ee\n",
    "ee.Initialize()"
   ]
  },
  {
   "cell_type": "markdown",
   "id": "b119b555-6c0e-4b12-bf07-3d92cda61780",
   "metadata": {},
   "source": [
    "## Filtro zona estudio SHP"
   ]
  },
  {
   "cell_type": "code",
   "execution_count": 3,
   "id": "e4a9f354-f920-4994-9458-11c3669c6824",
   "metadata": {},
   "outputs": [],
   "source": [
    "import os"
   ]
  },
  {
   "cell_type": "code",
   "execution_count": 4,
   "id": "4ba6ca0b-b013-4769-8867-68c5c842e834",
   "metadata": {},
   "outputs": [
    {
     "data": {
      "text/plain": [
       "'E:\\\\Teledeteccion_GEE\\\\Python\\\\Datos_Espaciales\\\\SHP\\\\Indices'"
      ]
     },
     "execution_count": 4,
     "metadata": {},
     "output_type": "execute_result"
    }
   ],
   "source": [
    "ruta_archivos = r\"E:\\Teledeteccion_GEE\\Python\\Datos_Espaciales\\SHP\\Indices\"\n",
    "os.chdir(ruta_archivos) # Cambiar ruta trabajo\n",
    "os.getcwd() # Consultar ruta trabajo"
   ]
  },
  {
   "cell_type": "code",
   "execution_count": 5,
   "id": "fa2b7145-6b27-4bce-a175-d275f572ed14",
   "metadata": {},
   "outputs": [],
   "source": [
    "import geopandas as gpd"
   ]
  },
  {
   "cell_type": "code",
   "execution_count": 6,
   "id": "14c0b52c-6a08-451b-a1e5-8dda333c0ffc",
   "metadata": {},
   "outputs": [
    {
     "data": {
      "text/html": [
       "<div>\n",
       "<style scoped>\n",
       "    .dataframe tbody tr th:only-of-type {\n",
       "        vertical-align: middle;\n",
       "    }\n",
       "\n",
       "    .dataframe tbody tr th {\n",
       "        vertical-align: top;\n",
       "    }\n",
       "\n",
       "    .dataframe thead th {\n",
       "        text-align: right;\n",
       "    }\n",
       "</style>\n",
       "<table border=\"1\" class=\"dataframe\">\n",
       "  <thead>\n",
       "    <tr style=\"text-align: right;\">\n",
       "      <th></th>\n",
       "      <th>id</th>\n",
       "      <th>geometry</th>\n",
       "    </tr>\n",
       "  </thead>\n",
       "  <tbody>\n",
       "    <tr>\n",
       "      <th>0</th>\n",
       "      <td>1</td>\n",
       "      <td>POLYGON ((-118.46472 34.47016, -118.24337 34.4...</td>\n",
       "    </tr>\n",
       "  </tbody>\n",
       "</table>\n",
       "</div>"
      ],
      "text/plain": [
       "   id                                           geometry\n",
       "0   1  POLYGON ((-118.46472 34.47016, -118.24337 34.4..."
      ]
     },
     "execution_count": 6,
     "metadata": {},
     "output_type": "execute_result"
    }
   ],
   "source": [
    "# cargar un shp\n",
    "zona = gpd.read_file(\"Zona_Quema_Geo.shp\")\n",
    "zona"
   ]
  },
  {
   "cell_type": "code",
   "execution_count": 7,
   "id": "3b1c8909-e1dd-4e44-a71f-2b798810ce57",
   "metadata": {},
   "outputs": [],
   "source": [
    "# Crear un featureCollecion mediante GeoJSON\n",
    "ee_zona = ee.FeatureCollection(zona.__geo_interface__)"
   ]
  },
  {
   "cell_type": "code",
   "execution_count": 8,
   "id": "66307bf0-16e2-4199-80bc-c639a6cc4a22",
   "metadata": {},
   "outputs": [],
   "source": [
    "# Importar geemap\n",
    "import geemap\n",
    "Map = geemap.Map(basemap='ESRI')"
   ]
  },
  {
   "cell_type": "code",
   "execution_count": 9,
   "id": "6713cd23-63c4-4736-8dcb-6d6ed4a71c74",
   "metadata": {},
   "outputs": [],
   "source": [
    "geometria = ee_zona.geometry()\n",
    "Map.centerObject(geometria, 11)"
   ]
  },
  {
   "cell_type": "code",
   "execution_count": 10,
   "id": "3c1bf0cf-8688-44d3-80d5-eba8bc7960a6",
   "metadata": {},
   "outputs": [
    {
     "data": {
      "application/vnd.jupyter.widget-view+json": {
       "model_id": "16789d1e83ca4e409e52d704ab1671f3",
       "version_major": 2,
       "version_minor": 0
      },
      "text/plain": [
       "Map(center=[34.390248284782864, -118.35251181929958], controls=(WidgetControl(options=['position', 'transparen…"
      ]
     },
     "metadata": {},
     "output_type": "display_data"
    }
   ],
   "source": [
    "# Visualizar \n",
    "Map.addLayer(ee_zona, {\"color\" : \"00FF11\"}, name = \"Zona\")\n",
    "Map"
   ]
  },
  {
   "cell_type": "markdown",
   "id": "5a958141-73df-4699-af5c-1e266dbb9ea9",
   "metadata": {},
   "source": [
    "## Seleccion de imagenes"
   ]
  },
  {
   "cell_type": "code",
   "execution_count": 11,
   "id": "e7b96f8e-5e4c-4436-a2ff-de5540b7bbe2",
   "metadata": {},
   "outputs": [],
   "source": [
    "# Seleccionar una imagen Landsat8\n",
    "img_L8_antes = ee.Image(\"LANDSAT/LC08/C01/T1_SR/LC08_041036_20160708\")\\\n",
    "                  .select([\"B2\",\"B3\",\"B4\",\"B5\",\"B6\",\"B7\"],\n",
    "                          ['BLUE', 'GREEN', 'RED', 'NIR', 'SWIR1', 'SWIR2'])\\\n",
    "                  .multiply(0.0001)\\\n",
    "                  .reproject(crs = \"EPSG:32711\", scale = 30)\\\n",
    "                  .clip(ee_zona)"
   ]
  },
  {
   "cell_type": "code",
   "execution_count": 12,
   "id": "b9636267-8e7e-46f0-bc5b-548949074f62",
   "metadata": {},
   "outputs": [],
   "source": [
    "# Seleccionar una imagen Landsat8\n",
    "img_L8_despues = ee.Image(\"LANDSAT/LC08/C01/T1_SR/LC08_041036_20160724\")\\\n",
    "                  .select([\"B2\",\"B3\",\"B4\",\"B5\",\"B6\",\"B7\"],\n",
    "                          ['BLUE', 'GREEN', 'RED', 'NIR', 'SWIR1', 'SWIR2'])\\\n",
    "                  .multiply(0.0001)\\\n",
    "                  .reproject(crs = \"EPSG:32711\", scale = 30)\\\n",
    "                  .clip(ee_zona)"
   ]
  },
  {
   "cell_type": "markdown",
   "id": "00d7c927-3f21-4668-a884-ccdbbc8ffebf",
   "metadata": {},
   "source": [
    "## Consultar Nombre bandas y proyección"
   ]
  },
  {
   "cell_type": "code",
   "execution_count": 13,
   "id": "f82458e0-93e0-4412-a9a4-11bc4118a979",
   "metadata": {},
   "outputs": [
    {
     "name": "stdout",
     "output_type": "stream",
     "text": [
      "Nombre bandas L8 Antes:  ['BLUE', 'GREEN', 'RED', 'NIR', 'SWIR1', 'SWIR2']\n",
      "Nombre bandas L8 Despues:  ['BLUE', 'GREEN', 'RED', 'NIR', 'SWIR1', 'SWIR2']\n"
     ]
    }
   ],
   "source": [
    "# Nombre de las bandas\n",
    "print(\"Nombre bandas L8 Antes: \",img_L8_antes.bandNames().getInfo())\n",
    "print(\"Nombre bandas L8 Despues: \",img_L8_despues.bandNames().getInfo())"
   ]
  },
  {
   "cell_type": "code",
   "execution_count": 14,
   "id": "f9a66d8e-ef28-4c33-aebb-2faa395211ce",
   "metadata": {},
   "outputs": [
    {
     "name": "stdout",
     "output_type": "stream",
     "text": [
      "Proyeccion L8 Antes:  {'type': 'Projection', 'crs': 'EPSG:32711', 'transform': [30, 0, 0, 0, -30, 0]}\n",
      "Proyeccion L8 Despues:  {'type': 'Projection', 'crs': 'EPSG:32711', 'transform': [30, 0, 0, 0, -30, 0]}\n"
     ]
    }
   ],
   "source": [
    "# Consultar Proyeccion\n",
    "print(\"Proyeccion L8 Antes: \",img_L8_antes.projection().getInfo())\n",
    "print(\"Proyeccion L8 Despues: \",img_L8_despues.projection().getInfo())"
   ]
  },
  {
   "cell_type": "code",
   "execution_count": 15,
   "id": "f2499862-6fae-4523-ad21-5ea3a14ffc4d",
   "metadata": {},
   "outputs": [],
   "source": [
    "# Simbologia escala 0 - 1\n",
    "viz_es = {\n",
    "    'bands': ['SWIR1','NIR','RED'],\n",
    "    'min': 0.1,\n",
    "    'max': 0.6,\n",
    "    'gamma': 1.6\n",
    "}"
   ]
  },
  {
   "cell_type": "code",
   "execution_count": 16,
   "id": "11aaf87b-1457-46d6-84ba-f0d9510c77aa",
   "metadata": {},
   "outputs": [
    {
     "data": {
      "application/vnd.jupyter.widget-view+json": {
       "model_id": "16789d1e83ca4e409e52d704ab1671f3",
       "version_major": 2,
       "version_minor": 0
      },
      "text/plain": [
       "Map(bottom=209049.0, center=[34.390248284782864, -118.35251181929958], controls=(WidgetControl(options=['posit…"
      ]
     },
     "metadata": {},
     "output_type": "display_data"
    }
   ],
   "source": [
    "# Visualizar del mapa\n",
    "Map.addLayer(img_L8_antes, viz_es, name = \"Landsat8 Antes\")\n",
    "Map.addLayer(img_L8_despues, viz_es, name = \"Landsat 8 Despues\")\n",
    "Map"
   ]
  },
  {
   "cell_type": "markdown",
   "id": "5600f8a1-0c25-4c8f-aa56-04bf9e61d9f7",
   "metadata": {},
   "source": [
    "## Determinar NBR"
   ]
  },
  {
   "cell_type": "code",
   "execution_count": 17,
   "id": "748c5da0-ef5c-4c9d-a484-3a397a751918",
   "metadata": {},
   "outputs": [],
   "source": [
    "# Funcion para NBR\n",
    "def Calc_NBR(image):\n",
    "    nbr = image.expression(\"float(nir - swir2)/(nir + swir2)\", {\n",
    "        'nir': image.select('NIR'),\n",
    "        'swir2': image.select('SWIR2')\n",
    "    })\n",
    "    return nbr.rename(\"NBR\")"
   ]
  },
  {
   "cell_type": "code",
   "execution_count": 21,
   "id": "4e73845f-ccee-471d-b0f1-767d1e5a79f6",
   "metadata": {},
   "outputs": [],
   "source": [
    "# Calcular indices con funcion\n",
    "nbr_L8_antes = Calc_NBR(img_L8_antes)\n",
    "nbr_L8_despues = Calc_NBR(img_L8_despues)"
   ]
  },
  {
   "cell_type": "code",
   "execution_count": 19,
   "id": "c787223f-aedb-452b-a003-bc8da5c03a27",
   "metadata": {},
   "outputs": [],
   "source": [
    "# Simbologia de NBR\n",
    "viz_nbr = {\n",
    "    'palette': [\"#66FF66\",\"#FF99FF\",\"#66FFFF\",\"#FFFF99\",\n",
    "                \"#FF9966\",\"#FF6600\",\"#FF0000\"],\n",
    "    'min': -0.4,\n",
    "    'max': 0.8,\n",
    "    'bands': \"NBR\"\n",
    "}"
   ]
  },
  {
   "cell_type": "code",
   "execution_count": 23,
   "id": "73b12eaf-56d5-4289-81d9-d7c419aff908",
   "metadata": {},
   "outputs": [
    {
     "data": {
      "application/vnd.jupyter.widget-view+json": {
       "model_id": "16789d1e83ca4e409e52d704ab1671f3",
       "version_major": 2,
       "version_minor": 0
      },
      "text/plain": [
       "Map(bottom=209048.0, center=[34.39104576945997, -118.27434539794923], controls=(WidgetControl(options=['positi…"
      ]
     },
     "metadata": {},
     "output_type": "display_data"
    }
   ],
   "source": [
    "# Visualizar \n",
    "Map.addLayer(nbr_L8_antes, viz_nbr, name = \"NBR antes\")\n",
    "Map.addLayer(nbr_L8_despues, viz_nbr, name = \"NBR despues\")\n",
    "Map"
   ]
  },
  {
   "cell_type": "markdown",
   "id": "2fdd34c2-dbe3-4eb2-8bc0-76d6425b7f1d",
   "metadata": {},
   "source": [
    "## Determinar niveles de gravedad"
   ]
  },
  {
   "cell_type": "code",
   "execution_count": 24,
   "id": "a902dd68-b98c-4247-a78f-1ea4f6fb47f9",
   "metadata": {},
   "outputs": [],
   "source": [
    "# Determinacion niveles de gravedad dNBR\n",
    "dNBR = nbr_L8_antes.subtract(nbr_L8_despues)"
   ]
  },
  {
   "cell_type": "code",
   "execution_count": 30,
   "id": "c3a85b36-2a3f-4824-9a55-4f27cc42cae2",
   "metadata": {},
   "outputs": [],
   "source": [
    "# clasificacion de NBR \n",
    "clas_dnbr = ee.Image(0).where(dNBR.lt(-0.25),1)\\\n",
    "                      .where(dNBR.gte(-0.25),2)\\\n",
    "                      .where(dNBR.gte(-0.1),3)\\\n",
    "                      .where(dNBR.gte(0.10),4)\\\n",
    "                      .where(dNBR.gte(0.27),5)\\\n",
    "                      .where(dNBR.gte(0.44),6)\\\n",
    "                      .where(dNBR.gte(0.66),7)\\\n",
    "                      .clip(ee_zona)\\\n",
    "                      .rename(\"dNBR\")"
   ]
  },
  {
   "cell_type": "code",
   "execution_count": 31,
   "id": "2dfa81de-2107-4932-890a-5d24a205f4f6",
   "metadata": {},
   "outputs": [
    {
     "data": {
      "text/plain": [
       "['dNBR']"
      ]
     },
     "execution_count": 31,
     "metadata": {},
     "output_type": "execute_result"
    }
   ],
   "source": [
    "# Nombre de la banda clasificado\n",
    "clas_dnbr.bandNames().getInfo()"
   ]
  },
  {
   "cell_type": "code",
   "execution_count": 27,
   "id": "1dda8da9-5c37-4648-a5b9-b35705d6c514",
   "metadata": {},
   "outputs": [],
   "source": [
    "# Renombrar el nombre banda\n",
    "# clas_dnbr = clas_dnbr.rename(\"dNBR\")"
   ]
  },
  {
   "cell_type": "code",
   "execution_count": 32,
   "id": "9029a7dc-51d1-4989-b26b-6ebc345b2b04",
   "metadata": {},
   "outputs": [],
   "source": [
    "# Simbologia de Clase NBR\n",
    "viz_nbr_clas = {\n",
    "    'palette': [\"#66FF66\",\"#FF99FF\",\"#66FFFF\",\"#FFFF99\",\n",
    "                \"#FF9966\",\"#FF6600\",\"#FF0000\"],\n",
    "    'min': 1,\n",
    "    'max': 7,\n",
    "    'bands': \"dNBR\"\n",
    "}"
   ]
  },
  {
   "cell_type": "code",
   "execution_count": 33,
   "id": "953d7e72-41c9-4ce1-86fb-f5fa6197d98d",
   "metadata": {},
   "outputs": [
    {
     "data": {
      "application/vnd.jupyter.widget-view+json": {
       "model_id": "16789d1e83ca4e409e52d704ab1671f3",
       "version_major": 2,
       "version_minor": 0
      },
      "text/plain": [
       "Map(bottom=209057.0, center=[34.38594602425616, -118.28052520751955], controls=(WidgetControl(options=['positi…"
      ]
     },
     "metadata": {},
     "output_type": "display_data"
    }
   ],
   "source": [
    "# Visualizar \n",
    "Map.addLayer(clas_dnbr, viz_nbr_clas, name = \"NBR clase\")\n",
    "Map"
   ]
  },
  {
   "cell_type": "markdown",
   "id": "58737e4b-2628-42a1-a417-9d3774818575",
   "metadata": {},
   "source": [
    "## Exportar Imagen"
   ]
  },
  {
   "cell_type": "code",
   "execution_count": 34,
   "id": "91999544-3090-4d9a-9eb8-a6f13a15b953",
   "metadata": {},
   "outputs": [
    {
     "data": {
      "text/plain": [
       "'E:\\\\Teledeteccion_GEE\\\\Python\\\\Datos_Espaciales\\\\SHP\\\\Indices'"
      ]
     },
     "execution_count": 34,
     "metadata": {},
     "output_type": "execute_result"
    }
   ],
   "source": [
    "import os\n",
    "os.getcwd()"
   ]
  },
  {
   "cell_type": "code",
   "execution_count": 35,
   "id": "563049c9-0e9a-4db7-be92-5ece60f97fc0",
   "metadata": {},
   "outputs": [
    {
     "data": {
      "text/plain": [
       "'E:\\\\Teledeteccion_GEE\\\\Python\\\\Datos_Espaciales\\\\Resultado_GEE'"
      ]
     },
     "execution_count": 35,
     "metadata": {},
     "output_type": "execute_result"
    }
   ],
   "source": [
    "ruta_archivos = r\"E:\\Teledeteccion_GEE\\Python\\Datos_Espaciales\\Resultado_GEE\"\n",
    "os.chdir(ruta_archivos) # Cambiar ruta trabajo\n",
    "os.getcwd() # Consultar ruta trabajo"
   ]
  },
  {
   "cell_type": "code",
   "execution_count": 36,
   "id": "3bdf9494-879a-49e6-924e-744ee6e4eac0",
   "metadata": {},
   "outputs": [
    {
     "name": "stdout",
     "output_type": "stream",
     "text": [
      "Generating URL ...\n",
      "Downloading data from https://earthengine.googleapis.com/v1alpha/projects/earthengine-legacy/thumbnails/9891914823dedeccf09e944d9c9b4ae8-9d4473bd9a406b0d8a46d15adc475099:getPixels\n",
      "Please wait ...\n",
      "Data downloaded to E:\\Teledeteccion_GEE\\Python\\Datos_Espaciales\\Resultado_GEE\\clas_dnbr.tif\n"
     ]
    }
   ],
   "source": [
    "# Exportar imagen directorio\n",
    "geemap.ee_export_image(clas_dnbr, filename=\"clas_dnbr.tif\", scale=30, region=geometria, file_per_band=False)"
   ]
  },
  {
   "cell_type": "code",
   "execution_count": 37,
   "id": "034c9c36-e4a4-4dd0-8bd9-74987f245841",
   "metadata": {},
   "outputs": [
    {
     "name": "stdout",
     "output_type": "stream",
     "text": [
      "Exporting L8_clas_dnbr ...\n"
     ]
    }
   ],
   "source": [
    "# Exportar en google drive\n",
    "geemap.ee_export_image_to_drive(clas_dnbr, description='L8_clas_dnbr', folder='GEE_Python', region=geometria, scale=30)"
   ]
  },
  {
   "cell_type": "code",
   "execution_count": null,
   "id": "af65dfeb-ae52-4917-b135-a75300e3b3e9",
   "metadata": {},
   "outputs": [],
   "source": []
  }
 ],
 "metadata": {
  "kernelspec": {
   "display_name": "Python 3",
   "language": "python",
   "name": "python3"
  },
  "language_info": {
   "codemirror_mode": {
    "name": "ipython",
    "version": 3
   },
   "file_extension": ".py",
   "mimetype": "text/x-python",
   "name": "python",
   "nbconvert_exporter": "python",
   "pygments_lexer": "ipython3",
   "version": "3.7.10"
  }
 },
 "nbformat": 4,
 "nbformat_minor": 5
}
