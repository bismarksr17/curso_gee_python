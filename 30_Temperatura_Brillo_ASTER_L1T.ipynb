{
 "cells": [
  {
   "cell_type": "markdown",
   "id": "490d0c78-6f6e-46ba-90ae-39ffbe10902f",
   "metadata": {},
   "source": [
    "# Temperatura de brillo ASTER L1T google Earth Engine"
   ]
  },
  {
   "cell_type": "code",
   "execution_count": 1,
   "id": "043760aa-2b58-4a39-9f58-65a35882f033",
   "metadata": {},
   "outputs": [],
   "source": [
    "# Importar paquete GEE\n",
    "import ee\n",
    "ee.Initialize()"
   ]
  },
  {
   "cell_type": "markdown",
   "id": "e2c3568c-e896-41fa-b04d-7c1e909058a2",
   "metadata": {},
   "source": [
    "## Filtro zona estudio mediante GEE"
   ]
  },
  {
   "cell_type": "code",
   "execution_count": 2,
   "id": "e61690ab-8bc1-48f1-916b-032b0b60a605",
   "metadata": {},
   "outputs": [],
   "source": [
    "# Agregar un shp GEE\n",
    "zona_ee = ee.FeatureCollection(\"users/bravomoralesnino/SHP/ZONA_19S\")"
   ]
  },
  {
   "cell_type": "code",
   "execution_count": 3,
   "id": "053400f8-b824-4c87-962e-d4a6890f2915",
   "metadata": {},
   "outputs": [],
   "source": [
    "# Importar geemap\n",
    "import geemap\n",
    "Map = geemap.Map(basemap=\"ESRI\")"
   ]
  },
  {
   "cell_type": "code",
   "execution_count": 4,
   "id": "7cf88081-ab05-4cad-a91e-88c520553f04",
   "metadata": {},
   "outputs": [],
   "source": [
    "geometria = zona_ee.geometry()\n",
    "Map.centerObject(geometria, 11)"
   ]
  },
  {
   "cell_type": "code",
   "execution_count": 5,
   "id": "77fec369-1998-4b35-a923-be7a49f5e47b",
   "metadata": {},
   "outputs": [
    {
     "data": {
      "application/vnd.jupyter.widget-view+json": {
       "model_id": "bebc92a7ff0e476197bcb1c27061ede4",
       "version_major": 2,
       "version_minor": 0
      },
      "text/plain": [
       "Map(center=[-12.908744902436744, -69.9947155021359], controls=(WidgetControl(options=['position', 'transparent…"
      ]
     },
     "metadata": {},
     "output_type": "display_data"
    }
   ],
   "source": [
    "Map.addLayer(zona_ee, {\"color\" : \"00FF11\"}, name = \"Zona\")\n",
    "Map"
   ]
  },
  {
   "cell_type": "markdown",
   "id": "6803dded-dcd6-425c-8c37-e4568148908f",
   "metadata": {},
   "source": [
    "## Seleccion de la imagen"
   ]
  },
  {
   "cell_type": "code",
   "execution_count": 6,
   "id": "c8127063-7183-4564-aa46-1f9924e8c092",
   "metadata": {},
   "outputs": [],
   "source": [
    "# Seleccionar una imagen\n",
    "ASTER_img = ee.Image(\"ASTER/AST_L1T_003/20070730150418\")\\\n",
    "              .select([\"B10\",\"B11\",\"B12\",\"B13\",\"B14\"])\\\n",
    "              .clip(zona_ee)"
   ]
  },
  {
   "cell_type": "code",
   "execution_count": 7,
   "id": "d783a652-9c90-47f6-9550-675a5e1f84a4",
   "metadata": {},
   "outputs": [
    {
     "name": "stdout",
     "output_type": "stream",
     "text": [
      "['B10', 'B11', 'B12', 'B13', 'B14']\n"
     ]
    }
   ],
   "source": [
    "# Nombre de las bandas\n",
    "print(ASTER_img.bandNames().getInfo())"
   ]
  },
  {
   "cell_type": "code",
   "execution_count": 9,
   "id": "dde6d61f-20ca-4cb0-b039-3527942a4dac",
   "metadata": {},
   "outputs": [
    {
     "data": {
      "text/plain": [
       "{'type': 'Projection',\n",
       " 'crs': 'EPSG:32619',\n",
       " 'transform': [90, 0, 333045, 0, -90, -1388385]}"
      ]
     },
     "execution_count": 9,
     "metadata": {},
     "output_type": "execute_result"
    }
   ],
   "source": [
    "# Proyeccion se encuentra zona y resolucion espacial 90m B11\n",
    "ASTER_img.projection().getInfo()"
   ]
  },
  {
   "cell_type": "code",
   "execution_count": 10,
   "id": "e80c307c-1de6-4bb7-94eb-35afccec8478",
   "metadata": {},
   "outputs": [],
   "source": [
    "# Reproyeccion segun zona\n",
    "ASTER_img_utm = ASTER_img.reproject(crs=\"EPSG:32719\", scale = 90)"
   ]
  },
  {
   "cell_type": "code",
   "execution_count": 11,
   "id": "e48b6776-4ee0-4a33-81e0-e16c78612af7",
   "metadata": {},
   "outputs": [
    {
     "data": {
      "text/plain": [
       "{'type': 'Projection', 'crs': 'EPSG:32719', 'transform': [90, 0, 0, 0, -90, 0]}"
      ]
     },
     "execution_count": 11,
     "metadata": {},
     "output_type": "execute_result"
    }
   ],
   "source": [
    "# Consultar proyeccion\n",
    "ASTER_img_utm.projection().getInfo()"
   ]
  },
  {
   "cell_type": "markdown",
   "id": "d5ce1f59-5e7d-450e-bbcd-14f98e8a4a51",
   "metadata": {},
   "source": [
    "## Seleccion de las bandas"
   ]
  },
  {
   "cell_type": "code",
   "execution_count": 12,
   "id": "90160815-223c-4eef-8967-700313d8ffa2",
   "metadata": {},
   "outputs": [],
   "source": [
    "# Seleccionar las bandas\n",
    "B10 = ASTER_img_utm.select(\"B10\")\n",
    "B11 = ASTER_img_utm.select(\"B11\")\n",
    "B12 = ASTER_img_utm.select(\"B12\")\n",
    "B13 = ASTER_img_utm.select(\"B13\")\n",
    "B14 = ASTER_img_utm.select(\"B14\")"
   ]
  },
  {
   "cell_type": "markdown",
   "id": "0f668414-befb-4e8a-b5b1-7e92bbe48abe",
   "metadata": {},
   "source": [
    "## Convertir a Radiancia sensor"
   ]
  },
  {
   "cell_type": "code",
   "execution_count": 14,
   "id": "5cba3fb4-0ebe-4133-9315-776c41e3051b",
   "metadata": {},
   "outputs": [
    {
     "data": {
      "text/plain": [
       "0.006822"
      ]
     },
     "execution_count": 14,
     "metadata": {},
     "output_type": "execute_result"
    }
   ],
   "source": [
    "# Convertir a Radiancia del sensor\n",
    "# Del 2008 adelante no hay bandas SWIR 05 al 09\n",
    "gain_B10 = ASTER_img_utm.get('GAIN_COEFFICIENT_B10').getInfo()\n",
    "gain_B11 = ASTER_img_utm.get('GAIN_COEFFICIENT_B11').getInfo()\n",
    "gain_B12 = ASTER_img_utm.get('GAIN_COEFFICIENT_B12').getInfo()\n",
    "gain_B13 = ASTER_img_utm.get('GAIN_COEFFICIENT_B13').getInfo()\n",
    "gain_B14 = ASTER_img_utm.get('GAIN_COEFFICIENT_B14').getInfo()"
   ]
  },
  {
   "cell_type": "code",
   "execution_count": 15,
   "id": "c5df9879-d30a-4c46-a19a-a1053ed2244a",
   "metadata": {},
   "outputs": [],
   "source": [
    "# Determinar radiancia\n",
    "L10 = B10.subtract(1).multiply(gain_B10)\n",
    "L11 = B11.subtract(1).multiply(gain_B11)\n",
    "L12 = B12.subtract(1).multiply(gain_B12)\n",
    "L13 = B13.subtract(1).multiply(gain_B13)\n",
    "L14 = B14.subtract(1).multiply(gain_B14)\n"
   ]
  },
  {
   "cell_type": "markdown",
   "id": "7a1a9beb-0d5d-4daf-a212-336183115829",
   "metadata": {},
   "source": [
    "## Determinar temperatura brillo ASTER L1T"
   ]
  },
  {
   "cell_type": "code",
   "execution_count": 16,
   "id": "33cbf6e6-5107-4d31-9e1b-22ddb173321e",
   "metadata": {},
   "outputs": [],
   "source": [
    "# K imagen ASTER L1T\n",
    "K1_B10 = ee.Image(3024)\n",
    "K2_B10 = ee.Image(1733)\n",
    "K1_B11 = ee.Image(2460)\n",
    "K2_B11 = ee.Image(1663)\n",
    "K1_B12 = ee.Image(1909)\n",
    "K2_B12 = ee.Image(1581)\n",
    "K1_B13 = ee.Image(890)\n",
    "K2_B13 = ee.Image(1357)\n",
    "K1_B14 = ee.Image(646.4)\n",
    "K2_B14 = ee.Image(1273)"
   ]
  },
  {
   "cell_type": "code",
   "execution_count": 17,
   "id": "ea20c849-2862-4049-8919-db3402746cef",
   "metadata": {},
   "outputs": [],
   "source": [
    "# Determinacion Temperatura de brillo Celsius\n",
    "TB_B10 = K2_B10.divide(ee.Image.log(K1_B10.divide(L10).add(1))).subtract(273.15)\n",
    "TB_B11 = K2_B11.divide(ee.Image.log(K1_B11.divide(L11).add(1))).subtract(273.15)\n",
    "TB_B12 = K2_B12.divide(ee.Image.log(K1_B12.divide(L12).add(1))).subtract(273.15)\n",
    "TB_B13 = K2_B13.divide(ee.Image.log(K1_B13.divide(L13).add(1))).subtract(273.15)\n",
    "TB_B14 = K2_B14.divide(ee.Image.log(K1_B14.divide(L14).add(1))).subtract(273.15)"
   ]
  },
  {
   "cell_type": "markdown",
   "id": "99be6481-ec00-4f93-b364-4f95488c62af",
   "metadata": {},
   "source": [
    "## Renombrar nombre bandas"
   ]
  },
  {
   "cell_type": "code",
   "execution_count": 18,
   "id": "560ecda7-03fb-454c-80ce-42d696ce2fdc",
   "metadata": {},
   "outputs": [],
   "source": [
    "# Composicion de bandas TB\n",
    "TB_ASTER = TB_B10.addBands([TB_B11,TB_B12,TB_B13,TB_B14])"
   ]
  },
  {
   "cell_type": "code",
   "execution_count": 21,
   "id": "127be22a-1afe-4e1e-b58c-bfeebcc10abb",
   "metadata": {},
   "outputs": [
    {
     "data": {
      "text/plain": [
       "['TB10', 'TB11', 'TB12', 'TB13', 'TB14']"
      ]
     },
     "execution_count": 21,
     "metadata": {},
     "output_type": "execute_result"
    }
   ],
   "source": [
    "# Consulta nombre bandas\n",
    "TB_ASTER.bandNames().getInfo()"
   ]
  },
  {
   "cell_type": "code",
   "execution_count": 20,
   "id": "8a9a4025-798f-4548-9f03-7835787aac45",
   "metadata": {},
   "outputs": [],
   "source": [
    "# Renombrar bandas\n",
    "TB_ASTER = TB_ASTER.rename(\"TB10\",\"TB11\",\"TB12\",\"TB13\",\"TB14\")"
   ]
  },
  {
   "cell_type": "code",
   "execution_count": 22,
   "id": "820dd520-7e00-4811-92cb-f0ed6278a8f8",
   "metadata": {},
   "outputs": [],
   "source": [
    "# Crear su simbologia\n",
    "viz_TB = {\n",
    "    'min': 10,\n",
    "    'max': 23,\n",
    "    'palette': ['1021ef','e4ff0b','ff1c05']\n",
    "}"
   ]
  },
  {
   "cell_type": "code",
   "execution_count": 23,
   "id": "65d2fdc6-afcd-447e-9fee-517c5a7752c6",
   "metadata": {},
   "outputs": [
    {
     "data": {
      "application/vnd.jupyter.widget-view+json": {
       "model_id": "bebc92a7ff0e476197bcb1c27061ede4",
       "version_major": 2,
       "version_minor": 0
      },
      "text/plain": [
       "Map(bottom=281405.0, center=[-12.908744902436744, -69.9947155021359], controls=(WidgetControl(options=['positi…"
      ]
     },
     "metadata": {},
     "output_type": "display_data"
    }
   ],
   "source": [
    "# Visualizar \n",
    "Map.addLayer(TB_ASTER.select(\"TB10\"), viz_TB,name = \"TB B10 Celsi\")\n",
    "Map"
   ]
  },
  {
   "cell_type": "markdown",
   "id": "21b9edf6-9d43-4e8f-9fba-3de06af4e8f5",
   "metadata": {},
   "source": [
    "## Exportar Imagen calibrado"
   ]
  },
  {
   "cell_type": "code",
   "execution_count": 24,
   "id": "8ebc86c3-0af7-43d7-9db9-457d647aa57d",
   "metadata": {},
   "outputs": [],
   "source": [
    "import os"
   ]
  },
  {
   "cell_type": "code",
   "execution_count": 25,
   "id": "42129614-e6db-47df-8d50-2a3e8fd1e1d9",
   "metadata": {},
   "outputs": [
    {
     "data": {
      "text/plain": [
       "'C:\\\\Users\\\\GEOMATICA\\\\Teledeteccion_Python\\\\GEE'"
      ]
     },
     "execution_count": 25,
     "metadata": {},
     "output_type": "execute_result"
    }
   ],
   "source": [
    "os.getcwd()"
   ]
  },
  {
   "cell_type": "code",
   "execution_count": 26,
   "id": "6cc71c31-4ed1-44d2-bc8a-331cdf6c2703",
   "metadata": {},
   "outputs": [
    {
     "data": {
      "text/plain": [
       "'E:\\\\Teledeteccion_GEE\\\\Python\\\\Datos_Espaciales\\\\Resultado_GEE'"
      ]
     },
     "execution_count": 26,
     "metadata": {},
     "output_type": "execute_result"
    }
   ],
   "source": [
    "ruta_archivos = r\"E:\\Teledeteccion_GEE\\Python\\Datos_Espaciales\\Resultado_GEE\"\n",
    "os.chdir(ruta_archivos) # Cambiar ruta trabajo\n",
    "os.getcwd() # Consultar ruta trabajo"
   ]
  },
  {
   "cell_type": "code",
   "execution_count": 27,
   "id": "d0bf9f3f-18c5-4fe9-b94c-23817c8faf7c",
   "metadata": {},
   "outputs": [
    {
     "name": "stdout",
     "output_type": "stream",
     "text": [
      "Exporting TB_ASTER_clip_B10_11_12_13_14 ...\n"
     ]
    }
   ],
   "source": [
    "# Exportar en google drive\n",
    "geemap.ee_export_image_to_drive(TB_ASTER, description='TB_ASTER_clip_B10_11_12_13_14', folder='GEE_Python', region=geometria, scale=90)"
   ]
  },
  {
   "cell_type": "code",
   "execution_count": null,
   "id": "eaeb7ec0-f37d-47de-b561-5886245d6082",
   "metadata": {},
   "outputs": [],
   "source": [
    "# Exportar en google drive\n",
    "geemap.ee_export_image_to_drive(TB_ASTER.select(\"TB10\"), description='TB_ASTER_clip_B10', folder='GEE_Python', region=geometria, scale=90)"
   ]
  }
 ],
 "metadata": {
  "kernelspec": {
   "display_name": "Python 3",
   "language": "python",
   "name": "python3"
  },
  "language_info": {
   "codemirror_mode": {
    "name": "ipython",
    "version": 3
   },
   "file_extension": ".py",
   "mimetype": "text/x-python",
   "name": "python",
   "nbconvert_exporter": "python",
   "pygments_lexer": "ipython3",
   "version": "3.7.10"
  }
 },
 "nbformat": 4,
 "nbformat_minor": 5
}
