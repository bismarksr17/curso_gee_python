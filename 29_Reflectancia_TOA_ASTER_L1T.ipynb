{
 "cells": [
  {
   "cell_type": "markdown",
   "id": "490d0c78-6f6e-46ba-90ae-39ffbe10902f",
   "metadata": {},
   "source": [
    "# Reflectancia TOA ASTER L1T GEE"
   ]
  },
  {
   "cell_type": "code",
   "execution_count": 1,
   "id": "043760aa-2b58-4a39-9f58-65a35882f033",
   "metadata": {},
   "outputs": [],
   "source": [
    "# Importar paquete GEE\n",
    "import ee\n",
    "ee.Initialize()"
   ]
  },
  {
   "cell_type": "markdown",
   "id": "2d26fe64-bd48-4d2b-a163-397f73626254",
   "metadata": {},
   "source": [
    "## Filtro zona estudio mediante GEE"
   ]
  },
  {
   "cell_type": "code",
   "execution_count": 2,
   "id": "e61690ab-8bc1-48f1-916b-032b0b60a605",
   "metadata": {},
   "outputs": [],
   "source": [
    "# Agregar un shp GEE\n",
    "zona_ee = ee.FeatureCollection(\"users/bravomoralesnino/SHP/ZONA_19S\")"
   ]
  },
  {
   "cell_type": "code",
   "execution_count": 3,
   "id": "053400f8-b824-4c87-962e-d4a6890f2915",
   "metadata": {},
   "outputs": [],
   "source": [
    "# Importar geemap\n",
    "import geemap\n",
    "Map = geemap.Map(basemap='ESRI')"
   ]
  },
  {
   "cell_type": "code",
   "execution_count": 4,
   "id": "7cf88081-ab05-4cad-a91e-88c520553f04",
   "metadata": {},
   "outputs": [],
   "source": [
    "geometria = zona_ee.geometry()\n",
    "Map.centerObject(geometria, 11)"
   ]
  },
  {
   "cell_type": "code",
   "execution_count": 5,
   "id": "77fec369-1998-4b35-a923-be7a49f5e47b",
   "metadata": {},
   "outputs": [
    {
     "data": {
      "application/vnd.jupyter.widget-view+json": {
       "model_id": "1b5e529073824b92b461ab1040583ae7",
       "version_major": 2,
       "version_minor": 0
      },
      "text/plain": [
       "Map(center=[-12.908744902436744, -69.9947155021359], controls=(WidgetControl(options=['position', 'transparent…"
      ]
     },
     "metadata": {},
     "output_type": "display_data"
    }
   ],
   "source": [
    "Map.addLayer(zona_ee, {\"color\" : \"00FF11\"}, name = \"Zona\")\n",
    "Map"
   ]
  },
  {
   "cell_type": "markdown",
   "id": "185850d9-3082-4c5b-95ea-6403e7813197",
   "metadata": {},
   "source": [
    "## Seleccion de imagen ASTER L1T"
   ]
  },
  {
   "cell_type": "code",
   "execution_count": 6,
   "id": "c8127063-7183-4564-aa46-1f9924e8c092",
   "metadata": {},
   "outputs": [],
   "source": [
    "# Seleccionar una imagen\n",
    "ASTER_img = ee.Image(\"ASTER/AST_L1T_003/20070730150418\")\\\n",
    "              .select([\"B01\",\"B02\",\"B3N\",\"B04\",\"B05\",\"B06\",\"B07\",\"B08\",\"B09\"])\\\n",
    "              .clip(zona_ee)"
   ]
  },
  {
   "cell_type": "code",
   "execution_count": 7,
   "id": "d783a652-9c90-47f6-9550-675a5e1f84a4",
   "metadata": {},
   "outputs": [
    {
     "name": "stdout",
     "output_type": "stream",
     "text": [
      "['B01', 'B02', 'B3N', 'B04', 'B05', 'B06', 'B07', 'B08', 'B09']\n"
     ]
    }
   ],
   "source": [
    "# Nombre de las bandas\n",
    "print(ASTER_img.bandNames().getInfo())"
   ]
  },
  {
   "cell_type": "code",
   "execution_count": 8,
   "id": "dde6d61f-20ca-4cb0-b039-3527942a4dac",
   "metadata": {},
   "outputs": [
    {
     "data": {
      "text/plain": [
       "{'type': 'Projection',\n",
       " 'crs': 'EPSG:32619',\n",
       " 'transform': [15, 0, 333083, 0, -15, -1388422]}"
      ]
     },
     "execution_count": 8,
     "metadata": {},
     "output_type": "execute_result"
    }
   ],
   "source": [
    "# Proyeccion se encuentra zona y resolucion espacial 15m B1\n",
    "ASTER_img.select([\"B01\"]).projection().getInfo()"
   ]
  },
  {
   "cell_type": "code",
   "execution_count": 9,
   "id": "c6b385d9-ea38-46a4-81d6-109d26c95fd6",
   "metadata": {},
   "outputs": [
    {
     "data": {
      "text/plain": [
       "{'type': 'Projection',\n",
       " 'crs': 'EPSG:32619',\n",
       " 'transform': [30, 0, 333075, 0, -30, -1388415]}"
      ]
     },
     "execution_count": 9,
     "metadata": {},
     "output_type": "execute_result"
    }
   ],
   "source": [
    "# Proyeccion se encuentra zona y resolucion espacial 30m B1\n",
    "ASTER_img.select([\"B06\"]).projection().getInfo()"
   ]
  },
  {
   "cell_type": "code",
   "execution_count": 10,
   "id": "e80c307c-1de6-4bb7-94eb-35afccec8478",
   "metadata": {},
   "outputs": [],
   "source": [
    "# Reproyeccion segun zona\n",
    "ASTER_img_utm = ASTER_img.reproject(crs=\"EPSG:32719\", scale = 15)"
   ]
  },
  {
   "cell_type": "code",
   "execution_count": 15,
   "id": "e48b6776-4ee0-4a33-81e0-e16c78612af7",
   "metadata": {},
   "outputs": [
    {
     "data": {
      "text/plain": [
       "{'type': 'Projection', 'crs': 'EPSG:32719', 'transform': [15, 0, 0, 0, -15, 0]}"
      ]
     },
     "execution_count": 15,
     "metadata": {},
     "output_type": "execute_result"
    }
   ],
   "source": [
    "# Consultar proyeccion\n",
    "ASTER_img_utm.projection().getInfo()"
   ]
  },
  {
   "cell_type": "code",
   "execution_count": 16,
   "id": "309830e9-9b29-45cc-aa8f-2a9b144c9a48",
   "metadata": {},
   "outputs": [],
   "source": [
    "# Simbologia ND\n",
    "viz = {\n",
    "    'bands': ['B07', 'B3N', 'B02'],\n",
    "    'min': 30,\n",
    "    'max': 150,\n",
    "    'gamma': 1.8\n",
    "}"
   ]
  },
  {
   "cell_type": "code",
   "execution_count": 17,
   "id": "9ed1e3e8-d303-4821-92e5-72df7b5e6699",
   "metadata": {},
   "outputs": [
    {
     "data": {
      "application/vnd.jupyter.widget-view+json": {
       "model_id": "1b5e529073824b92b461ab1040583ae7",
       "version_major": 2,
       "version_minor": 0
      },
      "text/plain": [
       "Map(bottom=281405.0, center=[-12.908744902436744, -69.9947155021359], controls=(WidgetControl(options=['positi…"
      ]
     },
     "metadata": {},
     "output_type": "display_data"
    }
   ],
   "source": [
    "# Visualizar \n",
    "Map.addLayer(ASTER_img_utm, viz,name = \"ASTER L1T Rad\")\n",
    "Map"
   ]
  },
  {
   "cell_type": "markdown",
   "id": "f87fc2ab-9a61-4e46-906b-58147088a054",
   "metadata": {},
   "source": [
    "## Seleccion de las bandas"
   ]
  },
  {
   "cell_type": "code",
   "execution_count": 18,
   "id": "90160815-223c-4eef-8967-700313d8ffa2",
   "metadata": {},
   "outputs": [],
   "source": [
    "# Seleccionar las bandas\n",
    "B1 = ASTER_img_utm.select(\"B01\")\n",
    "B2 = ASTER_img_utm.select(\"B02\")\n",
    "B3 = ASTER_img_utm.select(\"B3N\")\n",
    "B4 = ASTER_img_utm.select(\"B04\")\n",
    "B5 = ASTER_img_utm.select(\"B05\")\n",
    "B6 = ASTER_img_utm.select(\"B06\")\n",
    "B7 = ASTER_img_utm.select(\"B07\")\n",
    "B8 = ASTER_img_utm.select(\"B08\")\n",
    "B9 = ASTER_img_utm.select(\"B09\")"
   ]
  },
  {
   "cell_type": "markdown",
   "id": "c81cb688-7b76-4036-a10d-2c46a2f52bd1",
   "metadata": {},
   "source": [
    "## Convertir a Randiancia Sensor"
   ]
  },
  {
   "cell_type": "code",
   "execution_count": 20,
   "id": "5cba3fb4-0ebe-4133-9315-776c41e3051b",
   "metadata": {},
   "outputs": [],
   "source": [
    "# Del 2008 adelante no hay bandas 05 al 09\n",
    "gain_B01 = ASTER_img_utm.get('GAIN_COEFFICIENT_B01').getInfo()\n",
    "gain_B02 = ASTER_img_utm.get('GAIN_COEFFICIENT_B02').getInfo()\n",
    "gain_B03 = ASTER_img_utm.get('GAIN_COEFFICIENT_B3N').getInfo()\n",
    "gain_B04 = ASTER_img_utm.get('GAIN_COEFFICIENT_B04').getInfo()\n",
    "gain_B05 = ASTER_img_utm.get('GAIN_COEFFICIENT_B05').getInfo()\n",
    "gain_B06 = ASTER_img_utm.get('GAIN_COEFFICIENT_B06').getInfo()\n",
    "gain_B07 = ASTER_img_utm.get('GAIN_COEFFICIENT_B07').getInfo()\n",
    "gain_B08 = ASTER_img_utm.get('GAIN_COEFFICIENT_B08').getInfo()\n",
    "gain_B09 = ASTER_img_utm.get('GAIN_COEFFICIENT_B09').getInfo()"
   ]
  },
  {
   "cell_type": "code",
   "execution_count": 21,
   "id": "c5df9879-d30a-4c46-a19a-a1053ed2244a",
   "metadata": {},
   "outputs": [],
   "source": [
    "# Determinar radiancia\n",
    "L1 = B1.subtract(1).multiply(gain_B01)\n",
    "L2 = B2.subtract(1).multiply(gain_B02)\n",
    "L3 = B3.subtract(1).multiply(gain_B03)\n",
    "L4 = B4.subtract(1).multiply(gain_B04)\n",
    "L5 = B5.subtract(1).multiply(gain_B05)\n",
    "L6 = B6.subtract(1).multiply(gain_B06)\n",
    "L7 = B7.subtract(1).multiply(gain_B07)\n",
    "L8 = B8.subtract(1).multiply(gain_B08)\n",
    "L9 = B9.subtract(1).multiply(gain_B09)"
   ]
  },
  {
   "cell_type": "markdown",
   "id": "9ca66c66-171b-460a-815f-c20a1df3333f",
   "metadata": {},
   "source": [
    "## Determinar día juliano ASTER L1T"
   ]
  },
  {
   "cell_type": "code",
   "execution_count": 22,
   "id": "33cbf6e6-5107-4d31-9e1b-22ddb173321e",
   "metadata": {},
   "outputs": [
    {
     "data": {
      "text/plain": [
       "'ASTER/AST_L1T_003/20070730150418'"
      ]
     },
     "execution_count": 22,
     "metadata": {},
     "output_type": "execute_result"
    }
   ],
   "source": [
    "# Determinar dia juliano ASTER L1T\n",
    "ID_ASTER = ASTER_img.get(\"system:id\").getInfo()\n",
    "ID_ASTER"
   ]
  },
  {
   "cell_type": "code",
   "execution_count": 24,
   "id": "ea20c849-2862-4049-8919-db3402746cef",
   "metadata": {},
   "outputs": [
    {
     "data": {
      "text/plain": [
       "2007"
      ]
     },
     "execution_count": 24,
     "metadata": {},
     "output_type": "execute_result"
    }
   ],
   "source": [
    "year = int(ID_ASTER[18:22])\n",
    "year"
   ]
  },
  {
   "cell_type": "code",
   "execution_count": 25,
   "id": "560ecda7-03fb-454c-80ce-42d696ce2fdc",
   "metadata": {},
   "outputs": [
    {
     "data": {
      "text/plain": [
       "7"
      ]
     },
     "execution_count": 25,
     "metadata": {},
     "output_type": "execute_result"
    }
   ],
   "source": [
    "month = int(ID_ASTER[22:24])\n",
    "month"
   ]
  },
  {
   "cell_type": "code",
   "execution_count": 26,
   "id": "76890164-b1ba-4070-a77a-c2ff63c9b6ff",
   "metadata": {},
   "outputs": [
    {
     "data": {
      "text/plain": [
       "30"
      ]
     },
     "execution_count": 26,
     "metadata": {},
     "output_type": "execute_result"
    }
   ],
   "source": [
    "day = int(ID_ASTER[24:26])\n",
    "day"
   ]
  },
  {
   "cell_type": "code",
   "execution_count": 27,
   "id": "8ea7a2e5-8b00-4418-9c32-747d238e4fde",
   "metadata": {},
   "outputs": [],
   "source": [
    "import datetime as dt"
   ]
  },
  {
   "cell_type": "code",
   "execution_count": 28,
   "id": "a55ba4a6-e130-4dd6-beae-b2a9b2edd2e2",
   "metadata": {},
   "outputs": [
    {
     "data": {
      "text/plain": [
       "datetime.datetime(2007, 7, 30, 0, 0)"
      ]
     },
     "execution_count": 28,
     "metadata": {},
     "output_type": "execute_result"
    }
   ],
   "source": [
    "fecha = dt.datetime(year,month,day)\n",
    "fecha"
   ]
  },
  {
   "cell_type": "code",
   "execution_count": 29,
   "id": "43e6bed1-8909-4e34-a5b1-dc964478c649",
   "metadata": {},
   "outputs": [
    {
     "data": {
      "text/plain": [
       "211"
      ]
     },
     "execution_count": 29,
     "metadata": {},
     "output_type": "execute_result"
    }
   ],
   "source": [
    "dia_juliano = int(fecha.strftime(\"%j\"))\n",
    "dia_juliano"
   ]
  },
  {
   "cell_type": "markdown",
   "id": "44a455ba-45a2-45c6-adcb-3c77611c6940",
   "metadata": {},
   "source": [
    "## Determinar distancia sol a tierra \"d\""
   ]
  },
  {
   "cell_type": "code",
   "execution_count": 30,
   "id": "f4d8894a-5da1-4d14-a0b9-30e19cb993ab",
   "metadata": {},
   "outputs": [
    {
     "data": {
      "text/plain": [
       "1.0150238355231924"
      ]
     },
     "execution_count": 30,
     "metadata": {},
     "output_type": "execute_result"
    }
   ],
   "source": [
    "import math\n",
    "# Determinar la distancia del sol a tierra\n",
    "d = 1 + 0.0167*(math.sin((2*math.pi*(dia_juliano - 93.5))/365))\n",
    "d"
   ]
  },
  {
   "cell_type": "markdown",
   "id": "2631df8c-f60f-4720-92cd-0ffeb529c895",
   "metadata": {},
   "source": [
    "## Determinar angulo elevación solar"
   ]
  },
  {
   "cell_type": "code",
   "execution_count": 31,
   "id": "d8c91c1a-0016-49b9-99e4-60411d4d83c5",
   "metadata": {},
   "outputs": [
    {
     "data": {
      "text/plain": [
       "49.541722"
      ]
     },
     "execution_count": 31,
     "metadata": {},
     "output_type": "execute_result"
    }
   ],
   "source": [
    "# Determinar elevacion solar\n",
    "SOLAR_ELEVATION = ASTER_img.get(\"SOLAR_ELEVATION\").getInfo()\n",
    "SOLAR_ELEVATION"
   ]
  },
  {
   "cell_type": "code",
   "execution_count": 32,
   "id": "8affd138-ec83-42cf-85e2-e5410c0218a8",
   "metadata": {},
   "outputs": [
    {
     "data": {
      "text/plain": [
       "0.8646661660077102"
      ]
     },
     "execution_count": 32,
     "metadata": {},
     "output_type": "execute_result"
    }
   ],
   "source": [
    "# Conversion angulo de elevacion solar a radianes\n",
    "SOLAR_ELEVATION_R = SOLAR_ELEVATION*math.pi/180\n",
    "SOLAR_ELEVATION_R"
   ]
  },
  {
   "cell_type": "markdown",
   "id": "4bd7cef2-eed3-41b1-817f-844687373aae",
   "metadata": {},
   "source": [
    "## ESUN bandas ASTER L1T"
   ]
  },
  {
   "cell_type": "code",
   "execution_count": 33,
   "id": "af44b91e-a86d-4ee6-bdb6-b0ce03bc5775",
   "metadata": {},
   "outputs": [],
   "source": [
    "# ESUN ASTER L1T\n",
    "ESUN = [1848,1549,1114,225.4,86.63,81.85,74.85,66.49,59.85]"
   ]
  },
  {
   "cell_type": "code",
   "execution_count": 36,
   "id": "b16aa2b5-bd70-496d-843a-d84eb1b893c5",
   "metadata": {},
   "outputs": [
    {
     "data": {
      "text/plain": [
       "1848"
      ]
     },
     "execution_count": 36,
     "metadata": {},
     "output_type": "execute_result"
    }
   ],
   "source": [
    "ESUN[0]"
   ]
  },
  {
   "cell_type": "markdown",
   "id": "ec10d3bc-a0db-4bc5-a61c-e96686ea4b4e",
   "metadata": {},
   "source": [
    "## Determinación reflectancia TOA "
   ]
  },
  {
   "cell_type": "code",
   "execution_count": 38,
   "id": "3a016fb9-4a4a-4d01-8b19-b96614b5e5a3",
   "metadata": {},
   "outputs": [
    {
     "data": {
      "text/plain": [
       "1.0302733866802127"
      ]
     },
     "execution_count": 38,
     "metadata": {},
     "output_type": "execute_result"
    }
   ],
   "source": [
    "d*d"
   ]
  },
  {
   "cell_type": "code",
   "execution_count": 39,
   "id": "5d8b9a28-450d-4ddf-afde-92028c1dbbf2",
   "metadata": {},
   "outputs": [],
   "source": [
    "# Banda Reflectancia TOA GEE\n",
    "pi = ee.Image(math.pi)\n",
    "SUN_ELEVATION_ee = ee.Number(SOLAR_ELEVATION_R)\n",
    "d = ee.Image(d*d)\n",
    "esun1 = ee.Image(ESUN[0])\n",
    "esun2 = ee.Image(ESUN[1])\n",
    "esun3 = ee.Image(ESUN[2])\n",
    "esun4 = ee.Image(ESUN[3])\n",
    "esun5 = ee.Image(ESUN[4])\n",
    "esun6 = ee.Image(ESUN[5])\n",
    "esun7 = ee.Image(ESUN[6])\n",
    "esun8 = ee.Image(ESUN[7])\n",
    "esun9 = ee.Image(ESUN[8])"
   ]
  },
  {
   "cell_type": "code",
   "execution_count": 40,
   "id": "2e16bb5e-7414-4d05-af84-8648cc76b73d",
   "metadata": {},
   "outputs": [],
   "source": [
    "# Determinar reflectancia TOA\n",
    "TOA_B1 = L1.multiply(pi).multiply(d).divide(esun1.multiply(SUN_ELEVATION_ee.sin()))\n",
    "TOA_B2 = L2.multiply(pi).multiply(d).divide(esun2.multiply(SUN_ELEVATION_ee.sin()))\n",
    "TOA_B3 = L3.multiply(pi).multiply(d).divide(esun3.multiply(SUN_ELEVATION_ee.sin()))\n",
    "TOA_B4 = L4.multiply(pi).multiply(d).divide(esun4.multiply(SUN_ELEVATION_ee.sin()))\n",
    "TOA_B5 = L5.multiply(pi).multiply(d).divide(esun5.multiply(SUN_ELEVATION_ee.sin()))\n",
    "TOA_B6 = L6.multiply(pi).multiply(d).divide(esun6.multiply(SUN_ELEVATION_ee.sin()))\n",
    "TOA_B7 = L7.multiply(pi).multiply(d).divide(esun7.multiply(SUN_ELEVATION_ee.sin()))\n",
    "TOA_B8 = L8.multiply(pi).multiply(d).divide(esun8.multiply(SUN_ELEVATION_ee.sin()))\n",
    "TOA_B9 = L9.multiply(pi).multiply(d).divide(esun9.multiply(SUN_ELEVATION_ee.sin()))"
   ]
  },
  {
   "cell_type": "markdown",
   "id": "9b9e5f72-3889-4930-ad64-dc07ed8e6252",
   "metadata": {},
   "source": [
    "## Composicion de bandas"
   ]
  },
  {
   "cell_type": "code",
   "execution_count": 41,
   "id": "23a94684-be76-4114-943d-cbc0a4e4bbba",
   "metadata": {},
   "outputs": [],
   "source": [
    "# Compilacion de las bandas\n",
    "TOA_B123456789 = TOA_B1.addBands([TOA_B2,TOA_B3,TOA_B4,TOA_B5,\n",
    "                                  TOA_B6,TOA_B7,TOA_B8,TOA_B9])"
   ]
  },
  {
   "cell_type": "code",
   "execution_count": 42,
   "id": "820dd520-7e00-4811-92cb-f0ed6278a8f8",
   "metadata": {},
   "outputs": [],
   "source": [
    "# Simbologia TOA\n",
    "viz_toa = {\n",
    "    'bands': ['B07', 'B3N', 'B02'],\n",
    "    'min': 0.1,\n",
    "    'max': 0.6,\n",
    "    'gamma': 1.8\n",
    "}"
   ]
  },
  {
   "cell_type": "code",
   "execution_count": 43,
   "id": "65d2fdc6-afcd-447e-9fee-517c5a7752c6",
   "metadata": {},
   "outputs": [
    {
     "data": {
      "application/vnd.jupyter.widget-view+json": {
       "model_id": "1b5e529073824b92b461ab1040583ae7",
       "version_major": 2,
       "version_minor": 0
      },
      "text/plain": [
       "Map(bottom=281402.2727050781, center=[-12.906859517826103, -69.90222930908205], controls=(WidgetControl(option…"
      ]
     },
     "metadata": {},
     "output_type": "display_data"
    }
   ],
   "source": [
    "# Visualizar \n",
    "Map.addLayer(TOA_B123456789, viz_toa,name = \"ASTER L1T TOA\")\n",
    "Map"
   ]
  },
  {
   "cell_type": "markdown",
   "id": "21b9edf6-9d43-4e8f-9fba-3de06af4e8f5",
   "metadata": {},
   "source": [
    "## Exportar Imagen calibrado"
   ]
  },
  {
   "cell_type": "code",
   "execution_count": 44,
   "id": "8ebc86c3-0af7-43d7-9db9-457d647aa57d",
   "metadata": {},
   "outputs": [],
   "source": [
    "import os"
   ]
  },
  {
   "cell_type": "code",
   "execution_count": 45,
   "id": "42129614-e6db-47df-8d50-2a3e8fd1e1d9",
   "metadata": {},
   "outputs": [
    {
     "data": {
      "text/plain": [
       "'C:\\\\Users\\\\GEOMATICA\\\\Teledeteccion_Python\\\\GEE'"
      ]
     },
     "execution_count": 45,
     "metadata": {},
     "output_type": "execute_result"
    }
   ],
   "source": [
    "os.getcwd()"
   ]
  },
  {
   "cell_type": "code",
   "execution_count": 46,
   "id": "6cc71c31-4ed1-44d2-bc8a-331cdf6c2703",
   "metadata": {},
   "outputs": [
    {
     "data": {
      "text/plain": [
       "'E:\\\\Teledeteccion_GEE\\\\Python\\\\Datos_Espaciales\\\\Resultado_GEE'"
      ]
     },
     "execution_count": 46,
     "metadata": {},
     "output_type": "execute_result"
    }
   ],
   "source": [
    "ruta_archivos = r\"E:\\Teledeteccion_GEE\\Python\\Datos_Espaciales\\Resultado_GEE\"\n",
    "os.chdir(ruta_archivos) # Cambiar ruta trabajo\n",
    "os.getcwd() # Consultar ruta trabajo"
   ]
  },
  {
   "cell_type": "code",
   "execution_count": 47,
   "id": "d0bf9f3f-18c5-4fe9-b94c-23817c8faf7c",
   "metadata": {},
   "outputs": [
    {
     "name": "stdout",
     "output_type": "stream",
     "text": [
      "Exporting ASTER_TOA_B123456789_clip ...\n"
     ]
    }
   ],
   "source": [
    "# Exportar en google drive\n",
    "geemap.ee_export_image_to_drive(TOA_B123456789, description='ASTER_TOA_B123456789_clip', folder='GEE_Python', region=geometria, scale=15)"
   ]
  },
  {
   "cell_type": "code",
   "execution_count": null,
   "id": "eaeb7ec0-f37d-47de-b561-5886245d6082",
   "metadata": {},
   "outputs": [],
   "source": []
  }
 ],
 "metadata": {
  "kernelspec": {
   "display_name": "Python 3",
   "language": "python",
   "name": "python3"
  },
  "language_info": {
   "codemirror_mode": {
    "name": "ipython",
    "version": 3
   },
   "file_extension": ".py",
   "mimetype": "text/x-python",
   "name": "python",
   "nbconvert_exporter": "python",
   "pygments_lexer": "ipython3",
   "version": "3.7.10"
  }
 },
 "nbformat": 4,
 "nbformat_minor": 5
}
