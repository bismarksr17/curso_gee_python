{
 "cells": [
  {
   "cell_type": "markdown",
   "id": "95e85631-d783-4086-9356-720c225a1d9d",
   "metadata": {},
   "source": [
    "# Agregar imagen subido en google Earth Engine"
   ]
  },
  {
   "cell_type": "code",
   "execution_count": 1,
   "id": "a2fdfeb5-3857-4852-9002-048ec4adfae0",
   "metadata": {},
   "outputs": [],
   "source": [
    "import ee\n",
    "ee.Initialize()"
   ]
  },
  {
   "cell_type": "markdown",
   "id": "f5554348-7724-44b8-8238-9730a42c8799",
   "metadata": {},
   "source": [
    "## Agregar imagen Reflectancia Superficie GEE"
   ]
  },
  {
   "cell_type": "code",
   "execution_count": 2,
   "id": "0e833041-2c4f-480a-bf26-ef312e5117e2",
   "metadata": {},
   "outputs": [
    {
     "data": {
      "text/plain": [
       "['b1', 'b2', 'b3', 'b4', 'b5', 'b6']"
      ]
     },
     "execution_count": 2,
     "metadata": {},
     "output_type": "execute_result"
    }
   ],
   "source": [
    "# Obtener el ID imagen que se subido Code Editor GEE Reflectancia Superficie\n",
    "image = ee.Image(\"users/bravomoralesnino/Imagenes/L8_RS_B234567\")\n",
    "image.bandNames().getInfo()"
   ]
  },
  {
   "cell_type": "code",
   "execution_count": 3,
   "id": "c0af552f-ea7f-4f81-bea2-be2de79c992f",
   "metadata": {},
   "outputs": [],
   "source": [
    "# Simbologia escala 0 - 1\n",
    "viz_rs = {\n",
    "    'bands': [\"b5\",\"b4\",\"b3\"],\n",
    "    'min': 0.1,\n",
    "    'max': 0.4,\n",
    "    'gamma': 1.3\n",
    "}"
   ]
  },
  {
   "cell_type": "code",
   "execution_count": 4,
   "id": "0c7101c6-712a-4245-9578-cf4713a945b8",
   "metadata": {},
   "outputs": [],
   "source": [
    "geometria = image.geometry()"
   ]
  },
  {
   "cell_type": "code",
   "execution_count": 5,
   "id": "4da2a86b-784b-4fe5-bda6-32faa4082735",
   "metadata": {},
   "outputs": [],
   "source": [
    "# Importar geemap\n",
    "import geemap\n",
    "Map = geemap.Map(basemap='SATELLITE')"
   ]
  },
  {
   "cell_type": "code",
   "execution_count": 6,
   "id": "3ac9754c-ecff-4873-a321-59261c3c01ab",
   "metadata": {},
   "outputs": [
    {
     "data": {
      "application/vnd.jupyter.widget-view+json": {
       "model_id": "d66a09153d0a424f8b8d9acfe88b9c06",
       "version_major": 2,
       "version_minor": 0
      },
      "text/plain": [
       "Map(center=[-12.910199885648254, -69.99571089858607], controls=(WidgetControl(options=['position', 'transparen…"
      ]
     },
     "metadata": {},
     "output_type": "display_data"
    }
   ],
   "source": [
    "# Visualizacion de imagen\n",
    "Map.centerObject(geometria,11)\n",
    "Map.addLayer(image, viz_rs, 'L8_B654')\n",
    "Map"
   ]
  },
  {
   "cell_type": "markdown",
   "id": "83af926a-9cc7-451c-be2f-a2873845e7b1",
   "metadata": {},
   "source": [
    "## Agraregar una imagen clasificado GEE"
   ]
  },
  {
   "cell_type": "code",
   "execution_count": 7,
   "id": "08640ddf-d502-44ce-82ca-738d701ac066",
   "metadata": {},
   "outputs": [
    {
     "data": {
      "text/plain": [
       "['b1']"
      ]
     },
     "execution_count": 7,
     "metadata": {},
     "output_type": "execute_result"
    }
   ],
   "source": [
    "# Subir imagen clasificado GEE\n",
    "Class_image = ee.Image(\"users/bravomoralesnino/Imagenes/Class_L8\")\n",
    "Class_image.bandNames().getInfo()"
   ]
  },
  {
   "cell_type": "code",
   "execution_count": 8,
   "id": "97c39cfa-b57b-476c-8f29-eb0abb28c631",
   "metadata": {},
   "outputs": [],
   "source": [
    "# Simbologia clasificado\n",
    "viz = {\n",
    "    'bands': \"b1\",\n",
    "    'min': 1,\n",
    "    'max': 4,\n",
    "    'palette': [\"#396a09\", \"#0d0de1\",\n",
    "                \"#58ef12\", '#dc0f0f']\n",
    "}"
   ]
  },
  {
   "cell_type": "code",
   "execution_count": 9,
   "id": "c30fc369-bcb4-4e4c-b54c-b1e4926dcee2",
   "metadata": {},
   "outputs": [
    {
     "data": {
      "application/vnd.jupyter.widget-view+json": {
       "model_id": "d66a09153d0a424f8b8d9acfe88b9c06",
       "version_major": 2,
       "version_minor": 0
      },
      "text/plain": [
       "Map(bottom=281407.0, center=[-12.910199885648254, -69.99571089858607], controls=(WidgetControl(options=['posit…"
      ]
     },
     "metadata": {},
     "output_type": "display_data"
    }
   ],
   "source": [
    "# Visualizacion de imagen\n",
    "Map.addLayer(Class_image, viz, 'Clasificado Landsat8')\n",
    "Map"
   ]
  }
 ],
 "metadata": {
  "kernelspec": {
   "display_name": "Python 3",
   "language": "python",
   "name": "python3"
  },
  "language_info": {
   "codemirror_mode": {
    "name": "ipython",
    "version": 3
   },
   "file_extension": ".py",
   "mimetype": "text/x-python",
   "name": "python",
   "nbconvert_exporter": "python",
   "pygments_lexer": "ipython3",
   "version": "3.7.10"
  }
 },
 "nbformat": 4,
 "nbformat_minor": 5
}
