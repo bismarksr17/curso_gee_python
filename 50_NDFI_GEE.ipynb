{
 "cells": [
  {
   "cell_type": "markdown",
   "id": "aaa8f1cd-6985-454a-9960-3b7fab13bee6",
   "metadata": {},
   "source": [
    "# Indice espectrales NDFI en GEE"
   ]
  },
  {
   "cell_type": "markdown",
   "id": "596cb262-1a2f-4068-b995-8bce99b86b4c",
   "metadata": {},
   "source": [
    "(indice Normalizado de Vegetacion Fraccionada)"
   ]
  },
  {
   "cell_type": "code",
   "execution_count": 1,
   "id": "c34f2e6f-c8b9-4d2f-be1c-8a90cd6235a5",
   "metadata": {},
   "outputs": [],
   "source": [
    "# Importar paquete GEE\n",
    "import ee\n",
    "ee.Initialize()"
   ]
  },
  {
   "cell_type": "markdown",
   "id": "f1fa9a94-95f3-4cbc-a7be-bca4e90ff75d",
   "metadata": {},
   "source": [
    "## Filtro zona estudio mediante GEE"
   ]
  },
  {
   "cell_type": "code",
   "execution_count": 2,
   "id": "765a9fea-bf30-4363-953a-db0eaa2ca530",
   "metadata": {},
   "outputs": [],
   "source": [
    "# Agregar un shp GEE\n",
    "zona_ee = ee.FeatureCollection(\"users/bravomoralesnino/SHP/ZONA_19S\")"
   ]
  },
  {
   "cell_type": "code",
   "execution_count": 3,
   "id": "d4d44161-428c-4e4d-aaca-b057e7b00c9a",
   "metadata": {},
   "outputs": [],
   "source": [
    "# Importar geemap\n",
    "import geemap\n",
    "Map = geemap.Map(basemap='ESRI')"
   ]
  },
  {
   "cell_type": "code",
   "execution_count": 4,
   "id": "c942dcfd-a13b-4d34-b9b4-fedb387ccbdf",
   "metadata": {},
   "outputs": [],
   "source": [
    "geometria = zona_ee.geometry()\n",
    "Map.centerObject(geometria,11)"
   ]
  },
  {
   "cell_type": "code",
   "execution_count": 5,
   "id": "26463d43-733b-4794-b3d0-b8d7e9bfb5c8",
   "metadata": {},
   "outputs": [
    {
     "data": {
      "application/vnd.jupyter.widget-view+json": {
       "model_id": "6f3ebf3bbcf5442c9c6c936e115ff92b",
       "version_major": 2,
       "version_minor": 0
      },
      "text/plain": [
       "Map(center=[-12.908744902436744, -69.9947155021359], controls=(WidgetControl(options=['position', 'transparent…"
      ]
     },
     "metadata": {},
     "output_type": "display_data"
    }
   ],
   "source": [
    "Map.addLayer(zona_ee, {\"color\" : \"00FF11\"},name = \"Zona estudio\")\n",
    "Map"
   ]
  },
  {
   "cell_type": "markdown",
   "id": "0f78f753-90ab-42fc-874f-70c4c923202d",
   "metadata": {},
   "source": [
    "## Seleccionar una imagen"
   ]
  },
  {
   "cell_type": "code",
   "execution_count": 6,
   "id": "ffe173de-eda5-4d94-825b-92c6de1a6b44",
   "metadata": {},
   "outputs": [],
   "source": [
    "# Seleccionar una imagen Landsat8\n",
    "img_L8 = ee.Image(\"LANDSAT/LC08/C01/T1_SR/LC08_003069_20190808\")\\\n",
    "             .select(['B2', 'B3', 'B4', 'B5', 'B6', 'B7'],\n",
    "                     ['BLUE', 'GREEN', 'RED', 'NIR', 'SWIR1', 'SWIR2'])\\\n",
    "             .multiply(0.0001)\\\n",
    "             .clip(zona_ee)\\\n",
    "             .reproject(crs=\"EPSG:32719\", scale = 30)"
   ]
  },
  {
   "cell_type": "code",
   "execution_count": 7,
   "id": "c22e1587-96d7-4ddb-978a-19d1618d7905",
   "metadata": {},
   "outputs": [
    {
     "data": {
      "text/plain": [
       "['BLUE', 'GREEN', 'RED', 'NIR', 'SWIR1', 'SWIR2']"
      ]
     },
     "execution_count": 7,
     "metadata": {},
     "output_type": "execute_result"
    }
   ],
   "source": [
    "# Nombre de las bandas\n",
    "img_L8.bandNames().getInfo()"
   ]
  },
  {
   "cell_type": "code",
   "execution_count": 8,
   "id": "7d5f3d5b-89e6-4a10-a4ea-2a9fa100e5a9",
   "metadata": {},
   "outputs": [],
   "source": [
    "# Simbologia escala 0 - 1\n",
    "viz_es = {\n",
    "    'bands': ['SWIR1','NIR','RED'],\n",
    "    'min': 0.1,\n",
    "    'max': 0.6,\n",
    "    'gamma': 1.6\n",
    "}"
   ]
  },
  {
   "cell_type": "code",
   "execution_count": 9,
   "id": "9e9582e6-d490-4dbb-9a6c-9a0ce4c17bc4",
   "metadata": {},
   "outputs": [
    {
     "data": {
      "application/vnd.jupyter.widget-view+json": {
       "model_id": "6f3ebf3bbcf5442c9c6c936e115ff92b",
       "version_major": 2,
       "version_minor": 0
      },
      "text/plain": [
       "Map(bottom=281405.0, center=[-12.908744902436744, -69.9947155021359], controls=(WidgetControl(options=['positi…"
      ]
     },
     "metadata": {},
     "output_type": "display_data"
    }
   ],
   "source": [
    "Map.addLayer(img_L8, viz_es,name = \"Landsat8 RS\")\n",
    "Map"
   ]
  },
  {
   "cell_type": "markdown",
   "id": "84e34681-f1f7-4bcd-a61d-ce701b1dc22e",
   "metadata": {},
   "source": [
    "## Crear función de fraccion y endmembers"
   ]
  },
  {
   "cell_type": "code",
   "execution_count": 10,
   "id": "fafe152d-9aaf-432d-9ab7-1c432aa32cb6",
   "metadata": {},
   "outputs": [],
   "source": [
    "def calcFractions(image):\n",
    "    endmembers = [\n",
    "        [0.0119, 0.0475, 0.0169, 0.625, 0.2399, 0.0675], #gv#\n",
    "        [0.1514, 0.1597, 0.1421, 0.3053, 0.7707, 0.1975], #npv#\n",
    "        [0.1799, 0.2479, 0.31580, 0.5437, 0.7707, 0.6646], #soil#\n",
    "    ]\n",
    "    bandNames = ['BLUE', 'GREEN', 'RED', 'NIR', 'SWIR1', 'SWIR2']\n",
    "    outBandNames = ['gv', 'npv', 'soil']\n",
    "    # Uminxing data\n",
    "    fractions = ee.Image(image)\\\n",
    "    .select(bandNames)\\\n",
    "    .unmix(endmembers)\\\n",
    "    .max(0)\\\n",
    "    .multiply(100)\\\n",
    "    .byte()\\\n",
    "    .select([0, 1, 2],outBandNames)\n",
    "    return (fractions)"
   ]
  },
  {
   "cell_type": "code",
   "execution_count": 11,
   "id": "ee177230-f2aa-4ea8-84c1-13c23e9b4c28",
   "metadata": {},
   "outputs": [],
   "source": [
    "# calculate 'gv', 'npv', 'soil'\n",
    "fraction = calcFractions(img_L8)"
   ]
  },
  {
   "cell_type": "markdown",
   "id": "67768217-c07b-4836-bd8b-6e7e7492ebdb",
   "metadata": {},
   "source": [
    "## Calcular Shade"
   ]
  },
  {
   "cell_type": "code",
   "execution_count": 12,
   "id": "9d6c34b3-a421-40dc-9baf-8e355bcc98c5",
   "metadata": {},
   "outputs": [],
   "source": [
    "# calculate SHADE\n",
    "suma = fraction.select(['gv', 'npv', 'soil']).reduce(ee.Reducer.sum())\n",
    "shade = suma.subtract(100).abs().byte().rename('shade')"
   ]
  },
  {
   "cell_type": "markdown",
   "id": "0d13af3b-e515-409e-bba7-434161868cb8",
   "metadata": {},
   "source": [
    "## Calcular GVshade"
   ]
  },
  {
   "cell_type": "code",
   "execution_count": 13,
   "id": "fc1e9700-c1b4-4f34-85d3-9fd7f6f1ecc1",
   "metadata": {},
   "outputs": [],
   "source": [
    "# calculate GVshade\n",
    "GVshade = fraction.select(['gv']) \\\n",
    "                      .divide(suma) \\\n",
    "                      .multiply(100) \\\n",
    "                      .byte() \\\n",
    "                      .rename('GVshade')"
   ]
  },
  {
   "cell_type": "markdown",
   "id": "d8a10081-40bb-42c0-ba7a-e0ac30b55966",
   "metadata": {},
   "source": [
    "## Concatenar imagenes"
   ]
  },
  {
   "cell_type": "code",
   "execution_count": 14,
   "id": "0ae0eba5-c5fb-4997-aa93-9cc706dd016e",
   "metadata": {},
   "outputs": [],
   "source": [
    "image_frac = fraction.addBands(shade).addBands(GVshade)"
   ]
  },
  {
   "cell_type": "markdown",
   "id": "aa52db7d-340c-42cf-85a0-e50def221de1",
   "metadata": {},
   "source": [
    "## Funcion calcular NDFI"
   ]
  },
  {
   "cell_type": "code",
   "execution_count": 15,
   "id": "bf8fc4ed-72f1-4219-bf0b-30d16fad5076",
   "metadata": {},
   "outputs": [],
   "source": [
    "# Calculate NDFI\n",
    "def Calc_NDFI(image):\n",
    "  ndfi = image.expression('(GVshade-(npv+soil))/(GVshade+npv+soil)', {\n",
    "    'GVshade':image.select('GVshade'),\n",
    "    'npv':image.select('npv'),\n",
    "    'soil':image.select('soil')\n",
    "      })\n",
    "  return ndfi.rename('NDFI')"
   ]
  },
  {
   "cell_type": "code",
   "execution_count": 16,
   "id": "b5438e2f-403e-4d13-9131-4f661cce49cf",
   "metadata": {},
   "outputs": [],
   "source": [
    "NDFI = Calc_NDFI(image_frac)"
   ]
  },
  {
   "cell_type": "code",
   "execution_count": 17,
   "id": "1e869c9e-f2db-4040-9a1a-82cd5025402e",
   "metadata": {},
   "outputs": [
    {
     "data": {
      "text/plain": [
       "['NDFI']"
      ]
     },
     "execution_count": 17,
     "metadata": {},
     "output_type": "execute_result"
    }
   ],
   "source": [
    "NDFI.bandNames().getInfo()"
   ]
  },
  {
   "cell_type": "code",
   "execution_count": 18,
   "id": "3a431cb9-82f9-40e9-8d92-bbe640699e4d",
   "metadata": {},
   "outputs": [],
   "source": [
    "# Simbologia NDFI\n",
    "viz_ndfi = {\n",
    "    'min': -1,\n",
    "    'max': 1,\n",
    "    'palette': [\"ffffff\",\"fffcff\",\"fff9ff\",\"fff7ff\",\"fff4ff\",\n",
    "                \"fff2ff\",\"ffefff\",\"ffecff\",\"ffeaff\",\"ffe7ff\",\"ffe5ff\",\"ffe2ff\",\n",
    "                \"ffe0ff\",\"ffddff\",\"ffdaff\",\"ffd8ff\",\"ffd5ff\",\"ffd3ff\",\"ffd0ff\",\n",
    "                \"ffceff\",\"ffcbff\",\"ffc8ff\",\"ffc6ff\",\"ffc3ff\",\"ffc1ff\",\"ffbeff\",\n",
    "                \"ffbcff\",\"ffb9ff\",\"ffb6ff\",\"ffb4ff\",\"ffb1ff\",\"ffafff\",\"ffacff\",\n",
    "                \"ffaaff\",\"ffa7ff\",\"ffa4ff\",\"ffa2ff\",\"ff9fff\",\"ff9dff\",\"ff9aff\",\n",
    "                \"ff97ff\",\"ff95ff\",\"ff92ff\",\"ff90ff\",\"ff8dff\",\"ff8bff\",\"ff88ff\",\n",
    "                \"ff85ff\",\"ff83ff\",\"ff80ff\",\"ff7eff\",\"ff7bff\",\"ff79ff\",\"ff76ff\",\n",
    "                \"ff73ff\",\"ff71ff\",\"ff6eff\",\"ff6cff\",\"ff69ff\",\"ff67ff\",\"ff64ff\",\n",
    "                \"ff61ff\",\"ff5fff\",\"ff5cff\",\"ff5aff\",\"ff57ff\",\"ff55ff\",\"ff52ff\",\n",
    "                \"ff4fff\",\"ff4dff\",\"ff4aff\",\"ff48ff\",\"ff45ff\",\"ff42ff\",\"ff40ff\",\n",
    "                \"ff3dff\",\"ff3bff\",\"ff38ff\",\"ff36ff\",\"ff33ff\",\"ff30ff\",\"ff2eff\",\n",
    "                \"ff2bff\",\"ff29ff\",\"ff26ff\",\"ff24ff\",\"ff21ff\",\"ff1eff\",\"ff1cff\",\n",
    "                \"ff19ff\",\"ff17ff\",\"ff14ff\",\"ff12ff\",\"ff0fff\",\"ff0cff\",\"ff0aff\",\n",
    "                \"ff07ff\",\"ff05ff\",\"ff02ff\",\"ff00ff\",\"ff00ff\",\"ff0af4\",\"ff15e9\",\n",
    "                \"ff1fdf\",\"ff2ad4\",\"ff35c9\",\"ff3fbf\",\"ff4ab4\",\"ff55aa\",\"ff5f9f\",\n",
    "                \"ff6a94\",\"ff748a\",\"ff7f7f\",\"ff8a74\",\"ff946a\",\"ff9f5f\",\"ffaa55\",\n",
    "                \"ffb44a\",\"ffbf3f\",\"ffc935\",\"ffd42a\",\"ffdf1f\",\"ffe915\",\"fff40a\",\n",
    "                \"ffff00\",\"ffff00\",\"fffb00\",\"fff700\",\"fff300\",\"fff000\",\"ffec00\",\n",
    "                \"ffe800\",\"ffe400\",\"ffe100\",\"ffdd00\",\"ffd900\",\"ffd500\",\"ffd200\",\n",
    "                \"ffce00\",\"ffca00\",\"ffc600\",\"ffc300\",\"ffbf00\",\"ffbb00\",\"ffb700\",\n",
    "                \"ffb400\",\"ffb000\",\"ffac00\",\"ffa800\",\"ffa500\",\"ffa500\",\"f7a400\",\n",
    "                \"f0a300\",\"e8a200\",\"e1a200\",\"d9a100\",\"d2a000\",\"ca9f00\",\"c39f00\",\n",
    "                \"bb9e00\",\"b49d00\",\"ac9c00\",\"a59c00\",\"9d9b00\",\"969a00\",\"8e9900\",\n",
    "                \"879900\",\"7f9800\",\"789700\",\"709700\",\"699600\",\"619500\",\"5a9400\",\n",
    "                \"529400\",\"4b9300\",\"439200\",\"349100\",\"2d9000\",\"258f00\",\"1e8e00\",\n",
    "                \"168e00\",\"0f8d00\",\"078c00\",\"008c00\",\"008c00\",\"008700\",\"008300\",\n",
    "                \"007f00\",\"007a00\",\"007600\",\"007200\",\"006e00\",\"006900\",\"006500\",\n",
    "                \"006100\",\"005c00\",\"005800\",\"005400\",\"005000\",\"004c00\"]\n",
    "}"
   ]
  },
  {
   "cell_type": "code",
   "execution_count": 19,
   "id": "7e1f0566-0d8d-460f-9de7-249062197ffc",
   "metadata": {},
   "outputs": [
    {
     "data": {
      "application/vnd.jupyter.widget-view+json": {
       "model_id": "6f3ebf3bbcf5442c9c6c936e115ff92b",
       "version_major": 2,
       "version_minor": 0
      },
      "text/plain": [
       "Map(bottom=281405.0, center=[-12.908744902436744, -69.9947155021359], controls=(WidgetControl(options=['positi…"
      ]
     },
     "metadata": {},
     "output_type": "display_data"
    }
   ],
   "source": [
    "Map.addLayer(NDFI, viz_ndfi,name = \"L8 NDFI\")\n",
    "Map"
   ]
  },
  {
   "cell_type": "markdown",
   "id": "cc99acf3-0996-4d36-90b3-f338395b233b",
   "metadata": {},
   "source": [
    "## Exportar Imagen"
   ]
  },
  {
   "cell_type": "code",
   "execution_count": 20,
   "id": "da97db0f-264e-4ef8-83b6-4241a8fb6bda",
   "metadata": {},
   "outputs": [
    {
     "data": {
      "text/plain": [
       "'C:\\\\Users\\\\GEOMATICA\\\\Teledeteccion_Python\\\\GEE'"
      ]
     },
     "execution_count": 20,
     "metadata": {},
     "output_type": "execute_result"
    }
   ],
   "source": [
    "import os\n",
    "os.getcwd()"
   ]
  },
  {
   "cell_type": "code",
   "execution_count": 21,
   "id": "2d66bfa9-9a6d-4e77-b36a-247413bac7b3",
   "metadata": {},
   "outputs": [
    {
     "data": {
      "text/plain": [
       "'E:\\\\Teledeteccion_GEE\\\\Python\\\\Datos_Espaciales\\\\Resultado_GEE'"
      ]
     },
     "execution_count": 21,
     "metadata": {},
     "output_type": "execute_result"
    }
   ],
   "source": [
    "ruta_archivos = r\"E:\\Teledeteccion_GEE\\Python\\Datos_Espaciales\\Resultado_GEE\"\n",
    "os.chdir(ruta_archivos) # Cambiar ruta trabajo\n",
    "os.getcwd() # Consultar ruta trabajo"
   ]
  },
  {
   "cell_type": "code",
   "execution_count": 22,
   "id": "6de73ad8-a350-47d2-8167-8f6240552fff",
   "metadata": {},
   "outputs": [
    {
     "name": "stdout",
     "output_type": "stream",
     "text": [
      "Generating URL ...\n",
      "Downloading data from https://earthengine.googleapis.com/v1alpha/projects/earthengine-legacy/thumbnails/e7b2ca0c271e125a2f43d50eb2cc5747-03999c345f1a329578d5e8f1a9ca7946:getPixels\n",
      "Please wait ...\n",
      "Data downloaded to E:\\Teledeteccion_GEE\\Python\\Datos_Espaciales\\Resultado_GEE\\L8_NDFI.tif\n"
     ]
    }
   ],
   "source": [
    "# Exportar imagen directorio\n",
    "geemap.ee_export_image(NDFI, filename=\"L8_NDFI.tif\", scale=30, region=geometria, file_per_band=False)"
   ]
  },
  {
   "cell_type": "code",
   "execution_count": 23,
   "id": "d3afd30e-257e-4acf-b2ae-666f8dc1b032",
   "metadata": {},
   "outputs": [
    {
     "name": "stdout",
     "output_type": "stream",
     "text": [
      "Exporting NDFI_L8 ...\n"
     ]
    }
   ],
   "source": [
    "# Exportar en google drive\n",
    "geemap.ee_export_image_to_drive(NDFI, description='NDFI_L8', folder='GEE_Python', region=geometria, scale=30)"
   ]
  },
  {
   "cell_type": "code",
   "execution_count": null,
   "id": "cabd8982-1182-4d97-8710-11e1b6f4f1ca",
   "metadata": {},
   "outputs": [],
   "source": []
  }
 ],
 "metadata": {
  "kernelspec": {
   "display_name": "Python 3",
   "language": "python",
   "name": "python3"
  },
  "language_info": {
   "codemirror_mode": {
    "name": "ipython",
    "version": 3
   },
   "file_extension": ".py",
   "mimetype": "text/x-python",
   "name": "python",
   "nbconvert_exporter": "python",
   "pygments_lexer": "ipython3",
   "version": "3.7.10"
  },
  "toc": {
   "base_numbering": 1,
   "nav_menu": {},
   "number_sections": true,
   "sideBar": true,
   "skip_h1_title": false,
   "title_cell": "Table of Contents",
   "title_sidebar": "Contents",
   "toc_cell": false,
   "toc_position": {},
   "toc_section_display": true,
   "toc_window_display": false
  }
 },
 "nbformat": 4,
 "nbformat_minor": 5
}
