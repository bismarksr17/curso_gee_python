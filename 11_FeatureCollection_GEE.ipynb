{
 "cells": [
  {
   "cell_type": "markdown",
   "id": "438c6222-e501-4cd7-84d1-eafc19aa6ab1",
   "metadata": {},
   "source": [
    "# Tipo datos FeatureCollection Google Earth Engine"
   ]
  },
  {
   "cell_type": "markdown",
   "id": "548817c8-07cd-418e-ad61-4927c99df212",
   "metadata": {},
   "source": [
    "Información de datos tipo FeatureCollection GEE: https://developers.google.com/earth-engine/apidocs/ee-featurecollection"
   ]
  },
  {
   "cell_type": "code",
   "execution_count": 1,
   "id": "b0310eb9-8f33-4eb3-aab0-c98cf6a3657c",
   "metadata": {},
   "outputs": [],
   "source": [
    "# Importar paquete GEE\n",
    "import ee\n",
    "ee.Initialize()"
   ]
  },
  {
   "cell_type": "markdown",
   "id": "870229bd-2db6-465d-a9ed-d1a776f74d09",
   "metadata": {},
   "source": [
    "## Crear feature tipo punto"
   ]
  },
  {
   "cell_type": "code",
   "execution_count": 2,
   "id": "f54a2150-7f2d-4a85-845f-9d420b87dfba",
   "metadata": {},
   "outputs": [],
   "source": [
    "# Crear feature de tipo punto\n",
    "Bosque = ee.Feature(ee.Geometry.Point(-62.709,-31.428), \n",
    "                     {\"Cobertura\" : \"Bosque\",\n",
    "                          \"Valor\" : 1})\n",
    "Agua = ee.Feature(ee.Geometry.Point(-61.248,-31.475), \n",
    "                     {\"Cobertura\" : \"Agua\",\n",
    "                          \"Valor\" : 2})\n",
    "Suelo = ee.Feature(ee.Geometry.Point(-61.765,-31.840),\n",
    "                    {\"Cobertura\" : \"Suelo\",\n",
    "                         \"Valor\" : 3})\n",
    "Agricultura = ee.Feature(ee.Geometry.Point(-62.534,-31.858),\n",
    "                          {\"Cobertura\" : \"Agricultura\",\n",
    "                               \"Valor\" : 4})"
   ]
  },
  {
   "cell_type": "code",
   "execution_count": 3,
   "id": "59d85343-e885-4980-9ba5-a7a614a55445",
   "metadata": {},
   "outputs": [],
   "source": [
    "# Composicion de features\n",
    "features = [Bosque,Agua,Suelo,Agricultura]"
   ]
  },
  {
   "cell_type": "markdown",
   "id": "0318d4a9-ea76-4cf4-a780-189ee8020e82",
   "metadata": {},
   "source": [
    "## Crear featureCollection"
   ]
  },
  {
   "cell_type": "code",
   "execution_count": 4,
   "id": "607fca3a-3f25-409c-90b5-50c5c94f9ac5",
   "metadata": {},
   "outputs": [],
   "source": [
    "# Crear un featureCollection\n",
    "Cobertura = ee.FeatureCollection(features)"
   ]
  },
  {
   "cell_type": "code",
   "execution_count": 7,
   "id": "5d8b6382-0fd2-4867-b374-a5d1689ae5a4",
   "metadata": {},
   "outputs": [],
   "source": [
    "import geemap\n",
    "Map = geemap.Map(basemap='ESRI')"
   ]
  },
  {
   "cell_type": "code",
   "execution_count": 8,
   "id": "ebcd8d35-a658-4620-98fa-38c1ca2d87a1",
   "metadata": {},
   "outputs": [
    {
     "data": {
      "application/vnd.jupyter.widget-view+json": {
       "model_id": "640f5d645b754f26bd21dc1b85b8e350",
       "version_major": 2,
       "version_minor": 0
      },
      "text/plain": [
       "Map(center=[-31.651608287720062, -62.06389280059453], controls=(WidgetControl(options=['position', 'transparen…"
      ]
     },
     "metadata": {},
     "output_type": "display_data"
    }
   ],
   "source": [
    "# Visualizar en el mapa\n",
    "Map.centerObject(Cobertura,8)\n",
    "Map.addLayer(Cobertura, {\"color\" : \"00FF11\"},name = 'FC_Puntos')\n",
    "Map"
   ]
  },
  {
   "cell_type": "markdown",
   "id": "9c0e3e16-ea5b-4b97-822e-59fa30d314a5",
   "metadata": {},
   "source": [
    "## Nombre de las propiedades"
   ]
  },
  {
   "cell_type": "code",
   "execution_count": 11,
   "id": "b7bc8e65-25e4-4bf4-a0ce-c3d417a51ae8",
   "metadata": {},
   "outputs": [
    {
     "data": {
      "text/plain": [
       "['system:index', 'Cobertura', 'Valor']"
      ]
     },
     "execution_count": 11,
     "metadata": {},
     "output_type": "execute_result"
    }
   ],
   "source": [
    "# Visualizar sus propiedades\n",
    "Cobertura.first().propertyNames().getInfo()"
   ]
  },
  {
   "cell_type": "markdown",
   "id": "5bceac33-8360-4e06-b36e-f02f0b23834b",
   "metadata": {},
   "source": [
    "## Crear puntos aleatorios"
   ]
  },
  {
   "cell_type": "code",
   "execution_count": 12,
   "id": "9d462599-f3e1-4475-b5a2-6df36c2e94ca",
   "metadata": {},
   "outputs": [],
   "source": [
    "# FeatureCollection de una muestra al azar\n",
    "region = ee.Geometry.Rectangle(-74.496043, -8.378261, \n",
    "                               -74.425282, -8.457991)"
   ]
  },
  {
   "cell_type": "code",
   "execution_count": 16,
   "id": "fd174aa1-c8ac-4142-9dee-5194d83a2b39",
   "metadata": {},
   "outputs": [],
   "source": [
    "# Crear puntos aleatorios dentro del area\n",
    "randomPoints = ee.FeatureCollection.randomPoints(region,\n",
    "                                                 100, # cantidad de puntos\n",
    "                                                 123) # seed"
   ]
  },
  {
   "cell_type": "code",
   "execution_count": 17,
   "id": "c991f31e-637e-4e37-884a-6aa909672a5e",
   "metadata": {},
   "outputs": [
    {
     "data": {
      "application/vnd.jupyter.widget-view+json": {
       "model_id": "640f5d645b754f26bd21dc1b85b8e350",
       "version_major": 2,
       "version_minor": 0
      },
      "text/plain": [
       "Map(bottom=1098058.0, center=[-8.418126213700914, -74.46066250000287], controls=(WidgetControl(options=['posit…"
      ]
     },
     "metadata": {},
     "output_type": "display_data"
    }
   ],
   "source": [
    "# Visualizar mapa\n",
    "Map.centerObject(region,13)\n",
    "Map.addLayer(region, {\"color\" : \"00FF11\"}, \"Region\")\n",
    "Map.addLayer(randomPoints,{\"color\" : \"red\"},name = 'Puntos al azar')\n",
    "Map"
   ]
  }
 ],
 "metadata": {
  "kernelspec": {
   "display_name": "Python 3",
   "language": "python",
   "name": "python3"
  },
  "language_info": {
   "codemirror_mode": {
    "name": "ipython",
    "version": 3
   },
   "file_extension": ".py",
   "mimetype": "text/x-python",
   "name": "python",
   "nbconvert_exporter": "python",
   "pygments_lexer": "ipython3",
   "version": "3.7.10"
  }
 },
 "nbformat": 4,
 "nbformat_minor": 5
}
