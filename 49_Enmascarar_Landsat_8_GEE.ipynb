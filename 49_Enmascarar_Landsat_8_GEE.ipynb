{
 "cells": [
  {
   "cell_type": "markdown",
   "id": "64948973-47b1-407d-82a8-a07ff3317196",
   "metadata": {},
   "source": [
    "# Enmascaramiento Nube Landsat 8 TOA google Earth Engine"
   ]
  },
  {
   "cell_type": "code",
   "execution_count": 1,
   "id": "d237a6bd-dd3c-4051-bcc5-b11a390ed655",
   "metadata": {},
   "outputs": [],
   "source": [
    "# Importar paquete GEE\n",
    "import ee\n",
    "ee.Initialize()"
   ]
  },
  {
   "cell_type": "markdown",
   "id": "aafda376-6df9-4c34-9438-c23e52d90a09",
   "metadata": {},
   "source": [
    "## Función mascara Landsat 8 TOA"
   ]
  },
  {
   "cell_type": "code",
   "execution_count": 2,
   "id": "b6253e81-5e7a-48dc-a348-4c365671e8ac",
   "metadata": {},
   "outputs": [],
   "source": [
    "# Funcion mascara Landsat 8 TOA\n",
    "def cloudMask(image):\n",
    "  clouds = ee.Algorithms.Landsat.simpleCloudScore(image).select(\"cloud\")\n",
    "  return (image.updateMask(clouds.lt(35)))"
   ]
  },
  {
   "cell_type": "code",
   "execution_count": 3,
   "id": "b8a4bb0b-c971-4c1d-bae7-3c68aa306577",
   "metadata": {},
   "outputs": [],
   "source": [
    "# Importar geemap\n",
    "import geemap\n",
    "Map = geemap.Map(basemap='ESRI')"
   ]
  },
  {
   "cell_type": "markdown",
   "id": "7ec211ba-1bb4-4ed5-b13c-c23d7b0dbf0b",
   "metadata": {},
   "source": [
    "## Importar Zona de estudio"
   ]
  },
  {
   "cell_type": "code",
   "execution_count": 4,
   "id": "4adc4ddf-80fa-43e7-954b-660185ddd633",
   "metadata": {},
   "outputs": [],
   "source": [
    "# Agregar un shp GEE\n",
    "zona_ee = ee.FeatureCollection(\"users/bravomoralesnino/SHP/ZONA_19S\")"
   ]
  },
  {
   "cell_type": "markdown",
   "id": "2584fbc9-796b-436d-bb4e-d7172561355d",
   "metadata": {},
   "source": [
    "## Colleccion Landsat 8 TOA"
   ]
  },
  {
   "cell_type": "code",
   "execution_count": 5,
   "id": "b21a9962-2019-43fb-82da-ff86e2dfb0d3",
   "metadata": {},
   "outputs": [],
   "source": [
    "# Coleccion de Landsat 8 OLI TIRS TOA\n",
    "L8_toa = ee.ImageCollection('LANDSAT/LC08/C01/T1_TOA')\\\n",
    "            .filterDate('2019-01-01','2019-12-31')\\\n",
    "            .filterMetadata('CLOUD_COVER', 'less_than', 20)\\\n",
    "            .filterBounds(zona_ee)\n"
   ]
  },
  {
   "cell_type": "code",
   "execution_count": 6,
   "id": "7477af45-6979-4e0a-a957-bb0d625c9e0a",
   "metadata": {},
   "outputs": [
    {
     "name": "stdout",
     "output_type": "stream",
     "text": [
      "Cantidad de imagenes L8_toa: 4\n"
     ]
    }
   ],
   "source": [
    "# Conteo de imagenes\n",
    "count = L8_toa.size().getInfo()\n",
    "print(\"Cantidad de imagenes L8_toa:\", count)"
   ]
  },
  {
   "cell_type": "markdown",
   "id": "80a57f51-ee27-4dd0-96c9-76ad934b6499",
   "metadata": {},
   "source": [
    "## Determinar ID imagen"
   ]
  },
  {
   "cell_type": "code",
   "execution_count": 9,
   "id": "01d04849-ca66-4bca-bc1b-4c2e7caccfb3",
   "metadata": {},
   "outputs": [
    {
     "data": {
      "text/plain": [
       "['LC08_003069_20190621',\n",
       " 'LC08_003069_20190808',\n",
       " 'LC08_003069_20190824',\n",
       " 'LC08_003069_20190925']"
      ]
     },
     "execution_count": 9,
     "metadata": {},
     "output_type": "execute_result"
    }
   ],
   "source": [
    "# Imprimir la lista de ID Imagenes\n",
    "catalogo_L8 = L8_toa.reduceColumns(ee.Reducer.toList(),[\"system:index\"]).get(\"list\").getInfo()\n",
    "catalogo_L8"
   ]
  },
  {
   "cell_type": "code",
   "execution_count": 10,
   "id": "90f3804d-f6a9-4b31-905a-592271cf90c1",
   "metadata": {},
   "outputs": [
    {
     "data": {
      "text/plain": [
       "list"
      ]
     },
     "execution_count": 10,
     "metadata": {},
     "output_type": "execute_result"
    }
   ],
   "source": [
    "type(catalogo_L8)"
   ]
  },
  {
   "cell_type": "code",
   "execution_count": 11,
   "id": "48710621-1747-428b-8586-00a4cab7175c",
   "metadata": {},
   "outputs": [
    {
     "data": {
      "text/plain": [
       "'LC08_003069_20190621'"
      ]
     },
     "execution_count": 11,
     "metadata": {},
     "output_type": "execute_result"
    }
   ],
   "source": [
    "catalogo_L8[0]"
   ]
  },
  {
   "cell_type": "markdown",
   "id": "3cc51263-1fdb-4f05-96cb-14bf135bd6de",
   "metadata": {},
   "source": [
    "## Seleccion imagen Landsat 8"
   ]
  },
  {
   "cell_type": "code",
   "execution_count": 12,
   "id": "d6ed1448-9ca5-40f9-9e65-90f8876eae03",
   "metadata": {},
   "outputs": [],
   "source": [
    "# Importar imagen Landsat 8 RS \n",
    "image1 = ee.Image('LANDSAT/LC08/C01/T1_TOA' + \"/\" + catalogo_L8[0])\\\n",
    "            .reproject(crs=\"EPSG:32719\", scale = 30)\n",
    "image2 = ee.Image('LANDSAT/LC08/C01/T1_TOA' + \"/\" + catalogo_L8[1])\\\n",
    "            .reproject(crs=\"EPSG:32719\", scale = 30)\n",
    "image3 = ee.Image('LANDSAT/LC08/C01/T1_TOA' + \"/\" + catalogo_L8[2])\\\n",
    "            .reproject(crs=\"EPSG:32719\", scale = 30)\n",
    "image4 = ee.Image('LANDSAT/LC08/C01/T1_TOA' + \"/\" + catalogo_L8[3])\\\n",
    "            .reproject(crs=\"EPSG:32719\", scale = 30)"
   ]
  },
  {
   "cell_type": "code",
   "execution_count": 13,
   "id": "05b13813-7b1e-4ccc-bc0b-e231d32e282e",
   "metadata": {},
   "outputs": [
    {
     "name": "stdout",
     "output_type": "stream",
     "text": [
      "['B1', 'B2', 'B3', 'B4', 'B5', 'B6', 'B7', 'B8', 'B9', 'B10', 'B11', 'BQA']\n"
     ]
    }
   ],
   "source": [
    "# Nombre de las bandas\n",
    "print(image1.bandNames().getInfo())"
   ]
  },
  {
   "cell_type": "code",
   "execution_count": 14,
   "id": "131f0c32-49eb-492e-a12c-a8311782327f",
   "metadata": {},
   "outputs": [
    {
     "name": "stdout",
     "output_type": "stream",
     "text": [
      "Proyeccion: {'type': 'Projection', 'crs': 'EPSG:32719', 'transform': [30, 0, 0, 0, -30, 0]}\n"
     ]
    }
   ],
   "source": [
    "# Consultar Proyeccion\n",
    "print(\"Proyeccion:\",image1.projection().getInfo())"
   ]
  },
  {
   "cell_type": "code",
   "execution_count": 15,
   "id": "2cec7b06-367c-4233-9b71-8856068eaba6",
   "metadata": {},
   "outputs": [],
   "source": [
    "# Simbologia escala 0 - 1 TOA\n",
    "viz_toa = {\n",
    "    'bands': ['B6', 'B5', 'B4'],\n",
    "    'min': 0.1,\n",
    "    'max': 0.6,\n",
    "    'gamma': 1.5\n",
    "}"
   ]
  },
  {
   "cell_type": "code",
   "execution_count": 16,
   "id": "94823382-e1ca-4499-b3c8-a0bff2122370",
   "metadata": {},
   "outputs": [],
   "source": [
    "geometria = image1.geometry()\n",
    "Map.centerObject(geometria)"
   ]
  },
  {
   "cell_type": "code",
   "execution_count": 17,
   "id": "4a711940-183f-4142-8f9a-bb21eb31a0a2",
   "metadata": {},
   "outputs": [
    {
     "data": {
      "application/vnd.jupyter.widget-view+json": {
       "model_id": "b6c7b07459ad4308870cb332f51497b5",
       "version_major": 2,
       "version_minor": 0
      },
      "text/plain": [
       "Map(center=[-13.014534688269258, -70.47460127201552], controls=(WidgetControl(options=['position', 'transparen…"
      ]
     },
     "metadata": {},
     "output_type": "display_data"
    }
   ],
   "source": [
    "# Visualizar mapa\n",
    "Map.addLayer(image1, viz_toa, \"L8 img1\")\n",
    "Map.addLayer(image2, viz_toa, \"L8 img2\")\n",
    "Map.addLayer(image3, viz_toa, \"L8 img3\")\n",
    "Map.addLayer(image4, viz_toa, \"L8 img4\")\n",
    "Map"
   ]
  },
  {
   "cell_type": "markdown",
   "id": "9f5ffd68-a511-4f49-834b-84b3108a393d",
   "metadata": {},
   "source": [
    "## Determinar el enmascaramiento nubosidad"
   ]
  },
  {
   "cell_type": "code",
   "execution_count": 18,
   "id": "bca0bb6e-704f-4182-901a-050824971705",
   "metadata": {},
   "outputs": [],
   "source": [
    "# Realizacion la funcion de nubosidad\n",
    "img_cloud1 = cloudMask(image1)\n",
    "img_cloud2 = cloudMask(image2)\n",
    "img_cloud3 = cloudMask(image3)\n",
    "img_cloud4 = cloudMask(image4)"
   ]
  },
  {
   "cell_type": "code",
   "execution_count": 19,
   "id": "55699560-46c0-49af-984c-846fa6223847",
   "metadata": {},
   "outputs": [
    {
     "data": {
      "application/vnd.jupyter.widget-view+json": {
       "model_id": "b6c7b07459ad4308870cb332f51497b5",
       "version_major": 2,
       "version_minor": 0
      },
      "text/plain": [
       "Map(bottom=35487.0, center=[-13.170422607388247, -69.9216879175015], controls=(WidgetControl(options=['positio…"
      ]
     },
     "metadata": {},
     "output_type": "display_data"
    }
   ],
   "source": [
    "# Visualizar mapa\n",
    "Map.addLayer(img_cloud1, viz_toa, \"img_cloud1\")\n",
    "Map.addLayer(img_cloud2, viz_toa, \"img_cloud2\")\n",
    "Map.addLayer(img_cloud3, viz_toa, \"img_cloud3\")\n",
    "Map.addLayer(img_cloud4, viz_toa, \"img_cloud4\")\n",
    "Map"
   ]
  },
  {
   "cell_type": "markdown",
   "id": "f28c3664-466b-4896-8236-804e89d529ca",
   "metadata": {},
   "source": [
    "## Crear una imagenCollection"
   ]
  },
  {
   "cell_type": "code",
   "execution_count": 20,
   "id": "a44db96a-cf92-4728-a575-15b925a94751",
   "metadata": {},
   "outputs": [],
   "source": [
    "# seleccionar varias imagenes\n",
    "selec_imagenes = ee.ImageCollection.fromImages([img_cloud3,img_cloud2,img_cloud1])"
   ]
  },
  {
   "cell_type": "markdown",
   "id": "f603afc5-119e-4b78-929c-3bf697da7ef2",
   "metadata": {},
   "source": [
    "## Crear mosaico maximo"
   ]
  },
  {
   "cell_type": "code",
   "execution_count": 21,
   "id": "1c77251a-3535-4e4c-b579-104bc97b2d05",
   "metadata": {},
   "outputs": [],
   "source": [
    "# crear mosaico\n",
    "mosaico = selec_imagenes.max()"
   ]
  },
  {
   "cell_type": "code",
   "execution_count": 22,
   "id": "f428446e-a14d-434a-9f7d-151b16f56f73",
   "metadata": {},
   "outputs": [
    {
     "data": {
      "application/vnd.jupyter.widget-view+json": {
       "model_id": "b6c7b07459ad4308870cb332f51497b5",
       "version_major": 2,
       "version_minor": 0
      },
      "text/plain": [
       "Map(bottom=35539.0, center=[-13.448394732660567, -69.70275878906251], controls=(WidgetControl(options=['positi…"
      ]
     },
     "metadata": {},
     "output_type": "display_data"
    }
   ],
   "source": [
    "# Visualizar mapa\n",
    "Map.addLayer(mosaico, viz_toa, \"Mosaico\")\n",
    "Map"
   ]
  },
  {
   "cell_type": "code",
   "execution_count": null,
   "id": "acb82649-1bd8-4da4-a14d-ea3fed52ba9c",
   "metadata": {},
   "outputs": [],
   "source": []
  }
 ],
 "metadata": {
  "kernelspec": {
   "display_name": "Python 3",
   "language": "python",
   "name": "python3"
  },
  "language_info": {
   "codemirror_mode": {
    "name": "ipython",
    "version": 3
   },
   "file_extension": ".py",
   "mimetype": "text/x-python",
   "name": "python",
   "nbconvert_exporter": "python",
   "pygments_lexer": "ipython3",
   "version": "3.7.10"
  }
 },
 "nbformat": 4,
 "nbformat_minor": 5
}
