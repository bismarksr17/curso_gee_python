{
 "cells": [
  {
   "cell_type": "markdown",
   "id": "933d2708-d295-46fe-a839-abd705e4b98a",
   "metadata": {},
   "source": [
    "# Crear Mosaico Imagenes google Earth Engine "
   ]
  },
  {
   "cell_type": "code",
   "execution_count": 1,
   "id": "54e383f0-ff07-454f-96a3-7ea36b36453b",
   "metadata": {},
   "outputs": [],
   "source": [
    "# Importar GEE\n",
    "import ee\n",
    "ee.Initialize()"
   ]
  },
  {
   "cell_type": "markdown",
   "id": "bbb60d55-7c6d-4aa5-9c8f-2130ad64d43d",
   "metadata": {},
   "source": [
    "## Filtro zona estudio mediante GEE"
   ]
  },
  {
   "cell_type": "code",
   "execution_count": 2,
   "id": "83dd1440-121e-403e-a2aa-a70df89d7fc6",
   "metadata": {},
   "outputs": [],
   "source": [
    "# Agregar shp cuenca\n",
    "cuenca = ee.FeatureCollection(\"users/bravomoralesnino/SHP/Cuenca\")"
   ]
  },
  {
   "cell_type": "code",
   "execution_count": 3,
   "id": "847b1ef6-f88d-4d85-b8b6-93399a6e2759",
   "metadata": {},
   "outputs": [],
   "source": [
    "# Importar geemap\n",
    "import geemap\n",
    "Map = geemap.Map(basemap = 'SATELLITE')"
   ]
  },
  {
   "cell_type": "code",
   "execution_count": 4,
   "id": "95eeeeb0-c141-4b73-8dd3-ee79d4dcc5ec",
   "metadata": {},
   "outputs": [],
   "source": [
    "geometria = cuenca.geometry()\n",
    "Map.centerObject(geometria, 8)"
   ]
  },
  {
   "cell_type": "code",
   "execution_count": 5,
   "id": "bfe3277a-c219-47d0-8ca6-06d86ab3a5c9",
   "metadata": {},
   "outputs": [
    {
     "data": {
      "application/vnd.jupyter.widget-view+json": {
       "model_id": "3d8e04a2a2ce4990a6bc78d9bf41eb4e",
       "version_major": 2,
       "version_minor": 0
      },
      "text/plain": [
       "Map(center=[-13.822942378556581, -71.5432582449152], controls=(WidgetControl(options=['position', 'transparent…"
      ]
     },
     "metadata": {},
     "output_type": "display_data"
    }
   ],
   "source": [
    "Map.addLayer(cuenca, {\"color\" : \"00FF11\"},name = \"Cuenca\")\n",
    "Map"
   ]
  },
  {
   "cell_type": "markdown",
   "id": "e0ae7ac6-1ceb-4d3d-a18d-86ad41f38c46",
   "metadata": {},
   "source": [
    "## Seleccion colleccion Landsat 8 RS"
   ]
  },
  {
   "cell_type": "code",
   "execution_count": 6,
   "id": "d58a3271-fb68-4ed5-8c81-236f2589a0ea",
   "metadata": {},
   "outputs": [],
   "source": [
    "# Coleccion de Landsat 8 OLI TIRS RS\n",
    "L8_RS = ee.ImageCollection(\"LANDSAT/LC08/C01/T1_SR\")\\\n",
    "            .filterDate('2019-01-01','2019-12-31')\\\n",
    "            .filterMetadata('CLOUD_COVER','less_than',10)\\\n",
    "            .filterBounds(cuenca)"
   ]
  },
  {
   "cell_type": "code",
   "execution_count": 7,
   "id": "b5b12d60-bd71-4be0-8a4d-4a612f3bfe29",
   "metadata": {},
   "outputs": [
    {
     "name": "stdout",
     "output_type": "stream",
     "text": [
      "Cantidad de imagenes L8_RS: 16\n"
     ]
    }
   ],
   "source": [
    "# Conteo de imagenes\n",
    "count = L8_RS.size()\n",
    "print(\"Cantidad de imagenes L8_RS:\", count.getInfo())"
   ]
  },
  {
   "cell_type": "code",
   "execution_count": 9,
   "id": "b81f9aea-858a-4ced-9bd4-3c0e4bd24390",
   "metadata": {},
   "outputs": [
    {
     "name": "stdout",
     "output_type": "stream",
     "text": [
      "['LC08_003069_20190808', 'LC08_003069_20190925', 'LC08_003070_20190520', 'LC08_003070_20190605', 'LC08_003070_20190621', 'LC08_003070_20190707', 'LC08_003070_20190808', 'LC08_003070_20190925', 'LC08_003070_20191011', 'LC08_004069_20190527', 'LC08_004070_20190527', 'LC08_004070_20190612', 'LC08_004070_20190714', 'LC08_004070_20190730', 'LC08_004070_20190815', 'LC08_004070_20190831']\n"
     ]
    }
   ],
   "source": [
    "# Imprimir la lista de ID Imagenes\n",
    "catalogo_L8 = L8_RS.reduceColumns(ee.Reducer.toList(),[\"system:index\"]).get(\"list\").getInfo()\n",
    "print(catalogo_L8)"
   ]
  },
  {
   "cell_type": "code",
   "execution_count": 10,
   "id": "19a22ac7-2161-4593-9978-03a696e4a695",
   "metadata": {},
   "outputs": [
    {
     "data": {
      "text/plain": [
       "list"
      ]
     },
     "execution_count": 10,
     "metadata": {},
     "output_type": "execute_result"
    }
   ],
   "source": [
    "type(catalogo_L8)"
   ]
  },
  {
   "cell_type": "code",
   "execution_count": 11,
   "id": "1ac67623-fbaf-4fd9-8116-dac6d4852882",
   "metadata": {},
   "outputs": [
    {
     "data": {
      "text/plain": [
       "'LC08_004069_20190527'"
      ]
     },
     "execution_count": 11,
     "metadata": {},
     "output_type": "execute_result"
    }
   ],
   "source": [
    "catalogo_L8[9]"
   ]
  },
  {
   "cell_type": "markdown",
   "id": "40fec80d-4aba-4393-a20d-2a8b7182e160",
   "metadata": {},
   "source": [
    "## Seleccion imagen Landsat 8"
   ]
  },
  {
   "cell_type": "code",
   "execution_count": 13,
   "id": "b773de10-129f-4b66-93c6-3c3f4bb444a6",
   "metadata": {},
   "outputs": [],
   "source": [
    "# Importar imagen Landsat 8 RS \n",
    "image1 = ee.Image(\"LANDSAT/LC08/C01/T1_SR\" + \"/\" + catalogo_L8[0]) # 3/69\n",
    "image2 = ee.Image(\"LANDSAT/LC08/C01/T1_SR\" + \"/\" + catalogo_L8[2]) # 3/70\n",
    "image3 = ee.Image(\"LANDSAT/LC08/C01/T1_SR\" + \"/\" + catalogo_L8[9]) # 4/69\n",
    "image4 = ee.Image(\"LANDSAT/LC08/C01/T1_SR\" + \"/\" + catalogo_L8[10]) # 4/70"
   ]
  },
  {
   "cell_type": "code",
   "execution_count": 14,
   "id": "c17a1755-ef91-4d03-9899-a5d03335cd8d",
   "metadata": {},
   "outputs": [
    {
     "name": "stdout",
     "output_type": "stream",
     "text": [
      "['B1', 'B2', 'B3', 'B4', 'B5', 'B6', 'B7', 'B10', 'B11', 'sr_aerosol', 'pixel_qa', 'radsat_qa']\n"
     ]
    }
   ],
   "source": [
    "# Nombre de las bandas\n",
    "print(image1.bandNames().getInfo())"
   ]
  },
  {
   "cell_type": "code",
   "execution_count": 15,
   "id": "cb7719c8-06d7-400e-9b49-7c4d87f77716",
   "metadata": {},
   "outputs": [],
   "source": [
    "# Simbologia estala 0 - 10000\n",
    "viz_RS = {\n",
    "    'bands': ['B6', 'B5', 'B4'],\n",
    "    'min': 250,\n",
    "    'max': 7000,\n",
    "    'gamma': 1.90\n",
    "}"
   ]
  },
  {
   "cell_type": "code",
   "execution_count": 17,
   "id": "6bf17524-3cb9-41a0-9834-5739b3e68c4b",
   "metadata": {},
   "outputs": [
    {
     "data": {
      "application/vnd.jupyter.widget-view+json": {
       "model_id": "3d8e04a2a2ce4990a6bc78d9bf41eb4e",
       "version_major": 2,
       "version_minor": 0
      },
      "text/plain": [
       "Map(bottom=36040.0, center=[-16.109153239219467, -71.62261962890626], controls=(WidgetControl(options=['positi…"
      ]
     },
     "metadata": {},
     "output_type": "display_data"
    }
   ],
   "source": [
    "# Visualizar ESCALADO 0 - 10000\n",
    "Map.addLayer(image1, viz_RS,name = \"image1\")\n",
    "Map.addLayer(image2, viz_RS,name = \"image2\")\n",
    "Map.addLayer(image3, viz_RS,name = \"image3\")\n",
    "Map.addLayer(image4, viz_RS,name = \"image4\")\n",
    "Map.addLayer(cuenca, {\"color\" : \"00FF11\"},name = \"Cuenca\")\n",
    "Map"
   ]
  },
  {
   "cell_type": "markdown",
   "id": "ce23b351-9967-4aa6-9d68-f1a02ca20f6f",
   "metadata": {},
   "source": [
    "## Realizar una collección de imagenes"
   ]
  },
  {
   "cell_type": "code",
   "execution_count": 18,
   "id": "eec3c7b0-ec69-49e3-95db-098b2466cef1",
   "metadata": {},
   "outputs": [],
   "source": [
    "# Seleccionar varias imagenes\n",
    "selec_imagenes = ee.ImageCollection.fromImages([image1,image2,image3,image4])"
   ]
  },
  {
   "cell_type": "code",
   "execution_count": 19,
   "id": "bb50103e-e5a4-4516-a7ef-9a42a2f777bc",
   "metadata": {},
   "outputs": [
    {
     "data": {
      "text/plain": [
       "ee.imagecollection.ImageCollection"
      ]
     },
     "execution_count": 19,
     "metadata": {},
     "output_type": "execute_result"
    }
   ],
   "source": [
    "type(selec_imagenes)"
   ]
  },
  {
   "cell_type": "code",
   "execution_count": 20,
   "id": "6e2a9424-5858-4633-8c0e-c54668768994",
   "metadata": {},
   "outputs": [],
   "source": [
    "# crear mosaico\n",
    "mosaico = selec_imagenes.mosaic()"
   ]
  },
  {
   "cell_type": "code",
   "execution_count": 21,
   "id": "316da027-4bbc-48f2-8d1d-8e8ced746c40",
   "metadata": {},
   "outputs": [
    {
     "data": {
      "application/vnd.jupyter.widget-view+json": {
       "model_id": "3d8e04a2a2ce4990a6bc78d9bf41eb4e",
       "version_major": 2,
       "version_minor": 0
      },
      "text/plain": [
       "Map(bottom=17970.0, center=[-13.987376214146455, -70.47180175781251], controls=(WidgetControl(options=['positi…"
      ]
     },
     "metadata": {},
     "output_type": "display_data"
    }
   ],
   "source": [
    "# Visualizar ESCALADO 0 - 10000\n",
    "Map.addLayer(mosaico, viz_RS,name = \"mosaico\")\n",
    "Map"
   ]
  },
  {
   "cell_type": "markdown",
   "id": "acaca3d8-e20d-400c-b50c-90e24c0a4e1b",
   "metadata": {},
   "source": [
    "## Seleccion de bandas"
   ]
  },
  {
   "cell_type": "code",
   "execution_count": 22,
   "id": "003cc0d4-a36b-46ea-bf9e-12990208c77f",
   "metadata": {},
   "outputs": [
    {
     "name": "stdout",
     "output_type": "stream",
     "text": [
      "['B1', 'B2', 'B3', 'B4', 'B5', 'B6', 'B7', 'B10', 'B11', 'sr_aerosol', 'pixel_qa', 'radsat_qa']\n"
     ]
    }
   ],
   "source": [
    "# Consultar nombre bandas\n",
    "print(mosaico.bandNames().getInfo())"
   ]
  },
  {
   "cell_type": "markdown",
   "id": "fe12fd88-d2ef-4123-ad5b-c0fb529b1d72",
   "metadata": {},
   "source": [
    "## Crear mosaico"
   ]
  },
  {
   "cell_type": "code",
   "execution_count": 23,
   "id": "fda91626-2614-4a2c-b3d9-f1bddfe4a12a",
   "metadata": {},
   "outputs": [],
   "source": [
    "mosaico = mosaico.select(['B2', 'B3', 'B4', 'B5', 'B6', 'B7'])"
   ]
  },
  {
   "cell_type": "markdown",
   "id": "5099b802-f760-4f2e-a288-efe928722870",
   "metadata": {},
   "source": [
    "## Factor de escala"
   ]
  },
  {
   "cell_type": "code",
   "execution_count": 24,
   "id": "2c651c6f-510c-4025-8794-e199d816d3b4",
   "metadata": {},
   "outputs": [],
   "source": [
    "# Escalar la imagen Landsat 8 RS 0 - 1\n",
    "mosaico_Es = mosaico.multiply(0.0001)"
   ]
  },
  {
   "cell_type": "code",
   "execution_count": 25,
   "id": "22f9a6a7-6451-4d89-8186-d2852ceac761",
   "metadata": {},
   "outputs": [
    {
     "data": {
      "text/plain": [
       "{'type': 'Projection', 'crs': 'EPSG:4326', 'transform': [1, 0, 0, 0, 1, 0]}"
      ]
     },
     "execution_count": 25,
     "metadata": {},
     "output_type": "execute_result"
    }
   ],
   "source": [
    "# Consultar Proyeccion\n",
    "mosaico_Es.projection().getInfo()"
   ]
  },
  {
   "cell_type": "markdown",
   "id": "040ca364-ddf5-49e8-b59c-b4e4ab8990aa",
   "metadata": {},
   "source": [
    "## Reproyección zona"
   ]
  },
  {
   "cell_type": "code",
   "execution_count": 26,
   "id": "2db9f314-b77e-4ec8-9179-dfe8c14ce550",
   "metadata": {},
   "outputs": [],
   "source": [
    "# Reproyectar segun zona de estudio\n",
    "mosaico_Es_UTM = mosaico_Es.reproject(crs=\"EPSG:32719\", scale = 30)"
   ]
  },
  {
   "cell_type": "code",
   "execution_count": 27,
   "id": "0974073f-6eeb-4e49-9379-65916a069c81",
   "metadata": {},
   "outputs": [],
   "source": [
    "# Simbologia escala 0 - 1\n",
    "viz_es = {\n",
    "    'bands': ['B6', 'B5', 'B4'],\n",
    "    'min': 0.1,\n",
    "    'max': 0.6,\n",
    "    'gamma': 1.6\n",
    "}"
   ]
  },
  {
   "cell_type": "markdown",
   "id": "a8a89fbc-0cf4-4f5c-976b-15634d195834",
   "metadata": {},
   "source": [
    "## Recortar imagen zona"
   ]
  },
  {
   "cell_type": "code",
   "execution_count": 28,
   "id": "0571b10d-9ab9-470d-bb52-577c9ff35167",
   "metadata": {},
   "outputs": [],
   "source": [
    "# Recortar del area de estudio\n",
    "mosaico_clip = mosaico_Es_UTM.clip(cuenca)"
   ]
  },
  {
   "cell_type": "code",
   "execution_count": 29,
   "id": "99f27bc5-dea2-4867-b6af-3508a53314d1",
   "metadata": {},
   "outputs": [
    {
     "data": {
      "application/vnd.jupyter.widget-view+json": {
       "model_id": "3d8e04a2a2ce4990a6bc78d9bf41eb4e",
       "version_major": 2,
       "version_minor": 0
      },
      "text/plain": [
       "Map(bottom=17970.0, center=[-13.987376214146455, -70.47180175781251], controls=(WidgetControl(options=['positi…"
      ]
     },
     "metadata": {},
     "output_type": "display_data"
    }
   ],
   "source": [
    "# Visualizar ESCALADO 0 - 1\n",
    "Map.addLayer(mosaico_clip, viz_es,name = \"mosaico clip\")\n",
    "Map"
   ]
  },
  {
   "cell_type": "code",
   "execution_count": null,
   "id": "1ecdb215-d758-407e-a3ec-c9c98dad4c62",
   "metadata": {},
   "outputs": [],
   "source": []
  }
 ],
 "metadata": {
  "kernelspec": {
   "display_name": "Python 3",
   "language": "python",
   "name": "python3"
  },
  "language_info": {
   "codemirror_mode": {
    "name": "ipython",
    "version": 3
   },
   "file_extension": ".py",
   "mimetype": "text/x-python",
   "name": "python",
   "nbconvert_exporter": "python",
   "pygments_lexer": "ipython3",
   "version": "3.7.10"
  }
 },
 "nbformat": 4,
 "nbformat_minor": 5
}
