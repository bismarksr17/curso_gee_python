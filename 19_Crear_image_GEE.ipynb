{
 "cells": [
  {
   "cell_type": "markdown",
   "id": "e4bc6e5d-4505-49bb-b1cb-9fc61f183b34",
   "metadata": {},
   "source": [
    "# Crear imagen constante google Earth Engine"
   ]
  },
  {
   "cell_type": "code",
   "execution_count": 1,
   "id": "24f27a48-ea67-409d-ad1f-2d385b6c3002",
   "metadata": {},
   "outputs": [],
   "source": [
    "# Importar GEE\n",
    "import ee\n",
    "ee.Initialize()"
   ]
  },
  {
   "cell_type": "markdown",
   "id": "fd023a59-eb0a-4e5a-b7de-c45c1a8ad437",
   "metadata": {},
   "source": [
    "## Crear imagenes valor constantes"
   ]
  },
  {
   "cell_type": "code",
   "execution_count": 2,
   "id": "972a41fc-13fb-44f5-8d5c-d4136970fa7c",
   "metadata": {},
   "outputs": [
    {
     "data": {
      "text/plain": [
       "{'type': 'Image',\n",
       " 'bands': [{'id': 'constant',\n",
       "   'data_type': {'type': 'PixelType', 'precision': 'int', 'min': 1, 'max': 1},\n",
       "   'crs': 'EPSG:4326',\n",
       "   'crs_transform': [1, 0, 0, 0, 1, 0]}]}"
      ]
     },
     "execution_count": 2,
     "metadata": {},
     "output_type": "execute_result"
    }
   ],
   "source": [
    "# Crear una imagen con un valor constante\n",
    "img1 = ee.Image(1)\n",
    "img1.getInfo() # Consulta"
   ]
  },
  {
   "cell_type": "code",
   "execution_count": 3,
   "id": "888e47cf-8365-4c85-bd35-ddab282e7694",
   "metadata": {},
   "outputs": [
    {
     "data": {
      "text/plain": [
       "['constant']"
      ]
     },
     "execution_count": 3,
     "metadata": {},
     "output_type": "execute_result"
    }
   ],
   "source": [
    "img1.bandNames().getInfo()"
   ]
  },
  {
   "cell_type": "markdown",
   "id": "1ff80d7e-694d-4845-bed5-dcbaec3dbde7",
   "metadata": {},
   "source": [
    "## Concatenar o composicion bandas"
   ]
  },
  {
   "cell_type": "code",
   "execution_count": 4,
   "id": "9dc45fd0-8e87-4250-9d5c-2ea742337e9c",
   "metadata": {},
   "outputs": [
    {
     "data": {
      "text/plain": [
       "{'type': 'Image',\n",
       " 'bands': [{'id': 'constant',\n",
       "   'data_type': {'type': 'PixelType', 'precision': 'int', 'min': 1, 'max': 1},\n",
       "   'crs': 'EPSG:4326',\n",
       "   'crs_transform': [1, 0, 0, 0, 1, 0]},\n",
       "  {'id': 'constant_1',\n",
       "   'data_type': {'type': 'PixelType',\n",
       "    'precision': 'int',\n",
       "    'min': 10,\n",
       "    'max': 10},\n",
       "   'crs': 'EPSG:4326',\n",
       "   'crs_transform': [1, 0, 0, 0, 1, 0]}]}"
      ]
     },
     "execution_count": 4,
     "metadata": {},
     "output_type": "execute_result"
    }
   ],
   "source": [
    "# Concatenar o composicion de bandas\n",
    "img2 = ee.Image(10) # crear banda constante\n",
    "\n",
    "img_b2 = ee.Image.cat(img1, img2) # tendremos dos bandas\n",
    "img_b2.getInfo()"
   ]
  },
  {
   "cell_type": "code",
   "execution_count": 5,
   "id": "8214bffb-d220-4168-a26b-9a4c761d55d8",
   "metadata": {},
   "outputs": [
    {
     "data": {
      "text/plain": [
       "['constant', 'constant_1']"
      ]
     },
     "execution_count": 5,
     "metadata": {},
     "output_type": "execute_result"
    }
   ],
   "source": [
    "img_b2.bandNames().getInfo()"
   ]
  },
  {
   "cell_type": "code",
   "execution_count": 6,
   "id": "349cc789-37d8-4032-9c54-6b4935a90e29",
   "metadata": {},
   "outputs": [
    {
     "data": {
      "text/plain": [
       "{'type': 'Image',\n",
       " 'bands': [{'id': 'constant',\n",
       "   'data_type': {'type': 'PixelType', 'precision': 'int', 'min': 1, 'max': 1},\n",
       "   'crs': 'EPSG:4326',\n",
       "   'crs_transform': [1, 0, 0, 0, 1, 0]},\n",
       "  {'id': 'constant_1',\n",
       "   'data_type': {'type': 'PixelType',\n",
       "    'precision': 'int',\n",
       "    'min': 10,\n",
       "    'max': 10},\n",
       "   'crs': 'EPSG:4326',\n",
       "   'crs_transform': [1, 0, 0, 0, 1, 0]}]}"
      ]
     },
     "execution_count": 6,
     "metadata": {},
     "output_type": "execute_result"
    }
   ],
   "source": [
    "# Tambien para concatenar o composicion de bandas\n",
    "img_b3 = ee.Image.addBands(img1,img2)\n",
    "img_b3.getInfo()"
   ]
  },
  {
   "cell_type": "code",
   "execution_count": 7,
   "id": "0004bcd6-784b-4309-818d-e3430120fe14",
   "metadata": {},
   "outputs": [
    {
     "data": {
      "text/plain": [
       "['constant', 'constant_1']"
      ]
     },
     "execution_count": 7,
     "metadata": {},
     "output_type": "execute_result"
    }
   ],
   "source": [
    "img_b3.bandNames().getInfo()"
   ]
  },
  {
   "cell_type": "markdown",
   "id": "3a9e35f6-70d8-4946-8240-b11fcba7a200",
   "metadata": {},
   "source": [
    "## Renombrar nombre bandas"
   ]
  },
  {
   "cell_type": "code",
   "execution_count": 8,
   "id": "46b28c64-6209-45f5-a4a8-109341b201cc",
   "metadata": {},
   "outputs": [],
   "source": [
    "# Renombrar los nombre de las bandas\n",
    "img_b3 = img_b3.rename([\"Img1\",\"Img2\"])"
   ]
  },
  {
   "cell_type": "code",
   "execution_count": 9,
   "id": "98d2ef8d-cab5-4b32-9794-4cb4c449c20f",
   "metadata": {},
   "outputs": [
    {
     "data": {
      "text/plain": [
       "['Img1', 'Img2']"
      ]
     },
     "execution_count": 9,
     "metadata": {},
     "output_type": "execute_result"
    }
   ],
   "source": [
    "img_b3.bandNames().getInfo()"
   ]
  },
  {
   "cell_type": "code",
   "execution_count": 10,
   "id": "8de03847-eb56-4fd6-b6bb-d881df000c6b",
   "metadata": {},
   "outputs": [
    {
     "data": {
      "text/plain": [
       "['Img2']"
      ]
     },
     "execution_count": 10,
     "metadata": {},
     "output_type": "execute_result"
    }
   ],
   "source": [
    "# Seleccionar o extraer las bandas de imagen\n",
    "Img_2 = img_b3.select(\"Img2\")\n",
    "Img_2.bandNames().getInfo()"
   ]
  },
  {
   "cell_type": "markdown",
   "id": "4d2ad33c-008c-4344-bbfd-a6b742c6a23d",
   "metadata": {},
   "source": [
    "## Crear imagen multibanda"
   ]
  },
  {
   "cell_type": "code",
   "execution_count": 11,
   "id": "1a3261a6-4706-4103-bebc-d2b4636dc797",
   "metadata": {},
   "outputs": [
    {
     "data": {
      "text/plain": [
       "{'type': 'Image',\n",
       " 'bands': [{'id': 'constant',\n",
       "   'data_type': {'type': 'PixelType', 'precision': 'int', 'min': 2, 'max': 2},\n",
       "   'crs': 'EPSG:4326',\n",
       "   'crs_transform': [1, 0, 0, 0, 1, 0]},\n",
       "  {'id': 'constant_1',\n",
       "   'data_type': {'type': 'PixelType',\n",
       "    'precision': 'int',\n",
       "    'min': 10,\n",
       "    'max': 10},\n",
       "   'crs': 'EPSG:4326',\n",
       "   'crs_transform': [1, 0, 0, 0, 1, 0]},\n",
       "  {'id': 'constant_2',\n",
       "   'data_type': {'type': 'PixelType', 'precision': 'int', 'min': 5, 'max': 5},\n",
       "   'crs': 'EPSG:4326',\n",
       "   'crs_transform': [1, 0, 0, 0, 1, 0]}]}"
      ]
     },
     "execution_count": 11,
     "metadata": {},
     "output_type": "execute_result"
    }
   ],
   "source": [
    "# Crear una imagen multibanda\n",
    "img_multibandas = ee.Image([2,10,5])\n",
    "img_multibandas.getInfo()"
   ]
  },
  {
   "cell_type": "code",
   "execution_count": 14,
   "id": "0c7a3ef5-9982-46b2-a876-c867e636a511",
   "metadata": {},
   "outputs": [
    {
     "data": {
      "text/plain": [
       "['B1', 'B2', 'B3']"
      ]
     },
     "execution_count": 14,
     "metadata": {},
     "output_type": "execute_result"
    }
   ],
   "source": [
    "img_multibandas.bandNames().getInfo()"
   ]
  },
  {
   "cell_type": "code",
   "execution_count": 13,
   "id": "bea3340d-f61d-44e7-bde2-ef2bfb684821",
   "metadata": {},
   "outputs": [],
   "source": [
    "img_multibandas = img_multibandas.rename([\"B1\",\"B2\",\"B3\"])"
   ]
  }
 ],
 "metadata": {
  "kernelspec": {
   "display_name": "Python 3",
   "language": "python",
   "name": "python3"
  },
  "language_info": {
   "codemirror_mode": {
    "name": "ipython",
    "version": 3
   },
   "file_extension": ".py",
   "mimetype": "text/x-python",
   "name": "python",
   "nbconvert_exporter": "python",
   "pygments_lexer": "ipython3",
   "version": "3.7.10"
  }
 },
 "nbformat": 4,
 "nbformat_minor": 5
}
