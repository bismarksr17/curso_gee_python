{
 "cells": [
  {
   "cell_type": "markdown",
   "id": "88b518da-4e2e-4319-a3f2-8a44c33c4753",
   "metadata": {},
   "source": [
    "# Conversión de Shapefile a datos GEE"
   ]
  },
  {
   "cell_type": "markdown",
   "id": "c2fa8c85-987e-4e00-92bc-68dcce13423b",
   "metadata": {},
   "source": [
    "URL para QGIS: https://mt1.google.com/vt/lyrs=s&x=%7Bx%7D&y=%7By%7D&z=%7Bz%7D"
   ]
  },
  {
   "cell_type": "code",
   "execution_count": 1,
   "id": "0f822941-3076-4dea-a8df-92185636c984",
   "metadata": {},
   "outputs": [],
   "source": [
    "# Importar GEE y Iniciar sesion\n",
    "import ee\n",
    "import geemap\n",
    "import os\n",
    "import geopandas as gpd\n",
    "import glob"
   ]
  },
  {
   "cell_type": "code",
   "execution_count": 2,
   "id": "a6643e53-a0f5-4487-9f92-409e93e01614",
   "metadata": {},
   "outputs": [],
   "source": [
    "ee.Initialize()"
   ]
  },
  {
   "cell_type": "code",
   "execution_count": 3,
   "id": "05c3c510-24a6-497b-a8b8-1720757f0ce6",
   "metadata": {},
   "outputs": [],
   "source": [
    "Map = geemap.Map(basemap='ESRI')"
   ]
  },
  {
   "cell_type": "markdown",
   "id": "2e265263-9023-4472-a926-32b6f9745449",
   "metadata": {},
   "source": [
    "## Importar shapefile"
   ]
  },
  {
   "cell_type": "code",
   "execution_count": 4,
   "id": "4d3c2537-fcc6-451c-93bf-6ea220c82447",
   "metadata": {},
   "outputs": [
    {
     "data": {
      "text/plain": [
       "'C:\\\\Users\\\\GEOMATICA\\\\Teledeteccion_Python\\\\GEE'"
      ]
     },
     "execution_count": 4,
     "metadata": {},
     "output_type": "execute_result"
    }
   ],
   "source": [
    "os.getcwd()"
   ]
  },
  {
   "cell_type": "code",
   "execution_count": 5,
   "id": "f98a308f-7295-403e-ae9a-cac21d4b144f",
   "metadata": {},
   "outputs": [
    {
     "data": {
      "text/plain": [
       "'E:\\\\Teledeteccion_GEE\\\\Python\\\\Datos_Espaciales\\\\SHP'"
      ]
     },
     "execution_count": 5,
     "metadata": {},
     "output_type": "execute_result"
    }
   ],
   "source": [
    "ruta_archivos = r\"E:\\Teledeteccion_GEE\\Python\\Datos_Espaciales\\SHP\"\n",
    "os.chdir(ruta_archivos) # Cambiar ruta trabajo\n",
    "os.getcwd() # Consultar ruta trabajo"
   ]
  },
  {
   "cell_type": "code",
   "execution_count": 6,
   "id": "85423a90-abd6-4950-a944-1c19f12b0f3e",
   "metadata": {},
   "outputs": [
    {
     "data": {
      "text/plain": [
       "['Cuenca_Geo.shp', 'ZONA_geo.shp', 'Zona_Geografica.shp', 'Zona_UTM_19S.shp']"
      ]
     },
     "execution_count": 6,
     "metadata": {},
     "output_type": "execute_result"
    }
   ],
   "source": [
    "lista = glob.glob(\"*.shp\")\n",
    "lista"
   ]
  },
  {
   "cell_type": "code",
   "execution_count": 7,
   "id": "87198d11-bcbf-4576-b13c-848b803f1c13",
   "metadata": {},
   "outputs": [
    {
     "data": {
      "text/html": [
       "<div>\n",
       "<style scoped>\n",
       "    .dataframe tbody tr th:only-of-type {\n",
       "        vertical-align: middle;\n",
       "    }\n",
       "\n",
       "    .dataframe tbody tr th {\n",
       "        vertical-align: top;\n",
       "    }\n",
       "\n",
       "    .dataframe thead th {\n",
       "        text-align: right;\n",
       "    }\n",
       "</style>\n",
       "<table border=\"1\" class=\"dataframe\">\n",
       "  <thead>\n",
       "    <tr style=\"text-align: right;\">\n",
       "      <th></th>\n",
       "      <th>OBJECTID</th>\n",
       "      <th>disID</th>\n",
       "      <th>Shape_Leng</th>\n",
       "      <th>Shape_Area</th>\n",
       "      <th>geometry</th>\n",
       "    </tr>\n",
       "  </thead>\n",
       "  <tbody>\n",
       "    <tr>\n",
       "      <th>0</th>\n",
       "      <td>1</td>\n",
       "      <td>1</td>\n",
       "      <td>1105380.0</td>\n",
       "      <td>9.669722e+09</td>\n",
       "      <td>POLYGON ((-72.44628 -13.14245, -72.44656 -13.1...</td>\n",
       "    </tr>\n",
       "  </tbody>\n",
       "</table>\n",
       "</div>"
      ],
      "text/plain": [
       "   OBJECTID  disID  Shape_Leng    Shape_Area  \\\n",
       "0         1      1   1105380.0  9.669722e+09   \n",
       "\n",
       "                                            geometry  \n",
       "0  POLYGON ((-72.44628 -13.14245, -72.44656 -13.1...  "
      ]
     },
     "execution_count": 7,
     "metadata": {},
     "output_type": "execute_result"
    }
   ],
   "source": [
    "# cargar un shp\n",
    "zona_gdp = gpd.read_file('Cuenca_Geo.shp')\n",
    "zona_gdp"
   ]
  },
  {
   "cell_type": "markdown",
   "id": "5d625c6e-b321-4406-8a27-dc08cf4f5800",
   "metadata": {},
   "source": [
    "## Convertir de Geopandas a GEE"
   ]
  },
  {
   "cell_type": "code",
   "execution_count": 8,
   "id": "1b2de9d4-ec8b-4a8c-90ed-8a5733341828",
   "metadata": {},
   "outputs": [],
   "source": [
    "# Crear un featureCollecion mediante GeoJSON\n",
    "ee_zona_gdp = ee.FeatureCollection(zona_gdp.__geo_interface__)"
   ]
  },
  {
   "cell_type": "code",
   "execution_count": 10,
   "id": "833894ae-d77b-4a6d-ba81-9c31fea403ba",
   "metadata": {},
   "outputs": [],
   "source": [
    "geometria_zona = ee_zona_gdp.geometry()"
   ]
  },
  {
   "cell_type": "code",
   "execution_count": 11,
   "id": "0564d5fa-a6ca-43a9-87e1-2cb743df7ef8",
   "metadata": {},
   "outputs": [
    {
     "data": {
      "text/plain": [
       "ee.geometry.Geometry"
      ]
     },
     "execution_count": 11,
     "metadata": {},
     "output_type": "execute_result"
    }
   ],
   "source": [
    "type(geometria_zona)"
   ]
  },
  {
   "cell_type": "markdown",
   "id": "6fdb0ac5-3fa8-4a60-af21-27b791ded837",
   "metadata": {},
   "source": [
    "## Convertir de Shapefile a GEE"
   ]
  },
  {
   "cell_type": "code",
   "execution_count": 12,
   "id": "cb31465e-ed4d-4f00-b303-b23406e7569a",
   "metadata": {},
   "outputs": [],
   "source": [
    "ruta_shp = r\"E:\\Teledeteccion_GEE\\Python\\Datos_Espaciales\\SHP\\Cuenca_Geo.shp\""
   ]
  },
  {
   "cell_type": "code",
   "execution_count": 13,
   "id": "3a18ea94-eeab-406d-89fe-6310dcbad9c8",
   "metadata": {},
   "outputs": [],
   "source": [
    "ee_shp_gdp = geemap.shp_to_ee(ruta_shp)"
   ]
  },
  {
   "cell_type": "code",
   "execution_count": 14,
   "id": "f3a16c9a-ea41-4e58-b54b-65851a6d7808",
   "metadata": {},
   "outputs": [
    {
     "data": {
      "text/plain": [
       "ee.featurecollection.FeatureCollection"
      ]
     },
     "execution_count": 14,
     "metadata": {},
     "output_type": "execute_result"
    }
   ],
   "source": [
    "type(ee_shp_gdp)"
   ]
  },
  {
   "cell_type": "code",
   "execution_count": 16,
   "id": "38c8e4ce-f2da-4807-a52c-c81a0b860414",
   "metadata": {},
   "outputs": [
    {
     "data": {
      "application/vnd.jupyter.widget-view+json": {
       "model_id": "fe1086499f304773a31859201bcc0529",
       "version_major": 2,
       "version_minor": 0
      },
      "text/plain": [
       "Map(bottom=141537.0, center=[-13.822942131804346, -71.54325855317335], controls=(WidgetControl(options=['posit…"
      ]
     },
     "metadata": {},
     "output_type": "display_data"
    }
   ],
   "source": [
    "# Visualizar mapa\n",
    "geometria = ee_shp_gdp.geometry()\n",
    "Map.centerObject(geometria,8)\n",
    "Map.addLayer(ee_shp_gdp, {\"color\" : \"00FF11\"}, \"zona_geemap\")\n",
    "Map.addLayer(ee_zona_gdp, {\"color\" : \"00FF11\"}, \"zona_gdp\")\n",
    "Map"
   ]
  },
  {
   "cell_type": "code",
   "execution_count": null,
   "id": "8712f658-f3a6-43cd-be76-0bcd679fc64b",
   "metadata": {},
   "outputs": [],
   "source": []
  }
 ],
 "metadata": {
  "kernelspec": {
   "display_name": "Python 3",
   "language": "python",
   "name": "python3"
  },
  "language_info": {
   "codemirror_mode": {
    "name": "ipython",
    "version": 3
   },
   "file_extension": ".py",
   "mimetype": "text/x-python",
   "name": "python",
   "nbconvert_exporter": "python",
   "pygments_lexer": "ipython3",
   "version": "3.7.10"
  }
 },
 "nbformat": 4,
 "nbformat_minor": 5
}
