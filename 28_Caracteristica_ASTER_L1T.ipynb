{
 "cells": [
  {
   "cell_type": "markdown",
   "id": "490d0c78-6f6e-46ba-90ae-39ffbe10902f",
   "metadata": {},
   "source": [
    "# Caracteristica ASTER L1T Rad google Earth Engine"
   ]
  },
  {
   "cell_type": "code",
   "execution_count": 1,
   "id": "043760aa-2b58-4a39-9f58-65a35882f033",
   "metadata": {},
   "outputs": [],
   "source": [
    "# Importar paquete GEE\n",
    "import ee\n",
    "ee.Initialize()"
   ]
  },
  {
   "cell_type": "code",
   "execution_count": 2,
   "id": "e61690ab-8bc1-48f1-916b-032b0b60a605",
   "metadata": {},
   "outputs": [],
   "source": [
    "# Agregar un shp GEE\n",
    "zona_ee = ee.FeatureCollection(\"users/bravomoralesnino/SHP/ZONA_19S\")"
   ]
  },
  {
   "cell_type": "code",
   "execution_count": 3,
   "id": "053400f8-b824-4c87-962e-d4a6890f2915",
   "metadata": {},
   "outputs": [],
   "source": [
    "# Importar geemap\n",
    "import geemap\n",
    "Map = geemap.Map(basemap='ESRI')"
   ]
  },
  {
   "cell_type": "code",
   "execution_count": 4,
   "id": "7cf88081-ab05-4cad-a91e-88c520553f04",
   "metadata": {},
   "outputs": [],
   "source": [
    "geometria = zona_ee.geometry()\n",
    "Map.centerObject(geometria, 11)"
   ]
  },
  {
   "cell_type": "code",
   "execution_count": 5,
   "id": "77fec369-1998-4b35-a923-be7a49f5e47b",
   "metadata": {},
   "outputs": [
    {
     "data": {
      "application/vnd.jupyter.widget-view+json": {
       "model_id": "b281ba6c788a4138b83dd5cada3e1b24",
       "version_major": 2,
       "version_minor": 0
      },
      "text/plain": [
       "Map(center=[-12.908744902436744, -69.9947155021359], controls=(WidgetControl(options=['position', 'transparent…"
      ]
     },
     "metadata": {},
     "output_type": "display_data"
    }
   ],
   "source": [
    "Map.addLayer(zona_ee, {\"color\" : \"00FF11\"}, name = \"Zona\")\n",
    "Map"
   ]
  },
  {
   "cell_type": "code",
   "execution_count": 6,
   "id": "c8127063-7183-4564-aa46-1f9924e8c092",
   "metadata": {},
   "outputs": [],
   "source": [
    "# Coleccion de ASTER L1T Radiance\n",
    "ASTER_L1T = ee.ImageCollection(\"ASTER/AST_L1T_003\")\\\n",
    "              .filterDate('2007-01-01','2007-12-31')\\\n",
    "              .filterBounds(zona_ee)\\\n",
    "              .filterMetadata('CLOUDCOVER', 'less_than', 20)"
   ]
  },
  {
   "cell_type": "code",
   "execution_count": 7,
   "id": "0957a181-5b6c-429f-bc6a-564b2e7a082f",
   "metadata": {},
   "outputs": [
    {
     "name": "stdout",
     "output_type": "stream",
     "text": [
      "Cantidad de imagenes ASTER_L1T: 9\n"
     ]
    }
   ],
   "source": [
    "# Conteo de imagenes\n",
    "count = ASTER_L1T.size().getInfo()\n",
    "print(\"Cantidad de imagenes ASTER_L1T:\", count)"
   ]
  },
  {
   "cell_type": "markdown",
   "id": "276912de-abfc-48a0-9824-a7e16e915a89",
   "metadata": {},
   "source": [
    "## Determinar ID, Fecha, nubosidad, Path y Row"
   ]
  },
  {
   "cell_type": "code",
   "execution_count": 8,
   "id": "0629d534-c40e-469d-850e-53c4d955e737",
   "metadata": {},
   "outputs": [
    {
     "name": "stdout",
     "output_type": "stream",
     "text": [
      "['20070707145801', '20070714150414', '20070730150418', '20070815150419', '20070831150418', '20070909145805', '20070909145814', '20070925145800', '20071119150343']\n"
     ]
    }
   ],
   "source": [
    "# Imprimir la lista de ID Imagenes\n",
    "ID_ASTER = ASTER_L1T.reduceColumns(ee.Reducer.toList(),[\"system:index\"]).get(\"list\").getInfo()\n",
    "print(ID_ASTER)"
   ]
  },
  {
   "cell_type": "code",
   "execution_count": 9,
   "id": "076afd43-cf8e-4592-b06a-0ff886e40028",
   "metadata": {},
   "outputs": [],
   "source": [
    "# Funcion para determinar fecha imagen\n",
    "def list_coll(coll):\n",
    "    def func_ejv(im):\n",
    "        return ee.String(ee.Image(im).date().format('YYYY/MM/dd')).slice(0)\n",
    "    return coll.toList(coll.size(), 0).map(func_ejv)"
   ]
  },
  {
   "cell_type": "code",
   "execution_count": 10,
   "id": "518bdc52-4225-4af9-b679-5db086272108",
   "metadata": {},
   "outputs": [
    {
     "name": "stdout",
     "output_type": "stream",
     "text": [
      "['2007/07/07', '2007/07/14', '2007/07/30', '2007/08/15', '2007/08/31', '2007/09/09', '2007/09/09', '2007/09/25', '2007/11/19']\n"
     ]
    }
   ],
   "source": [
    "fecha = list_coll(ASTER_L1T).getInfo()\n",
    "print(fecha)"
   ]
  },
  {
   "cell_type": "code",
   "execution_count": 11,
   "id": "fd8faa09-c47f-4be6-a67f-591f2c4f371e",
   "metadata": {},
   "outputs": [
    {
     "name": "stdout",
     "output_type": "stream",
     "text": [
      "[1, 11, 6, 2, 3, 0, 0, 1, 14]\n"
     ]
    }
   ],
   "source": [
    "# Imprimir la lista Porcentaje Nubosidad\n",
    "porcentaje_nube = ASTER_L1T.reduceColumns(ee.Reducer.toList(),[\"CLOUDCOVER\"]).get(\"list\").getInfo()\n",
    "print(porcentaje_nube)"
   ]
  },
  {
   "cell_type": "code",
   "execution_count": 12,
   "id": "35dd10b5-11fa-4152-b813-3c1570881549",
   "metadata": {},
   "outputs": [
    {
     "name": "stdout",
     "output_type": "stream",
     "text": [
      "[2, 3, 3, 3, 3, 2, 2, 2, 3]\n",
      "[192, 192, 192, 192, 192, 192, 193, 192, 192]\n"
     ]
    }
   ],
   "source": [
    "# Imprimir la lista Path y Row\n",
    "SCENE_PATH = ASTER_L1T.reduceColumns(ee.Reducer.toList(),[\"SCENE_PATH\"]).get(\"list\").getInfo()\n",
    "SCENE_ROW = ASTER_L1T.reduceColumns(ee.Reducer.toList(),[\"SCENE_ROW\"]).get(\"list\").getInfo()\n",
    "print(SCENE_PATH)\n",
    "print(SCENE_ROW)"
   ]
  },
  {
   "cell_type": "markdown",
   "id": "45ef3f09-6f24-41a8-9f7d-7ffba5e4860f",
   "metadata": {},
   "source": [
    "## Exportar tabla ID, Fecha, Porcentaje Nubosidad"
   ]
  },
  {
   "cell_type": "code",
   "execution_count": 13,
   "id": "67ebed55-648f-4739-85b7-57f2dc1976c7",
   "metadata": {},
   "outputs": [],
   "source": [
    "# Crear un diccionario con las listas\n",
    "dic = {\"ID\": ID_ASTER, \"Fecha\": fecha,\"Porcentaje Nube\": porcentaje_nube, \"PATH\": SCENE_PATH,\"ROW\":SCENE_ROW}"
   ]
  },
  {
   "cell_type": "code",
   "execution_count": 14,
   "id": "b42d5741-f9f2-49a7-9513-022a73457883",
   "metadata": {},
   "outputs": [],
   "source": [
    "import pandas as pd"
   ]
  },
  {
   "cell_type": "code",
   "execution_count": 15,
   "id": "b03c45bb-83fd-44a4-990b-bffe4ef76688",
   "metadata": {},
   "outputs": [
    {
     "name": "stdout",
     "output_type": "stream",
     "text": [
      "               ID       Fecha  Porcentaje Nube  PATH  ROW\n",
      "0  20070707145801  2007/07/07                1     2  192\n",
      "1  20070714150414  2007/07/14               11     3  192\n",
      "2  20070730150418  2007/07/30                6     3  192\n",
      "3  20070815150419  2007/08/15                2     3  192\n",
      "4  20070831150418  2007/08/31                3     3  192\n",
      "5  20070909145805  2007/09/09                0     2  192\n",
      "6  20070909145814  2007/09/09                0     2  193\n",
      "7  20070925145800  2007/09/25                1     2  192\n",
      "8  20071119150343  2007/11/19               14     3  192\n",
      "Tipo de clase:  <class 'dict'>\n"
     ]
    }
   ],
   "source": [
    "# Crear un DataFrame mediante el diccionario\n",
    "df1 = pd.DataFrame(data = dic)\n",
    "print(df1)\n",
    "print(\"Tipo de clase: \", type(dic))"
   ]
  },
  {
   "cell_type": "code",
   "execution_count": 17,
   "id": "64cd95db-fef5-4527-817a-7e1c172f84e4",
   "metadata": {},
   "outputs": [],
   "source": [
    "import os"
   ]
  },
  {
   "cell_type": "code",
   "execution_count": 18,
   "id": "518cff9a-cc23-48ff-b359-dd40171dd61c",
   "metadata": {},
   "outputs": [
    {
     "data": {
      "text/plain": [
       "'E:\\\\Teledeteccion_GEE\\\\Python\\\\Datos_Espaciales\\\\Resultado_GEE'"
      ]
     },
     "execution_count": 18,
     "metadata": {},
     "output_type": "execute_result"
    }
   ],
   "source": [
    "ruta_archivos = r\"E:\\Teledeteccion_GEE\\Python\\Datos_Espaciales\\Resultado_GEE\"\n",
    "os.chdir(ruta_archivos) # Cambiar ruta trabajo\n",
    "os.getcwd() # Consultar ruta trabajo"
   ]
  },
  {
   "cell_type": "code",
   "execution_count": 19,
   "id": "13df7464-1ace-43a7-b91c-3b6fbd25cee6",
   "metadata": {},
   "outputs": [],
   "source": [
    "df1.to_csv(\"file_name_ASTER_L1T.csv\") # relative position"
   ]
  },
  {
   "cell_type": "markdown",
   "id": "63baee83-8506-47e6-945b-82139ee033fb",
   "metadata": {},
   "source": [
    "## Seleccionar imagen"
   ]
  },
  {
   "cell_type": "code",
   "execution_count": 20,
   "id": "e03830be-5bca-44a2-ab3f-f94072cc9f16",
   "metadata": {},
   "outputs": [],
   "source": [
    "# Importar imagen ASTER L1T Rad\n",
    "ASTER_img = ee.Image(\"ASTER/AST_L1T_003\" + \"/\" + ID_ASTER[2])"
   ]
  },
  {
   "cell_type": "code",
   "execution_count": 21,
   "id": "d783a652-9c90-47f6-9550-675a5e1f84a4",
   "metadata": {},
   "outputs": [
    {
     "name": "stdout",
     "output_type": "stream",
     "text": [
      "['B01', 'B02', 'B3N', 'B04', 'B05', 'B06', 'B07', 'B08', 'B09', 'B10', 'B11', 'B12', 'B13', 'B14']\n"
     ]
    }
   ],
   "source": [
    "# Nombre de las bandas\n",
    "print(ASTER_img.bandNames().getInfo())"
   ]
  },
  {
   "cell_type": "code",
   "execution_count": 22,
   "id": "828715b1-e78b-43f5-9eef-5811b8f785a0",
   "metadata": {},
   "outputs": [],
   "source": [
    "# Bandas RS y TB\n",
    "bandas_Sup = [\"B01\",\"B02\",\"B3N\",\"B04\",\"B05\",\"B06\",\"B07\",\"B08\",\"B09\"]\n",
    "bandas_tem = [\"B10\",\"B11\",\"B12\",\"B13\",\"B14\"]"
   ]
  },
  {
   "cell_type": "code",
   "execution_count": 23,
   "id": "e69018b6-37ea-4fd5-946b-e006758e41a4",
   "metadata": {},
   "outputs": [],
   "source": [
    "# Seleccionar las bandas\n",
    "ASTER_B123456789 = ASTER_img.select(bandas_Sup)\n",
    "ASTER_B10_11_12_13_14 = ASTER_img.select(bandas_tem)"
   ]
  },
  {
   "cell_type": "markdown",
   "id": "e2799c49-5e72-4db1-9895-bf1b7f70cf4e",
   "metadata": {},
   "source": [
    "## Metadato ASTER L1T"
   ]
  },
  {
   "cell_type": "code",
   "execution_count": 24,
   "id": "50d77685-c903-4651-9a7c-55f171947aca",
   "metadata": {},
   "outputs": [
    {
     "data": {
      "text/plain": [
       "['system:version',\n",
       " 'ORIGINAL_BANDS_PRESENT',\n",
       " 'system:id',\n",
       " 'PRODUCTION_TIME',\n",
       " 'GAIN_COEFFICIENT_B10',\n",
       " 'AVERAGE_CORRELATION_COEFFICIENT_B05',\n",
       " 'BAD_PIXELS_B09',\n",
       " 'GAIN_COEFFICIENT_B11',\n",
       " 'AVERAGE_CORRELATION_COEFFICIENT_B06',\n",
       " 'BAD_PIXELS_B08',\n",
       " 'GAIN_COEFFICIENT_B12',\n",
       " 'BAD_PIXELS_B07',\n",
       " 'GAIN_COEFFICIENT_B13',\n",
       " 'AVERAGE_CORRELATION_COEFFICIENT_B04',\n",
       " 'BAD_PIXELS_B06',\n",
       " 'GAIN_COEFFICIENT_B14',\n",
       " 'BAD_PIXELS_B01',\n",
       " 'GAIN_COEFFICIENT_B08',\n",
       " 'GAIN_COEFFICIENT_B09',\n",
       " 'BAD_PIXELS_B05',\n",
       " 'BAD_PIXELS_B04',\n",
       " 'system:footprint',\n",
       " 'BAD_PIXELS_B02',\n",
       " 'SWIR_POINTING_ANGLE',\n",
       " 'SATELLITE_REVOLUTION_NUMBER',\n",
       " 'RESAMPLING_METHOD_B11',\n",
       " 'RESAMPLING_METHOD_B10',\n",
       " 'RESAMPLING_METHOD_B13',\n",
       " 'GAIN_SETTING_B09',\n",
       " 'RESAMPLING_METHOD_B12',\n",
       " 'GAIN_SETTING_B08',\n",
       " 'GAIN_SETTING_B07',\n",
       " 'RESAMPLING_METHOD_B14',\n",
       " 'GAIN_SETTING_B06',\n",
       " 'GAIN_SETTING_B05',\n",
       " 'GAIN_SETTING_B04',\n",
       " 'GAIN_COEFFICIENT_B01',\n",
       " 'SCENE_VIEW',\n",
       " 'GAIN_COEFFICIENT_B02',\n",
       " 'GAIN_SETTING_B02',\n",
       " 'GAIN_SETTING_B01',\n",
       " 'SOLAR_AZIMUTH',\n",
       " 'GAIN_COEFFICIENT_B04',\n",
       " 'GAIN_COEFFICIENT_B05',\n",
       " 'GAIN_COEFFICIENT_B06',\n",
       " 'GAIN_COEFFICIENT_B07',\n",
       " 'BAD_PIXELS_B12',\n",
       " 'BAD_PIXELS_B11',\n",
       " 'SATELLITE_RECURRENT_CYCLENUMBER',\n",
       " 'BAD_PIXELS_B10',\n",
       " 'GRANULE_REPROCESSING',\n",
       " 'BAD_PIXELS_B14',\n",
       " 'BAD_PIXELS_B13',\n",
       " 'ORBIT_NUMBER',\n",
       " 'PGE_VERSION',\n",
       " 'RESAMPLING_METHOD_B02',\n",
       " 'RESAMPLING_METHOD_B01',\n",
       " 'RESAMPLING_METHOD_B04',\n",
       " 'SOURCE_DATA_GRANULE',\n",
       " 'RESAMPLING_METHOD_B06',\n",
       " 'RESAMPLING_METHOD_B05',\n",
       " 'COARSE_DEM_DATE',\n",
       " 'QA_PERCENT_INTERPOLATED_DATA',\n",
       " 'COARSE_DEM_VERSION',\n",
       " 'RESAMPLING_METHOD_B08',\n",
       " 'SCENE_ROW',\n",
       " 'RESAMPLING_METHOD_B07',\n",
       " 'RESAMPLING_METHOD_B09',\n",
       " 'GCP_CHIPS_CORRELATED',\n",
       " 'QA_PERCENT_OUT_OF_BOUNDS_DATA',\n",
       " 'system:asset_size',\n",
       " 'system:index',\n",
       " 'QA_PERCENT_MISSING_DATA',\n",
       " 'RADIOMETRIC_DB_VERSION',\n",
       " 'BAD_PIXELS_B3N',\n",
       " 'GAIN_COEFFICIENT_B3N',\n",
       " 'GEOMETRIC_DB_VERSION',\n",
       " 'FLYING_DIRECTION',\n",
       " 'system:time_start',\n",
       " 'GAIN_SETTING_B3N',\n",
       " 'SCENE_PATH',\n",
       " 'PERCENTAGE_IMAGE_MATCH_B08',\n",
       " 'PERCENTAGE_IMAGE_MATCH_B07',\n",
       " 'PERCENTAGE_IMAGE_MATCH_B06',\n",
       " 'PERCENTAGE_IMAGE_MATCH_B05',\n",
       " 'PERCENTAGE_IMAGE_MATCH_B04',\n",
       " 'GAIN_SETTING_B14',\n",
       " 'GAIN_SETTING_B13',\n",
       " 'GAIN_SETTING_B12',\n",
       " 'GAIN_SETTING_B11',\n",
       " 'GAIN_SETTING_B10',\n",
       " 'RESAMPLING_METHOD_B3N',\n",
       " 'PERCENTAGE_IMAGE_MATCH_B09',\n",
       " 'VNIR_POINTING_ANGLE',\n",
       " 'GEOMETRIC_DB_DATE',\n",
       " 'SOLAR_ELEVATION',\n",
       " 'RADIOMETRIC_DB_DATE',\n",
       " 'AVERAGE_CORRELATION_COEFFICIENT_B09',\n",
       " 'CLOUDCOVER',\n",
       " 'AVERAGE_CORRELATION_COEFFICIENT_B07',\n",
       " 'AVERAGE_CORRELATION_COEFFICIENT_B08',\n",
       " 'COARSE_DEM_NOTE',\n",
       " 'TIR_POINTING_ANGLE',\n",
       " 'system:bands',\n",
       " 'system:band_names']"
      ]
     },
     "execution_count": 24,
     "metadata": {},
     "output_type": "execute_result"
    }
   ],
   "source": [
    "# Propiedades de informacion\n",
    "ASTER_B123456789.propertyNames().getInfo()"
   ]
  },
  {
   "cell_type": "code",
   "execution_count": 25,
   "id": "34bdecc8-6f2b-4867-a09f-67ef51fd64dc",
   "metadata": {},
   "outputs": [
    {
     "data": {
      "text/plain": [
       "0.676"
      ]
     },
     "execution_count": 25,
     "metadata": {},
     "output_type": "execute_result"
    }
   ],
   "source": [
    "# Determinar coeficiente ganancia B1\n",
    "ASTER_img.get('GAIN_COEFFICIENT_B01').getInfo()"
   ]
  },
  {
   "cell_type": "code",
   "execution_count": 26,
   "id": "3ca3064f-304a-4339-9968-ec54c7a28403",
   "metadata": {},
   "outputs": [
    {
     "data": {
      "text/plain": [
       "49.541722"
      ]
     },
     "execution_count": 26,
     "metadata": {},
     "output_type": "execute_result"
    }
   ],
   "source": [
    "# Determinar angulo elevacion solar\n",
    "SOLAR_ELEVATION = ASTER_img.get('SOLAR_ELEVATION').getInfo()\n",
    "SOLAR_ELEVATION"
   ]
  },
  {
   "cell_type": "code",
   "execution_count": 27,
   "id": "a489bd61-c278-4255-ad06-e8fc8d5d7dda",
   "metadata": {},
   "outputs": [
    {
     "data": {
      "text/plain": [
       "0.8646661660077102"
      ]
     },
     "execution_count": 27,
     "metadata": {},
     "output_type": "execute_result"
    }
   ],
   "source": [
    "import math\n",
    "SOLAR_ELEVATION_R = SOLAR_ELEVATION*math.pi/180\n",
    "SOLAR_ELEVATION_R"
   ]
  },
  {
   "cell_type": "code",
   "execution_count": 28,
   "id": "c8e532ba-d84a-4c6f-98e6-32ebf896c32f",
   "metadata": {},
   "outputs": [],
   "source": [
    "# Simbologia ND\n",
    "viz = {\n",
    "    'bands': ['B07', 'B3N', 'B02'],\n",
    "    'min': 30,\n",
    "    'max': 150,\n",
    "    'gamma': 1.8\n",
    "}"
   ]
  },
  {
   "cell_type": "code",
   "execution_count": 29,
   "id": "f66da7a1-0aee-447d-85db-ff7f2ba86ac8",
   "metadata": {},
   "outputs": [
    {
     "data": {
      "application/vnd.jupyter.widget-view+json": {
       "model_id": "b281ba6c788a4138b83dd5cada3e1b24",
       "version_major": 2,
       "version_minor": 0
      },
      "text/plain": [
       "Map(bottom=281405.0, center=[-12.908744902436744, -69.9947155021359], controls=(WidgetControl(options=['positi…"
      ]
     },
     "metadata": {},
     "output_type": "display_data"
    }
   ],
   "source": [
    "# Visualizar \n",
    "Map.addLayer(ASTER_B123456789, viz,name = \"ASTER L1T Rad\")\n",
    "Map"
   ]
  },
  {
   "cell_type": "markdown",
   "id": "2b13cc44-86bc-4010-b0b3-3fce0460f0a4",
   "metadata": {},
   "source": [
    "## Recortar imagen ASTER L1T"
   ]
  },
  {
   "cell_type": "code",
   "execution_count": 30,
   "id": "e3afc589-258d-4e4e-88e4-89f823a82501",
   "metadata": {},
   "outputs": [],
   "source": [
    "# Recortar\n",
    "ASTER_B123456789_clip = ASTER_B123456789.clip(zona_ee)"
   ]
  },
  {
   "cell_type": "code",
   "execution_count": 31,
   "id": "3327c823-ed02-4d86-86b7-b1e85139b3e5",
   "metadata": {},
   "outputs": [
    {
     "data": {
      "application/vnd.jupyter.widget-view+json": {
       "model_id": "b281ba6c788a4138b83dd5cada3e1b24",
       "version_major": 2,
       "version_minor": 0
      },
      "text/plain": [
       "Map(bottom=140889.0, center=[-12.957720912158363, -69.96162414550783], controls=(WidgetControl(options=['posit…"
      ]
     },
     "metadata": {},
     "output_type": "display_data"
    }
   ],
   "source": [
    "# Visualizar \n",
    "Map.addLayer(ASTER_B123456789_clip, viz,name = \"ASTER L1T Rad\")\n",
    "Map"
   ]
  }
 ],
 "metadata": {
  "kernelspec": {
   "display_name": "Python 3",
   "language": "python",
   "name": "python3"
  },
  "language_info": {
   "codemirror_mode": {
    "name": "ipython",
    "version": 3
   },
   "file_extension": ".py",
   "mimetype": "text/x-python",
   "name": "python",
   "nbconvert_exporter": "python",
   "pygments_lexer": "ipython3",
   "version": "3.7.10"
  }
 },
 "nbformat": 4,
 "nbformat_minor": 5
}
